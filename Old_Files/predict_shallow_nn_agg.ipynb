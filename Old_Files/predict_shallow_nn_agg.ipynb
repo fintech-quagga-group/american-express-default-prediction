{
 "cells": [
  {
   "cell_type": "code",
   "execution_count": 1,
   "id": "913b0247",
   "metadata": {
    "execution": {
     "iopub.execute_input": "2023-02-11T06:09:58.363229Z",
     "iopub.status.busy": "2023-02-11T06:09:58.362728Z",
     "iopub.status.idle": "2023-02-11T06:10:03.320670Z",
     "shell.execute_reply": "2023-02-11T06:10:03.319800Z"
    },
    "papermill": {
     "duration": 4.966341,
     "end_time": "2023-02-11T06:10:03.323463",
     "exception": false,
     "start_time": "2023-02-11T06:09:58.357122",
     "status": "completed"
    },
    "tags": []
   },
   "outputs": [],
   "source": [
    "import gc\n",
    "import tensorflow as tf\n",
    "import numpy as np\n",
    "import pandas as pd"
   ]
  },
  {
   "cell_type": "code",
   "execution_count": 2,
   "id": "726e9b4b",
   "metadata": {
    "execution": {
     "iopub.execute_input": "2023-02-11T06:10:03.330811Z",
     "iopub.status.busy": "2023-02-11T06:10:03.329926Z",
     "iopub.status.idle": "2023-02-11T06:10:48.060764Z",
     "shell.execute_reply": "2023-02-11T06:10:48.059730Z"
    },
    "papermill": {
     "duration": 44.737095,
     "end_time": "2023-02-11T06:10:48.063357",
     "exception": false,
     "start_time": "2023-02-11T06:10:03.326262",
     "status": "completed"
    },
    "tags": []
   },
   "outputs": [],
   "source": [
    "X_test = pd.read_pickle('/kaggle/input/amex-imputed-aggregate-data/X_test_agg.pkl', compression='gzip')"
   ]
  },
  {
   "cell_type": "code",
   "execution_count": 3,
   "id": "b01f17e1",
   "metadata": {
    "execution": {
     "iopub.execute_input": "2023-02-11T06:10:48.070636Z",
     "iopub.status.busy": "2023-02-11T06:10:48.069959Z",
     "iopub.status.idle": "2023-02-11T06:11:00.050387Z",
     "shell.execute_reply": "2023-02-11T06:11:00.048869Z"
    },
    "papermill": {
     "duration": 11.987701,
     "end_time": "2023-02-11T06:11:00.053717",
     "exception": false,
     "start_time": "2023-02-11T06:10:48.066016",
     "status": "completed"
    },
    "tags": []
   },
   "outputs": [
    {
     "name": "stderr",
     "output_type": "stream",
     "text": [
      "2023-02-11 06:10:53.317444: I tensorflow/core/common_runtime/process_util.cc:146] Creating new thread pool with default inter op setting: 2. Tune using inter_op_parallelism_threads for best performance.\n"
     ]
    }
   ],
   "source": [
    "model = tf.keras.models.load_model('/kaggle/input/test-dtc-model/shallow_nn_agg.h5')"
   ]
  },
  {
   "cell_type": "code",
   "execution_count": 4,
   "id": "123c02bd",
   "metadata": {
    "execution": {
     "iopub.execute_input": "2023-02-11T06:11:00.060887Z",
     "iopub.status.busy": "2023-02-11T06:11:00.060445Z",
     "iopub.status.idle": "2023-02-11T06:25:51.358474Z",
     "shell.execute_reply": "2023-02-11T06:25:51.357234Z"
    },
    "papermill": {
     "duration": 891.304715,
     "end_time": "2023-02-11T06:25:51.361333",
     "exception": false,
     "start_time": "2023-02-11T06:11:00.056618",
     "status": "completed"
    },
    "tags": []
   },
   "outputs": [
    {
     "name": "stderr",
     "output_type": "stream",
     "text": [
      "2023-02-11 06:25:22.798724: I tensorflow/compiler/mlir/mlir_graph_optimization_pass.cc:185] None of the MLIR Optimization Passes are enabled (registered 2)\n"
     ]
    },
    {
     "name": "stdout",
     "output_type": "stream",
     "text": [
      "185/185 [==============================] - 29s 103ms/step\n"
     ]
    }
   ],
   "source": [
    "submission = pd.DataFrame(model.predict(dict(X_test), batch_size=5000, verbose=1), index=X_test.index, columns=['prediction'])"
   ]
  },
  {
   "cell_type": "code",
   "execution_count": 5,
   "id": "0cc91f25",
   "metadata": {
    "execution": {
     "iopub.execute_input": "2023-02-11T06:25:51.396497Z",
     "iopub.status.busy": "2023-02-11T06:25:51.396063Z",
     "iopub.status.idle": "2023-02-11T06:25:54.520303Z",
     "shell.execute_reply": "2023-02-11T06:25:54.518976Z"
    },
    "papermill": {
     "duration": 3.145138,
     "end_time": "2023-02-11T06:25:54.523344",
     "exception": false,
     "start_time": "2023-02-11T06:25:51.378206",
     "status": "completed"
    },
    "tags": []
   },
   "outputs": [],
   "source": [
    "# index needs to be removed from submission csv\n",
    "submission = submission.reset_index()\n",
    "submission.to_csv('submission.csv', index=False)"
   ]
  },
  {
   "cell_type": "code",
   "execution_count": null,
   "id": "b73c541b",
   "metadata": {
    "papermill": {
     "duration": 0.016243,
     "end_time": "2023-02-11T06:25:54.559871",
     "exception": false,
     "start_time": "2023-02-11T06:25:54.543628",
     "status": "completed"
    },
    "tags": []
   },
   "outputs": [],
   "source": []
  }
 ],
 "metadata": {
  "kernelspec": {
   "display_name": "Python 3",
   "language": "python",
   "name": "python3"
  },
  "language_info": {
   "codemirror_mode": {
    "name": "ipython",
    "version": 3
   },
   "file_extension": ".py",
   "mimetype": "text/x-python",
   "name": "python",
   "nbconvert_exporter": "python",
   "pygments_lexer": "ipython3",
   "version": "3.7.12"
  },
  "papermill": {
   "default_parameters": {},
   "duration": 969.409403,
   "end_time": "2023-02-11T06:25:58.097576",
   "environment_variables": {},
   "exception": null,
   "input_path": "__notebook__.ipynb",
   "output_path": "__notebook__.ipynb",
   "parameters": {},
   "start_time": "2023-02-11T06:09:48.688173",
   "version": "2.3.4"
  }
 },
 "nbformat": 4,
 "nbformat_minor": 5
}
