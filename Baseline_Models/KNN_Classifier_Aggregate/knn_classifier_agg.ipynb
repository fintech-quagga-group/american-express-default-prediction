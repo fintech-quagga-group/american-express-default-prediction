{
 "cells": [
  {
   "cell_type": "code",
   "execution_count": 1,
   "metadata": {
    "_cell_guid": "b1076dfc-b9ad-4769-8c92-a6c4dae69d19",
    "_uuid": "8f2839f25d086af736a60e9eeb907d3b93b6e0e5",
    "execution": {
     "iopub.execute_input": "2023-02-12T21:08:19.849543Z",
     "iopub.status.busy": "2023-02-12T21:08:19.848018Z",
     "iopub.status.idle": "2023-02-12T21:08:20.956299Z",
     "shell.execute_reply": "2023-02-12T21:08:20.954475Z",
     "shell.execute_reply.started": "2023-02-12T21:08:19.849389Z"
    }
   },
   "outputs": [],
   "source": [
    "import pickle\n",
    "import pandas as pd\n",
    "from sklearn.metrics import classification_report"
   ]
  },
  {
   "cell_type": "code",
   "execution_count": 2,
   "metadata": {
    "execution": {
     "iopub.execute_input": "2023-02-12T21:09:20.519070Z",
     "iopub.status.busy": "2023-02-12T21:09:20.518452Z",
     "iopub.status.idle": "2023-02-12T21:09:43.595392Z",
     "shell.execute_reply": "2023-02-12T21:09:43.593835Z",
     "shell.execute_reply.started": "2023-02-12T21:09:20.519031Z"
    }
   },
   "outputs": [],
   "source": [
    "X = pd.read_pickle('/kaggle/input/amex-imputed-aggregate-data/X_train_agg.pkl', compression='gzip')\n",
    "y = pd.read_pickle('/kaggle/input/amex-imputed-aggregate-data/y_train_agg.pkl', compression='gzip')"
   ]
  },
  {
   "cell_type": "markdown",
   "metadata": {},
   "source": [
    "Function to calculate competition's evaluation metric: https://www.kaggle.com/code/inversion/amex-competition-metric-python"
   ]
  },
  {
   "cell_type": "code",
   "execution_count": 3,
   "metadata": {
    "execution": {
     "iopub.execute_input": "2023-02-12T21:10:21.904236Z",
     "iopub.status.busy": "2023-02-12T21:10:21.903073Z",
     "iopub.status.idle": "2023-02-12T21:10:21.918405Z",
     "shell.execute_reply": "2023-02-12T21:10:21.916900Z",
     "shell.execute_reply.started": "2023-02-12T21:10:21.904195Z"
    }
   },
   "outputs": [],
   "source": [
    "def amex_metric(y_true: pd.DataFrame, y_pred: pd.DataFrame) -> float:\n",
    "\n",
    "    def top_four_percent_captured(y_true: pd.DataFrame, y_pred: pd.DataFrame) -> float:\n",
    "        df = (pd.concat([y_true, y_pred], axis='columns')\n",
    "              .sort_values('prediction', ascending=False))\n",
    "        df['weight'] = df['target'].apply(lambda x: 20 if x==0 else 1)\n",
    "        four_pct_cutoff = int(0.04 * df['weight'].sum())\n",
    "        df['weight_cumsum'] = df['weight'].cumsum()\n",
    "        df_cutoff = df.loc[df['weight_cumsum'] <= four_pct_cutoff]\n",
    "        return (df_cutoff['target'] == 1).sum() / (df['target'] == 1).sum()\n",
    "        \n",
    "    def weighted_gini(y_true: pd.DataFrame, y_pred: pd.DataFrame) -> float:\n",
    "        df = (pd.concat([y_true, y_pred], axis='columns')\n",
    "              .sort_values('prediction', ascending=False))\n",
    "        df['weight'] = df['target'].apply(lambda x: 20 if x==0 else 1)\n",
    "        df['random'] = (df['weight'] / df['weight'].sum()).cumsum()\n",
    "        total_pos = (df['target'] * df['weight']).sum()\n",
    "        df['cum_pos_found'] = (df['target'] * df['weight']).cumsum()\n",
    "        df['lorentz'] = df['cum_pos_found'] / total_pos\n",
    "        df['gini'] = (df['lorentz'] - df['random']) * df['weight']\n",
    "        return df['gini'].sum()\n",
    "\n",
    "    def normalized_weighted_gini(y_true: pd.DataFrame, y_pred: pd.DataFrame) -> float:\n",
    "        y_true_pred = y_true.rename(columns={'target': 'prediction'})\n",
    "        return weighted_gini(y_true, y_pred) / weighted_gini(y_true, y_true_pred)\n",
    "\n",
    "    g = normalized_weighted_gini(y_true, y_pred)\n",
    "    d = top_four_percent_captured(y_true, y_pred)\n",
    "\n",
    "    return 0.5 * (g + d)"
   ]
  },
  {
   "cell_type": "code",
   "execution_count": 4,
   "metadata": {
    "execution": {
     "iopub.execute_input": "2023-02-12T21:10:26.853304Z",
     "iopub.status.busy": "2023-02-12T21:10:26.852865Z",
     "iopub.status.idle": "2023-02-12T21:10:26.989397Z",
     "shell.execute_reply": "2023-02-12T21:10:26.988014Z",
     "shell.execute_reply.started": "2023-02-12T21:10:26.853272Z"
    }
   },
   "outputs": [],
   "source": [
    "from sklearn.neighbors import KNeighborsClassifier\n",
    "\n",
    "model = KNeighborsClassifier(n_neighbors=3)"
   ]
  },
  {
   "cell_type": "code",
   "execution_count": 5,
   "metadata": {
    "execution": {
     "iopub.execute_input": "2023-02-12T21:10:30.798958Z",
     "iopub.status.busy": "2023-02-12T21:10:30.798558Z",
     "iopub.status.idle": "2023-02-12T21:10:34.186111Z",
     "shell.execute_reply": "2023-02-12T21:10:34.185028Z",
     "shell.execute_reply.started": "2023-02-12T21:10:30.798926Z"
    }
   },
   "outputs": [
    {
     "data": {
      "text/plain": [
       "KNeighborsClassifier(n_neighbors=3)"
      ]
     },
     "execution_count": 5,
     "metadata": {},
     "output_type": "execute_result"
    }
   ],
   "source": [
    "# Train the model using the training sets\n",
    "model.fit(X,y)"
   ]
  },
  {
   "cell_type": "code",
   "execution_count": null,
   "metadata": {
    "execution": {
     "iopub.execute_input": "2023-02-13T00:54:34.016311Z",
     "iopub.status.busy": "2023-02-13T00:54:34.015903Z"
    }
   },
   "outputs": [],
   "source": [
    "knn_preds = model.predict(X)"
   ]
  },
  {
   "cell_type": "code",
   "execution_count": 13,
   "metadata": {
    "execution": {
     "iopub.execute_input": "2023-02-13T04:14:00.346854Z",
     "iopub.status.busy": "2023-02-13T04:14:00.345961Z",
     "iopub.status.idle": "2023-02-13T04:14:01.233421Z",
     "shell.execute_reply": "2023-02-13T04:14:01.232196Z",
     "shell.execute_reply.started": "2023-02-13T04:14:00.346813Z"
    }
   },
   "outputs": [
    {
     "name": "stdout",
     "output_type": "stream",
     "text": [
      "M = 0.7040079562040782\n"
     ]
    }
   ],
   "source": [
    "print(f'M = {amex_metric(pd.DataFrame(y), pd.DataFrame(knn_preds, index=y.index, columns=[\"prediction\"]))}')"
   ]
  },
  {
   "cell_type": "code",
   "execution_count": 14,
   "metadata": {
    "execution": {
     "iopub.execute_input": "2023-02-13T04:17:16.799100Z",
     "iopub.status.busy": "2023-02-13T04:17:16.798394Z",
     "iopub.status.idle": "2023-02-13T04:17:17.617083Z",
     "shell.execute_reply": "2023-02-13T04:17:17.615878Z",
     "shell.execute_reply.started": "2023-02-13T04:17:16.799044Z"
    }
   },
   "outputs": [
    {
     "name": "stdout",
     "output_type": "stream",
     "text": [
      "              precision    recall  f1-score   support\n",
      "\n",
      "           0       0.92      0.97      0.95    340085\n",
      "           1       0.89      0.77      0.83    118828\n",
      "\n",
      "    accuracy                           0.92    458913\n",
      "   macro avg       0.91      0.87      0.89    458913\n",
      "weighted avg       0.92      0.92      0.91    458913\n",
      "\n"
     ]
    }
   ],
   "source": [
    "print(classification_report(y, knn_preds))"
   ]
  },
  {
   "cell_type": "code",
   "execution_count": null,
   "metadata": {
    "execution": {
     "iopub.status.busy": "2023-02-10T18:02:39.021998Z",
     "iopub.status.idle": "2023-02-10T18:02:39.022862Z",
     "shell.execute_reply": "2023-02-10T18:02:39.02257Z",
     "shell.execute_reply.started": "2023-02-10T18:02:39.022544Z"
    }
   },
   "outputs": [],
   "source": [
    "pickle.dump(model, open('KNNClassifier_agg_data.sav', 'wb'))"
   ]
  }
 ],
 "metadata": {
  "kernelspec": {
   "display_name": "Python 3 (ipykernel)",
   "language": "python",
   "name": "python3"
  },
  "language_info": {
   "codemirror_mode": {
    "name": "ipython",
    "version": 3
   },
   "file_extension": ".py",
   "mimetype": "text/x-python",
   "name": "python",
   "nbconvert_exporter": "python",
   "pygments_lexer": "ipython3",
   "version": "3.10.8"
  }
 },
 "nbformat": 4,
 "nbformat_minor": 4
}
