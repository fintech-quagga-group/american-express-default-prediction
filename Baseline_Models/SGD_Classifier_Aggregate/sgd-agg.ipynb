{
 "cells": [
  {
   "cell_type": "code",
   "execution_count": 1,
   "id": "6395d561",
   "metadata": {
    "_cell_guid": "b1076dfc-b9ad-4769-8c92-a6c4dae69d19",
    "_uuid": "8f2839f25d086af736a60e9eeb907d3b93b6e0e5",
    "execution": {
     "iopub.execute_input": "2023-02-14T03:47:30.727893Z",
     "iopub.status.busy": "2023-02-14T03:47:30.726965Z",
     "iopub.status.idle": "2023-02-14T03:47:31.891292Z",
     "shell.execute_reply": "2023-02-14T03:47:31.890343Z"
    },
    "papermill": {
     "duration": 1.174939,
     "end_time": "2023-02-14T03:47:31.894568",
     "exception": false,
     "start_time": "2023-02-14T03:47:30.719629",
     "status": "completed"
    },
    "tags": []
   },
   "outputs": [],
   "source": [
    "import pickle\n",
    "import gc\n",
    "import pandas as pd\n",
    "import numpy as np\n",
    "from sklearn.linear_model import SGDClassifier\n",
    "from sklearn.preprocessing import StandardScaler\n",
    "from sklearn.pipeline import make_pipeline\n",
    "from sklearn.metrics import classification_report"
   ]
  },
  {
   "cell_type": "code",
   "execution_count": 2,
   "id": "e9fec346",
   "metadata": {
    "execution": {
     "iopub.execute_input": "2023-02-14T03:47:31.910416Z",
     "iopub.status.busy": "2023-02-14T03:47:31.909674Z",
     "iopub.status.idle": "2023-02-14T03:47:56.777177Z",
     "shell.execute_reply": "2023-02-14T03:47:56.775957Z"
    },
    "papermill": {
     "duration": 24.878112,
     "end_time": "2023-02-14T03:47:56.780136",
     "exception": false,
     "start_time": "2023-02-14T03:47:31.902024",
     "status": "completed"
    },
    "tags": []
   },
   "outputs": [],
   "source": [
    "X = pd.read_pickle('/kaggle/input/amex-imputed-aggregate-data/X_train_agg.pkl', compression='gzip')\n",
    "y = pd.read_pickle('/kaggle/input/amex-imputed-aggregate-data/y_train_agg.pkl', compression='gzip')"
   ]
  },
  {
   "cell_type": "markdown",
   "id": "92720bcb",
   "metadata": {
    "papermill": {
     "duration": 0.003788,
     "end_time": "2023-02-14T03:47:56.788234",
     "exception": false,
     "start_time": "2023-02-14T03:47:56.784446",
     "status": "completed"
    },
    "tags": []
   },
   "source": [
    "Function to calculate competition's evaluation metric: https://www.kaggle.com/code/inversion/amex-competition-metric-python"
   ]
  },
  {
   "cell_type": "code",
   "execution_count": 3,
   "id": "a9538d88",
   "metadata": {
    "execution": {
     "iopub.execute_input": "2023-02-14T03:47:56.798354Z",
     "iopub.status.busy": "2023-02-14T03:47:56.797506Z",
     "iopub.status.idle": "2023-02-14T03:47:56.812235Z",
     "shell.execute_reply": "2023-02-14T03:47:56.811371Z"
    },
    "papermill": {
     "duration": 0.022374,
     "end_time": "2023-02-14T03:47:56.814605",
     "exception": false,
     "start_time": "2023-02-14T03:47:56.792231",
     "status": "completed"
    },
    "tags": []
   },
   "outputs": [],
   "source": [
    "def amex_metric(y_true: pd.DataFrame, y_pred: pd.DataFrame) -> float:\n",
    "\n",
    "    def top_four_percent_captured(y_true: pd.DataFrame, y_pred: pd.DataFrame) -> float:\n",
    "        df = (pd.concat([y_true, y_pred], axis='columns')\n",
    "              .sort_values('prediction', ascending=False))\n",
    "        df['weight'] = df['target'].apply(lambda x: 20 if x==0 else 1)\n",
    "        four_pct_cutoff = int(0.04 * df['weight'].sum())\n",
    "        df['weight_cumsum'] = df['weight'].cumsum()\n",
    "        df_cutoff = df.loc[df['weight_cumsum'] <= four_pct_cutoff]\n",
    "        return (df_cutoff['target'] == 1).sum() / (df['target'] == 1).sum()\n",
    "        \n",
    "    def weighted_gini(y_true: pd.DataFrame, y_pred: pd.DataFrame) -> float:\n",
    "        df = (pd.concat([y_true, y_pred], axis='columns')\n",
    "              .sort_values('prediction', ascending=False))\n",
    "        df['weight'] = df['target'].apply(lambda x: 20 if x==0 else 1)\n",
    "        df['random'] = (df['weight'] / df['weight'].sum()).cumsum()\n",
    "        total_pos = (df['target'] * df['weight']).sum()\n",
    "        df['cum_pos_found'] = (df['target'] * df['weight']).cumsum()\n",
    "        df['lorentz'] = df['cum_pos_found'] / total_pos\n",
    "        df['gini'] = (df['lorentz'] - df['random']) * df['weight']\n",
    "        return df['gini'].sum()\n",
    "\n",
    "    def normalized_weighted_gini(y_true: pd.DataFrame, y_pred: pd.DataFrame) -> float:\n",
    "        y_true_pred = y_true.rename(columns={'target': 'prediction'})\n",
    "        return weighted_gini(y_true, y_pred) / weighted_gini(y_true, y_true_pred)\n",
    "\n",
    "    g = normalized_weighted_gini(y_true, y_pred)\n",
    "    d = top_four_percent_captured(y_true, y_pred)\n",
    "\n",
    "    return 0.5 * (g + d)"
   ]
  },
  {
   "cell_type": "markdown",
   "id": "c6734e2c",
   "metadata": {
    "papermill": {
     "duration": 0.003752,
     "end_time": "2023-02-14T03:47:56.822474",
     "exception": false,
     "start_time": "2023-02-14T03:47:56.818722",
     "status": "completed"
    },
    "tags": []
   },
   "source": [
    "## Fit Model"
   ]
  },
  {
   "cell_type": "code",
   "execution_count": 4,
   "id": "e2ecf570",
   "metadata": {
    "execution": {
     "iopub.execute_input": "2023-02-14T03:47:56.832620Z",
     "iopub.status.busy": "2023-02-14T03:47:56.831906Z",
     "iopub.status.idle": "2023-02-14T03:48:48.607873Z",
     "shell.execute_reply": "2023-02-14T03:48:48.606433Z"
    },
    "papermill": {
     "duration": 51.784429,
     "end_time": "2023-02-14T03:48:48.610848",
     "exception": false,
     "start_time": "2023-02-14T03:47:56.826419",
     "status": "completed"
    },
    "tags": []
   },
   "outputs": [],
   "source": [
    "model = SGDClassifier(max_iter=1000, tol=1e-3, loss=\"log\")\n",
    "model = model.fit(X, y)"
   ]
  },
  {
   "cell_type": "code",
   "execution_count": 5,
   "id": "8c675424",
   "metadata": {
    "execution": {
     "iopub.execute_input": "2023-02-14T03:48:48.621281Z",
     "iopub.status.busy": "2023-02-14T03:48:48.620841Z",
     "iopub.status.idle": "2023-02-14T03:48:52.973295Z",
     "shell.execute_reply": "2023-02-14T03:48:52.972001Z"
    },
    "papermill": {
     "duration": 4.361316,
     "end_time": "2023-02-14T03:48:52.976715",
     "exception": false,
     "start_time": "2023-02-14T03:48:48.615399",
     "status": "completed"
    },
    "tags": []
   },
   "outputs": [],
   "source": [
    "proba_preds = model.predict_proba(X)[:, 1]\n",
    "preds = model.predict(X)"
   ]
  },
  {
   "cell_type": "code",
   "execution_count": 6,
   "id": "dfda5dc3",
   "metadata": {
    "execution": {
     "iopub.execute_input": "2023-02-14T03:48:52.991294Z",
     "iopub.status.busy": "2023-02-14T03:48:52.990766Z",
     "iopub.status.idle": "2023-02-14T03:48:54.325823Z",
     "shell.execute_reply": "2023-02-14T03:48:54.324489Z"
    },
    "papermill": {
     "duration": 1.345994,
     "end_time": "2023-02-14T03:48:54.329204",
     "exception": false,
     "start_time": "2023-02-14T03:48:52.983210",
     "status": "completed"
    },
    "tags": []
   },
   "outputs": [
    {
     "name": "stdout",
     "output_type": "stream",
     "text": [
      "M = 0.7404786983804272\n"
     ]
    }
   ],
   "source": [
    "print(f'M = {amex_metric(pd.DataFrame(y), pd.DataFrame(proba_preds, index=y.index, columns=[\"prediction\"]))}')"
   ]
  },
  {
   "cell_type": "code",
   "execution_count": 7,
   "id": "ae367b91",
   "metadata": {
    "execution": {
     "iopub.execute_input": "2023-02-14T03:48:54.339790Z",
     "iopub.status.busy": "2023-02-14T03:48:54.339345Z",
     "iopub.status.idle": "2023-02-14T03:48:55.144415Z",
     "shell.execute_reply": "2023-02-14T03:48:55.142836Z"
    },
    "papermill": {
     "duration": 0.814014,
     "end_time": "2023-02-14T03:48:55.147740",
     "exception": false,
     "start_time": "2023-02-14T03:48:54.333726",
     "status": "completed"
    },
    "tags": []
   },
   "outputs": [
    {
     "name": "stdout",
     "output_type": "stream",
     "text": [
      "              precision    recall  f1-score   support\n",
      "\n",
      "           0       0.90      0.95      0.93    340085\n",
      "           1       0.84      0.70      0.76    118828\n",
      "\n",
      "    accuracy                           0.89    458913\n",
      "   macro avg       0.87      0.83      0.84    458913\n",
      "weighted avg       0.88      0.89      0.88    458913\n",
      "\n"
     ]
    }
   ],
   "source": [
    "print(classification_report(y, preds))"
   ]
  },
  {
   "cell_type": "code",
   "execution_count": 8,
   "id": "35567063",
   "metadata": {
    "execution": {
     "iopub.execute_input": "2023-02-14T03:48:55.158593Z",
     "iopub.status.busy": "2023-02-14T03:48:55.158180Z",
     "iopub.status.idle": "2023-02-14T03:48:55.389378Z",
     "shell.execute_reply": "2023-02-14T03:48:55.388077Z"
    },
    "papermill": {
     "duration": 0.239595,
     "end_time": "2023-02-14T03:48:55.392093",
     "exception": false,
     "start_time": "2023-02-14T03:48:55.152498",
     "status": "completed"
    },
    "tags": []
   },
   "outputs": [
    {
     "data": {
      "text/plain": [
       "42"
      ]
     },
     "execution_count": 8,
     "metadata": {},
     "output_type": "execute_result"
    }
   ],
   "source": [
    "del X, y\n",
    "gc.collect()"
   ]
  },
  {
   "cell_type": "markdown",
   "id": "9dd41339",
   "metadata": {
    "papermill": {
     "duration": 0.004148,
     "end_time": "2023-02-14T03:48:55.400732",
     "exception": false,
     "start_time": "2023-02-14T03:48:55.396584",
     "status": "completed"
    },
    "tags": []
   },
   "source": [
    "## Save model and predict on test set"
   ]
  },
  {
   "cell_type": "code",
   "execution_count": 9,
   "id": "7844e070",
   "metadata": {
    "execution": {
     "iopub.execute_input": "2023-02-14T03:48:55.411477Z",
     "iopub.status.busy": "2023-02-14T03:48:55.411080Z",
     "iopub.status.idle": "2023-02-14T03:48:55.416729Z",
     "shell.execute_reply": "2023-02-14T03:48:55.415760Z"
    },
    "papermill": {
     "duration": 0.014026,
     "end_time": "2023-02-14T03:48:55.419218",
     "exception": false,
     "start_time": "2023-02-14T03:48:55.405192",
     "status": "completed"
    },
    "tags": []
   },
   "outputs": [],
   "source": [
    "pickle.dump(model, open('sgd_model.sav', 'wb'))"
   ]
  },
  {
   "cell_type": "code",
   "execution_count": 10,
   "id": "a4ae762d",
   "metadata": {
    "execution": {
     "iopub.execute_input": "2023-02-14T03:48:55.430288Z",
     "iopub.status.busy": "2023-02-14T03:48:55.429872Z",
     "iopub.status.idle": "2023-02-14T03:49:43.359394Z",
     "shell.execute_reply": "2023-02-14T03:49:43.358085Z"
    },
    "papermill": {
     "duration": 47.938754,
     "end_time": "2023-02-14T03:49:43.362526",
     "exception": false,
     "start_time": "2023-02-14T03:48:55.423772",
     "status": "completed"
    },
    "tags": []
   },
   "outputs": [],
   "source": [
    "X_test = pd.read_pickle('/kaggle/input/amex-imputed-aggregate-data/X_test_agg.pkl', compression='gzip')"
   ]
  },
  {
   "cell_type": "code",
   "execution_count": 11,
   "id": "bd225f58",
   "metadata": {
    "execution": {
     "iopub.execute_input": "2023-02-14T03:49:43.374460Z",
     "iopub.status.busy": "2023-02-14T03:49:43.373522Z",
     "iopub.status.idle": "2023-02-14T03:49:51.919897Z",
     "shell.execute_reply": "2023-02-14T03:49:51.918411Z"
    },
    "papermill": {
     "duration": 8.555834,
     "end_time": "2023-02-14T03:49:51.923071",
     "exception": false,
     "start_time": "2023-02-14T03:49:43.367237",
     "status": "completed"
    },
    "tags": []
   },
   "outputs": [],
   "source": [
    "submission = pd.DataFrame(model.predict_proba(X_test)[:, 1], index=X_test.index, columns=['prediction'])\n",
    "\n",
    "# index needs to be removed from submission csv\n",
    "submission = submission.reset_index()\n",
    "submission.to_csv('sgd_submission.csv', index=False)"
   ]
  }
 ],
 "metadata": {
  "kernelspec": {
   "display_name": "Python 3",
   "language": "python",
   "name": "python3"
  },
  "language_info": {
   "codemirror_mode": {
    "name": "ipython",
    "version": 3
   },
   "file_extension": ".py",
   "mimetype": "text/x-python",
   "name": "python",
   "nbconvert_exporter": "python",
   "pygments_lexer": "ipython3",
   "version": "3.7.12"
  },
  "papermill": {
   "default_parameters": {},
   "duration": 150.55551,
   "end_time": "2023-02-14T03:49:52.852520",
   "environment_variables": {},
   "exception": null,
   "input_path": "__notebook__.ipynb",
   "output_path": "__notebook__.ipynb",
   "parameters": {},
   "start_time": "2023-02-14T03:47:22.297010",
   "version": "2.3.4"
  }
 },
 "nbformat": 4,
 "nbformat_minor": 5
}
