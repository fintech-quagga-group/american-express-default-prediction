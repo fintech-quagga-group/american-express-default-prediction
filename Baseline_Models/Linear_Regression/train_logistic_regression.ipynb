{
 "cells": [
  {
   "cell_type": "code",
   "execution_count": 1,
   "id": "be37f4a3",
   "metadata": {
    "_cell_guid": "b1076dfc-b9ad-4769-8c92-a6c4dae69d19",
    "_uuid": "8f2839f25d086af736a60e9eeb907d3b93b6e0e5",
    "execution": {
     "iopub.execute_input": "2023-02-08T05:44:23.927956Z",
     "iopub.status.busy": "2023-02-08T05:44:23.927174Z",
     "iopub.status.idle": "2023-02-08T05:44:25.019623Z",
     "shell.execute_reply": "2023-02-08T05:44:25.018090Z"
    },
    "papermill": {
     "duration": 1.103114,
     "end_time": "2023-02-08T05:44:25.023455",
     "exception": false,
     "start_time": "2023-02-08T05:44:23.920341",
     "status": "completed"
    },
    "tags": []
   },
   "outputs": [],
   "source": [
    "import pickle\n",
    "import pandas as pd\n",
    "from sklearn.linear_model import LogisticRegression"
   ]
  },
  {
   "cell_type": "code",
   "execution_count": 2,
   "id": "a81bbac2",
   "metadata": {
    "execution": {
     "iopub.execute_input": "2023-02-08T05:44:25.033672Z",
     "iopub.status.busy": "2023-02-08T05:44:25.032311Z",
     "iopub.status.idle": "2023-02-08T05:44:50.206412Z",
     "shell.execute_reply": "2023-02-08T05:44:50.205019Z"
    },
    "papermill": {
     "duration": 25.182042,
     "end_time": "2023-02-08T05:44:50.209708",
     "exception": false,
     "start_time": "2023-02-08T05:44:25.027666",
     "status": "completed"
    },
    "tags": []
   },
   "outputs": [],
   "source": [
    "X = pd.read_feather('../input/amex-imputed-and-1hot-encoded/X_train.ftr')\n",
    "y = pd.read_feather('../input/amex-imputed-and-1hot-encoded/y_train.ftr')\n",
    "\n",
    "X = X.set_index('customer_ID')\n",
    "y = y.set_index('customer_ID')['target']"
   ]
  },
  {
   "cell_type": "markdown",
   "id": "4f8f4a4b",
   "metadata": {
    "execution": {
     "iopub.execute_input": "2023-02-07T23:57:05.559392Z",
     "iopub.status.busy": "2023-02-07T23:57:05.558967Z",
     "iopub.status.idle": "2023-02-07T23:57:05.587369Z",
     "shell.execute_reply": "2023-02-07T23:57:05.586391Z",
     "shell.execute_reply.started": "2023-02-07T23:57:05.559313Z"
    },
    "papermill": {
     "duration": 0.002317,
     "end_time": "2023-02-08T05:44:50.214942",
     "exception": false,
     "start_time": "2023-02-08T05:44:50.212625",
     "status": "completed"
    },
    "tags": []
   },
   "source": [
    "Function to calculate competition's evaluation metric: https://www.kaggle.com/code/inversion/amex-competition-metric-python"
   ]
  },
  {
   "cell_type": "code",
   "execution_count": 3,
   "id": "1a203581",
   "metadata": {
    "execution": {
     "iopub.execute_input": "2023-02-08T05:44:50.221788Z",
     "iopub.status.busy": "2023-02-08T05:44:50.221327Z",
     "iopub.status.idle": "2023-02-08T05:44:50.708805Z",
     "shell.execute_reply": "2023-02-08T05:44:50.707635Z"
    },
    "papermill": {
     "duration": 0.494121,
     "end_time": "2023-02-08T05:44:50.711461",
     "exception": false,
     "start_time": "2023-02-08T05:44:50.217340",
     "status": "completed"
    },
    "tags": []
   },
   "outputs": [],
   "source": [
    "def amex_metric(y_true: pd.DataFrame, y_pred: pd.DataFrame) -> float:\n",
    "\n",
    "    def top_four_percent_captured(y_true: pd.DataFrame, y_pred: pd.DataFrame) -> float:\n",
    "        df = (pd.concat([y_true, y_pred], axis='columns')\n",
    "              .sort_values('prediction', ascending=False))\n",
    "        df['weight'] = df['target'].apply(lambda x: 20 if x==0 else 1)\n",
    "        four_pct_cutoff = int(0.04 * df['weight'].sum())\n",
    "        df['weight_cumsum'] = df['weight'].cumsum()\n",
    "        df_cutoff = df.loc[df['weight_cumsum'] <= four_pct_cutoff]\n",
    "        return (df_cutoff['target'] == 1).sum() / (df['target'] == 1).sum()\n",
    "        \n",
    "    def weighted_gini(y_true: pd.DataFrame, y_pred: pd.DataFrame) -> float:\n",
    "        df = (pd.concat([y_true, y_pred], axis='columns')\n",
    "              .sort_values('prediction', ascending=False))\n",
    "        df['weight'] = df['target'].apply(lambda x: 20 if x==0 else 1)\n",
    "        df['random'] = (df['weight'] / df['weight'].sum()).cumsum()\n",
    "        total_pos = (df['target'] * df['weight']).sum()\n",
    "        df['cum_pos_found'] = (df['target'] * df['weight']).cumsum()\n",
    "        df['lorentz'] = df['cum_pos_found'] / total_pos\n",
    "        df['gini'] = (df['lorentz'] - df['random']) * df['weight']\n",
    "        return df['gini'].sum()\n",
    "\n",
    "    def normalized_weighted_gini(y_true: pd.DataFrame, y_pred: pd.DataFrame) -> float:\n",
    "        y_true_pred = y_true.rename(columns={'target': 'prediction'})\n",
    "        return weighted_gini(y_true, y_pred) / weighted_gini(y_true, y_true_pred)\n",
    "\n",
    "    g = normalized_weighted_gini(y_true, y_pred)\n",
    "    d = top_four_percent_captured(y_true, y_pred)\n",
    "\n",
    "    return 0.5 * (g + d)"
   ]
  },
  {
   "cell_type": "code",
   "execution_count": 4,
   "id": "8e2b7b0e",
   "metadata": {
    "execution": {
     "iopub.execute_input": "2023-02-08T05:44:50.720231Z",
     "iopub.status.busy": "2023-02-08T05:44:50.718954Z",
     "iopub.status.idle": "2023-02-08T05:48:15.841484Z",
     "shell.execute_reply": "2023-02-08T05:48:15.839015Z"
    },
    "papermill": {
     "duration": 205.153072,
     "end_time": "2023-02-08T05:48:15.868067",
     "exception": false,
     "start_time": "2023-02-08T05:44:50.714995",
     "status": "completed"
    },
    "tags": []
   },
   "outputs": [
    {
     "name": "stderr",
     "output_type": "stream",
     "text": [
      "/opt/conda/lib/python3.7/site-packages/sklearn/linear_model/_logistic.py:818: ConvergenceWarning: lbfgs failed to converge (status=1):\n",
      "STOP: TOTAL NO. of ITERATIONS REACHED LIMIT.\n",
      "\n",
      "Increase the number of iterations (max_iter) or scale the data as shown in:\n",
      "    https://scikit-learn.org/stable/modules/preprocessing.html\n",
      "Please also refer to the documentation for alternative solver options:\n",
      "    https://scikit-learn.org/stable/modules/linear_model.html#logistic-regression\n",
      "  extra_warning_msg=_LOGISTIC_SOLVER_CONVERGENCE_MSG,\n"
     ]
    }
   ],
   "source": [
    "model = LogisticRegression()\n",
    "model = model.fit(X, y)"
   ]
  },
  {
   "cell_type": "code",
   "execution_count": 5,
   "id": "f1d6b815",
   "metadata": {
    "execution": {
     "iopub.execute_input": "2023-02-08T05:48:15.888024Z",
     "iopub.status.busy": "2023-02-08T05:48:15.887104Z",
     "iopub.status.idle": "2023-02-08T05:48:36.710995Z",
     "shell.execute_reply": "2023-02-08T05:48:36.708307Z"
    },
    "papermill": {
     "duration": 20.838062,
     "end_time": "2023-02-08T05:48:36.713940",
     "exception": false,
     "start_time": "2023-02-08T05:48:15.875878",
     "status": "completed"
    },
    "tags": []
   },
   "outputs": [
    {
     "name": "stdout",
     "output_type": "stream",
     "text": [
      "0.4820440203011267\n"
     ]
    }
   ],
   "source": [
    "preds = model.predict(X)\n",
    "print(amex_metric(pd.read_feather('../input/amex-imputed-and-1hot-encoded/y_train.ftr').set_index('customer_ID'), pd.DataFrame(preds, index=y.index, columns=['prediction'])))"
   ]
  },
  {
   "cell_type": "code",
   "execution_count": 6,
   "id": "f3c5706f",
   "metadata": {
    "execution": {
     "iopub.execute_input": "2023-02-08T05:48:36.722244Z",
     "iopub.status.busy": "2023-02-08T05:48:36.721284Z",
     "iopub.status.idle": "2023-02-08T05:48:36.728980Z",
     "shell.execute_reply": "2023-02-08T05:48:36.727784Z"
    },
    "papermill": {
     "duration": 0.014588,
     "end_time": "2023-02-08T05:48:36.731703",
     "exception": false,
     "start_time": "2023-02-08T05:48:36.717115",
     "status": "completed"
    },
    "tags": []
   },
   "outputs": [],
   "source": [
    "pickle.dump(model, open('logistic_regression_model.sav', 'wb'))"
   ]
  }
 ],
 "metadata": {
  "kernelspec": {
   "display_name": "Python 3",
   "language": "python",
   "name": "python3"
  },
  "language_info": {
   "codemirror_mode": {
    "name": "ipython",
    "version": 3
   },
   "file_extension": ".py",
   "mimetype": "text/x-python",
   "name": "python",
   "nbconvert_exporter": "python",
   "pygments_lexer": "ipython3",
   "version": "3.7.12"
  },
  "papermill": {
   "default_parameters": {},
   "duration": 262.775274,
   "end_time": "2023-02-08T05:48:37.961644",
   "environment_variables": {},
   "exception": null,
   "input_path": "__notebook__.ipynb",
   "output_path": "__notebook__.ipynb",
   "parameters": {},
   "start_time": "2023-02-08T05:44:15.186370",
   "version": "2.3.4"
  }
 },
 "nbformat": 4,
 "nbformat_minor": 5
}
