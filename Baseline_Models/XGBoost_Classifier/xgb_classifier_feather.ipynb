{
 "cells": [
  {
   "cell_type": "code",
   "execution_count": 1,
   "id": "7fd2b228",
   "metadata": {
    "_cell_guid": "b1076dfc-b9ad-4769-8c92-a6c4dae69d19",
    "_uuid": "8f2839f25d086af736a60e9eeb907d3b93b6e0e5",
    "execution": {
     "iopub.execute_input": "2023-02-10T04:59:09.248737Z",
     "iopub.status.busy": "2023-02-10T04:59:09.248267Z",
     "iopub.status.idle": "2023-02-10T04:59:10.483956Z",
     "shell.execute_reply": "2023-02-10T04:59:10.482583Z"
    },
    "papermill": {
     "duration": 1.245288,
     "end_time": "2023-02-10T04:59:10.487130",
     "exception": false,
     "start_time": "2023-02-10T04:59:09.241842",
     "status": "completed"
    },
    "tags": []
   },
   "outputs": [],
   "source": [
    "import pickle\n",
    "import pandas as pd\n",
    "import xgboost as xgb"
   ]
  },
  {
   "cell_type": "code",
   "execution_count": null,
   "id": "cbaa36e0",
   "metadata": {
    "execution": {
     "iopub.execute_input": "2023-02-10T04:59:10.495128Z",
     "iopub.status.busy": "2023-02-10T04:59:10.494647Z",
     "iopub.status.idle": "2023-02-10T04:59:36.719171Z",
     "shell.execute_reply": "2023-02-10T04:59:36.717987Z"
    },
    "papermill": {
     "duration": 26.232022,
     "end_time": "2023-02-10T04:59:36.722459",
     "exception": false,
     "start_time": "2023-02-10T04:59:10.490437",
     "status": "completed"
    },
    "tags": []
   },
   "outputs": [],
   "source": [
    "X = pd.read_feather('../input/amex-imputed-and-1hot-encoded/X_train.ftr')\n",
    "y = pd.read_feather('../input/amex-imputed-and-1hot-encoded/y_train.ftr')\n",
    "\n",
    "X = X.set_index('customer_ID')\n",
    "y = y.set_index('customer_ID')['target']"
   ]
  },
  {
   "cell_type": "markdown",
   "id": "fd9b46e4",
   "metadata": {
    "execution": {
     "iopub.execute_input": "2023-02-07T23:57:05.559392Z",
     "iopub.status.busy": "2023-02-07T23:57:05.558967Z",
     "iopub.status.idle": "2023-02-07T23:57:05.587369Z",
     "shell.execute_reply": "2023-02-07T23:57:05.586391Z",
     "shell.execute_reply.started": "2023-02-07T23:57:05.559313Z"
    },
    "papermill": {
     "duration": 0.002511,
     "end_time": "2023-02-10T04:59:36.727926",
     "exception": false,
     "start_time": "2023-02-10T04:59:36.725415",
     "status": "completed"
    },
    "tags": []
   },
   "source": [
    "Function to calculate competition's evaluation metric: https://www.kaggle.com/code/inversion/amex-competition-metric-python"
   ]
  },
  {
   "cell_type": "code",
   "execution_count": null,
   "id": "032b6fcb",
   "metadata": {
    "execution": {
     "iopub.execute_input": "2023-02-10T04:59:36.735465Z",
     "iopub.status.busy": "2023-02-10T04:59:36.735064Z",
     "iopub.status.idle": "2023-02-10T04:59:36.750139Z",
     "shell.execute_reply": "2023-02-10T04:59:36.748800Z"
    },
    "papermill": {
     "duration": 0.021978,
     "end_time": "2023-02-10T04:59:36.752761",
     "exception": false,
     "start_time": "2023-02-10T04:59:36.730783",
     "status": "completed"
    },
    "tags": []
   },
   "outputs": [],
   "source": [
    "def amex_metric(y_true: pd.DataFrame, y_pred: pd.DataFrame) -> float:\n",
    "\n",
    "    def top_four_percent_captured(y_true: pd.DataFrame, y_pred: pd.DataFrame) -> float:\n",
    "        df = (pd.concat([y_true, y_pred], axis='columns')\n",
    "              .sort_values('prediction', ascending=False))\n",
    "        df['weight'] = df['target'].apply(lambda x: 20 if x==0 else 1)\n",
    "        four_pct_cutoff = int(0.04 * df['weight'].sum())\n",
    "        df['weight_cumsum'] = df['weight'].cumsum()\n",
    "        df_cutoff = df.loc[df['weight_cumsum'] <= four_pct_cutoff]\n",
    "        return (df_cutoff['target'] == 1).sum() / (df['target'] == 1).sum()\n",
    "        \n",
    "    def weighted_gini(y_true: pd.DataFrame, y_pred: pd.DataFrame) -> float:\n",
    "        df = (pd.concat([y_true, y_pred], axis='columns')\n",
    "              .sort_values('prediction', ascending=False))\n",
    "        df['weight'] = df['target'].apply(lambda x: 20 if x==0 else 1)\n",
    "        df['random'] = (df['weight'] / df['weight'].sum()).cumsum()\n",
    "        total_pos = (df['target'] * df['weight']).sum()\n",
    "        df['cum_pos_found'] = (df['target'] * df['weight']).cumsum()\n",
    "        df['lorentz'] = df['cum_pos_found'] / total_pos\n",
    "        df['gini'] = (df['lorentz'] - df['random']) * df['weight']\n",
    "        return df['gini'].sum()\n",
    "\n",
    "    def normalized_weighted_gini(y_true: pd.DataFrame, y_pred: pd.DataFrame) -> float:\n",
    "        y_true_pred = y_true.rename(columns={'target': 'prediction'})\n",
    "        return weighted_gini(y_true, y_pred) / weighted_gini(y_true, y_true_pred)\n",
    "\n",
    "    g = normalized_weighted_gini(y_true, y_pred)\n",
    "    d = top_four_percent_captured(y_true, y_pred)\n",
    "\n",
    "    return 0.5 * (g + d)"
   ]
  },
  {
   "cell_type": "code",
   "execution_count": null,
   "id": "bd1a6229",
   "metadata": {
    "execution": {
     "iopub.execute_input": "2023-02-10T04:59:36.760177Z",
     "iopub.status.busy": "2023-02-10T04:59:36.759762Z",
     "iopub.status.idle": "2023-02-10T06:24:10.015242Z",
     "shell.execute_reply": "2023-02-10T06:24:10.013971Z"
    },
    "papermill": {
     "duration": 5073.262498,
     "end_time": "2023-02-10T06:24:10.018122",
     "exception": false,
     "start_time": "2023-02-10T04:59:36.755624",
     "status": "completed"
    },
    "tags": []
   },
   "outputs": [],
   "source": [
    "model = xgb.XGBClassifier()\n",
    "model = model.fit(X,y)"
   ]
  },
  {
   "cell_type": "code",
   "execution_count": null,
   "id": "fa367cb8",
   "metadata": {
    "execution": {
     "iopub.execute_input": "2023-02-10T06:24:10.025848Z",
     "iopub.status.busy": "2023-02-10T06:24:10.025415Z",
     "iopub.status.idle": "2023-02-10T06:24:44.822844Z",
     "shell.execute_reply": "2023-02-10T06:24:44.821371Z"
    },
    "papermill": {
     "duration": 34.806426,
     "end_time": "2023-02-10T06:24:44.827869",
     "exception": false,
     "start_time": "2023-02-10T06:24:10.021443",
     "status": "completed"
    },
    "tags": []
   },
   "outputs": [
    {
     "name": "stdout",
     "output_type": "stream",
     "text": [
      "0.5165340445639233\n"
     ]
    }
   ],
   "source": [
    "preds = model.predict_prob(X)[:,1]\n",
    "print(amex_metric(pd.read_feather('../input/amex-imputed-and-1hot-encoded/y_train.ftr').set_index('customer_ID'), pd.DataFrame(preds, index=y.index, columns=['prediction'])))"
   ]
  },
  {
   "cell_type": "code",
   "execution_count": null,
   "id": "3136a796",
   "metadata": {
    "execution": {
     "iopub.execute_input": "2023-02-10T06:24:44.835617Z",
     "iopub.status.busy": "2023-02-10T06:24:44.835102Z",
     "iopub.status.idle": "2023-02-10T06:24:44.854381Z",
     "shell.execute_reply": "2023-02-10T06:24:44.852840Z"
    },
    "papermill": {
     "duration": 0.026868,
     "end_time": "2023-02-10T06:24:44.857487",
     "exception": false,
     "start_time": "2023-02-10T06:24:44.830619",
     "status": "completed"
    },
    "tags": []
   },
   "outputs": [],
   "source": [
    "pickle.dump(model, open('xgb_Classifier_model.sav', 'wb'))"
   ]
  }
 ],
 "metadata": {
  "kernelspec": {
   "display_name": "base",
   "language": "python",
   "name": "python3"
  },
  "language_info": {
   "codemirror_mode": {
    "name": "ipython",
    "version": 3
   },
   "file_extension": ".py",
   "mimetype": "text/x-python",
   "name": "python",
   "nbconvert_exporter": "python",
   "pygments_lexer": "ipython3",
   "version": "3.9.13"
  },
  "papermill": {
   "default_parameters": {},
   "duration": 5145.582676,
   "end_time": "2023-02-10T06:24:46.097059",
   "environment_variables": {},
   "exception": null,
   "input_path": "__notebook__.ipynb",
   "output_path": "__notebook__.ipynb",
   "parameters": {},
   "start_time": "2023-02-10T04:59:00.514383",
   "version": "2.3.4"
  },
  "vscode": {
   "interpreter": {
    "hash": "64ce97648ddab1c0f4c4ab5c722ceded0addc2d6413f5c86247f03016cf26094"
   }
  }
 },
 "nbformat": 4,
 "nbformat_minor": 5
}
