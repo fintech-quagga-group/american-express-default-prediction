{
 "cells": [
  {
   "cell_type": "code",
   "execution_count": 1,
   "id": "6de2e1a2",
   "metadata": {
    "_cell_guid": "b1076dfc-b9ad-4769-8c92-a6c4dae69d19",
    "_uuid": "8f2839f25d086af736a60e9eeb907d3b93b6e0e5",
    "execution": {
     "iopub.execute_input": "2023-02-10T00:35:11.018297Z",
     "iopub.status.busy": "2023-02-10T00:35:11.017458Z",
     "iopub.status.idle": "2023-02-10T00:35:12.255233Z",
     "shell.execute_reply": "2023-02-10T00:35:12.254108Z"
    },
    "papermill": {
     "duration": 1.247619,
     "end_time": "2023-02-10T00:35:12.258576",
     "exception": false,
     "start_time": "2023-02-10T00:35:11.010957",
     "status": "completed"
    },
    "tags": []
   },
   "outputs": [],
   "source": [
    "import pickle\n",
    "import pandas as pd\n",
    "from sklearn.linear_model import LogisticRegression\n",
    "from sklearn.metrics import classification_report"
   ]
  },
  {
   "cell_type": "code",
   "execution_count": 2,
   "id": "34d879cf",
   "metadata": {
    "execution": {
     "iopub.execute_input": "2023-02-10T00:35:12.266892Z",
     "iopub.status.busy": "2023-02-10T00:35:12.266464Z",
     "iopub.status.idle": "2023-02-10T00:35:33.115023Z",
     "shell.execute_reply": "2023-02-10T00:35:33.113933Z"
    },
    "papermill": {
     "duration": 20.855938,
     "end_time": "2023-02-10T00:35:33.118025",
     "exception": false,
     "start_time": "2023-02-10T00:35:12.262087",
     "status": "completed"
    },
    "tags": []
   },
   "outputs": [],
   "source": [
    "X = pd.read_pickle('/kaggle/input/amex-imputed-aggregate-data/X_train_agg.pkl', compression='gzip')\n",
    "y = pd.read_pickle('/kaggle/input/amex-imputed-aggregate-data/y_train_agg.pkl', compression='gzip')"
   ]
  },
  {
   "cell_type": "markdown",
   "id": "a90ad2d2",
   "metadata": {
    "papermill": {
     "duration": 0.002549,
     "end_time": "2023-02-10T00:35:33.123741",
     "exception": false,
     "start_time": "2023-02-10T00:35:33.121192",
     "status": "completed"
    },
    "tags": []
   },
   "source": [
    "Function to calculate competition's evaluation metric: https://www.kaggle.com/code/inversion/amex-competition-metric-python"
   ]
  },
  {
   "cell_type": "code",
   "execution_count": 3,
   "id": "14c1b41f",
   "metadata": {
    "execution": {
     "iopub.execute_input": "2023-02-10T00:35:33.131640Z",
     "iopub.status.busy": "2023-02-10T00:35:33.130648Z",
     "iopub.status.idle": "2023-02-10T00:35:33.145460Z",
     "shell.execute_reply": "2023-02-10T00:35:33.144548Z"
    },
    "jupyter": {
     "source_hidden": true
    },
    "papermill": {
     "duration": 0.020994,
     "end_time": "2023-02-10T00:35:33.147448",
     "exception": false,
     "start_time": "2023-02-10T00:35:33.126454",
     "status": "completed"
    },
    "tags": []
   },
   "outputs": [],
   "source": [
    "def amex_metric(y_true: pd.DataFrame, y_pred: pd.DataFrame) -> float:\n",
    "\n",
    "    def top_four_percent_captured(y_true: pd.DataFrame, y_pred: pd.DataFrame) -> float:\n",
    "        df = (pd.concat([y_true, y_pred], axis='columns')\n",
    "              .sort_values('prediction', ascending=False))\n",
    "        df['weight'] = df['target'].apply(lambda x: 20 if x==0 else 1)\n",
    "        four_pct_cutoff = int(0.04 * df['weight'].sum())\n",
    "        df['weight_cumsum'] = df['weight'].cumsum()\n",
    "        df_cutoff = df.loc[df['weight_cumsum'] <= four_pct_cutoff]\n",
    "        return (df_cutoff['target'] == 1).sum() / (df['target'] == 1).sum()\n",
    "        \n",
    "    def weighted_gini(y_true: pd.DataFrame, y_pred: pd.DataFrame) -> float:\n",
    "        df = (pd.concat([y_true, y_pred], axis='columns')\n",
    "              .sort_values('prediction', ascending=False))\n",
    "        df['weight'] = df['target'].apply(lambda x: 20 if x==0 else 1)\n",
    "        df['random'] = (df['weight'] / df['weight'].sum()).cumsum()\n",
    "        total_pos = (df['target'] * df['weight']).sum()\n",
    "        df['cum_pos_found'] = (df['target'] * df['weight']).cumsum()\n",
    "        df['lorentz'] = df['cum_pos_found'] / total_pos\n",
    "        df['gini'] = (df['lorentz'] - df['random']) * df['weight']\n",
    "        return df['gini'].sum()\n",
    "\n",
    "    def normalized_weighted_gini(y_true: pd.DataFrame, y_pred: pd.DataFrame) -> float:\n",
    "        y_true_pred = y_true.rename(columns={'target': 'prediction'})\n",
    "        return weighted_gini(y_true, y_pred) / weighted_gini(y_true, y_true_pred)\n",
    "\n",
    "    g = normalized_weighted_gini(y_true, y_pred)\n",
    "    d = top_four_percent_captured(y_true, y_pred)\n",
    "\n",
    "    return 0.5 * (g + d)"
   ]
  },
  {
   "cell_type": "code",
   "execution_count": 4,
   "id": "79106876",
   "metadata": {
    "execution": {
     "iopub.execute_input": "2023-02-10T00:35:33.155864Z",
     "iopub.status.busy": "2023-02-10T00:35:33.154810Z",
     "iopub.status.idle": "2023-02-10T00:36:16.706166Z",
     "shell.execute_reply": "2023-02-10T00:36:16.704295Z"
    },
    "papermill": {
     "duration": 43.561553,
     "end_time": "2023-02-10T00:36:16.712299",
     "exception": false,
     "start_time": "2023-02-10T00:35:33.150746",
     "status": "completed"
    },
    "tags": []
   },
   "outputs": [
    {
     "name": "stderr",
     "output_type": "stream",
     "text": [
      "/opt/conda/lib/python3.7/site-packages/sklearn/linear_model/_logistic.py:818: ConvergenceWarning: lbfgs failed to converge (status=1):\n",
      "STOP: TOTAL NO. of ITERATIONS REACHED LIMIT.\n",
      "\n",
      "Increase the number of iterations (max_iter) or scale the data as shown in:\n",
      "    https://scikit-learn.org/stable/modules/preprocessing.html\n",
      "Please also refer to the documentation for alternative solver options:\n",
      "    https://scikit-learn.org/stable/modules/linear_model.html#logistic-regression\n",
      "  extra_warning_msg=_LOGISTIC_SOLVER_CONVERGENCE_MSG,\n"
     ]
    }
   ],
   "source": [
    "model = LogisticRegression()\n",
    "model = model.fit(X, y)"
   ]
  },
  {
   "cell_type": "code",
   "execution_count": 5,
   "id": "e33ae0e8",
   "metadata": {
    "execution": {
     "iopub.execute_input": "2023-02-10T00:36:16.729842Z",
     "iopub.status.busy": "2023-02-10T00:36:16.728841Z",
     "iopub.status.idle": "2023-02-10T00:36:20.032101Z",
     "shell.execute_reply": "2023-02-10T00:36:20.030854Z"
    },
    "papermill": {
     "duration": 3.315786,
     "end_time": "2023-02-10T00:36:20.035238",
     "exception": false,
     "start_time": "2023-02-10T00:36:16.719452",
     "status": "completed"
    },
    "tags": []
   },
   "outputs": [
    {
     "name": "stdout",
     "output_type": "stream",
     "text": [
      "0.5687785561002383\n"
     ]
    }
   ],
   "source": [
    "preds = model.predict(X)\n",
    "print(amex_metric(pd.DataFrame(y), pd.DataFrame(preds, index=y.index, columns=['prediction'])))"
   ]
  },
  {
   "cell_type": "code",
   "execution_count": 6,
   "id": "d0aae363",
   "metadata": {
    "execution": {
     "iopub.execute_input": "2023-02-10T00:36:20.043859Z",
     "iopub.status.busy": "2023-02-10T00:36:20.043017Z",
     "iopub.status.idle": "2023-02-10T00:36:20.849642Z",
     "shell.execute_reply": "2023-02-10T00:36:20.848268Z"
    },
    "papermill": {
     "duration": 0.813354,
     "end_time": "2023-02-10T00:36:20.852313",
     "exception": false,
     "start_time": "2023-02-10T00:36:20.038959",
     "status": "completed"
    },
    "tags": []
   },
   "outputs": [
    {
     "name": "stdout",
     "output_type": "stream",
     "text": [
      "              precision    recall  f1-score   support\n",
      "\n",
      "           0       0.92      0.94      0.93    340085\n",
      "           1       0.82      0.78      0.80    118828\n",
      "\n",
      "    accuracy                           0.90    458913\n",
      "   macro avg       0.87      0.86      0.86    458913\n",
      "weighted avg       0.90      0.90      0.90    458913\n",
      "\n"
     ]
    }
   ],
   "source": [
    "print(classification_report(y, preds))"
   ]
  },
  {
   "cell_type": "code",
   "execution_count": 7,
   "id": "bd62409d",
   "metadata": {
    "execution": {
     "iopub.execute_input": "2023-02-10T00:36:20.860390Z",
     "iopub.status.busy": "2023-02-10T00:36:20.859991Z",
     "iopub.status.idle": "2023-02-10T00:36:20.865483Z",
     "shell.execute_reply": "2023-02-10T00:36:20.864453Z"
    },
    "papermill": {
     "duration": 0.012101,
     "end_time": "2023-02-10T00:36:20.867644",
     "exception": false,
     "start_time": "2023-02-10T00:36:20.855543",
     "status": "completed"
    },
    "tags": []
   },
   "outputs": [],
   "source": [
    "pickle.dump(model, open('logistic_regression_agg_model.sav', 'wb'))"
   ]
  }
 ],
 "metadata": {
  "kernelspec": {
   "display_name": "Python 3",
   "language": "python",
   "name": "python3"
  },
  "language_info": {
   "codemirror_mode": {
    "name": "ipython",
    "version": 3
   },
   "file_extension": ".py",
   "mimetype": "text/x-python",
   "name": "python",
   "nbconvert_exporter": "python",
   "pygments_lexer": "ipython3",
   "version": "3.7.12"
  },
  "papermill": {
   "default_parameters": {},
   "duration": 79.500514,
   "end_time": "2023-02-10T00:36:21.793274",
   "environment_variables": {},
   "exception": null,
   "input_path": "__notebook__.ipynb",
   "output_path": "__notebook__.ipynb",
   "parameters": {},
   "start_time": "2023-02-10T00:35:02.292760",
   "version": "2.3.4"
  }
 },
 "nbformat": 4,
 "nbformat_minor": 5
}
