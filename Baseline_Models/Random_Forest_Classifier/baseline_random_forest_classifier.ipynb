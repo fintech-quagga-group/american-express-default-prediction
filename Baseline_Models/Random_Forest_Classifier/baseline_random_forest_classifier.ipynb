{
 "cells": [
  {
   "cell_type": "code",
   "execution_count": 1,
   "id": "3903c716",
   "metadata": {
    "_cell_guid": "b1076dfc-b9ad-4769-8c92-a6c4dae69d19",
    "_uuid": "8f2839f25d086af736a60e9eeb907d3b93b6e0e5",
    "execution": {
     "iopub.execute_input": "2023-02-14T02:32:41.302340Z",
     "iopub.status.busy": "2023-02-14T02:32:41.301249Z",
     "iopub.status.idle": "2023-02-14T02:32:42.654998Z",
     "shell.execute_reply": "2023-02-14T02:32:42.653810Z"
    },
    "papermill": {
     "duration": 1.363806,
     "end_time": "2023-02-14T02:32:42.657996",
     "exception": false,
     "start_time": "2023-02-14T02:32:41.294190",
     "status": "completed"
    },
    "tags": []
   },
   "outputs": [],
   "source": [
    "import pickle\n",
    "import gc\n",
    "import pandas as pd\n",
    "from sklearn.ensemble import RandomForestClassifier\n",
    "from sklearn.metrics import classification_report"
   ]
  },
  {
   "cell_type": "code",
   "execution_count": 2,
   "id": "9df25edf",
   "metadata": {
    "execution": {
     "iopub.execute_input": "2023-02-14T02:32:42.668574Z",
     "iopub.status.busy": "2023-02-14T02:32:42.667631Z",
     "iopub.status.idle": "2023-02-14T02:33:08.747665Z",
     "shell.execute_reply": "2023-02-14T02:33:08.746407Z"
    },
    "papermill": {
     "duration": 26.088165,
     "end_time": "2023-02-14T02:33:08.750580",
     "exception": false,
     "start_time": "2023-02-14T02:32:42.662415",
     "status": "completed"
    },
    "tags": []
   },
   "outputs": [],
   "source": [
    "X = pd.read_feather('../input/amex-imputed-and-1hot-encoded/X_train.ftr')\n",
    "y = pd.read_feather('../input/amex-imputed-and-1hot-encoded/y_train.ftr')\n",
    "\n",
    "X = X.set_index('customer_ID')\n",
    "y = y.set_index('customer_ID')['target']"
   ]
  },
  {
   "cell_type": "markdown",
   "id": "6c734984",
   "metadata": {
    "papermill": {
     "duration": 0.003731,
     "end_time": "2023-02-14T02:33:08.758445",
     "exception": false,
     "start_time": "2023-02-14T02:33:08.754714",
     "status": "completed"
    },
    "tags": []
   },
   "source": [
    "Function to calculate competition's evaluation metric: https://www.kaggle.com/code/inversion/amex-competition-metric-python"
   ]
  },
  {
   "cell_type": "code",
   "execution_count": 3,
   "id": "ec804a7f",
   "metadata": {
    "execution": {
     "iopub.execute_input": "2023-02-14T02:33:08.768318Z",
     "iopub.status.busy": "2023-02-14T02:33:08.767901Z",
     "iopub.status.idle": "2023-02-14T02:33:08.780648Z",
     "shell.execute_reply": "2023-02-14T02:33:08.779414Z"
    },
    "papermill": {
     "duration": 0.020619,
     "end_time": "2023-02-14T02:33:08.783003",
     "exception": false,
     "start_time": "2023-02-14T02:33:08.762384",
     "status": "completed"
    },
    "tags": []
   },
   "outputs": [],
   "source": [
    "def amex_metric(y_true: pd.DataFrame, y_pred: pd.DataFrame) -> float:\n",
    "\n",
    "    def top_four_percent_captured(y_true: pd.DataFrame, y_pred: pd.DataFrame) -> float:\n",
    "        df = (pd.concat([y_true, y_pred], axis='columns')\n",
    "              .sort_values('prediction', ascending=False))\n",
    "        df['weight'] = df['target'].apply(lambda x: 20 if x==0 else 1)\n",
    "        four_pct_cutoff = int(0.04 * df['weight'].sum())\n",
    "        df['weight_cumsum'] = df['weight'].cumsum()\n",
    "        df_cutoff = df.loc[df['weight_cumsum'] <= four_pct_cutoff]\n",
    "        return (df_cutoff['target'] == 1).sum() / (df['target'] == 1).sum()\n",
    "        \n",
    "    def weighted_gini(y_true: pd.DataFrame, y_pred: pd.DataFrame) -> float:\n",
    "        df = (pd.concat([y_true, y_pred], axis='columns')\n",
    "              .sort_values('prediction', ascending=False))\n",
    "        df['weight'] = df['target'].apply(lambda x: 20 if x==0 else 1)\n",
    "        df['random'] = (df['weight'] / df['weight'].sum()).cumsum()\n",
    "        total_pos = (df['target'] * df['weight']).sum()\n",
    "        df['cum_pos_found'] = (df['target'] * df['weight']).cumsum()\n",
    "        df['lorentz'] = df['cum_pos_found'] / total_pos\n",
    "        df['gini'] = (df['lorentz'] - df['random']) * df['weight']\n",
    "        return df['gini'].sum()\n",
    "\n",
    "    def normalized_weighted_gini(y_true: pd.DataFrame, y_pred: pd.DataFrame) -> float:\n",
    "        y_true_pred = y_true.rename(columns={'target': 'prediction'})\n",
    "        return weighted_gini(y_true, y_pred) / weighted_gini(y_true, y_true_pred)\n",
    "\n",
    "    g = normalized_weighted_gini(y_true, y_pred)\n",
    "    d = top_four_percent_captured(y_true, y_pred)\n",
    "\n",
    "    return 0.5 * (g + d)"
   ]
  },
  {
   "cell_type": "markdown",
   "id": "7f0ca456",
   "metadata": {
    "papermill": {
     "duration": 0.003611,
     "end_time": "2023-02-14T02:33:08.790793",
     "exception": false,
     "start_time": "2023-02-14T02:33:08.787182",
     "status": "completed"
    },
    "tags": []
   },
   "source": [
    "## Train model"
   ]
  },
  {
   "cell_type": "code",
   "execution_count": 4,
   "id": "27e03255",
   "metadata": {
    "execution": {
     "iopub.execute_input": "2023-02-14T02:33:08.800870Z",
     "iopub.status.busy": "2023-02-14T02:33:08.800026Z",
     "iopub.status.idle": "2023-02-14T03:31:01.613807Z",
     "shell.execute_reply": "2023-02-14T03:31:01.608461Z"
    },
    "papermill": {
     "duration": 3472.832825,
     "end_time": "2023-02-14T03:31:01.627775",
     "exception": false,
     "start_time": "2023-02-14T02:33:08.794950",
     "status": "completed"
    },
    "tags": []
   },
   "outputs": [],
   "source": [
    "model = RandomForestClassifier(max_depth=5)\n",
    "model = model.fit(X, y)"
   ]
  },
  {
   "cell_type": "code",
   "execution_count": 5,
   "id": "ca55e57e",
   "metadata": {
    "execution": {
     "iopub.execute_input": "2023-02-14T03:31:01.652903Z",
     "iopub.status.busy": "2023-02-14T03:31:01.652244Z",
     "iopub.status.idle": "2023-02-14T03:32:47.393322Z",
     "shell.execute_reply": "2023-02-14T03:32:47.391859Z"
    },
    "papermill": {
     "duration": 105.754361,
     "end_time": "2023-02-14T03:32:47.396493",
     "exception": false,
     "start_time": "2023-02-14T03:31:01.642132",
     "status": "completed"
    },
    "tags": []
   },
   "outputs": [],
   "source": [
    "proba_preds = model.predict_proba(X)[:, 1]\n",
    "preds = model.predict(X)"
   ]
  },
  {
   "cell_type": "code",
   "execution_count": 6,
   "id": "b9d31a1f",
   "metadata": {
    "execution": {
     "iopub.execute_input": "2023-02-14T03:32:47.407144Z",
     "iopub.status.busy": "2023-02-14T03:32:47.406735Z",
     "iopub.status.idle": "2023-02-14T03:33:01.883414Z",
     "shell.execute_reply": "2023-02-14T03:33:01.882039Z"
    },
    "papermill": {
     "duration": 14.490679,
     "end_time": "2023-02-14T03:33:01.891674",
     "exception": false,
     "start_time": "2023-02-14T03:32:47.400995",
     "status": "completed"
    },
    "tags": []
   },
   "outputs": [
    {
     "name": "stdout",
     "output_type": "stream",
     "text": [
      "M = 0.6334534800058458\n"
     ]
    }
   ],
   "source": [
    "print(f'M = {amex_metric(pd.DataFrame(y), pd.DataFrame(proba_preds, index=y.index, columns=[\"prediction\"]))}')"
   ]
  },
  {
   "cell_type": "code",
   "execution_count": 7,
   "id": "44adf76e",
   "metadata": {
    "execution": {
     "iopub.execute_input": "2023-02-14T03:33:01.902275Z",
     "iopub.status.busy": "2023-02-14T03:33:01.901868Z",
     "iopub.status.idle": "2023-02-14T03:33:14.905789Z",
     "shell.execute_reply": "2023-02-14T03:33:14.904792Z"
    },
    "papermill": {
     "duration": 13.011823,
     "end_time": "2023-02-14T03:33:14.908108",
     "exception": false,
     "start_time": "2023-02-14T03:33:01.896285",
     "status": "completed"
    },
    "tags": []
   },
   "outputs": [
    {
     "name": "stdout",
     "output_type": "stream",
     "text": [
      "              precision    recall  f1-score   support\n",
      "\n",
      "           0       0.89      0.92      0.90   4153582\n",
      "           1       0.74      0.64      0.69   1377869\n",
      "\n",
      "    accuracy                           0.85   5531451\n",
      "   macro avg       0.81      0.78      0.80   5531451\n",
      "weighted avg       0.85      0.85      0.85   5531451\n",
      "\n"
     ]
    }
   ],
   "source": [
    "print(classification_report(y, preds))"
   ]
  },
  {
   "cell_type": "code",
   "execution_count": 8,
   "id": "4fca4c30",
   "metadata": {
    "execution": {
     "iopub.execute_input": "2023-02-14T03:33:14.918810Z",
     "iopub.status.busy": "2023-02-14T03:33:14.917910Z",
     "iopub.status.idle": "2023-02-14T03:33:15.740255Z",
     "shell.execute_reply": "2023-02-14T03:33:15.739131Z"
    },
    "papermill": {
     "duration": 0.83019,
     "end_time": "2023-02-14T03:33:15.742661",
     "exception": false,
     "start_time": "2023-02-14T03:33:14.912471",
     "status": "completed"
    },
    "tags": []
   },
   "outputs": [
    {
     "data": {
      "text/plain": [
       "131"
      ]
     },
     "execution_count": 8,
     "metadata": {},
     "output_type": "execute_result"
    }
   ],
   "source": [
    "del X, y\n",
    "gc.collect()"
   ]
  },
  {
   "cell_type": "markdown",
   "id": "36992361",
   "metadata": {
    "papermill": {
     "duration": 0.004099,
     "end_time": "2023-02-14T03:33:15.751516",
     "exception": false,
     "start_time": "2023-02-14T03:33:15.747417",
     "status": "completed"
    },
    "tags": []
   },
   "source": [
    "## Save model and predict on test set"
   ]
  },
  {
   "cell_type": "code",
   "execution_count": 9,
   "id": "87fcb0cd",
   "metadata": {
    "execution": {
     "iopub.execute_input": "2023-02-14T03:33:15.762250Z",
     "iopub.status.busy": "2023-02-14T03:33:15.761789Z",
     "iopub.status.idle": "2023-02-14T03:33:15.782641Z",
     "shell.execute_reply": "2023-02-14T03:33:15.781169Z"
    },
    "papermill": {
     "duration": 0.029611,
     "end_time": "2023-02-14T03:33:15.785427",
     "exception": false,
     "start_time": "2023-02-14T03:33:15.755816",
     "status": "completed"
    },
    "tags": []
   },
   "outputs": [],
   "source": [
    "pickle.dump(model, open('baseline_random_forest_classifier_model.sav', 'wb'))"
   ]
  },
  {
   "cell_type": "code",
   "execution_count": 10,
   "id": "110c9a3a",
   "metadata": {
    "execution": {
     "iopub.execute_input": "2023-02-14T03:33:15.796718Z",
     "iopub.status.busy": "2023-02-14T03:33:15.796317Z",
     "iopub.status.idle": "2023-02-14T03:33:59.060591Z",
     "shell.execute_reply": "2023-02-14T03:33:59.059473Z"
    },
    "papermill": {
     "duration": 43.273043,
     "end_time": "2023-02-14T03:33:59.063402",
     "exception": false,
     "start_time": "2023-02-14T03:33:15.790359",
     "status": "completed"
    },
    "tags": []
   },
   "outputs": [],
   "source": [
    "X_test_1 = pd.read_feather('../input/amex-imputed-and-1hot-encoded/X_test_1.ftr')\n",
    "X_test_1 = X_test_1.set_index('customer_ID')"
   ]
  },
  {
   "cell_type": "code",
   "execution_count": 11,
   "id": "86c0c40e",
   "metadata": {
    "execution": {
     "iopub.execute_input": "2023-02-14T03:33:59.074424Z",
     "iopub.status.busy": "2023-02-14T03:33:59.073998Z",
     "iopub.status.idle": "2023-02-14T03:34:34.911657Z",
     "shell.execute_reply": "2023-02-14T03:34:34.910450Z"
    },
    "papermill": {
     "duration": 35.846325,
     "end_time": "2023-02-14T03:34:34.914628",
     "exception": false,
     "start_time": "2023-02-14T03:33:59.068303",
     "status": "completed"
    },
    "tags": []
   },
   "outputs": [],
   "source": [
    "X_test_2 = pd.read_feather('../input/amex-imputed-and-1hot-encoded/X_test_2.ftr')\n",
    "X_test_2 = X_test_2.set_index('customer_ID')"
   ]
  },
  {
   "cell_type": "code",
   "execution_count": 12,
   "id": "f39eca1b",
   "metadata": {
    "execution": {
     "iopub.execute_input": "2023-02-14T03:34:34.925507Z",
     "iopub.status.busy": "2023-02-14T03:34:34.925069Z",
     "iopub.status.idle": "2023-02-14T03:36:30.795796Z",
     "shell.execute_reply": "2023-02-14T03:36:30.794407Z"
    },
    "papermill": {
     "duration": 115.879276,
     "end_time": "2023-02-14T03:36:30.798809",
     "exception": false,
     "start_time": "2023-02-14T03:34:34.919533",
     "status": "completed"
    },
    "tags": []
   },
   "outputs": [],
   "source": [
    "preds_1 = pd.DataFrame(model.predict_proba(X_test_1)[:, 1], index=X_test_1.index, columns=['prediction'])\n",
    "preds_2 = pd.DataFrame(model.predict_proba(X_test_2)[:, 1], index=X_test_2.index, columns=['prediction'])"
   ]
  },
  {
   "cell_type": "code",
   "execution_count": 13,
   "id": "64331171",
   "metadata": {
    "execution": {
     "iopub.execute_input": "2023-02-14T03:36:30.810459Z",
     "iopub.status.busy": "2023-02-14T03:36:30.810015Z",
     "iopub.status.idle": "2023-02-14T03:36:37.187666Z",
     "shell.execute_reply": "2023-02-14T03:36:37.186694Z"
    },
    "papermill": {
     "duration": 6.386466,
     "end_time": "2023-02-14T03:36:37.190495",
     "exception": false,
     "start_time": "2023-02-14T03:36:30.804029",
     "status": "completed"
    },
    "tags": []
   },
   "outputs": [],
   "source": [
    "submission = pd.concat([preds_1, preds_2])\n",
    "\n",
    "# predictions only need to be for each customer\n",
    "submission = submission.groupby('customer_ID').agg(['last'])\n",
    "submission.columns = submission.columns.droplevel(1)\n",
    "\n",
    "# predictions need to be doubles \n",
    "submission['prediction'] = submission['prediction'].astype('double')\n",
    "\n",
    "# index needs to be removed from submission csv\n",
    "submission = submission.reset_index()\n",
    "submission.to_csv('baseline_random_forest_classifier_submission.csv', index=False)"
   ]
  }
 ],
 "metadata": {
  "kernelspec": {
   "display_name": "Python 3",
   "language": "python",
   "name": "python3"
  },
  "language_info": {
   "codemirror_mode": {
    "name": "ipython",
    "version": 3
   },
   "file_extension": ".py",
   "mimetype": "text/x-python",
   "name": "python",
   "nbconvert_exporter": "python",
   "pygments_lexer": "ipython3",
   "version": "3.7.12"
  },
  "papermill": {
   "default_parameters": {},
   "duration": 3845.166282,
   "end_time": "2023-02-14T03:36:38.226689",
   "environment_variables": {},
   "exception": null,
   "input_path": "__notebook__.ipynb",
   "output_path": "__notebook__.ipynb",
   "parameters": {},
   "start_time": "2023-02-14T02:32:33.060407",
   "version": "2.3.4"
  }
 },
 "nbformat": 4,
 "nbformat_minor": 5
}
