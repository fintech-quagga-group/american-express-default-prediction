{
 "cells": [
  {
   "cell_type": "code",
   "execution_count": 1,
   "id": "ae15a76e",
   "metadata": {
    "_cell_guid": "b1076dfc-b9ad-4769-8c92-a6c4dae69d19",
    "_uuid": "8f2839f25d086af736a60e9eeb907d3b93b6e0e5",
    "execution": {
     "iopub.execute_input": "2023-02-11T23:22:43.308083Z",
     "iopub.status.busy": "2023-02-11T23:22:43.307056Z",
     "iopub.status.idle": "2023-02-11T23:22:44.554504Z",
     "shell.execute_reply": "2023-02-11T23:22:44.553235Z"
    },
    "papermill": {
     "duration": 1.255524,
     "end_time": "2023-02-11T23:22:44.557315",
     "exception": false,
     "start_time": "2023-02-11T23:22:43.301791",
     "status": "completed"
    },
    "tags": []
   },
   "outputs": [],
   "source": [
    "import pickle\n",
    "import pandas as pd\n",
    "from sklearn.ensemble import RandomForestClassifier"
   ]
  },
  {
   "cell_type": "code",
   "execution_count": 2,
   "id": "f2588e4e",
   "metadata": {
    "execution": {
     "iopub.execute_input": "2023-02-11T23:22:44.566068Z",
     "iopub.status.busy": "2023-02-11T23:22:44.565661Z",
     "iopub.status.idle": "2023-02-11T23:23:09.863600Z",
     "shell.execute_reply": "2023-02-11T23:23:09.862341Z"
    },
    "papermill": {
     "duration": 25.305333,
     "end_time": "2023-02-11T23:23:09.866989",
     "exception": false,
     "start_time": "2023-02-11T23:22:44.561656",
     "status": "completed"
    },
    "tags": []
   },
   "outputs": [],
   "source": [
    "X_test_1 = pd.read_feather('../input/amex-imputed-and-1hot-encoded/X_test_1.ftr')\n",
    "X_test_1 = X_test_1.set_index('customer_ID')"
   ]
  },
  {
   "cell_type": "code",
   "execution_count": 3,
   "id": "c5ca8c80",
   "metadata": {
    "execution": {
     "iopub.execute_input": "2023-02-11T23:23:09.873980Z",
     "iopub.status.busy": "2023-02-11T23:23:09.873295Z",
     "iopub.status.idle": "2023-02-11T23:23:39.881034Z",
     "shell.execute_reply": "2023-02-11T23:23:39.878983Z"
    },
    "papermill": {
     "duration": 30.016984,
     "end_time": "2023-02-11T23:23:39.886820",
     "exception": false,
     "start_time": "2023-02-11T23:23:09.869836",
     "status": "completed"
    },
    "tags": []
   },
   "outputs": [],
   "source": [
    "X_test_2 = pd.read_feather('../input/amex-imputed-and-1hot-encoded/X_test_2.ftr')\n",
    "X_test_2 = X_test_2.set_index('customer_ID')"
   ]
  },
  {
   "cell_type": "code",
   "execution_count": 4,
   "id": "21e45bdc",
   "metadata": {
    "execution": {
     "iopub.execute_input": "2023-02-11T23:23:39.897332Z",
     "iopub.status.busy": "2023-02-11T23:23:39.896233Z",
     "iopub.status.idle": "2023-02-11T23:25:35.430208Z",
     "shell.execute_reply": "2023-02-11T23:25:35.428555Z"
    },
    "papermill": {
     "duration": 115.541834,
     "end_time": "2023-02-11T23:25:35.433581",
     "exception": false,
     "start_time": "2023-02-11T23:23:39.891747",
     "status": "completed"
    },
    "tags": []
   },
   "outputs": [],
   "source": [
    "model = pickle.load(open('/kaggle/input/test-dtc-model/random_forest_classifier_model.sav', 'rb'))\n",
    "preds_1 = pd.DataFrame(model.predict_proba(X_test_1)[:, 1], index=X_test_1.index, columns=['prediction'])\n",
    "preds_2 = pd.DataFrame(model.predict_proba(X_test_2)[:, 1], index=X_test_2.index, columns=['prediction'])"
   ]
  },
  {
   "cell_type": "code",
   "execution_count": 5,
   "id": "e54ba047",
   "metadata": {
    "execution": {
     "iopub.execute_input": "2023-02-11T23:25:35.440635Z",
     "iopub.status.busy": "2023-02-11T23:25:35.440223Z",
     "iopub.status.idle": "2023-02-11T23:25:41.899112Z",
     "shell.execute_reply": "2023-02-11T23:25:41.897868Z"
    },
    "papermill": {
     "duration": 6.465384,
     "end_time": "2023-02-11T23:25:41.901976",
     "exception": false,
     "start_time": "2023-02-11T23:25:35.436592",
     "status": "completed"
    },
    "tags": []
   },
   "outputs": [],
   "source": [
    "submission = pd.concat([preds_1, preds_2])\n",
    "\n",
    "# predictions only need to be for each customer\n",
    "submission = submission.groupby('customer_ID').agg(['last'])\n",
    "submission.columns = submission.columns.droplevel(1)\n",
    "\n",
    "# predictions need to be doubles \n",
    "submission['prediction'] = submission['prediction'].astype('double')\n",
    "\n",
    "# index needs to be removed from submission csv\n",
    "submission = submission.reset_index()\n",
    "submission.to_csv('submission.csv', index=False)"
   ]
  },
  {
   "cell_type": "code",
   "execution_count": null,
   "id": "3e72ac82",
   "metadata": {
    "papermill": {
     "duration": 0.00225,
     "end_time": "2023-02-11T23:25:41.906950",
     "exception": false,
     "start_time": "2023-02-11T23:25:41.904700",
     "status": "completed"
    },
    "tags": []
   },
   "outputs": [],
   "source": []
  },
  {
   "cell_type": "code",
   "execution_count": null,
   "id": "3ab9142c",
   "metadata": {
    "papermill": {
     "duration": 0.002111,
     "end_time": "2023-02-11T23:25:41.911443",
     "exception": false,
     "start_time": "2023-02-11T23:25:41.909332",
     "status": "completed"
    },
    "tags": []
   },
   "outputs": [],
   "source": []
  }
 ],
 "metadata": {
  "kernelspec": {
   "display_name": "Python 3",
   "language": "python",
   "name": "python3"
  },
  "language_info": {
   "codemirror_mode": {
    "name": "ipython",
    "version": 3
   },
   "file_extension": ".py",
   "mimetype": "text/x-python",
   "name": "python",
   "nbconvert_exporter": "python",
   "pygments_lexer": "ipython3",
   "version": "3.7.12"
  },
  "papermill": {
   "default_parameters": {},
   "duration": 187.839859,
   "end_time": "2023-02-11T23:25:42.940837",
   "environment_variables": {},
   "exception": null,
   "input_path": "__notebook__.ipynb",
   "output_path": "__notebook__.ipynb",
   "parameters": {},
   "start_time": "2023-02-11T23:22:35.100978",
   "version": "2.3.4"
  }
 },
 "nbformat": 4,
 "nbformat_minor": 5
}
