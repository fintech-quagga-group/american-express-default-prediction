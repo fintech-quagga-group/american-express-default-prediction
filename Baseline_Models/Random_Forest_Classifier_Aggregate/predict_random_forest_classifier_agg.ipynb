{
 "cells": [
  {
   "cell_type": "code",
   "execution_count": 1,
   "id": "10da39a7",
   "metadata": {
    "_cell_guid": "b1076dfc-b9ad-4769-8c92-a6c4dae69d19",
    "_uuid": "8f2839f25d086af736a60e9eeb907d3b93b6e0e5",
    "execution": {
     "iopub.execute_input": "2023-02-11T06:24:38.107911Z",
     "iopub.status.busy": "2023-02-11T06:24:38.107447Z",
     "iopub.status.idle": "2023-02-11T06:24:39.393499Z",
     "shell.execute_reply": "2023-02-11T06:24:39.392407Z"
    },
    "papermill": {
     "duration": 1.29418,
     "end_time": "2023-02-11T06:24:39.396299",
     "exception": false,
     "start_time": "2023-02-11T06:24:38.102119",
     "status": "completed"
    },
    "tags": []
   },
   "outputs": [],
   "source": [
    "import pickle\n",
    "import pandas as pd\n",
    "from sklearn.ensemble import RandomForestClassifier"
   ]
  },
  {
   "cell_type": "code",
   "execution_count": 2,
   "id": "b58a2ea2",
   "metadata": {
    "execution": {
     "iopub.execute_input": "2023-02-11T06:24:39.403344Z",
     "iopub.status.busy": "2023-02-11T06:24:39.402921Z",
     "iopub.status.idle": "2023-02-11T06:25:22.596900Z",
     "shell.execute_reply": "2023-02-11T06:25:22.595865Z"
    },
    "papermill": {
     "duration": 43.200629,
     "end_time": "2023-02-11T06:25:22.599823",
     "exception": false,
     "start_time": "2023-02-11T06:24:39.399194",
     "status": "completed"
    },
    "tags": []
   },
   "outputs": [],
   "source": [
    "X_test = pd.read_pickle('/kaggle/input/amex-imputed-aggregate-data/X_test_agg.pkl', compression='gzip')"
   ]
  },
  {
   "cell_type": "code",
   "execution_count": 3,
   "id": "3fa78cf1",
   "metadata": {
    "execution": {
     "iopub.execute_input": "2023-02-11T06:25:22.607171Z",
     "iopub.status.busy": "2023-02-11T06:25:22.606741Z",
     "iopub.status.idle": "2023-02-11T06:25:36.574052Z",
     "shell.execute_reply": "2023-02-11T06:25:36.572884Z"
    },
    "papermill": {
     "duration": 13.9744,
     "end_time": "2023-02-11T06:25:36.576939",
     "exception": false,
     "start_time": "2023-02-11T06:25:22.602539",
     "status": "completed"
    },
    "tags": []
   },
   "outputs": [],
   "source": [
    "model = pickle.load(open('/kaggle/input/test-dtc-model/random_forest_classifier_agg_model.sav', 'rb'))\n",
    "submission = pd.DataFrame(model.predict_proba(X_test)[:, 1], index=X_test.index, columns=['prediction'])"
   ]
  },
  {
   "cell_type": "code",
   "execution_count": 4,
   "id": "ff5d4e76",
   "metadata": {
    "execution": {
     "iopub.execute_input": "2023-02-11T06:25:36.584112Z",
     "iopub.status.busy": "2023-02-11T06:25:36.583674Z",
     "iopub.status.idle": "2023-02-11T06:25:36.605535Z",
     "shell.execute_reply": "2023-02-11T06:25:36.604105Z"
    },
    "papermill": {
     "duration": 0.028658,
     "end_time": "2023-02-11T06:25:36.608316",
     "exception": false,
     "start_time": "2023-02-11T06:25:36.579658",
     "status": "completed"
    },
    "tags": []
   },
   "outputs": [
    {
     "data": {
      "text/html": [
       "<div>\n",
       "<style scoped>\n",
       "    .dataframe tbody tr th:only-of-type {\n",
       "        vertical-align: middle;\n",
       "    }\n",
       "\n",
       "    .dataframe tbody tr th {\n",
       "        vertical-align: top;\n",
       "    }\n",
       "\n",
       "    .dataframe thead th {\n",
       "        text-align: right;\n",
       "    }\n",
       "</style>\n",
       "<table border=\"1\" class=\"dataframe\">\n",
       "  <thead>\n",
       "    <tr style=\"text-align: right;\">\n",
       "      <th></th>\n",
       "      <th>prediction</th>\n",
       "    </tr>\n",
       "    <tr>\n",
       "      <th>customer_ID</th>\n",
       "      <th></th>\n",
       "    </tr>\n",
       "  </thead>\n",
       "  <tbody>\n",
       "    <tr>\n",
       "      <th>00000469ba478561f23a92a868bd366de6f6527a684c9a2e78fb826dcac3b9b7</th>\n",
       "      <td>0.137165</td>\n",
       "    </tr>\n",
       "    <tr>\n",
       "      <th>00001bf2e77ff879fab36aa4fac689b9ba411dae63ae397d4263dafa1daedef5</th>\n",
       "      <td>0.021896</td>\n",
       "    </tr>\n",
       "    <tr>\n",
       "      <th>0000210045da4f81e5f122c6bde5c2a617d03eef67f82c5e400fc98e7bd43ce8</th>\n",
       "      <td>0.039672</td>\n",
       "    </tr>\n",
       "    <tr>\n",
       "      <th>00003b41e58ede33b8daf61ab56d9952f17c9ad1c3976cf6e56734528702d694</th>\n",
       "      <td>0.468180</td>\n",
       "    </tr>\n",
       "    <tr>\n",
       "      <th>00004b22eaeeeb0ec976890c1d9bfc14fd9427e98c4ee9a4693dd914fca22557</th>\n",
       "      <td>0.697937</td>\n",
       "    </tr>\n",
       "  </tbody>\n",
       "</table>\n",
       "</div>"
      ],
      "text/plain": [
       "                                                    prediction\n",
       "customer_ID                                                   \n",
       "00000469ba478561f23a92a868bd366de6f6527a684c9a2...    0.137165\n",
       "00001bf2e77ff879fab36aa4fac689b9ba411dae63ae397...    0.021896\n",
       "0000210045da4f81e5f122c6bde5c2a617d03eef67f82c5...    0.039672\n",
       "00003b41e58ede33b8daf61ab56d9952f17c9ad1c3976cf...    0.468180\n",
       "00004b22eaeeeb0ec976890c1d9bfc14fd9427e98c4ee9a...    0.697937"
      ]
     },
     "execution_count": 4,
     "metadata": {},
     "output_type": "execute_result"
    }
   ],
   "source": [
    "submission.head()"
   ]
  },
  {
   "cell_type": "code",
   "execution_count": 5,
   "id": "543f990c",
   "metadata": {
    "execution": {
     "iopub.execute_input": "2023-02-11T06:25:36.615839Z",
     "iopub.status.busy": "2023-02-11T06:25:36.615415Z",
     "iopub.status.idle": "2023-02-11T06:25:40.191143Z",
     "shell.execute_reply": "2023-02-11T06:25:40.190023Z"
    },
    "papermill": {
     "duration": 3.582638,
     "end_time": "2023-02-11T06:25:40.193937",
     "exception": false,
     "start_time": "2023-02-11T06:25:36.611299",
     "status": "completed"
    },
    "tags": []
   },
   "outputs": [],
   "source": [
    "# index needs to be removed from submission csv\n",
    "submission = submission.reset_index()\n",
    "submission.to_csv('submission.csv', index=False)"
   ]
  },
  {
   "cell_type": "code",
   "execution_count": null,
   "id": "ab319dcf",
   "metadata": {
    "papermill": {
     "duration": 0.002545,
     "end_time": "2023-02-11T06:25:40.199438",
     "exception": false,
     "start_time": "2023-02-11T06:25:40.196893",
     "status": "completed"
    },
    "tags": []
   },
   "outputs": [],
   "source": []
  },
  {
   "cell_type": "code",
   "execution_count": null,
   "id": "667fb16f",
   "metadata": {
    "papermill": {
     "duration": 0.002512,
     "end_time": "2023-02-11T06:25:40.204815",
     "exception": false,
     "start_time": "2023-02-11T06:25:40.202303",
     "status": "completed"
    },
    "tags": []
   },
   "outputs": [],
   "source": []
  }
 ],
 "metadata": {
  "kernelspec": {
   "display_name": "Python 3",
   "language": "python",
   "name": "python3"
  },
  "language_info": {
   "codemirror_mode": {
    "name": "ipython",
    "version": 3
   },
   "file_extension": ".py",
   "mimetype": "text/x-python",
   "name": "python",
   "nbconvert_exporter": "python",
   "pygments_lexer": "ipython3",
   "version": "3.7.12"
  },
  "papermill": {
   "default_parameters": {},
   "duration": 71.598846,
   "end_time": "2023-02-11T06:25:41.130834",
   "environment_variables": {},
   "exception": null,
   "input_path": "__notebook__.ipynb",
   "output_path": "__notebook__.ipynb",
   "parameters": {},
   "start_time": "2023-02-11T06:24:29.531988",
   "version": "2.3.4"
  }
 },
 "nbformat": 4,
 "nbformat_minor": 5
}
