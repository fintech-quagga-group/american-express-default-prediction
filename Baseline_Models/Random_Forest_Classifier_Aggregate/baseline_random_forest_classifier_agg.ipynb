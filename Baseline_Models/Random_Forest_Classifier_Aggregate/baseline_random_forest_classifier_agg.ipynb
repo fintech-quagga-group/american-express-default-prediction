{
 "cells": [
  {
   "cell_type": "code",
   "execution_count": 1,
   "id": "22e48612",
   "metadata": {
    "_cell_guid": "b1076dfc-b9ad-4769-8c92-a6c4dae69d19",
    "_uuid": "8f2839f25d086af736a60e9eeb907d3b93b6e0e5",
    "execution": {
     "iopub.execute_input": "2023-02-14T01:11:58.649922Z",
     "iopub.status.busy": "2023-02-14T01:11:58.648933Z",
     "iopub.status.idle": "2023-02-14T01:11:59.674132Z",
     "shell.execute_reply": "2023-02-14T01:11:59.673018Z"
    },
    "papermill": {
     "duration": 1.034936,
     "end_time": "2023-02-14T01:11:59.676962",
     "exception": false,
     "start_time": "2023-02-14T01:11:58.642026",
     "status": "completed"
    },
    "tags": []
   },
   "outputs": [],
   "source": [
    "import pickle\n",
    "import gc\n",
    "import pandas as pd\n",
    "from sklearn.ensemble import RandomForestClassifier\n",
    "from sklearn.metrics import classification_report"
   ]
  },
  {
   "cell_type": "code",
   "execution_count": 2,
   "id": "a2e557f8",
   "metadata": {
    "execution": {
     "iopub.execute_input": "2023-02-14T01:11:59.686660Z",
     "iopub.status.busy": "2023-02-14T01:11:59.686291Z",
     "iopub.status.idle": "2023-02-14T01:12:23.075802Z",
     "shell.execute_reply": "2023-02-14T01:12:23.074654Z"
    },
    "papermill": {
     "duration": 23.396921,
     "end_time": "2023-02-14T01:12:23.078478",
     "exception": false,
     "start_time": "2023-02-14T01:11:59.681557",
     "status": "completed"
    },
    "tags": []
   },
   "outputs": [],
   "source": [
    "X = pd.read_pickle('/kaggle/input/amex-imputed-aggregate-data/X_train_agg.pkl', compression='gzip')\n",
    "y = pd.read_pickle('/kaggle/input/amex-imputed-aggregate-data/y_train_agg.pkl', compression='gzip')"
   ]
  },
  {
   "cell_type": "markdown",
   "id": "77878fb1",
   "metadata": {
    "papermill": {
     "duration": 0.003333,
     "end_time": "2023-02-14T01:12:23.085674",
     "exception": false,
     "start_time": "2023-02-14T01:12:23.082341",
     "status": "completed"
    },
    "tags": []
   },
   "source": [
    "Function to calculate competition's evaluation metric: https://www.kaggle.com/code/inversion/amex-competition-metric-python"
   ]
  },
  {
   "cell_type": "code",
   "execution_count": 3,
   "id": "d72030df",
   "metadata": {
    "execution": {
     "iopub.execute_input": "2023-02-14T01:12:23.094680Z",
     "iopub.status.busy": "2023-02-14T01:12:23.094281Z",
     "iopub.status.idle": "2023-02-14T01:12:23.108275Z",
     "shell.execute_reply": "2023-02-14T01:12:23.107486Z"
    },
    "papermill": {
     "duration": 0.021085,
     "end_time": "2023-02-14T01:12:23.110438",
     "exception": false,
     "start_time": "2023-02-14T01:12:23.089353",
     "status": "completed"
    },
    "tags": []
   },
   "outputs": [],
   "source": [
    "def amex_metric(y_true: pd.DataFrame, y_pred: pd.DataFrame) -> float:\n",
    "\n",
    "    def top_four_percent_captured(y_true: pd.DataFrame, y_pred: pd.DataFrame) -> float:\n",
    "        df = (pd.concat([y_true, y_pred], axis='columns')\n",
    "              .sort_values('prediction', ascending=False))\n",
    "        df['weight'] = df['target'].apply(lambda x: 20 if x==0 else 1)\n",
    "        four_pct_cutoff = int(0.04 * df['weight'].sum())\n",
    "        df['weight_cumsum'] = df['weight'].cumsum()\n",
    "        df_cutoff = df.loc[df['weight_cumsum'] <= four_pct_cutoff]\n",
    "        return (df_cutoff['target'] == 1).sum() / (df['target'] == 1).sum()\n",
    "        \n",
    "    def weighted_gini(y_true: pd.DataFrame, y_pred: pd.DataFrame) -> float:\n",
    "        df = (pd.concat([y_true, y_pred], axis='columns')\n",
    "              .sort_values('prediction', ascending=False))\n",
    "        df['weight'] = df['target'].apply(lambda x: 20 if x==0 else 1)\n",
    "        df['random'] = (df['weight'] / df['weight'].sum()).cumsum()\n",
    "        total_pos = (df['target'] * df['weight']).sum()\n",
    "        df['cum_pos_found'] = (df['target'] * df['weight']).cumsum()\n",
    "        df['lorentz'] = df['cum_pos_found'] / total_pos\n",
    "        df['gini'] = (df['lorentz'] - df['random']) * df['weight']\n",
    "        return df['gini'].sum()\n",
    "\n",
    "    def normalized_weighted_gini(y_true: pd.DataFrame, y_pred: pd.DataFrame) -> float:\n",
    "        y_true_pred = y_true.rename(columns={'target': 'prediction'})\n",
    "        return weighted_gini(y_true, y_pred) / weighted_gini(y_true, y_true_pred)\n",
    "\n",
    "    g = normalized_weighted_gini(y_true, y_pred)\n",
    "    d = top_four_percent_captured(y_true, y_pred)\n",
    "\n",
    "    return 0.5 * (g + d)"
   ]
  },
  {
   "cell_type": "markdown",
   "id": "9c4e54ef",
   "metadata": {
    "papermill": {
     "duration": 0.003303,
     "end_time": "2023-02-14T01:12:23.117453",
     "exception": false,
     "start_time": "2023-02-14T01:12:23.114150",
     "status": "completed"
    },
    "tags": []
   },
   "source": [
    "## Fit model"
   ]
  },
  {
   "cell_type": "code",
   "execution_count": 4,
   "id": "1cd5daef",
   "metadata": {
    "execution": {
     "iopub.execute_input": "2023-02-14T01:12:23.126913Z",
     "iopub.status.busy": "2023-02-14T01:12:23.125742Z",
     "iopub.status.idle": "2023-02-14T01:22:14.712041Z",
     "shell.execute_reply": "2023-02-14T01:22:14.711092Z"
    },
    "papermill": {
     "duration": 591.593844,
     "end_time": "2023-02-14T01:22:14.714818",
     "exception": false,
     "start_time": "2023-02-14T01:12:23.120974",
     "status": "completed"
    },
    "tags": []
   },
   "outputs": [],
   "source": [
    "model = RandomForestClassifier(max_depth=5)\n",
    "model = model.fit(X, y)"
   ]
  },
  {
   "cell_type": "code",
   "execution_count": 5,
   "id": "650fc9bd",
   "metadata": {
    "execution": {
     "iopub.execute_input": "2023-02-14T01:22:14.724782Z",
     "iopub.status.busy": "2023-02-14T01:22:14.724053Z",
     "iopub.status.idle": "2023-02-14T01:22:27.531616Z",
     "shell.execute_reply": "2023-02-14T01:22:27.530660Z"
    },
    "papermill": {
     "duration": 12.815078,
     "end_time": "2023-02-14T01:22:27.534012",
     "exception": false,
     "start_time": "2023-02-14T01:22:14.718934",
     "status": "completed"
    },
    "tags": []
   },
   "outputs": [],
   "source": [
    "proba_preds = model.predict_proba(X)[:, 1]\n",
    "preds = model.predict(X)"
   ]
  },
  {
   "cell_type": "code",
   "execution_count": 6,
   "id": "4cb831a7",
   "metadata": {
    "execution": {
     "iopub.execute_input": "2023-02-14T01:22:27.543597Z",
     "iopub.status.busy": "2023-02-14T01:22:27.542685Z",
     "iopub.status.idle": "2023-02-14T01:22:28.753478Z",
     "shell.execute_reply": "2023-02-14T01:22:28.752643Z"
    },
    "papermill": {
     "duration": 1.220286,
     "end_time": "2023-02-14T01:22:28.758161",
     "exception": false,
     "start_time": "2023-02-14T01:22:27.537875",
     "status": "completed"
    },
    "tags": []
   },
   "outputs": [
    {
     "name": "stdout",
     "output_type": "stream",
     "text": [
      "M = 0.7192055116377707\n"
     ]
    }
   ],
   "source": [
    "print(f'M = {amex_metric(pd.DataFrame(y), pd.DataFrame(proba_preds, index=y.index, columns=[\"prediction\"]))}')"
   ]
  },
  {
   "cell_type": "code",
   "execution_count": 7,
   "id": "8388554a",
   "metadata": {
    "execution": {
     "iopub.execute_input": "2023-02-14T01:22:28.767309Z",
     "iopub.status.busy": "2023-02-14T01:22:28.766732Z",
     "iopub.status.idle": "2023-02-14T01:22:29.563298Z",
     "shell.execute_reply": "2023-02-14T01:22:29.562228Z"
    },
    "papermill": {
     "duration": 0.803801,
     "end_time": "2023-02-14T01:22:29.565664",
     "exception": false,
     "start_time": "2023-02-14T01:22:28.761863",
     "status": "completed"
    },
    "tags": []
   },
   "outputs": [
    {
     "name": "stdout",
     "output_type": "stream",
     "text": [
      "              precision    recall  f1-score   support\n",
      "\n",
      "           0       0.91      0.93      0.92    340085\n",
      "           1       0.78      0.74      0.76    118828\n",
      "\n",
      "    accuracy                           0.88    458913\n",
      "   macro avg       0.85      0.84      0.84    458913\n",
      "weighted avg       0.88      0.88      0.88    458913\n",
      "\n"
     ]
    }
   ],
   "source": [
    "print(classification_report(y, preds))"
   ]
  },
  {
   "cell_type": "code",
   "execution_count": 8,
   "id": "be430144",
   "metadata": {
    "execution": {
     "iopub.execute_input": "2023-02-14T01:22:29.574689Z",
     "iopub.status.busy": "2023-02-14T01:22:29.574308Z",
     "iopub.status.idle": "2023-02-14T01:22:29.886137Z",
     "shell.execute_reply": "2023-02-14T01:22:29.885091Z"
    },
    "papermill": {
     "duration": 0.319096,
     "end_time": "2023-02-14T01:22:29.888651",
     "exception": false,
     "start_time": "2023-02-14T01:22:29.569555",
     "status": "completed"
    },
    "tags": []
   },
   "outputs": [
    {
     "data": {
      "text/plain": [
       "66"
      ]
     },
     "execution_count": 8,
     "metadata": {},
     "output_type": "execute_result"
    }
   ],
   "source": [
    "del X, y\n",
    "gc.collect()"
   ]
  },
  {
   "cell_type": "markdown",
   "id": "ee258f43",
   "metadata": {
    "papermill": {
     "duration": 0.003709,
     "end_time": "2023-02-14T01:22:29.896626",
     "exception": false,
     "start_time": "2023-02-14T01:22:29.892917",
     "status": "completed"
    },
    "tags": []
   },
   "source": [
    "## Save model and predict on test set"
   ]
  },
  {
   "cell_type": "code",
   "execution_count": 9,
   "id": "f8d0d00a",
   "metadata": {
    "execution": {
     "iopub.execute_input": "2023-02-14T01:22:29.905993Z",
     "iopub.status.busy": "2023-02-14T01:22:29.905609Z",
     "iopub.status.idle": "2023-02-14T01:22:29.914887Z",
     "shell.execute_reply": "2023-02-14T01:22:29.914022Z"
    },
    "papermill": {
     "duration": 0.016472,
     "end_time": "2023-02-14T01:22:29.917002",
     "exception": false,
     "start_time": "2023-02-14T01:22:29.900530",
     "status": "completed"
    },
    "tags": []
   },
   "outputs": [],
   "source": [
    "pickle.dump(model, open('random_forest_classifier_agg_model.sav', 'wb'))"
   ]
  },
  {
   "cell_type": "code",
   "execution_count": 10,
   "id": "c8ef4cf6",
   "metadata": {
    "execution": {
     "iopub.execute_input": "2023-02-14T01:22:29.926588Z",
     "iopub.status.busy": "2023-02-14T01:22:29.926222Z",
     "iopub.status.idle": "2023-02-14T01:23:13.772201Z",
     "shell.execute_reply": "2023-02-14T01:23:13.771287Z"
    },
    "papermill": {
     "duration": 43.85363,
     "end_time": "2023-02-14T01:23:13.774616",
     "exception": false,
     "start_time": "2023-02-14T01:22:29.920986",
     "status": "completed"
    },
    "tags": []
   },
   "outputs": [],
   "source": [
    "X_test = pd.read_pickle('/kaggle/input/amex-imputed-aggregate-data/X_test_agg.pkl', compression='gzip')"
   ]
  },
  {
   "cell_type": "code",
   "execution_count": 11,
   "id": "2e16b8e4",
   "metadata": {
    "execution": {
     "iopub.execute_input": "2023-02-14T01:23:13.784841Z",
     "iopub.status.busy": "2023-02-14T01:23:13.784133Z",
     "iopub.status.idle": "2023-02-14T01:23:33.604337Z",
     "shell.execute_reply": "2023-02-14T01:23:33.603330Z"
    },
    "papermill": {
     "duration": 19.82803,
     "end_time": "2023-02-14T01:23:33.606970",
     "exception": false,
     "start_time": "2023-02-14T01:23:13.778940",
     "status": "completed"
    },
    "tags": []
   },
   "outputs": [],
   "source": [
    "submission = pd.DataFrame(model.predict_proba(X_test)[:, 1], index=X_test.index, columns=['prediction'])\n",
    "\n",
    "# index needs to be removed from submission csv\n",
    "submission = submission.reset_index()\n",
    "submission.to_csv('submission.csv', index=False)"
   ]
  }
 ],
 "metadata": {
  "kernelspec": {
   "display_name": "Python 3",
   "language": "python",
   "name": "python3"
  },
  "language_info": {
   "codemirror_mode": {
    "name": "ipython",
    "version": 3
   },
   "file_extension": ".py",
   "mimetype": "text/x-python",
   "name": "python",
   "nbconvert_exporter": "python",
   "pygments_lexer": "ipython3",
   "version": "3.7.12"
  },
  "papermill": {
   "default_parameters": {},
   "duration": 703.774958,
   "end_time": "2023-02-14T01:23:34.535919",
   "environment_variables": {},
   "exception": null,
   "input_path": "__notebook__.ipynb",
   "output_path": "__notebook__.ipynb",
   "parameters": {},
   "start_time": "2023-02-14T01:11:50.760961",
   "version": "2.3.4"
  }
 },
 "nbformat": 4,
 "nbformat_minor": 5
}
