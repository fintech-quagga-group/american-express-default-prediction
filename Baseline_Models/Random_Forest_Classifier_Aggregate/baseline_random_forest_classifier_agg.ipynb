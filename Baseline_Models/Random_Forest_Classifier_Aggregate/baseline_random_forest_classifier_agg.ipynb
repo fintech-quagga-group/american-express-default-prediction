{
 "cells": [
  {
   "cell_type": "code",
   "execution_count": 1,
   "id": "b7b0e63a",
   "metadata": {
    "_cell_guid": "b1076dfc-b9ad-4769-8c92-a6c4dae69d19",
    "_uuid": "8f2839f25d086af736a60e9eeb907d3b93b6e0e5",
    "execution": {
     "iopub.execute_input": "2023-02-14T01:25:39.086284Z",
     "iopub.status.busy": "2023-02-14T01:25:39.085799Z",
     "iopub.status.idle": "2023-02-14T01:25:40.454806Z",
     "shell.execute_reply": "2023-02-14T01:25:40.453773Z"
    },
    "papermill": {
     "duration": 1.378514,
     "end_time": "2023-02-14T01:25:40.457615",
     "exception": false,
     "start_time": "2023-02-14T01:25:39.079101",
     "status": "completed"
    },
    "tags": []
   },
   "outputs": [],
   "source": [
    "import pickle\n",
    "import gc\n",
    "import pandas as pd\n",
    "from sklearn.ensemble import RandomForestClassifier\n",
    "from sklearn.metrics import classification_report"
   ]
  },
  {
   "cell_type": "code",
   "execution_count": 2,
   "id": "a94bd108",
   "metadata": {
    "execution": {
     "iopub.execute_input": "2023-02-14T01:25:40.468766Z",
     "iopub.status.busy": "2023-02-14T01:25:40.467965Z",
     "iopub.status.idle": "2023-02-14T01:26:03.593296Z",
     "shell.execute_reply": "2023-02-14T01:26:03.592111Z"
    },
    "papermill": {
     "duration": 23.133989,
     "end_time": "2023-02-14T01:26:03.596237",
     "exception": false,
     "start_time": "2023-02-14T01:25:40.462248",
     "status": "completed"
    },
    "tags": []
   },
   "outputs": [],
   "source": [
    "X = pd.read_pickle('/kaggle/input/amex-imputed-aggregate-data/X_train_agg.pkl', compression='gzip')\n",
    "y = pd.read_pickle('/kaggle/input/amex-imputed-aggregate-data/y_train_agg.pkl', compression='gzip')"
   ]
  },
  {
   "cell_type": "markdown",
   "id": "de159bd6",
   "metadata": {
    "papermill": {
     "duration": 0.003618,
     "end_time": "2023-02-14T01:26:03.603909",
     "exception": false,
     "start_time": "2023-02-14T01:26:03.600291",
     "status": "completed"
    },
    "tags": []
   },
   "source": [
    "Function to calculate competition's evaluation metric: https://www.kaggle.com/code/inversion/amex-competition-metric-python"
   ]
  },
  {
   "cell_type": "code",
   "execution_count": 3,
   "id": "d3f71c54",
   "metadata": {
    "execution": {
     "iopub.execute_input": "2023-02-14T01:26:03.614124Z",
     "iopub.status.busy": "2023-02-14T01:26:03.613284Z",
     "iopub.status.idle": "2023-02-14T01:26:03.629176Z",
     "shell.execute_reply": "2023-02-14T01:26:03.627869Z"
    },
    "papermill": {
     "duration": 0.023764,
     "end_time": "2023-02-14T01:26:03.631686",
     "exception": false,
     "start_time": "2023-02-14T01:26:03.607922",
     "status": "completed"
    },
    "tags": []
   },
   "outputs": [],
   "source": [
    "def amex_metric(y_true: pd.DataFrame, y_pred: pd.DataFrame) -> float:\n",
    "\n",
    "    def top_four_percent_captured(y_true: pd.DataFrame, y_pred: pd.DataFrame) -> float:\n",
    "        df = (pd.concat([y_true, y_pred], axis='columns')\n",
    "              .sort_values('prediction', ascending=False))\n",
    "        df['weight'] = df['target'].apply(lambda x: 20 if x==0 else 1)\n",
    "        four_pct_cutoff = int(0.04 * df['weight'].sum())\n",
    "        df['weight_cumsum'] = df['weight'].cumsum()\n",
    "        df_cutoff = df.loc[df['weight_cumsum'] <= four_pct_cutoff]\n",
    "        return (df_cutoff['target'] == 1).sum() / (df['target'] == 1).sum()\n",
    "        \n",
    "    def weighted_gini(y_true: pd.DataFrame, y_pred: pd.DataFrame) -> float:\n",
    "        df = (pd.concat([y_true, y_pred], axis='columns')\n",
    "              .sort_values('prediction', ascending=False))\n",
    "        df['weight'] = df['target'].apply(lambda x: 20 if x==0 else 1)\n",
    "        df['random'] = (df['weight'] / df['weight'].sum()).cumsum()\n",
    "        total_pos = (df['target'] * df['weight']).sum()\n",
    "        df['cum_pos_found'] = (df['target'] * df['weight']).cumsum()\n",
    "        df['lorentz'] = df['cum_pos_found'] / total_pos\n",
    "        df['gini'] = (df['lorentz'] - df['random']) * df['weight']\n",
    "        return df['gini'].sum()\n",
    "\n",
    "    def normalized_weighted_gini(y_true: pd.DataFrame, y_pred: pd.DataFrame) -> float:\n",
    "        y_true_pred = y_true.rename(columns={'target': 'prediction'})\n",
    "        return weighted_gini(y_true, y_pred) / weighted_gini(y_true, y_true_pred)\n",
    "\n",
    "    g = normalized_weighted_gini(y_true, y_pred)\n",
    "    d = top_four_percent_captured(y_true, y_pred)\n",
    "\n",
    "    return 0.5 * (g + d)"
   ]
  },
  {
   "cell_type": "markdown",
   "id": "549721d5",
   "metadata": {
    "papermill": {
     "duration": 0.003531,
     "end_time": "2023-02-14T01:26:03.639105",
     "exception": false,
     "start_time": "2023-02-14T01:26:03.635574",
     "status": "completed"
    },
    "tags": []
   },
   "source": [
    "## Fit model"
   ]
  },
  {
   "cell_type": "code",
   "execution_count": 4,
   "id": "01c18652",
   "metadata": {
    "execution": {
     "iopub.execute_input": "2023-02-14T01:26:03.649155Z",
     "iopub.status.busy": "2023-02-14T01:26:03.648716Z",
     "iopub.status.idle": "2023-02-14T01:37:32.625612Z",
     "shell.execute_reply": "2023-02-14T01:37:32.622898Z"
    },
    "papermill": {
     "duration": 688.988626,
     "end_time": "2023-02-14T01:37:32.631590",
     "exception": false,
     "start_time": "2023-02-14T01:26:03.642964",
     "status": "completed"
    },
    "tags": []
   },
   "outputs": [],
   "source": [
    "model = RandomForestClassifier(max_depth=5)\n",
    "model = model.fit(X, y)"
   ]
  },
  {
   "cell_type": "code",
   "execution_count": 5,
   "id": "7dec24c3",
   "metadata": {
    "execution": {
     "iopub.execute_input": "2023-02-14T01:37:32.645767Z",
     "iopub.status.busy": "2023-02-14T01:37:32.645178Z",
     "iopub.status.idle": "2023-02-14T01:37:46.021998Z",
     "shell.execute_reply": "2023-02-14T01:37:46.020645Z"
    },
    "papermill": {
     "duration": 13.386658,
     "end_time": "2023-02-14T01:37:46.025092",
     "exception": false,
     "start_time": "2023-02-14T01:37:32.638434",
     "status": "completed"
    },
    "tags": []
   },
   "outputs": [],
   "source": [
    "proba_preds = model.predict_proba(X)[:, 1]\n",
    "preds = model.predict(X)"
   ]
  },
  {
   "cell_type": "code",
   "execution_count": 6,
   "id": "febd788f",
   "metadata": {
    "execution": {
     "iopub.execute_input": "2023-02-14T01:37:46.035588Z",
     "iopub.status.busy": "2023-02-14T01:37:46.034655Z",
     "iopub.status.idle": "2023-02-14T01:37:47.436982Z",
     "shell.execute_reply": "2023-02-14T01:37:47.435642Z"
    },
    "papermill": {
     "duration": 1.412435,
     "end_time": "2023-02-14T01:37:47.441682",
     "exception": false,
     "start_time": "2023-02-14T01:37:46.029247",
     "status": "completed"
    },
    "tags": []
   },
   "outputs": [
    {
     "name": "stdout",
     "output_type": "stream",
     "text": [
      "M = 0.7168332121856857\n"
     ]
    }
   ],
   "source": [
    "print(f'M = {amex_metric(pd.DataFrame(y), pd.DataFrame(proba_preds, index=y.index, columns=[\"prediction\"]))}')"
   ]
  },
  {
   "cell_type": "code",
   "execution_count": 7,
   "id": "c35bd29c",
   "metadata": {
    "execution": {
     "iopub.execute_input": "2023-02-14T01:37:47.452392Z",
     "iopub.status.busy": "2023-02-14T01:37:47.451395Z",
     "iopub.status.idle": "2023-02-14T01:37:48.288434Z",
     "shell.execute_reply": "2023-02-14T01:37:48.287151Z"
    },
    "papermill": {
     "duration": 0.845338,
     "end_time": "2023-02-14T01:37:48.291307",
     "exception": false,
     "start_time": "2023-02-14T01:37:47.445969",
     "status": "completed"
    },
    "tags": []
   },
   "outputs": [
    {
     "name": "stdout",
     "output_type": "stream",
     "text": [
      "              precision    recall  f1-score   support\n",
      "\n",
      "           0       0.91      0.93      0.92    340085\n",
      "           1       0.78      0.74      0.76    118828\n",
      "\n",
      "    accuracy                           0.88    458913\n",
      "   macro avg       0.85      0.83      0.84    458913\n",
      "weighted avg       0.88      0.88      0.88    458913\n",
      "\n"
     ]
    }
   ],
   "source": [
    "print(classification_report(y, preds))"
   ]
  },
  {
   "cell_type": "code",
   "execution_count": 8,
   "id": "c0915f44",
   "metadata": {
    "execution": {
     "iopub.execute_input": "2023-02-14T01:37:48.301907Z",
     "iopub.status.busy": "2023-02-14T01:37:48.300748Z",
     "iopub.status.idle": "2023-02-14T01:37:48.720071Z",
     "shell.execute_reply": "2023-02-14T01:37:48.719071Z"
    },
    "papermill": {
     "duration": 0.427017,
     "end_time": "2023-02-14T01:37:48.722423",
     "exception": false,
     "start_time": "2023-02-14T01:37:48.295406",
     "status": "completed"
    },
    "tags": []
   },
   "outputs": [
    {
     "data": {
      "text/plain": [
       "66"
      ]
     },
     "execution_count": 8,
     "metadata": {},
     "output_type": "execute_result"
    }
   ],
   "source": [
    "del X, y\n",
    "gc.collect()"
   ]
  },
  {
   "cell_type": "markdown",
   "id": "db3efb5c",
   "metadata": {
    "papermill": {
     "duration": 0.004164,
     "end_time": "2023-02-14T01:37:48.731080",
     "exception": false,
     "start_time": "2023-02-14T01:37:48.726916",
     "status": "completed"
    },
    "tags": []
   },
   "source": [
    "## Save model and predict on test set"
   ]
  },
  {
   "cell_type": "code",
   "execution_count": 9,
   "id": "13801f0d",
   "metadata": {
    "execution": {
     "iopub.execute_input": "2023-02-14T01:37:48.741341Z",
     "iopub.status.busy": "2023-02-14T01:37:48.740849Z",
     "iopub.status.idle": "2023-02-14T01:37:48.755150Z",
     "shell.execute_reply": "2023-02-14T01:37:48.754153Z"
    },
    "papermill": {
     "duration": 0.022519,
     "end_time": "2023-02-14T01:37:48.757827",
     "exception": false,
     "start_time": "2023-02-14T01:37:48.735308",
     "status": "completed"
    },
    "tags": []
   },
   "outputs": [],
   "source": [
    "pickle.dump(model, open('baseline_random_forest_classifier_agg_model.sav', 'wb'))"
   ]
  },
  {
   "cell_type": "code",
   "execution_count": 10,
   "id": "e0f12dd7",
   "metadata": {
    "execution": {
     "iopub.execute_input": "2023-02-14T01:37:48.768047Z",
     "iopub.status.busy": "2023-02-14T01:37:48.767639Z",
     "iopub.status.idle": "2023-02-14T01:38:35.161773Z",
     "shell.execute_reply": "2023-02-14T01:38:35.160201Z"
    },
    "papermill": {
     "duration": 46.40313,
     "end_time": "2023-02-14T01:38:35.165243",
     "exception": false,
     "start_time": "2023-02-14T01:37:48.762113",
     "status": "completed"
    },
    "tags": []
   },
   "outputs": [],
   "source": [
    "X_test = pd.read_pickle('/kaggle/input/amex-imputed-aggregate-data/X_test_agg.pkl', compression='gzip')"
   ]
  },
  {
   "cell_type": "code",
   "execution_count": 11,
   "id": "99364a7f",
   "metadata": {
    "execution": {
     "iopub.execute_input": "2023-02-14T01:38:35.176367Z",
     "iopub.status.busy": "2023-02-14T01:38:35.175905Z",
     "iopub.status.idle": "2023-02-14T01:38:52.663998Z",
     "shell.execute_reply": "2023-02-14T01:38:52.662652Z"
    },
    "papermill": {
     "duration": 17.49716,
     "end_time": "2023-02-14T01:38:52.667117",
     "exception": false,
     "start_time": "2023-02-14T01:38:35.169957",
     "status": "completed"
    },
    "tags": []
   },
   "outputs": [],
   "source": [
    "submission = pd.DataFrame(model.predict_proba(X_test)[:, 1], index=X_test.index, columns=['prediction'])\n",
    "\n",
    "# index needs to be removed from submission csv\n",
    "submission = submission.reset_index()\n",
    "submission.to_csv('baseline_random_forest_classifier_submission.csv', index=False)"
   ]
  }
 ],
 "metadata": {
  "kernelspec": {
   "display_name": "Python 3 (ipykernel)",
   "language": "python",
   "name": "python3"
  },
  "language_info": {
   "codemirror_mode": {
    "name": "ipython",
    "version": 3
   },
   "file_extension": ".py",
   "mimetype": "text/x-python",
   "name": "python",
   "nbconvert_exporter": "python",
   "pygments_lexer": "ipython3",
   "version": "3.10.8"
  },
  "papermill": {
   "default_parameters": {},
   "duration": 803.999617,
   "end_time": "2023-02-14T01:38:53.701309",
   "environment_variables": {},
   "exception": null,
   "input_path": "__notebook__.ipynb",
   "output_path": "__notebook__.ipynb",
   "parameters": {},
   "start_time": "2023-02-14T01:25:29.701692",
   "version": "2.3.4"
  }
 },
 "nbformat": 4,
 "nbformat_minor": 5
}
