{
 "cells": [
  {
   "cell_type": "code",
   "execution_count": 1,
   "id": "2e21f39a",
   "metadata": {
    "_cell_guid": "b1076dfc-b9ad-4769-8c92-a6c4dae69d19",
    "_uuid": "8f2839f25d086af736a60e9eeb907d3b93b6e0e5",
    "execution": {
     "iopub.execute_input": "2023-02-14T00:43:24.747719Z",
     "iopub.status.busy": "2023-02-14T00:43:24.746895Z",
     "iopub.status.idle": "2023-02-14T00:43:25.965111Z",
     "shell.execute_reply": "2023-02-14T00:43:25.963935Z"
    },
    "papermill": {
     "duration": 1.22838,
     "end_time": "2023-02-14T00:43:25.968201",
     "exception": false,
     "start_time": "2023-02-14T00:43:24.739821",
     "status": "completed"
    },
    "tags": []
   },
   "outputs": [],
   "source": [
    "import pickle\n",
    "import gc\n",
    "import pandas as pd\n",
    "from sklearn.linear_model import LogisticRegression\n",
    "from sklearn.metrics import classification_report"
   ]
  },
  {
   "cell_type": "code",
   "execution_count": 2,
   "id": "4d7d0c0c",
   "metadata": {
    "execution": {
     "iopub.execute_input": "2023-02-14T00:43:25.978565Z",
     "iopub.status.busy": "2023-02-14T00:43:25.978164Z",
     "iopub.status.idle": "2023-02-14T00:43:49.703085Z",
     "shell.execute_reply": "2023-02-14T00:43:49.701860Z"
    },
    "papermill": {
     "duration": 23.733364,
     "end_time": "2023-02-14T00:43:49.706086",
     "exception": false,
     "start_time": "2023-02-14T00:43:25.972722",
     "status": "completed"
    },
    "tags": []
   },
   "outputs": [],
   "source": [
    "X = pd.read_pickle('/kaggle/input/amex-imputed-aggregate-data/X_train_agg.pkl', compression='gzip')\n",
    "y = pd.read_pickle('/kaggle/input/amex-imputed-aggregate-data/y_train_agg.pkl', compression='gzip')"
   ]
  },
  {
   "cell_type": "markdown",
   "id": "b0a60142",
   "metadata": {
    "papermill": {
     "duration": 0.003745,
     "end_time": "2023-02-14T00:43:49.714207",
     "exception": false,
     "start_time": "2023-02-14T00:43:49.710462",
     "status": "completed"
    },
    "tags": []
   },
   "source": [
    "Function to calculate competition's evaluation metric: https://www.kaggle.com/code/inversion/amex-competition-metric-python"
   ]
  },
  {
   "cell_type": "code",
   "execution_count": 3,
   "id": "92b3c822",
   "metadata": {
    "execution": {
     "iopub.execute_input": "2023-02-14T00:43:49.724109Z",
     "iopub.status.busy": "2023-02-14T00:43:49.723687Z",
     "iopub.status.idle": "2023-02-14T00:43:49.739737Z",
     "shell.execute_reply": "2023-02-14T00:43:49.738220Z"
    },
    "jupyter": {
     "source_hidden": true
    },
    "papermill": {
     "duration": 0.024193,
     "end_time": "2023-02-14T00:43:49.742528",
     "exception": false,
     "start_time": "2023-02-14T00:43:49.718335",
     "status": "completed"
    },
    "tags": []
   },
   "outputs": [],
   "source": [
    "def amex_metric(y_true: pd.DataFrame, y_pred: pd.DataFrame) -> float:\n",
    "\n",
    "    def top_four_percent_captured(y_true: pd.DataFrame, y_pred: pd.DataFrame) -> float:\n",
    "        df = (pd.concat([y_true, y_pred], axis='columns')\n",
    "              .sort_values('prediction', ascending=False))\n",
    "        df['weight'] = df['target'].apply(lambda x: 20 if x==0 else 1)\n",
    "        four_pct_cutoff = int(0.04 * df['weight'].sum())\n",
    "        df['weight_cumsum'] = df['weight'].cumsum()\n",
    "        df_cutoff = df.loc[df['weight_cumsum'] <= four_pct_cutoff]\n",
    "        return (df_cutoff['target'] == 1).sum() / (df['target'] == 1).sum()\n",
    "        \n",
    "    def weighted_gini(y_true: pd.DataFrame, y_pred: pd.DataFrame) -> float:\n",
    "        df = (pd.concat([y_true, y_pred], axis='columns')\n",
    "              .sort_values('prediction', ascending=False))\n",
    "        df['weight'] = df['target'].apply(lambda x: 20 if x==0 else 1)\n",
    "        df['random'] = (df['weight'] / df['weight'].sum()).cumsum()\n",
    "        total_pos = (df['target'] * df['weight']).sum()\n",
    "        df['cum_pos_found'] = (df['target'] * df['weight']).cumsum()\n",
    "        df['lorentz'] = df['cum_pos_found'] / total_pos\n",
    "        df['gini'] = (df['lorentz'] - df['random']) * df['weight']\n",
    "        return df['gini'].sum()\n",
    "\n",
    "    def normalized_weighted_gini(y_true: pd.DataFrame, y_pred: pd.DataFrame) -> float:\n",
    "        y_true_pred = y_true.rename(columns={'target': 'prediction'})\n",
    "        return weighted_gini(y_true, y_pred) / weighted_gini(y_true, y_true_pred)\n",
    "\n",
    "    g = normalized_weighted_gini(y_true, y_pred)\n",
    "    d = top_four_percent_captured(y_true, y_pred)\n",
    "\n",
    "    return 0.5 * (g + d)"
   ]
  },
  {
   "cell_type": "markdown",
   "id": "47b0b54c",
   "metadata": {
    "papermill": {
     "duration": 0.00383,
     "end_time": "2023-02-14T00:43:49.750795",
     "exception": false,
     "start_time": "2023-02-14T00:43:49.746965",
     "status": "completed"
    },
    "tags": []
   },
   "source": [
    "## Fit Model"
   ]
  },
  {
   "cell_type": "code",
   "execution_count": 4,
   "id": "c2e4f578",
   "metadata": {
    "execution": {
     "iopub.execute_input": "2023-02-14T00:43:49.760675Z",
     "iopub.status.busy": "2023-02-14T00:43:49.760233Z",
     "iopub.status.idle": "2023-02-14T00:44:35.787800Z",
     "shell.execute_reply": "2023-02-14T00:44:35.785942Z"
    },
    "papermill": {
     "duration": 46.038217,
     "end_time": "2023-02-14T00:44:35.793061",
     "exception": false,
     "start_time": "2023-02-14T00:43:49.754844",
     "status": "completed"
    },
    "tags": []
   },
   "outputs": [
    {
     "name": "stderr",
     "output_type": "stream",
     "text": [
      "/opt/conda/lib/python3.7/site-packages/sklearn/linear_model/_logistic.py:818: ConvergenceWarning: lbfgs failed to converge (status=1):\n",
      "STOP: TOTAL NO. of ITERATIONS REACHED LIMIT.\n",
      "\n",
      "Increase the number of iterations (max_iter) or scale the data as shown in:\n",
      "    https://scikit-learn.org/stable/modules/preprocessing.html\n",
      "Please also refer to the documentation for alternative solver options:\n",
      "    https://scikit-learn.org/stable/modules/linear_model.html#logistic-regression\n",
      "  extra_warning_msg=_LOGISTIC_SOLVER_CONVERGENCE_MSG,\n"
     ]
    }
   ],
   "source": [
    "model = LogisticRegression()\n",
    "model = model.fit(X, y)"
   ]
  },
  {
   "cell_type": "code",
   "execution_count": 5,
   "id": "b9455af7",
   "metadata": {
    "execution": {
     "iopub.execute_input": "2023-02-14T00:44:35.816083Z",
     "iopub.status.busy": "2023-02-14T00:44:35.815313Z",
     "iopub.status.idle": "2023-02-14T00:44:40.295936Z",
     "shell.execute_reply": "2023-02-14T00:44:40.294236Z"
    },
    "papermill": {
     "duration": 4.497637,
     "end_time": "2023-02-14T00:44:40.300630",
     "exception": false,
     "start_time": "2023-02-14T00:44:35.802993",
     "status": "completed"
    },
    "tags": []
   },
   "outputs": [],
   "source": [
    "proba_preds = model.predict_proba(X)[:, 1]\n",
    "preds = model.predict(X)"
   ]
  },
  {
   "cell_type": "code",
   "execution_count": 6,
   "id": "ec8631e6",
   "metadata": {
    "execution": {
     "iopub.execute_input": "2023-02-14T00:44:40.323174Z",
     "iopub.status.busy": "2023-02-14T00:44:40.322493Z",
     "iopub.status.idle": "2023-02-14T00:44:41.622982Z",
     "shell.execute_reply": "2023-02-14T00:44:41.621517Z"
    },
    "papermill": {
     "duration": 1.315706,
     "end_time": "2023-02-14T00:44:41.626446",
     "exception": false,
     "start_time": "2023-02-14T00:44:40.310740",
     "status": "completed"
    },
    "tags": []
   },
   "outputs": [
    {
     "name": "stdout",
     "output_type": "stream",
     "text": [
      "M = 0.7747117851405895\n"
     ]
    }
   ],
   "source": [
    "print(f'M = {amex_metric(pd.DataFrame(y), pd.DataFrame(proba_preds, index=y.index, columns=[\"prediction\"]))}')"
   ]
  },
  {
   "cell_type": "code",
   "execution_count": 7,
   "id": "f6baf857",
   "metadata": {
    "execution": {
     "iopub.execute_input": "2023-02-14T00:44:41.636804Z",
     "iopub.status.busy": "2023-02-14T00:44:41.636404Z",
     "iopub.status.idle": "2023-02-14T00:44:42.448322Z",
     "shell.execute_reply": "2023-02-14T00:44:42.446920Z"
    },
    "papermill": {
     "duration": 0.820205,
     "end_time": "2023-02-14T00:44:42.450919",
     "exception": false,
     "start_time": "2023-02-14T00:44:41.630714",
     "status": "completed"
    },
    "tags": []
   },
   "outputs": [
    {
     "name": "stdout",
     "output_type": "stream",
     "text": [
      "              precision    recall  f1-score   support\n",
      "\n",
      "           0       0.92      0.94      0.93    340085\n",
      "           1       0.82      0.78      0.80    118828\n",
      "\n",
      "    accuracy                           0.90    458913\n",
      "   macro avg       0.87      0.86      0.86    458913\n",
      "weighted avg       0.90      0.90      0.90    458913\n",
      "\n"
     ]
    }
   ],
   "source": [
    "print(classification_report(y, preds))"
   ]
  },
  {
   "cell_type": "code",
   "execution_count": 8,
   "id": "75963cba",
   "metadata": {
    "execution": {
     "iopub.execute_input": "2023-02-14T00:44:42.461741Z",
     "iopub.status.busy": "2023-02-14T00:44:42.460754Z",
     "iopub.status.idle": "2023-02-14T00:44:42.711814Z",
     "shell.execute_reply": "2023-02-14T00:44:42.710553Z"
    },
    "papermill": {
     "duration": 0.259031,
     "end_time": "2023-02-14T00:44:42.714267",
     "exception": false,
     "start_time": "2023-02-14T00:44:42.455236",
     "status": "completed"
    },
    "tags": []
   },
   "outputs": [
    {
     "data": {
      "text/plain": [
       "66"
      ]
     },
     "execution_count": 8,
     "metadata": {},
     "output_type": "execute_result"
    }
   ],
   "source": [
    "del X, y\n",
    "gc.collect()"
   ]
  },
  {
   "cell_type": "markdown",
   "id": "5fadd6da",
   "metadata": {
    "papermill": {
     "duration": 0.004113,
     "end_time": "2023-02-14T00:44:42.722933",
     "exception": false,
     "start_time": "2023-02-14T00:44:42.718820",
     "status": "completed"
    },
    "tags": []
   },
   "source": [
    "## Save model and predict on test set"
   ]
  },
  {
   "cell_type": "code",
   "execution_count": 9,
   "id": "b556b0d1",
   "metadata": {
    "execution": {
     "iopub.execute_input": "2023-02-14T00:44:42.734143Z",
     "iopub.status.busy": "2023-02-14T00:44:42.733074Z",
     "iopub.status.idle": "2023-02-14T00:44:42.739490Z",
     "shell.execute_reply": "2023-02-14T00:44:42.738527Z"
    },
    "papermill": {
     "duration": 0.014517,
     "end_time": "2023-02-14T00:44:42.741817",
     "exception": false,
     "start_time": "2023-02-14T00:44:42.727300",
     "status": "completed"
    },
    "tags": []
   },
   "outputs": [],
   "source": [
    "pickle.dump(model, open('baseline_logistic_regression_agg_model.sav', 'wb'))"
   ]
  },
  {
   "cell_type": "code",
   "execution_count": 10,
   "id": "af005178",
   "metadata": {
    "execution": {
     "iopub.execute_input": "2023-02-14T00:44:42.752771Z",
     "iopub.status.busy": "2023-02-14T00:44:42.752360Z",
     "iopub.status.idle": "2023-02-14T00:45:26.702300Z",
     "shell.execute_reply": "2023-02-14T00:45:26.700832Z"
    },
    "papermill": {
     "duration": 43.958904,
     "end_time": "2023-02-14T00:45:26.705237",
     "exception": false,
     "start_time": "2023-02-14T00:44:42.746333",
     "status": "completed"
    },
    "tags": []
   },
   "outputs": [],
   "source": [
    "X_test = pd.read_pickle('/kaggle/input/amex-imputed-aggregate-data/X_test_agg.pkl', compression='gzip')"
   ]
  },
  {
   "cell_type": "code",
   "execution_count": 11,
   "id": "332d2791",
   "metadata": {
    "execution": {
     "iopub.execute_input": "2023-02-14T00:45:26.716216Z",
     "iopub.status.busy": "2023-02-14T00:45:26.715792Z",
     "iopub.status.idle": "2023-02-14T00:45:36.291077Z",
     "shell.execute_reply": "2023-02-14T00:45:36.289868Z"
    },
    "papermill": {
     "duration": 9.584633,
     "end_time": "2023-02-14T00:45:36.294538",
     "exception": false,
     "start_time": "2023-02-14T00:45:26.709905",
     "status": "completed"
    },
    "tags": []
   },
   "outputs": [],
   "source": [
    "submission = pd.DataFrame(model.predict_proba(X_test)[:, 1], index=X_test.index, columns=['prediction'])\n",
    "\n",
    "# index needs to be removed from submission csv\n",
    "submission = submission.reset_index()\n",
    "submission.to_csv('baseline_logistic_regression_submission.csv', index=False)"
   ]
  }
 ],
 "metadata": {
  "kernelspec": {
   "display_name": "Python 3",
   "language": "python",
   "name": "python3"
  },
  "language_info": {
   "codemirror_mode": {
    "name": "ipython",
    "version": 3
   },
   "file_extension": ".py",
   "mimetype": "text/x-python",
   "name": "python",
   "nbconvert_exporter": "python",
   "pygments_lexer": "ipython3",
   "version": "3.7.12"
  },
  "papermill": {
   "default_parameters": {},
   "duration": 142.045896,
   "end_time": "2023-02-14T00:45:37.737134",
   "environment_variables": {},
   "exception": null,
   "input_path": "__notebook__.ipynb",
   "output_path": "__notebook__.ipynb",
   "parameters": {},
   "start_time": "2023-02-14T00:43:15.691238",
   "version": "2.3.4"
  }
 },
 "nbformat": 4,
 "nbformat_minor": 5
}
