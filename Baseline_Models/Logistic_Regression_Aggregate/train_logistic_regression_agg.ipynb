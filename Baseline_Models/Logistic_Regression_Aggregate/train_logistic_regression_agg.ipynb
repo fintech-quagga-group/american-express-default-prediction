{
 "cells": [
  {
   "cell_type": "code",
   "execution_count": 1,
   "id": "13946a0a",
   "metadata": {
    "_cell_guid": "b1076dfc-b9ad-4769-8c92-a6c4dae69d19",
    "_uuid": "8f2839f25d086af736a60e9eeb907d3b93b6e0e5",
    "execution": {
     "iopub.execute_input": "2023-02-10T18:15:44.991386Z",
     "iopub.status.busy": "2023-02-10T18:15:44.990824Z",
     "iopub.status.idle": "2023-02-10T18:15:46.132403Z",
     "shell.execute_reply": "2023-02-10T18:15:46.131187Z"
    },
    "papermill": {
     "duration": 1.150767,
     "end_time": "2023-02-10T18:15:46.134916",
     "exception": false,
     "start_time": "2023-02-10T18:15:44.984149",
     "status": "completed"
    },
    "tags": []
   },
   "outputs": [],
   "source": [
    "import pickle\n",
    "import pandas as pd\n",
    "from sklearn.linear_model import LogisticRegression\n",
    "from sklearn.metrics import classification_report"
   ]
  },
  {
   "cell_type": "code",
   "execution_count": 2,
   "id": "da28ead7",
   "metadata": {
    "execution": {
     "iopub.execute_input": "2023-02-10T18:15:46.144078Z",
     "iopub.status.busy": "2023-02-10T18:15:46.143503Z",
     "iopub.status.idle": "2023-02-10T18:16:03.508872Z",
     "shell.execute_reply": "2023-02-10T18:16:03.507415Z"
    },
    "papermill": {
     "duration": 17.371558,
     "end_time": "2023-02-10T18:16:03.511278",
     "exception": false,
     "start_time": "2023-02-10T18:15:46.139720",
     "status": "completed"
    },
    "tags": []
   },
   "outputs": [],
   "source": [
    "X = pd.read_pickle('/kaggle/input/amex-imputed-aggregate-data/X_train_agg.pkl', compression='gzip')\n",
    "y = pd.read_pickle('/kaggle/input/amex-imputed-aggregate-data/y_train_agg.pkl', compression='gzip')"
   ]
  },
  {
   "cell_type": "markdown",
   "id": "1face9be",
   "metadata": {
    "papermill": {
     "duration": 0.002357,
     "end_time": "2023-02-10T18:16:03.516480",
     "exception": false,
     "start_time": "2023-02-10T18:16:03.514123",
     "status": "completed"
    },
    "tags": []
   },
   "source": [
    "Function to calculate competition's evaluation metric: https://www.kaggle.com/code/inversion/amex-competition-metric-python"
   ]
  },
  {
   "cell_type": "code",
   "execution_count": 3,
   "id": "7cf45380",
   "metadata": {
    "execution": {
     "iopub.execute_input": "2023-02-10T18:16:03.523100Z",
     "iopub.status.busy": "2023-02-10T18:16:03.522652Z",
     "iopub.status.idle": "2023-02-10T18:16:03.535461Z",
     "shell.execute_reply": "2023-02-10T18:16:03.534714Z"
    },
    "jupyter": {
     "source_hidden": true
    },
    "papermill": {
     "duration": 0.018858,
     "end_time": "2023-02-10T18:16:03.537834",
     "exception": false,
     "start_time": "2023-02-10T18:16:03.518976",
     "status": "completed"
    },
    "tags": []
   },
   "outputs": [],
   "source": [
    "def amex_metric(y_true: pd.DataFrame, y_pred: pd.DataFrame) -> float:\n",
    "\n",
    "    def top_four_percent_captured(y_true: pd.DataFrame, y_pred: pd.DataFrame) -> float:\n",
    "        df = (pd.concat([y_true, y_pred], axis='columns')\n",
    "              .sort_values('prediction', ascending=False))\n",
    "        df['weight'] = df['target'].apply(lambda x: 20 if x==0 else 1)\n",
    "        four_pct_cutoff = int(0.04 * df['weight'].sum())\n",
    "        df['weight_cumsum'] = df['weight'].cumsum()\n",
    "        df_cutoff = df.loc[df['weight_cumsum'] <= four_pct_cutoff]\n",
    "        return (df_cutoff['target'] == 1).sum() / (df['target'] == 1).sum()\n",
    "        \n",
    "    def weighted_gini(y_true: pd.DataFrame, y_pred: pd.DataFrame) -> float:\n",
    "        df = (pd.concat([y_true, y_pred], axis='columns')\n",
    "              .sort_values('prediction', ascending=False))\n",
    "        df['weight'] = df['target'].apply(lambda x: 20 if x==0 else 1)\n",
    "        df['random'] = (df['weight'] / df['weight'].sum()).cumsum()\n",
    "        total_pos = (df['target'] * df['weight']).sum()\n",
    "        df['cum_pos_found'] = (df['target'] * df['weight']).cumsum()\n",
    "        df['lorentz'] = df['cum_pos_found'] / total_pos\n",
    "        df['gini'] = (df['lorentz'] - df['random']) * df['weight']\n",
    "        return df['gini'].sum()\n",
    "\n",
    "    def normalized_weighted_gini(y_true: pd.DataFrame, y_pred: pd.DataFrame) -> float:\n",
    "        y_true_pred = y_true.rename(columns={'target': 'prediction'})\n",
    "        return weighted_gini(y_true, y_pred) / weighted_gini(y_true, y_true_pred)\n",
    "\n",
    "    g = normalized_weighted_gini(y_true, y_pred)\n",
    "    d = top_four_percent_captured(y_true, y_pred)\n",
    "\n",
    "    return 0.5 * (g + d)"
   ]
  },
  {
   "cell_type": "code",
   "execution_count": 4,
   "id": "45f3534f",
   "metadata": {
    "execution": {
     "iopub.execute_input": "2023-02-10T18:16:03.544935Z",
     "iopub.status.busy": "2023-02-10T18:16:03.544352Z",
     "iopub.status.idle": "2023-02-10T18:16:32.918509Z",
     "shell.execute_reply": "2023-02-10T18:16:32.916966Z"
    },
    "papermill": {
     "duration": 29.380758,
     "end_time": "2023-02-10T18:16:32.921620",
     "exception": false,
     "start_time": "2023-02-10T18:16:03.540862",
     "status": "completed"
    },
    "tags": []
   },
   "outputs": [
    {
     "name": "stderr",
     "output_type": "stream",
     "text": [
      "/opt/conda/lib/python3.7/site-packages/sklearn/linear_model/_logistic.py:818: ConvergenceWarning: lbfgs failed to converge (status=1):\n",
      "STOP: TOTAL NO. of ITERATIONS REACHED LIMIT.\n",
      "\n",
      "Increase the number of iterations (max_iter) or scale the data as shown in:\n",
      "    https://scikit-learn.org/stable/modules/preprocessing.html\n",
      "Please also refer to the documentation for alternative solver options:\n",
      "    https://scikit-learn.org/stable/modules/linear_model.html#logistic-regression\n",
      "  extra_warning_msg=_LOGISTIC_SOLVER_CONVERGENCE_MSG,\n"
     ]
    }
   ],
   "source": [
    "model = LogisticRegression()\n",
    "model = model.fit(X, y)"
   ]
  },
  {
   "cell_type": "code",
   "execution_count": 5,
   "id": "b9e8eaa2",
   "metadata": {
    "execution": {
     "iopub.execute_input": "2023-02-10T18:16:32.932938Z",
     "iopub.status.busy": "2023-02-10T18:16:32.932263Z",
     "iopub.status.idle": "2023-02-10T18:16:35.854192Z",
     "shell.execute_reply": "2023-02-10T18:16:35.853328Z"
    },
    "papermill": {
     "duration": 2.93078,
     "end_time": "2023-02-10T18:16:35.857126",
     "exception": false,
     "start_time": "2023-02-10T18:16:32.926346",
     "status": "completed"
    },
    "tags": []
   },
   "outputs": [],
   "source": [
    "proba_preds = model.predict_proba(X)[:, 1]\n",
    "preds = model.predict(X)"
   ]
  },
  {
   "cell_type": "code",
   "execution_count": 6,
   "id": "44967ba9",
   "metadata": {
    "execution": {
     "iopub.execute_input": "2023-02-10T18:16:35.866382Z",
     "iopub.status.busy": "2023-02-10T18:16:35.865987Z",
     "iopub.status.idle": "2023-02-10T18:16:36.985010Z",
     "shell.execute_reply": "2023-02-10T18:16:36.984009Z"
    },
    "papermill": {
     "duration": 1.126306,
     "end_time": "2023-02-10T18:16:36.987264",
     "exception": false,
     "start_time": "2023-02-10T18:16:35.860958",
     "status": "completed"
    },
    "tags": []
   },
   "outputs": [
    {
     "name": "stdout",
     "output_type": "stream",
     "text": [
      "M = 0.7747117851405895\n"
     ]
    }
   ],
   "source": [
    "print(f'M = {amex_metric(pd.DataFrame(y), pd.DataFrame(proba_preds, index=y.index, columns=[\"prediction\"]))}')"
   ]
  },
  {
   "cell_type": "code",
   "execution_count": 7,
   "id": "d5eab3f0",
   "metadata": {
    "execution": {
     "iopub.execute_input": "2023-02-10T18:16:36.995578Z",
     "iopub.status.busy": "2023-02-10T18:16:36.994101Z",
     "iopub.status.idle": "2023-02-10T18:16:37.648863Z",
     "shell.execute_reply": "2023-02-10T18:16:37.647965Z"
    },
    "papermill": {
     "duration": 0.66057,
     "end_time": "2023-02-10T18:16:37.650760",
     "exception": false,
     "start_time": "2023-02-10T18:16:36.990190",
     "status": "completed"
    },
    "tags": []
   },
   "outputs": [
    {
     "name": "stdout",
     "output_type": "stream",
     "text": [
      "              precision    recall  f1-score   support\n",
      "\n",
      "           0       0.92      0.94      0.93    340085\n",
      "           1       0.82      0.78      0.80    118828\n",
      "\n",
      "    accuracy                           0.90    458913\n",
      "   macro avg       0.87      0.86      0.86    458913\n",
      "weighted avg       0.90      0.90      0.90    458913\n",
      "\n"
     ]
    }
   ],
   "source": [
    "print(classification_report(y, preds))"
   ]
  },
  {
   "cell_type": "code",
   "execution_count": 8,
   "id": "14b9b3b4",
   "metadata": {
    "execution": {
     "iopub.execute_input": "2023-02-10T18:16:37.658156Z",
     "iopub.status.busy": "2023-02-10T18:16:37.657599Z",
     "iopub.status.idle": "2023-02-10T18:16:37.662299Z",
     "shell.execute_reply": "2023-02-10T18:16:37.661664Z"
    },
    "papermill": {
     "duration": 0.010491,
     "end_time": "2023-02-10T18:16:37.664090",
     "exception": false,
     "start_time": "2023-02-10T18:16:37.653599",
     "status": "completed"
    },
    "tags": []
   },
   "outputs": [],
   "source": [
    "pickle.dump(model, open('logistic_regression_agg_model.sav', 'wb'))"
   ]
  }
 ],
 "metadata": {
  "kernelspec": {
   "display_name": "Python 3",
   "language": "python",
   "name": "python3"
  },
  "language_info": {
   "codemirror_mode": {
    "name": "ipython",
    "version": 3
   },
   "file_extension": ".py",
   "mimetype": "text/x-python",
   "name": "python",
   "nbconvert_exporter": "python",
   "pygments_lexer": "ipython3",
   "version": "3.7.12"
  },
  "papermill": {
   "default_parameters": {},
   "duration": 61.300401,
   "end_time": "2023-02-10T18:16:38.590812",
   "environment_variables": {},
   "exception": null,
   "input_path": "__notebook__.ipynb",
   "output_path": "__notebook__.ipynb",
   "parameters": {},
   "start_time": "2023-02-10T18:15:37.290411",
   "version": "2.3.4"
  }
 },
 "nbformat": 4,
 "nbformat_minor": 5
}
