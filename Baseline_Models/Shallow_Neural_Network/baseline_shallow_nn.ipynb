{
 "cells": [
  {
   "cell_type": "code",
   "execution_count": 1,
   "id": "fde1c9c5",
   "metadata": {
    "_cell_guid": "b1076dfc-b9ad-4769-8c92-a6c4dae69d19",
    "_uuid": "8f2839f25d086af736a60e9eeb907d3b93b6e0e5",
    "execution": {
     "iopub.execute_input": "2023-02-14T01:57:11.263334Z",
     "iopub.status.busy": "2023-02-14T01:57:11.262790Z",
     "iopub.status.idle": "2023-02-14T01:57:18.594461Z",
     "shell.execute_reply": "2023-02-14T01:57:18.593066Z"
    },
    "papermill": {
     "duration": 7.345541,
     "end_time": "2023-02-14T01:57:18.597660",
     "exception": false,
     "start_time": "2023-02-14T01:57:11.252119",
     "status": "completed"
    },
    "tags": []
   },
   "outputs": [],
   "source": [
    "import gc\n",
    "import pandas as pd \n",
    "import numpy as np\n",
    "import tensorflow as tf\n",
    "from sklearn.metrics import classification_report"
   ]
  },
  {
   "cell_type": "markdown",
   "id": "38efd648",
   "metadata": {
    "papermill": {
     "duration": 0.007029,
     "end_time": "2023-02-14T01:57:18.612460",
     "exception": false,
     "start_time": "2023-02-14T01:57:18.605431",
     "status": "completed"
    },
    "tags": []
   },
   "source": [
    "## Modiying our data for tensorflow neural networks \n",
    "\n",
    "The datasets we use are too big to pass into the neural networks, so we need to transform and preprocess our data for better performance in training our models. \n",
    "\n",
    "Most of this code follows the [Load a pandas DataFrame](https://www.tensorflow.org/tutorials/load_data/pandas_dataframe#full_example) preprocessing guide."
   ]
  },
  {
   "cell_type": "code",
   "execution_count": 2,
   "id": "528697f6",
   "metadata": {
    "execution": {
     "iopub.execute_input": "2023-02-14T01:57:18.630192Z",
     "iopub.status.busy": "2023-02-14T01:57:18.628966Z",
     "iopub.status.idle": "2023-02-14T01:57:55.421661Z",
     "shell.execute_reply": "2023-02-14T01:57:55.420200Z"
    },
    "papermill": {
     "duration": 36.804759,
     "end_time": "2023-02-14T01:57:55.424590",
     "exception": false,
     "start_time": "2023-02-14T01:57:18.619831",
     "status": "completed"
    },
    "tags": []
   },
   "outputs": [],
   "source": [
    "X_train = pd.read_feather('/kaggle/input/amex-imputed-and-1hot-encoded/X_train.ftr').set_index('customer_ID')\n",
    "target = pd.read_feather('/kaggle/input/amex-imputed-and-1hot-encoded/y_train.ftr').set_index('customer_ID')['target']"
   ]
  },
  {
   "cell_type": "code",
   "execution_count": 3,
   "id": "6b1a4105",
   "metadata": {
    "execution": {
     "iopub.execute_input": "2023-02-14T01:57:55.441982Z",
     "iopub.status.busy": "2023-02-14T01:57:55.441558Z",
     "iopub.status.idle": "2023-02-14T01:57:55.451061Z",
     "shell.execute_reply": "2023-02-14T01:57:55.449618Z"
    },
    "papermill": {
     "duration": 0.0214,
     "end_time": "2023-02-14T01:57:55.454031",
     "exception": false,
     "start_time": "2023-02-14T01:57:55.432631",
     "status": "completed"
    },
    "tags": []
   },
   "outputs": [],
   "source": [
    "# split the feature names into lists based on their type\n",
    "cat_features = ['B_30', 'B_38', 'D_114', 'D_116', 'D_117', 'D_120', 'D_126', 'D_63', 'D_64', 'D_66', 'D_68']\n",
    "binary_feature_names = [col for col in X_train if '_'.join(col.split(\"_\", 2)[:2]) in cat_features]\n",
    "numeric_feature_names = [col for col in X_train if col not in binary_feature_names]"
   ]
  },
  {
   "cell_type": "code",
   "execution_count": 4,
   "id": "a210d56b",
   "metadata": {
    "execution": {
     "iopub.execute_input": "2023-02-14T01:57:55.471021Z",
     "iopub.status.busy": "2023-02-14T01:57:55.470567Z",
     "iopub.status.idle": "2023-02-14T01:57:57.211914Z",
     "shell.execute_reply": "2023-02-14T01:57:57.210622Z"
    },
    "papermill": {
     "duration": 1.753483,
     "end_time": "2023-02-14T01:57:57.215128",
     "exception": false,
     "start_time": "2023-02-14T01:57:55.461645",
     "status": "completed"
    },
    "tags": []
   },
   "outputs": [],
   "source": [
    "# turn each column of the dataframe into a tf.keras.Input() object \n",
    "inputs = {}\n",
    "for name, column in X_train.items():\n",
    "  if (name in binary_feature_names):\n",
    "    dtype = tf.int64\n",
    "  else:\n",
    "    dtype = tf.float32\n",
    "\n",
    "  inputs[name] = tf.keras.Input(shape=(), name=name, dtype=dtype)"
   ]
  },
  {
   "cell_type": "markdown",
   "id": "a02ab286",
   "metadata": {
    "papermill": {
     "duration": 0.007532,
     "end_time": "2023-02-14T01:57:57.230500",
     "exception": false,
     "start_time": "2023-02-14T01:57:57.222968",
     "status": "completed"
    },
    "tags": []
   },
   "source": [
    "## Preprocessing inputs \n",
    "\n",
    "To preserve memory and be more efficient, we need to pass each feature through a preprocessing pipeline. For our purposes, we essentially just convert every column into `tf.float32`. "
   ]
  },
  {
   "cell_type": "code",
   "execution_count": 5,
   "id": "0f813722",
   "metadata": {
    "execution": {
     "iopub.execute_input": "2023-02-14T01:57:57.248525Z",
     "iopub.status.busy": "2023-02-14T01:57:57.247209Z",
     "iopub.status.idle": "2023-02-14T01:57:57.695962Z",
     "shell.execute_reply": "2023-02-14T01:57:57.694500Z"
    },
    "papermill": {
     "duration": 0.460792,
     "end_time": "2023-02-14T01:57:57.698842",
     "exception": false,
     "start_time": "2023-02-14T01:57:57.238050",
     "status": "completed"
    },
    "tags": []
   },
   "outputs": [
    {
     "name": "stderr",
     "output_type": "stream",
     "text": [
      "2023-02-14 01:57:57.263487: I tensorflow/core/common_runtime/process_util.cc:146] Creating new thread pool with default inter op setting: 2. Tune using inter_op_parallelism_threads for best performance.\n"
     ]
    }
   ],
   "source": [
    "preprocessed = []\n",
    "\n",
    "# preprocess binary features by converting to float32\n",
    "for name in binary_feature_names:\n",
    "  inp = inputs[name]\n",
    "  inp = inp[:, tf.newaxis]\n",
    "  float_value = tf.cast(inp, tf.float32)\n",
    "  preprocessed.append(float_value)"
   ]
  },
  {
   "cell_type": "code",
   "execution_count": 6,
   "id": "a2902a9a",
   "metadata": {
    "execution": {
     "iopub.execute_input": "2023-02-14T01:57:57.717841Z",
     "iopub.status.busy": "2023-02-14T01:57:57.716897Z",
     "iopub.status.idle": "2023-02-14T01:57:57.726905Z",
     "shell.execute_reply": "2023-02-14T01:57:57.725569Z"
    },
    "papermill": {
     "duration": 0.022205,
     "end_time": "2023-02-14T01:57:57.730051",
     "exception": false,
     "start_time": "2023-02-14T01:57:57.707846",
     "status": "completed"
    },
    "tags": []
   },
   "outputs": [],
   "source": [
    "def stack_dict(inputs, fun=tf.stack):\n",
    "    \"\"\"\n",
    "    Stacks numerical tf.keras.Input() objects as tf.float32 \n",
    "\n",
    "    Parameters\n",
    "    ----------\n",
    "    inputs: dict{string: tf.keras.Input()}\n",
    "        Python dictionary where keys are the column name and values are the previously made tf.keras.Input() objects\n",
    "    fun: function()\n",
    "        Function to manipulate inputs. Default is tf.stack()\n",
    "\n",
    "    Returns\n",
    "    -------\n",
    "    tf.Tensor\n",
    "        A stacked float32 Tensor\n",
    "    \"\"\"   \n",
    "    \n",
    "    values = []\n",
    "    for key in sorted(inputs.keys()):\n",
    "      values.append(tf.cast(inputs[key], tf.float32))\n",
    "\n",
    "    return fun(values, axis=-1)"
   ]
  },
  {
   "cell_type": "code",
   "execution_count": 7,
   "id": "ee05bc4f",
   "metadata": {
    "execution": {
     "iopub.execute_input": "2023-02-14T01:57:57.748182Z",
     "iopub.status.busy": "2023-02-14T01:57:57.746958Z",
     "iopub.status.idle": "2023-02-14T01:57:58.141959Z",
     "shell.execute_reply": "2023-02-14T01:57:58.140374Z"
    },
    "papermill": {
     "duration": 0.406889,
     "end_time": "2023-02-14T01:57:58.144931",
     "exception": false,
     "start_time": "2023-02-14T01:57:57.738042",
     "status": "completed"
    },
    "tags": []
   },
   "outputs": [
    {
     "data": {
      "text/plain": [
       "[<KerasTensor: shape=(None, 1) dtype=float32 (created by layer 'tf.cast')>,\n",
       " <KerasTensor: shape=(None, 1) dtype=float32 (created by layer 'tf.cast_1')>,\n",
       " <KerasTensor: shape=(None, 1) dtype=float32 (created by layer 'tf.cast_2')>,\n",
       " <KerasTensor: shape=(None, 1) dtype=float32 (created by layer 'tf.cast_3')>,\n",
       " <KerasTensor: shape=(None, 1) dtype=float32 (created by layer 'tf.cast_4')>,\n",
       " <KerasTensor: shape=(None, 1) dtype=float32 (created by layer 'tf.cast_5')>,\n",
       " <KerasTensor: shape=(None, 1) dtype=float32 (created by layer 'tf.cast_6')>,\n",
       " <KerasTensor: shape=(None, 1) dtype=float32 (created by layer 'tf.cast_7')>,\n",
       " <KerasTensor: shape=(None, 1) dtype=float32 (created by layer 'tf.cast_8')>,\n",
       " <KerasTensor: shape=(None, 1) dtype=float32 (created by layer 'tf.cast_9')>,\n",
       " <KerasTensor: shape=(None, 1) dtype=float32 (created by layer 'tf.cast_10')>,\n",
       " <KerasTensor: shape=(None, 1) dtype=float32 (created by layer 'tf.cast_11')>,\n",
       " <KerasTensor: shape=(None, 1) dtype=float32 (created by layer 'tf.cast_12')>,\n",
       " <KerasTensor: shape=(None, 1) dtype=float32 (created by layer 'tf.cast_13')>,\n",
       " <KerasTensor: shape=(None, 1) dtype=float32 (created by layer 'tf.cast_14')>,\n",
       " <KerasTensor: shape=(None, 1) dtype=float32 (created by layer 'tf.cast_15')>,\n",
       " <KerasTensor: shape=(None, 1) dtype=float32 (created by layer 'tf.cast_16')>,\n",
       " <KerasTensor: shape=(None, 1) dtype=float32 (created by layer 'tf.cast_17')>,\n",
       " <KerasTensor: shape=(None, 1) dtype=float32 (created by layer 'tf.cast_18')>,\n",
       " <KerasTensor: shape=(None, 1) dtype=float32 (created by layer 'tf.cast_19')>,\n",
       " <KerasTensor: shape=(None, 1) dtype=float32 (created by layer 'tf.cast_20')>,\n",
       " <KerasTensor: shape=(None, 1) dtype=float32 (created by layer 'tf.cast_21')>,\n",
       " <KerasTensor: shape=(None, 1) dtype=float32 (created by layer 'tf.cast_22')>,\n",
       " <KerasTensor: shape=(None, 1) dtype=float32 (created by layer 'tf.cast_23')>,\n",
       " <KerasTensor: shape=(None, 1) dtype=float32 (created by layer 'tf.cast_24')>,\n",
       " <KerasTensor: shape=(None, 1) dtype=float32 (created by layer 'tf.cast_25')>,\n",
       " <KerasTensor: shape=(None, 1) dtype=float32 (created by layer 'tf.cast_26')>,\n",
       " <KerasTensor: shape=(None, 1) dtype=float32 (created by layer 'tf.cast_27')>,\n",
       " <KerasTensor: shape=(None, 1) dtype=float32 (created by layer 'tf.cast_28')>,\n",
       " <KerasTensor: shape=(None, 1) dtype=float32 (created by layer 'tf.cast_29')>,\n",
       " <KerasTensor: shape=(None, 1) dtype=float32 (created by layer 'tf.cast_30')>,\n",
       " <KerasTensor: shape=(None, 1) dtype=float32 (created by layer 'tf.cast_31')>,\n",
       " <KerasTensor: shape=(None, 1) dtype=float32 (created by layer 'tf.cast_32')>,\n",
       " <KerasTensor: shape=(None, 1) dtype=float32 (created by layer 'tf.cast_33')>,\n",
       " <KerasTensor: shape=(None, 1) dtype=float32 (created by layer 'tf.cast_34')>,\n",
       " <KerasTensor: shape=(None, 1) dtype=float32 (created by layer 'tf.cast_35')>,\n",
       " <KerasTensor: shape=(None, 1) dtype=float32 (created by layer 'tf.cast_36')>,\n",
       " <KerasTensor: shape=(None, 1) dtype=float32 (created by layer 'tf.cast_37')>,\n",
       " <KerasTensor: shape=(None, 1) dtype=float32 (created by layer 'tf.cast_38')>,\n",
       " <KerasTensor: shape=(None, 1) dtype=float32 (created by layer 'tf.cast_39')>,\n",
       " <KerasTensor: shape=(None, 1) dtype=float32 (created by layer 'tf.cast_40')>,\n",
       " <KerasTensor: shape=(None, 1) dtype=float32 (created by layer 'tf.cast_41')>,\n",
       " <KerasTensor: shape=(None, 1) dtype=float32 (created by layer 'tf.cast_42')>,\n",
       " <KerasTensor: shape=(None, 1) dtype=float32 (created by layer 'tf.cast_43')>,\n",
       " <KerasTensor: shape=(None, 1) dtype=float32 (created by layer 'tf.cast_44')>,\n",
       " <KerasTensor: shape=(None, 1) dtype=float32 (created by layer 'tf.cast_45')>,\n",
       " <KerasTensor: shape=(None, 1) dtype=float32 (created by layer 'tf.cast_46')>,\n",
       " <KerasTensor: shape=(None, 1) dtype=float32 (created by layer 'tf.cast_47')>,\n",
       " <KerasTensor: shape=(None, 1) dtype=float32 (created by layer 'tf.cast_48')>,\n",
       " <KerasTensor: shape=(None, 1) dtype=float32 (created by layer 'tf.cast_49')>,\n",
       " <KerasTensor: shape=(None, 1) dtype=float32 (created by layer 'tf.cast_50')>,\n",
       " <KerasTensor: shape=(None, 1) dtype=float32 (created by layer 'tf.cast_51')>,\n",
       " <KerasTensor: shape=(None, 1) dtype=float32 (created by layer 'tf.cast_52')>,\n",
       " <KerasTensor: shape=(None, 1) dtype=float32 (created by layer 'tf.cast_53')>,\n",
       " <KerasTensor: shape=(None, 1) dtype=float32 (created by layer 'tf.cast_54')>,\n",
       " <KerasTensor: shape=(None, 177) dtype=float32 (created by layer 'tf.stack')>]"
      ]
     },
     "execution_count": 7,
     "metadata": {},
     "output_type": "execute_result"
    }
   ],
   "source": [
    "numeric_inputs = {}\n",
    "for name in numeric_feature_names:\n",
    "  numeric_inputs[name] = inputs[name]\n",
    "\n",
    "# preprocess numeric inputs by stacking them and converting to float32\n",
    "numeric_inputs = stack_dict(numeric_inputs)\n",
    "preprocessed.append(numeric_inputs)\n",
    "\n",
    "preprocessed"
   ]
  },
  {
   "cell_type": "code",
   "execution_count": 8,
   "id": "e50d9b47",
   "metadata": {
    "execution": {
     "iopub.execute_input": "2023-02-14T01:57:58.162843Z",
     "iopub.status.busy": "2023-02-14T01:57:58.162411Z",
     "iopub.status.idle": "2023-02-14T01:57:58.208933Z",
     "shell.execute_reply": "2023-02-14T01:57:58.207692Z"
    },
    "papermill": {
     "duration": 0.058834,
     "end_time": "2023-02-14T01:57:58.211549",
     "exception": false,
     "start_time": "2023-02-14T01:57:58.152715",
     "status": "completed"
    },
    "tags": []
   },
   "outputs": [
    {
     "data": {
      "text/plain": [
       "<KerasTensor: shape=(None, 232) dtype=float32 (created by layer 'tf.concat')>"
      ]
     },
     "execution_count": 8,
     "metadata": {},
     "output_type": "execute_result"
    }
   ],
   "source": [
    "# concat the preprocessed binary and numerical features\n",
    "preprocesssed_result = tf.concat(preprocessed, axis=-1)\n",
    "preprocesssed_result"
   ]
  },
  {
   "cell_type": "code",
   "execution_count": 9,
   "id": "a6870809",
   "metadata": {
    "execution": {
     "iopub.execute_input": "2023-02-14T01:57:58.229053Z",
     "iopub.status.busy": "2023-02-14T01:57:58.228594Z",
     "iopub.status.idle": "2023-02-14T01:57:58.287371Z",
     "shell.execute_reply": "2023-02-14T01:57:58.285976Z"
    },
    "papermill": {
     "duration": 0.070907,
     "end_time": "2023-02-14T01:57:58.290214",
     "exception": false,
     "start_time": "2023-02-14T01:57:58.219307",
     "status": "completed"
    },
    "tags": []
   },
   "outputs": [],
   "source": [
    "# create a tf.keras.Model out of the preprocessor so it can be reused later\n",
    "preprocessor = tf.keras.Model(inputs, preprocesssed_result)"
   ]
  },
  {
   "cell_type": "code",
   "execution_count": 10,
   "id": "0985a7d7",
   "metadata": {
    "execution": {
     "iopub.execute_input": "2023-02-14T01:57:58.307707Z",
     "iopub.status.busy": "2023-02-14T01:57:58.307253Z",
     "iopub.status.idle": "2023-02-14T01:57:58.467056Z",
     "shell.execute_reply": "2023-02-14T01:57:58.465572Z"
    },
    "papermill": {
     "duration": 0.171552,
     "end_time": "2023-02-14T01:57:58.469646",
     "exception": false,
     "start_time": "2023-02-14T01:57:58.298094",
     "status": "completed"
    },
    "tags": []
   },
   "outputs": [
    {
     "data": {
      "text/plain": [
       "<tf.Tensor: shape=(1, 232), dtype=float32, numpy=\n",
       "array([[1.00000000e+00, 0.00000000e+00, 0.00000000e+00, 0.00000000e+00,\n",
       "        0.00000000e+00, 1.00000000e+00, 0.00000000e+00, 0.00000000e+00,\n",
       "        0.00000000e+00, 0.00000000e+00, 0.00000000e+00, 0.00000000e+00,\n",
       "        0.00000000e+00, 1.00000000e+00, 0.00000000e+00, 1.00000000e+00,\n",
       "        0.00000000e+00, 0.00000000e+00, 0.00000000e+00, 0.00000000e+00,\n",
       "        0.00000000e+00, 0.00000000e+00, 1.00000000e+00, 0.00000000e+00,\n",
       "        0.00000000e+00, 0.00000000e+00, 1.00000000e+00, 0.00000000e+00,\n",
       "        0.00000000e+00, 0.00000000e+00, 0.00000000e+00, 1.00000000e+00,\n",
       "        0.00000000e+00, 0.00000000e+00, 0.00000000e+00, 1.00000000e+00,\n",
       "        0.00000000e+00, 0.00000000e+00, 0.00000000e+00, 0.00000000e+00,\n",
       "        0.00000000e+00, 1.00000000e+00, 0.00000000e+00, 0.00000000e+00,\n",
       "        0.00000000e+00, 0.00000000e+00, 1.00000000e+00, 0.00000000e+00,\n",
       "        0.00000000e+00, 0.00000000e+00, 0.00000000e+00, 0.00000000e+00,\n",
       "        0.00000000e+00, 1.00000000e+00, 0.00000000e+00, 8.72802734e-03,\n",
       "        9.61914062e-02, 2.76756287e-03, 1.48315430e-01, 1.18103027e-01,\n",
       "        1.83868408e-02, 1.63574219e-02, 7.66372681e-03, 7.15332031e-01,\n",
       "        6.52832031e-01, 8.52203369e-03, 1.00683594e+00, 4.73022461e-03,\n",
       "        2.64358521e-03, 4.80651855e-03, 5.08728027e-02, 4.32586670e-03,\n",
       "        7.72857666e-03, 2.71797180e-04, 2.30979919e-03, 8.46557617e-02,\n",
       "        3.29895020e-02, 4.70733643e-03, 1.00000000e+00, 6.62612915e-03,\n",
       "        1.00097656e+00, 9.97161865e-03, 4.57000732e-03, 2.55371094e-01,\n",
       "        8.09936523e-02, 2.10083008e-01, 6.80541992e-03, 1.10046387e-01,\n",
       "        1.70654297e-01, 6.39038086e-02, 5.94177246e-02, 6.46591187e-03,\n",
       "        8.20922852e-03, 7.66601562e-01, 1.00878906e+00, 1.00488281e+00,\n",
       "        8.93554688e-01, 2.05200195e-01, 6.69921875e-01, 7.14721680e-02,\n",
       "        4.32586670e-03, 7.39257812e-01, 8.74511719e-01, 1.00781250e+00,\n",
       "        7.87353516e-03, 2.38281250e-01, 2.32177734e-01, 2.36206055e-01,\n",
       "        7.02148438e-01, 4.34326172e-01, 3.05747986e-03, 6.86523438e-01,\n",
       "        8.74328613e-03, 1.00292969e+00, 1.00781250e+00, 1.00000000e+00,\n",
       "        2.05230713e-03, 5.97000122e-03, 2.10205078e-01, 4.34494019e-03,\n",
       "        3.30078125e-01, 2.99682617e-02, 2.42797852e-01, 1.42440796e-02,\n",
       "        1.64672852e-01, 2.42614746e-03, 3.70597839e-03, 3.81851196e-03,\n",
       "        3.90869141e-01, 5.69343567e-04, 6.09874725e-04, 2.67410278e-03,\n",
       "        1.73377991e-03, 8.77380371e-03, 1.84936523e-01, 1.54663086e-01,\n",
       "        6.29901886e-04, 7.08984375e-01, 3.58642578e-01, 5.25390625e-01,\n",
       "        2.55615234e-01, 1.91894531e-01, 1.48681641e-01, 1.33593750e+00,\n",
       "        2.07275391e-01, 7.61718750e-02, 1.00195312e+00, 3.54492188e-01,\n",
       "        1.51977539e-01, 1.58569336e-01, 6.36596680e-02, 1.99584961e-01,\n",
       "        3.08349609e-01, 9.10644531e-02, 7.12585449e-03, 9.01031494e-03,\n",
       "        8.33892822e-03, 1.19384766e-01, 4.80270386e-03, 1.56494141e-01,\n",
       "        8.04443359e-02, 6.90917969e-02, 1.40502930e-01, 2.56591797e-01,\n",
       "        1.57546997e-03, 4.23812866e-03, 4.05883789e-03, 3.53240967e-03,\n",
       "        5.06835938e-01, 7.04193115e-03, 8.29696655e-04, 7.08389282e-03,\n",
       "        1.00000000e+00, 1.72363281e-01, 2.66456604e-03, 1.50390625e+00,\n",
       "        1.00585938e+00, 3.56864929e-03, 8.87298584e-03, 4.95147705e-03,\n",
       "        9.38476562e-01, 7.36328125e-01, 7.55310059e-03, 9.22393799e-03,\n",
       "        7.12203979e-03, 2.45666504e-03, 1.00976562e+00, 3.82041931e-03,\n",
       "        4.37974930e-04, 6.45065308e-03, 5.05447388e-03, 1.98364258e-04,\n",
       "        8.91113281e-03, 5.17654419e-03, 6.20269775e-03, 7.78198242e-03,\n",
       "        2.44903564e-03, 7.48062134e-03, 6.89315796e-03, 3.94821167e-03,\n",
       "        3.64685059e-03, 8.46557617e-02, 1.00878906e+00, 1.53446198e-03,\n",
       "        1.42288208e-03, 8.30078125e-03, 1.88159943e-03, 8.36181641e-03,\n",
       "        7.56072998e-03, 1.43432617e-03, 2.29858398e-01, 4.01611328e-01,\n",
       "        2.71972656e-01, 5.15136719e-01, 1.08276367e-01, 2.27165222e-03,\n",
       "        8.03375244e-03, 5.72204590e-03, 2.53677368e-03, 9.70458984e-03,\n",
       "        8.94042969e-01, 1.35620117e-01, 9.11132812e-01, 9.74609375e-01,\n",
       "        1.24359131e-03, 6.76757812e-01, 1.24023438e-01, 2.33764648e-02,\n",
       "        8.32366943e-03, 1.61376953e-01, 9.22851562e-01, 6.57348633e-02]],\n",
       "      dtype=float32)>"
      ]
     },
     "execution_count": 10,
     "metadata": {},
     "output_type": "execute_result"
    }
   ],
   "source": [
    "# verify with the preprocessed first example of the dataset \n",
    "preprocessor(dict(X_train.iloc[:1]))"
   ]
  },
  {
   "cell_type": "markdown",
   "id": "bb469fa8",
   "metadata": {
    "papermill": {
     "duration": 0.007687,
     "end_time": "2023-02-14T01:57:58.485786",
     "exception": false,
     "start_time": "2023-02-14T01:57:58.478099",
     "status": "completed"
    },
    "tags": []
   },
   "source": [
    "## Creating the neural network model"
   ]
  },
  {
   "cell_type": "code",
   "execution_count": 11,
   "id": "7c872dfa",
   "metadata": {
    "execution": {
     "iopub.execute_input": "2023-02-14T01:57:58.503585Z",
     "iopub.status.busy": "2023-02-14T01:57:58.503126Z",
     "iopub.status.idle": "2023-02-14T01:57:58.517159Z",
     "shell.execute_reply": "2023-02-14T01:57:58.516115Z"
    },
    "papermill": {
     "duration": 0.026069,
     "end_time": "2023-02-14T01:57:58.519740",
     "exception": false,
     "start_time": "2023-02-14T01:57:58.493671",
     "status": "completed"
    },
    "tags": []
   },
   "outputs": [],
   "source": [
    "nn = tf.keras.Sequential()\n",
    "\n",
    "# hidden layers\n",
    "nn.add(tf.keras.layers.Dense(116, activation='relu'))\n",
    "\n",
    "# output layer\n",
    "nn.add(tf.keras.layers.Dense(1, activation='sigmoid'))"
   ]
  },
  {
   "cell_type": "code",
   "execution_count": 12,
   "id": "4a205cbe",
   "metadata": {
    "execution": {
     "iopub.execute_input": "2023-02-14T01:57:58.538339Z",
     "iopub.status.busy": "2023-02-14T01:57:58.537376Z",
     "iopub.status.idle": "2023-02-14T01:57:58.845676Z",
     "shell.execute_reply": "2023-02-14T01:57:58.844762Z"
    },
    "papermill": {
     "duration": 0.32021,
     "end_time": "2023-02-14T01:57:58.848278",
     "exception": false,
     "start_time": "2023-02-14T01:57:58.528068",
     "status": "completed"
    },
    "tags": []
   },
   "outputs": [],
   "source": [
    "# use the saved preprocessor model to generate our features \n",
    "x = preprocessor(inputs)"
   ]
  },
  {
   "cell_type": "code",
   "execution_count": 13,
   "id": "f61ecca9",
   "metadata": {
    "execution": {
     "iopub.execute_input": "2023-02-14T01:57:58.867178Z",
     "iopub.status.busy": "2023-02-14T01:57:58.865872Z",
     "iopub.status.idle": "2023-02-14T01:57:58.925878Z",
     "shell.execute_reply": "2023-02-14T01:57:58.924643Z"
    },
    "papermill": {
     "duration": 0.072205,
     "end_time": "2023-02-14T01:57:58.928449",
     "exception": false,
     "start_time": "2023-02-14T01:57:58.856244",
     "status": "completed"
    },
    "tags": []
   },
   "outputs": [
    {
     "data": {
      "text/plain": [
       "<KerasTensor: shape=(None, 1) dtype=float32 (created by layer 'sequential')>"
      ]
     },
     "execution_count": 13,
     "metadata": {},
     "output_type": "execute_result"
    }
   ],
   "source": [
    "# create the output tensor to pass to Model() object \n",
    "result = nn(x)\n",
    "result"
   ]
  },
  {
   "cell_type": "code",
   "execution_count": 14,
   "id": "85c9debb",
   "metadata": {
    "execution": {
     "iopub.execute_input": "2023-02-14T01:57:58.946853Z",
     "iopub.status.busy": "2023-02-14T01:57:58.946050Z",
     "iopub.status.idle": "2023-02-14T01:57:58.986169Z",
     "shell.execute_reply": "2023-02-14T01:57:58.984809Z"
    },
    "papermill": {
     "duration": 0.052507,
     "end_time": "2023-02-14T01:57:58.988940",
     "exception": false,
     "start_time": "2023-02-14T01:57:58.936433",
     "status": "completed"
    },
    "tags": []
   },
   "outputs": [],
   "source": [
    "model = tf.keras.Model(inputs, result)\n",
    "\n",
    "model.compile(optimizer='adam', loss='binary_crossentropy', metrics=['accuracy'])"
   ]
  },
  {
   "cell_type": "code",
   "execution_count": 15,
   "id": "b48c95c2",
   "metadata": {
    "execution": {
     "iopub.execute_input": "2023-02-14T01:57:59.008038Z",
     "iopub.status.busy": "2023-02-14T01:57:59.007279Z",
     "iopub.status.idle": "2023-02-14T02:29:30.244650Z",
     "shell.execute_reply": "2023-02-14T02:29:30.243037Z"
    },
    "papermill": {
     "duration": 1891.250206,
     "end_time": "2023-02-14T02:29:30.247415",
     "exception": false,
     "start_time": "2023-02-14T01:57:58.997209",
     "status": "completed"
    },
    "tags": []
   },
   "outputs": [
    {
     "name": "stderr",
     "output_type": "stream",
     "text": [
      "2023-02-14 01:58:03.919619: I tensorflow/compiler/mlir/mlir_graph_optimization_pass.cc:185] None of the MLIR Optimization Passes are enabled (registered 2)\n"
     ]
    },
    {
     "name": "stdout",
     "output_type": "stream",
     "text": [
      "Epoch 1/50\n",
      "111/111 [==============================] - 42s 330ms/step - loss: 0.3375 - accuracy: 0.8390\n",
      "Epoch 2/50\n",
      "111/111 [==============================] - 37s 331ms/step - loss: 0.2838 - accuracy: 0.8701\n",
      "Epoch 3/50\n",
      "111/111 [==============================] - 37s 336ms/step - loss: 0.2787 - accuracy: 0.8729\n",
      "Epoch 4/50\n",
      "111/111 [==============================] - 38s 335ms/step - loss: 0.2759 - accuracy: 0.8744\n",
      "Epoch 5/50\n",
      "111/111 [==============================] - 37s 333ms/step - loss: 0.2741 - accuracy: 0.8753\n",
      "Epoch 6/50\n",
      "111/111 [==============================] - 37s 330ms/step - loss: 0.2730 - accuracy: 0.8759\n",
      "Epoch 7/50\n",
      "111/111 [==============================] - 42s 380ms/step - loss: 0.2720 - accuracy: 0.8764\n",
      "Epoch 8/50\n",
      "111/111 [==============================] - 38s 339ms/step - loss: 0.2713 - accuracy: 0.8767\n",
      "Epoch 9/50\n",
      "111/111 [==============================] - 38s 336ms/step - loss: 0.2706 - accuracy: 0.8770\n",
      "Epoch 10/50\n",
      "111/111 [==============================] - 47s 425ms/step - loss: 0.2701 - accuracy: 0.8773\n",
      "Epoch 11/50\n",
      "111/111 [==============================] - 37s 335ms/step - loss: 0.2696 - accuracy: 0.8776\n",
      "Epoch 12/50\n",
      "111/111 [==============================] - 38s 341ms/step - loss: 0.2692 - accuracy: 0.8779\n",
      "Epoch 13/50\n",
      "111/111 [==============================] - 37s 336ms/step - loss: 0.2685 - accuracy: 0.8782\n",
      "Epoch 14/50\n",
      "111/111 [==============================] - 38s 335ms/step - loss: 0.2682 - accuracy: 0.8783\n",
      "Epoch 15/50\n",
      "111/111 [==============================] - 38s 338ms/step - loss: 0.2677 - accuracy: 0.8787\n",
      "Epoch 16/50\n",
      "111/111 [==============================] - 38s 336ms/step - loss: 0.2675 - accuracy: 0.8788\n",
      "Epoch 17/50\n",
      "111/111 [==============================] - 38s 340ms/step - loss: 0.2669 - accuracy: 0.8791\n",
      "Epoch 18/50\n",
      "111/111 [==============================] - 37s 337ms/step - loss: 0.2665 - accuracy: 0.8793\n",
      "Epoch 19/50\n",
      "111/111 [==============================] - 37s 338ms/step - loss: 0.2662 - accuracy: 0.8795\n",
      "Epoch 20/50\n",
      "111/111 [==============================] - 37s 334ms/step - loss: 0.2658 - accuracy: 0.8796\n",
      "Epoch 21/50\n",
      "111/111 [==============================] - 38s 341ms/step - loss: 0.2657 - accuracy: 0.8798\n",
      "Epoch 22/50\n",
      "111/111 [==============================] - 38s 346ms/step - loss: 0.2653 - accuracy: 0.8799\n",
      "Epoch 23/50\n",
      "111/111 [==============================] - 38s 344ms/step - loss: 0.2653 - accuracy: 0.8801\n",
      "Epoch 24/50\n",
      "111/111 [==============================] - 38s 339ms/step - loss: 0.2648 - accuracy: 0.8803\n",
      "Epoch 25/50\n",
      "111/111 [==============================] - 38s 336ms/step - loss: 0.2647 - accuracy: 0.8805\n",
      "Epoch 26/50\n",
      "111/111 [==============================] - 38s 339ms/step - loss: 0.2644 - accuracy: 0.8804\n",
      "Epoch 27/50\n",
      "111/111 [==============================] - 38s 337ms/step - loss: 0.2641 - accuracy: 0.8807\n",
      "Epoch 28/50\n",
      "111/111 [==============================] - 37s 329ms/step - loss: 0.2640 - accuracy: 0.8809\n",
      "Epoch 29/50\n",
      "111/111 [==============================] - 37s 327ms/step - loss: 0.2636 - accuracy: 0.8810\n",
      "Epoch 30/50\n",
      "111/111 [==============================] - 37s 327ms/step - loss: 0.2636 - accuracy: 0.8810\n",
      "Epoch 31/50\n",
      "111/111 [==============================] - 37s 334ms/step - loss: 0.2632 - accuracy: 0.8811\n",
      "Epoch 32/50\n",
      "111/111 [==============================] - 39s 347ms/step - loss: 0.2631 - accuracy: 0.8812\n",
      "Epoch 33/50\n",
      "111/111 [==============================] - 38s 343ms/step - loss: 0.2630 - accuracy: 0.8813\n",
      "Epoch 34/50\n",
      "111/111 [==============================] - 37s 331ms/step - loss: 0.2626 - accuracy: 0.8814\n",
      "Epoch 35/50\n",
      "111/111 [==============================] - 37s 331ms/step - loss: 0.2627 - accuracy: 0.8815\n",
      "Epoch 36/50\n",
      "111/111 [==============================] - 37s 330ms/step - loss: 0.2622 - accuracy: 0.8816\n",
      "Epoch 37/50\n",
      "111/111 [==============================] - 37s 328ms/step - loss: 0.2621 - accuracy: 0.8817\n",
      "Epoch 38/50\n",
      "111/111 [==============================] - 37s 330ms/step - loss: 0.2620 - accuracy: 0.8818\n",
      "Epoch 39/50\n",
      "111/111 [==============================] - 37s 327ms/step - loss: 0.2619 - accuracy: 0.8819\n",
      "Epoch 40/50\n",
      "111/111 [==============================] - 36s 326ms/step - loss: 0.2621 - accuracy: 0.8819\n",
      "Epoch 41/50\n",
      "111/111 [==============================] - 37s 327ms/step - loss: 0.2618 - accuracy: 0.8820\n",
      "Epoch 42/50\n",
      "111/111 [==============================] - 37s 332ms/step - loss: 0.2614 - accuracy: 0.8821\n",
      "Epoch 43/50\n",
      "111/111 [==============================] - 37s 330ms/step - loss: 0.2612 - accuracy: 0.8822\n",
      "Epoch 44/50\n",
      "111/111 [==============================] - 37s 333ms/step - loss: 0.2612 - accuracy: 0.8823\n",
      "Epoch 45/50\n",
      "111/111 [==============================] - 37s 334ms/step - loss: 0.2611 - accuracy: 0.8823\n",
      "Epoch 46/50\n",
      "111/111 [==============================] - 37s 331ms/step - loss: 0.2613 - accuracy: 0.8823\n",
      "Epoch 47/50\n",
      "111/111 [==============================] - 37s 332ms/step - loss: 0.2608 - accuracy: 0.8824\n",
      "Epoch 48/50\n",
      "111/111 [==============================] - 37s 334ms/step - loss: 0.2609 - accuracy: 0.8824\n",
      "Epoch 49/50\n",
      "111/111 [==============================] - 37s 335ms/step - loss: 0.2608 - accuracy: 0.8825\n",
      "Epoch 50/50\n",
      "111/111 [==============================] - 37s 333ms/step - loss: 0.2607 - accuracy: 0.8826\n"
     ]
    }
   ],
   "source": [
    "history = model.fit(dict(X_train), target, epochs=50, batch_size=50000)"
   ]
  },
  {
   "cell_type": "markdown",
   "id": "fb70f12e",
   "metadata": {
    "papermill": {
     "duration": 0.348528,
     "end_time": "2023-02-14T02:29:31.025091",
     "exception": false,
     "start_time": "2023-02-14T02:29:30.676563",
     "status": "completed"
    },
    "tags": []
   },
   "source": [
    "## Loss and accuracy plots"
   ]
  },
  {
   "cell_type": "code",
   "execution_count": 16,
   "id": "dc44c185",
   "metadata": {
    "execution": {
     "iopub.execute_input": "2023-02-14T02:29:31.739434Z",
     "iopub.status.busy": "2023-02-14T02:29:31.738585Z",
     "iopub.status.idle": "2023-02-14T02:29:32.227823Z",
     "shell.execute_reply": "2023-02-14T02:29:32.226904Z"
    },
    "papermill": {
     "duration": 0.853194,
     "end_time": "2023-02-14T02:29:32.230265",
     "exception": false,
     "start_time": "2023-02-14T02:29:31.377071",
     "status": "completed"
    },
    "tags": []
   },
   "outputs": [
    {
     "data": {
      "text/plain": [
       "<AxesSubplot:>"
      ]
     },
     "execution_count": 16,
     "metadata": {},
     "output_type": "execute_result"
    },
    {
     "data": {
      "image/png": "[encoded data removed]",
      "text/plain": [
       "<Figure size 432x288 with 1 Axes>"
      ]
     },
     "metadata": {
      "needs_background": "light"
     },
     "output_type": "display_data"
    },
    {
     "data": {
      "image/png": "[encoded data removed]",
      "text/plain": [
       "<Figure size 432x288 with 1 Axes>"
      ]
     },
     "metadata": {
      "needs_background": "light"
     },
     "output_type": "display_data"
    }
   ],
   "source": [
    "# Create a DataFrame with the history dictionary\n",
    "df = pd.DataFrame(history.history, index=range(1, len(history.history[\"loss\"]) + 1))\n",
    "\n",
    "# Plot the loss\n",
    "df.plot(y=\"loss\")\n",
    "\n",
    "# Plot the accuracy\n",
    "df.plot(y=\"accuracy\")"
   ]
  },
  {
   "cell_type": "markdown",
   "id": "cb691e39",
   "metadata": {
    "papermill": {
     "duration": 0.429062,
     "end_time": "2023-02-14T02:29:33.023645",
     "exception": false,
     "start_time": "2023-02-14T02:29:32.594583",
     "status": "completed"
    },
    "tags": []
   },
   "source": [
    "## M score and classification report"
   ]
  },
  {
   "cell_type": "code",
   "execution_count": 17,
   "id": "4a50afb8",
   "metadata": {
    "execution": {
     "iopub.execute_input": "2023-02-14T02:29:33.733032Z",
     "iopub.status.busy": "2023-02-14T02:29:33.732236Z",
     "iopub.status.idle": "2023-02-14T02:30:17.691622Z",
     "shell.execute_reply": "2023-02-14T02:30:17.690308Z"
    },
    "papermill": {
     "duration": 44.320904,
     "end_time": "2023-02-14T02:30:17.696089",
     "exception": false,
     "start_time": "2023-02-14T02:29:33.375185",
     "status": "completed"
    },
    "tags": []
   },
   "outputs": [
    {
     "name": "stdout",
     "output_type": "stream",
     "text": [
      "1107/1107 [==============================] - 35s 29ms/step\n"
     ]
    }
   ],
   "source": [
    "preds = model.predict(dict(X_train), batch_size=5000, verbose=1)"
   ]
  },
  {
   "cell_type": "markdown",
   "id": "d2060dc4",
   "metadata": {
    "execution": {
     "iopub.execute_input": "2023-02-11T04:38:17.336553Z",
     "iopub.status.busy": "2023-02-11T04:38:17.336094Z",
     "iopub.status.idle": "2023-02-11T04:38:17.345572Z",
     "shell.execute_reply": "2023-02-11T04:38:17.343568Z",
     "shell.execute_reply.started": "2023-02-11T04:38:17.336517Z"
    },
    "papermill": {
     "duration": 0.462994,
     "end_time": "2023-02-14T02:30:18.572139",
     "exception": false,
     "start_time": "2023-02-14T02:30:18.109145",
     "status": "completed"
    },
    "tags": []
   },
   "source": [
    "Function to calculate competition's evaluation metric: https://www.kaggle.com/code/inversion/amex-competition-metric-python"
   ]
  },
  {
   "cell_type": "code",
   "execution_count": 18,
   "id": "bacee612",
   "metadata": {
    "execution": {
     "iopub.execute_input": "2023-02-14T02:30:19.352503Z",
     "iopub.status.busy": "2023-02-14T02:30:19.351135Z",
     "iopub.status.idle": "2023-02-14T02:30:19.366150Z",
     "shell.execute_reply": "2023-02-14T02:30:19.365240Z"
    },
    "jupyter": {
     "source_hidden": true
    },
    "papermill": {
     "duration": 0.410186,
     "end_time": "2023-02-14T02:30:19.368822",
     "exception": false,
     "start_time": "2023-02-14T02:30:18.958636",
     "status": "completed"
    },
    "tags": []
   },
   "outputs": [],
   "source": [
    "def amex_metric(y_true: pd.DataFrame, y_pred: pd.DataFrame) -> float:\n",
    "\n",
    "    def top_four_percent_captured(y_true: pd.DataFrame, y_pred: pd.DataFrame) -> float:\n",
    "        df = (pd.concat([y_true, y_pred], axis='columns')\n",
    "              .sort_values('prediction', ascending=False))\n",
    "        df['weight'] = df['target'].apply(lambda x: 20 if x==0 else 1)\n",
    "        four_pct_cutoff = int(0.04 * df['weight'].sum())\n",
    "        df['weight_cumsum'] = df['weight'].cumsum()\n",
    "        df_cutoff = df.loc[df['weight_cumsum'] <= four_pct_cutoff]\n",
    "        return (df_cutoff['target'] == 1).sum() / (df['target'] == 1).sum()\n",
    "        \n",
    "    def weighted_gini(y_true: pd.DataFrame, y_pred: pd.DataFrame) -> float:\n",
    "        df = (pd.concat([y_true, y_pred], axis='columns')\n",
    "              .sort_values('prediction', ascending=False))\n",
    "        df['weight'] = df['target'].apply(lambda x: 20 if x==0 else 1)\n",
    "        df['random'] = (df['weight'] / df['weight'].sum()).cumsum()\n",
    "        total_pos = (df['target'] * df['weight']).sum()\n",
    "        df['cum_pos_found'] = (df['target'] * df['weight']).cumsum()\n",
    "        df['lorentz'] = df['cum_pos_found'] / total_pos\n",
    "        df['gini'] = (df['lorentz'] - df['random']) * df['weight']\n",
    "        return df['gini'].sum()\n",
    "\n",
    "    def normalized_weighted_gini(y_true: pd.DataFrame, y_pred: pd.DataFrame) -> float:\n",
    "        y_true_pred = y_true.rename(columns={'target': 'prediction'})\n",
    "        return weighted_gini(y_true, y_pred) / weighted_gini(y_true, y_true_pred)\n",
    "\n",
    "    g = normalized_weighted_gini(y_true, y_pred)\n",
    "    d = top_four_percent_captured(y_true, y_pred)\n",
    "\n",
    "    return 0.5 * (g + d)"
   ]
  },
  {
   "cell_type": "code",
   "execution_count": 19,
   "id": "ec9859a1",
   "metadata": {
    "execution": {
     "iopub.execute_input": "2023-02-14T02:30:20.226691Z",
     "iopub.status.busy": "2023-02-14T02:30:20.225784Z",
     "iopub.status.idle": "2023-02-14T02:30:36.749268Z",
     "shell.execute_reply": "2023-02-14T02:30:36.747858Z"
    },
    "papermill": {
     "duration": 16.990225,
     "end_time": "2023-02-14T02:30:36.751588",
     "exception": false,
     "start_time": "2023-02-14T02:30:19.761363",
     "status": "completed"
    },
    "tags": []
   },
   "outputs": [
    {
     "name": "stdout",
     "output_type": "stream",
     "text": [
      "M = 0.7175047053235255\n"
     ]
    }
   ],
   "source": [
    "print(f'M = {amex_metric(pd.DataFrame(target), pd.DataFrame(preds, index=target.index, columns=[\"prediction\"]))}')"
   ]
  },
  {
   "cell_type": "code",
   "execution_count": 20,
   "id": "40de9a48",
   "metadata": {
    "execution": {
     "iopub.execute_input": "2023-02-14T02:30:37.547400Z",
     "iopub.status.busy": "2023-02-14T02:30:37.546695Z",
     "iopub.status.idle": "2023-02-14T02:30:49.087471Z",
     "shell.execute_reply": "2023-02-14T02:30:49.086021Z"
    },
    "papermill": {
     "duration": 11.942475,
     "end_time": "2023-02-14T02:30:49.090342",
     "exception": false,
     "start_time": "2023-02-14T02:30:37.147867",
     "status": "completed"
    },
    "tags": []
   },
   "outputs": [
    {
     "name": "stdout",
     "output_type": "stream",
     "text": [
      "              precision    recall  f1-score   support\n",
      "\n",
      "           0       0.92      0.92      0.92   4153582\n",
      "           1       0.77      0.76      0.76   1377869\n",
      "\n",
      "    accuracy                           0.88   5531451\n",
      "   macro avg       0.84      0.84      0.84   5531451\n",
      "weighted avg       0.88      0.88      0.88   5531451\n",
      "\n"
     ]
    }
   ],
   "source": [
    "print(classification_report(target, (preds > 0.5).astype(\"int32\")))"
   ]
  },
  {
   "cell_type": "code",
   "execution_count": 21,
   "id": "a8cbbe4a",
   "metadata": {
    "execution": {
     "iopub.execute_input": "2023-02-14T02:30:49.959767Z",
     "iopub.status.busy": "2023-02-14T02:30:49.958796Z",
     "iopub.status.idle": "2023-02-14T02:30:50.350502Z",
     "shell.execute_reply": "2023-02-14T02:30:50.348585Z"
    },
    "papermill": {
     "duration": 0.862716,
     "end_time": "2023-02-14T02:30:50.354900",
     "exception": false,
     "start_time": "2023-02-14T02:30:49.492184",
     "status": "completed"
    },
    "tags": []
   },
   "outputs": [
    {
     "data": {
      "text/plain": [
       "24023"
      ]
     },
     "execution_count": 21,
     "metadata": {},
     "output_type": "execute_result"
    }
   ],
   "source": [
    "del X_train, target\n",
    "gc.collect()"
   ]
  },
  {
   "cell_type": "markdown",
   "id": "cdf4604c",
   "metadata": {
    "papermill": {
     "duration": 0.393713,
     "end_time": "2023-02-14T02:30:51.147225",
     "exception": false,
     "start_time": "2023-02-14T02:30:50.753512",
     "status": "completed"
    },
    "tags": []
   },
   "source": [
    "## Save model and predict on test set"
   ]
  },
  {
   "cell_type": "code",
   "execution_count": 22,
   "id": "68afc0c4",
   "metadata": {
    "execution": {
     "iopub.execute_input": "2023-02-14T02:30:51.998833Z",
     "iopub.status.busy": "2023-02-14T02:30:51.998377Z",
     "iopub.status.idle": "2023-02-14T02:30:52.219795Z",
     "shell.execute_reply": "2023-02-14T02:30:52.218514Z"
    },
    "papermill": {
     "duration": 0.613643,
     "end_time": "2023-02-14T02:30:52.222841",
     "exception": false,
     "start_time": "2023-02-14T02:30:51.609198",
     "status": "completed"
    },
    "tags": []
   },
   "outputs": [],
   "source": [
    "model.save('baseline_shallow_nn.h5')"
   ]
  },
  {
   "cell_type": "code",
   "execution_count": 23,
   "id": "ae279687",
   "metadata": {
    "execution": {
     "iopub.execute_input": "2023-02-14T02:30:53.011823Z",
     "iopub.status.busy": "2023-02-14T02:30:53.011386Z",
     "iopub.status.idle": "2023-02-14T02:32:02.149703Z",
     "shell.execute_reply": "2023-02-14T02:32:02.147212Z"
    },
    "papermill": {
     "duration": 69.53854,
     "end_time": "2023-02-14T02:32:02.154399",
     "exception": false,
     "start_time": "2023-02-14T02:30:52.615859",
     "status": "completed"
    },
    "tags": []
   },
   "outputs": [],
   "source": [
    "X_test_1 = pd.read_feather('../input/amex-imputed-and-1hot-encoded/X_test_1.ftr').set_index('customer_ID')\n",
    "X_test_2 = pd.read_feather('../input/amex-imputed-and-1hot-encoded/X_test_2.ftr').set_index('customer_ID')"
   ]
  },
  {
   "cell_type": "code",
   "execution_count": 24,
   "id": "74fe8212",
   "metadata": {
    "execution": {
     "iopub.execute_input": "2023-02-14T02:32:03.569959Z",
     "iopub.status.busy": "2023-02-14T02:32:03.569511Z",
     "iopub.status.idle": "2023-02-14T02:33:19.245818Z",
     "shell.execute_reply": "2023-02-14T02:33:19.244537Z"
    },
    "papermill": {
     "duration": 76.107636,
     "end_time": "2023-02-14T02:33:19.249213",
     "exception": false,
     "start_time": "2023-02-14T02:32:03.141577",
     "status": "completed"
    },
    "tags": []
   },
   "outputs": [
    {
     "name": "stdout",
     "output_type": "stream",
     "text": [
      "1137/1137 [==============================] - 35s 30ms/step\n",
      "1137/1137 [==============================] - 35s 30ms/step\n"
     ]
    }
   ],
   "source": [
    "preds1 = pd.DataFrame(model.predict(dict(X_test_1), batch_size=5000, verbose=1), index=X_test_1.index, columns=['prediction'])\n",
    "preds2 = pd.DataFrame(model.predict(dict(X_test_2), batch_size=5000, verbose=1), index=X_test_2.index, columns=['prediction'])"
   ]
  },
  {
   "cell_type": "code",
   "execution_count": 25,
   "id": "39e11dc8",
   "metadata": {
    "execution": {
     "iopub.execute_input": "2023-02-14T02:33:20.284299Z",
     "iopub.status.busy": "2023-02-14T02:33:20.283787Z",
     "iopub.status.idle": "2023-02-14T02:33:26.414347Z",
     "shell.execute_reply": "2023-02-14T02:33:26.413156Z"
    },
    "papermill": {
     "duration": 6.599775,
     "end_time": "2023-02-14T02:33:26.417179",
     "exception": false,
     "start_time": "2023-02-14T02:33:19.817404",
     "status": "completed"
    },
    "tags": []
   },
   "outputs": [],
   "source": [
    "submission = pd.concat([preds1, preds2])\n",
    "\n",
    "# predictions only need to be for each customer\n",
    "submission = submission.groupby('customer_ID').agg(['last'])\n",
    "submission.columns = submission.columns.droplevel(1)\n",
    "\n",
    "# index needs to be removed from submission csv\n",
    "submission = submission.reset_index()\n",
    "submission.to_csv('baseline_shallow_nn_submission.csv', index=False)"
   ]
  }
 ],
 "metadata": {
  "kernelspec": {
   "display_name": "Python 3",
   "language": "python",
   "name": "python3"
  },
  "language_info": {
   "codemirror_mode": {
    "name": "ipython",
    "version": 3
   },
   "file_extension": ".py",
   "mimetype": "text/x-python",
   "name": "python",
   "nbconvert_exporter": "python",
   "pygments_lexer": "ipython3",
   "version": "3.7.12"
  },
  "papermill": {
   "default_parameters": {},
   "duration": 2189.323294,
   "end_time": "2023-02-14T02:33:30.743868",
   "environment_variables": {},
   "exception": null,
   "input_path": "__notebook__.ipynb",
   "output_path": "__notebook__.ipynb",
   "parameters": {},
   "start_time": "2023-02-14T01:57:01.420574",
   "version": "2.3.4"
  }
 },
 "nbformat": 4,
 "nbformat_minor": 5
}
