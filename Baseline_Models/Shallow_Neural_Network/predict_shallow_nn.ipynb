{
 "cells": [
  {
   "cell_type": "code",
   "execution_count": 1,
   "id": "d183fbe4",
   "metadata": {
    "execution": {
     "iopub.execute_input": "2023-02-11T02:27:14.528356Z",
     "iopub.status.busy": "2023-02-11T02:27:14.527032Z",
     "iopub.status.idle": "2023-02-11T02:27:21.393597Z",
     "shell.execute_reply": "2023-02-11T02:27:21.392064Z"
    },
    "papermill": {
     "duration": 6.876859,
     "end_time": "2023-02-11T02:27:21.397124",
     "exception": false,
     "start_time": "2023-02-11T02:27:14.520265",
     "status": "completed"
    },
    "tags": []
   },
   "outputs": [],
   "source": [
    "import gc\n",
    "import tensorflow as tf\n",
    "import numpy as np\n",
    "import pandas as pd"
   ]
  },
  {
   "cell_type": "code",
   "execution_count": 2,
   "id": "044af7d2",
   "metadata": {
    "execution": {
     "iopub.execute_input": "2023-02-11T02:27:21.406541Z",
     "iopub.status.busy": "2023-02-11T02:27:21.404735Z",
     "iopub.status.idle": "2023-02-11T02:28:27.193380Z",
     "shell.execute_reply": "2023-02-11T02:28:27.189994Z"
    },
    "papermill": {
     "duration": 65.803138,
     "end_time": "2023-02-11T02:28:27.203585",
     "exception": false,
     "start_time": "2023-02-11T02:27:21.400447",
     "status": "completed"
    },
    "tags": []
   },
   "outputs": [],
   "source": [
    "X_test_1 = pd.read_feather('../input/amex-imputed-and-1hot-encoded/X_test_1.ftr').set_index('customer_ID')\n",
    "X_test_2 = pd.read_feather('../input/amex-imputed-and-1hot-encoded/X_test_2.ftr').set_index('customer_ID')"
   ]
  },
  {
   "cell_type": "code",
   "execution_count": 3,
   "id": "5814ffda",
   "metadata": {
    "execution": {
     "iopub.execute_input": "2023-02-11T02:28:27.220059Z",
     "iopub.status.busy": "2023-02-11T02:28:27.219163Z",
     "iopub.status.idle": "2023-02-11T02:28:31.819019Z",
     "shell.execute_reply": "2023-02-11T02:28:31.817501Z"
    },
    "papermill": {
     "duration": 4.610289,
     "end_time": "2023-02-11T02:28:31.823039",
     "exception": false,
     "start_time": "2023-02-11T02:28:27.212750",
     "status": "completed"
    },
    "tags": []
   },
   "outputs": [
    {
     "name": "stderr",
     "output_type": "stream",
     "text": [
      "2023-02-11 02:28:30.805924: I tensorflow/core/common_runtime/process_util.cc:146] Creating new thread pool with default inter op setting: 2. Tune using inter_op_parallelism_threads for best performance.\n"
     ]
    }
   ],
   "source": [
    "model = tf.keras.models.load_model('/kaggle/input/test-dtc-model/shallow_nn.h5')"
   ]
  },
  {
   "cell_type": "code",
   "execution_count": 4,
   "id": "c66c9171",
   "metadata": {
    "execution": {
     "iopub.execute_input": "2023-02-11T02:28:31.831657Z",
     "iopub.status.busy": "2023-02-11T02:28:31.830545Z",
     "iopub.status.idle": "2023-02-11T02:30:15.281087Z",
     "shell.execute_reply": "2023-02-11T02:30:15.279779Z"
    },
    "papermill": {
     "duration": 103.458638,
     "end_time": "2023-02-11T02:30:15.284731",
     "exception": false,
     "start_time": "2023-02-11T02:28:31.826093",
     "status": "completed"
    },
    "tags": []
   },
   "outputs": [
    {
     "name": "stderr",
     "output_type": "stream",
     "text": [
      "2023-02-11 02:28:37.380654: I tensorflow/compiler/mlir/mlir_graph_optimization_pass.cc:185] None of the MLIR Optimization Passes are enabled (registered 2)\n"
     ]
    },
    {
     "name": "stdout",
     "output_type": "stream",
     "text": [
      "1137/1137 [==============================] - 41s 33ms/step\n",
      "1137/1137 [==============================] - 43s 37ms/step\n"
     ]
    }
   ],
   "source": [
    "preds1 = pd.DataFrame(model.predict(dict(X_test_1), batch_size=5000, verbose=1), index=X_test_1.index, columns=['prediction'])\n",
    "preds2 = pd.DataFrame(model.predict(dict(X_test_2), batch_size=5000, verbose=1), index=X_test_2.index, columns=['prediction'])"
   ]
  },
  {
   "cell_type": "code",
   "execution_count": 5,
   "id": "41442703",
   "metadata": {
    "execution": {
     "iopub.execute_input": "2023-02-11T02:30:15.438591Z",
     "iopub.status.busy": "2023-02-11T02:30:15.438061Z",
     "iopub.status.idle": "2023-02-11T02:30:15.807403Z",
     "shell.execute_reply": "2023-02-11T02:30:15.805981Z"
    },
    "papermill": {
     "duration": 0.449375,
     "end_time": "2023-02-11T02:30:15.810614",
     "exception": false,
     "start_time": "2023-02-11T02:30:15.361239",
     "status": "completed"
    },
    "tags": []
   },
   "outputs": [
    {
     "data": {
      "text/plain": [
       "11178"
      ]
     },
     "execution_count": 5,
     "metadata": {},
     "output_type": "execute_result"
    }
   ],
   "source": [
    "del X_test_1, X_test_2\n",
    "gc.collect()"
   ]
  },
  {
   "cell_type": "code",
   "execution_count": 6,
   "id": "191aa4a1",
   "metadata": {
    "execution": {
     "iopub.execute_input": "2023-02-11T02:30:15.961703Z",
     "iopub.status.busy": "2023-02-11T02:30:15.960865Z",
     "iopub.status.idle": "2023-02-11T02:30:22.391688Z",
     "shell.execute_reply": "2023-02-11T02:30:22.390156Z"
    },
    "papermill": {
     "duration": 6.510026,
     "end_time": "2023-02-11T02:30:22.394882",
     "exception": false,
     "start_time": "2023-02-11T02:30:15.884856",
     "status": "completed"
    },
    "tags": []
   },
   "outputs": [],
   "source": [
    "submission = pd.concat([preds1, preds2])\n",
    "\n",
    "# predictions only need to be for each customer\n",
    "submission = submission.groupby('customer_ID').agg(['last'])\n",
    "submission.columns = submission.columns.droplevel(1)\n",
    "\n",
    "# index needs to be removed from submission csv\n",
    "submission = submission.reset_index()\n",
    "submission.to_csv('submission.csv', index=False)"
   ]
  }
 ],
 "metadata": {
  "kernelspec": {
   "display_name": "Python 3",
   "language": "python",
   "name": "python3"
  },
  "language_info": {
   "codemirror_mode": {
    "name": "ipython",
    "version": 3
   },
   "file_extension": ".py",
   "mimetype": "text/x-python",
   "name": "python",
   "nbconvert_exporter": "python",
   "pygments_lexer": "ipython3",
   "version": "3.7.12"
  },
  "papermill": {
   "default_parameters": {},
   "duration": 202.404957,
   "end_time": "2023-02-11T02:30:26.487452",
   "environment_variables": {},
   "exception": null,
   "input_path": "__notebook__.ipynb",
   "output_path": "__notebook__.ipynb",
   "parameters": {},
   "start_time": "2023-02-11T02:27:04.082495",
   "version": "2.3.4"
  }
 },
 "nbformat": 4,
 "nbformat_minor": 5
}
