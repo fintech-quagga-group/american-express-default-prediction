{
 "cells": [
  {
   "cell_type": "code",
   "execution_count": 1,
   "id": "aadafc41",
   "metadata": {
    "_cell_guid": "b1076dfc-b9ad-4769-8c92-a6c4dae69d19",
    "_uuid": "8f2839f25d086af736a60e9eeb907d3b93b6e0e5",
    "execution": {
     "iopub.execute_input": "2023-02-11T01:02:56.818653Z",
     "iopub.status.busy": "2023-02-11T01:02:56.817986Z",
     "iopub.status.idle": "2023-02-11T01:03:04.263878Z",
     "shell.execute_reply": "2023-02-11T01:03:04.262536Z"
    },
    "papermill": {
     "duration": 7.457954,
     "end_time": "2023-02-11T01:03:04.266987",
     "exception": false,
     "start_time": "2023-02-11T01:02:56.809033",
     "status": "completed"
    },
    "tags": []
   },
   "outputs": [],
   "source": [
    "import pandas as pd \n",
    "import numpy as np\n",
    "import tensorflow as tf\n",
    "from sklearn.metrics import classification_report"
   ]
  },
  {
   "cell_type": "markdown",
   "id": "fd2106b3",
   "metadata": {
    "papermill": {
     "duration": 0.005296,
     "end_time": "2023-02-11T01:03:04.278425",
     "exception": false,
     "start_time": "2023-02-11T01:03:04.273129",
     "status": "completed"
    },
    "tags": []
   },
   "source": [
    "# Modiying our data for tensorflow neural networks \n",
    "\n",
    "The datasets we use are too big to pass into the neural networks, so we need to transform and preprocess our data for better performance in training our models. \n",
    "\n",
    "Most of this code follows the [Load a pandas DataFrame](https://www.tensorflow.org/tutorials/load_data/pandas_dataframe#full_example) preprocessing guide."
   ]
  },
  {
   "cell_type": "code",
   "execution_count": 2,
   "id": "a6448632",
   "metadata": {
    "execution": {
     "iopub.execute_input": "2023-02-11T01:03:04.291969Z",
     "iopub.status.busy": "2023-02-11T01:03:04.290958Z",
     "iopub.status.idle": "2023-02-11T01:03:29.976100Z",
     "shell.execute_reply": "2023-02-11T01:03:29.974712Z"
    },
    "papermill": {
     "duration": 25.695177,
     "end_time": "2023-02-11T01:03:29.979096",
     "exception": false,
     "start_time": "2023-02-11T01:03:04.283919",
     "status": "completed"
    },
    "tags": []
   },
   "outputs": [],
   "source": [
    "X_train = pd.read_feather('/kaggle/input/amex-imputed-and-1hot-encoded/X_train.ftr').set_index('customer_ID')\n",
    "target = pd.read_feather('/kaggle/input/amex-imputed-and-1hot-encoded/y_train.ftr').set_index('customer_ID')['target']"
   ]
  },
  {
   "cell_type": "code",
   "execution_count": 3,
   "id": "4e7c1015",
   "metadata": {
    "execution": {
     "iopub.execute_input": "2023-02-11T01:03:29.993398Z",
     "iopub.status.busy": "2023-02-11T01:03:29.992624Z",
     "iopub.status.idle": "2023-02-11T01:03:29.999740Z",
     "shell.execute_reply": "2023-02-11T01:03:29.998754Z"
    },
    "papermill": {
     "duration": 0.017477,
     "end_time": "2023-02-11T01:03:30.002366",
     "exception": false,
     "start_time": "2023-02-11T01:03:29.984889",
     "status": "completed"
    },
    "tags": []
   },
   "outputs": [],
   "source": [
    "# split the feature names into lists based on their type\n",
    "cat_features = ['B_30', 'B_38', 'D_114', 'D_116', 'D_117', 'D_120', 'D_126', 'D_63', 'D_64', 'D_66', 'D_68']\n",
    "binary_feature_names = [col for col in X_train if '_'.join(col.split(\"_\", 2)[:2]) in cat_features]\n",
    "numeric_feature_names = [col for col in X_train if col not in binary_feature_names]"
   ]
  },
  {
   "cell_type": "code",
   "execution_count": 4,
   "id": "4ac3f165",
   "metadata": {
    "execution": {
     "iopub.execute_input": "2023-02-11T01:03:30.016626Z",
     "iopub.status.busy": "2023-02-11T01:03:30.015899Z",
     "iopub.status.idle": "2023-02-11T01:03:31.593857Z",
     "shell.execute_reply": "2023-02-11T01:03:31.592511Z"
    },
    "papermill": {
     "duration": 1.588506,
     "end_time": "2023-02-11T01:03:31.597013",
     "exception": false,
     "start_time": "2023-02-11T01:03:30.008507",
     "status": "completed"
    },
    "tags": []
   },
   "outputs": [],
   "source": [
    "# turn each column of the dataframe into a tf.keras.Input() object \n",
    "inputs = {}\n",
    "for name, column in X_train.items():\n",
    "  if (name in binary_feature_names):\n",
    "    dtype = tf.int64\n",
    "  else:\n",
    "    dtype = tf.float32\n",
    "\n",
    "  inputs[name] = tf.keras.Input(shape=(), name=name, dtype=dtype)"
   ]
  },
  {
   "cell_type": "markdown",
   "id": "45117abc",
   "metadata": {
    "papermill": {
     "duration": 0.005208,
     "end_time": "2023-02-11T01:03:31.607874",
     "exception": false,
     "start_time": "2023-02-11T01:03:31.602666",
     "status": "completed"
    },
    "tags": []
   },
   "source": [
    "## Preprocessing inputs \n",
    "\n",
    "To preserve memory and be more efficient, we need to pass each feature through a preprocessing pipeline. For our purposes, we essentially just convert every column into `tf.float32`. "
   ]
  },
  {
   "cell_type": "code",
   "execution_count": 5,
   "id": "3e8a64fd",
   "metadata": {
    "execution": {
     "iopub.execute_input": "2023-02-11T01:03:31.621431Z",
     "iopub.status.busy": "2023-02-11T01:03:31.621009Z",
     "iopub.status.idle": "2023-02-11T01:03:32.032040Z",
     "shell.execute_reply": "2023-02-11T01:03:32.030983Z"
    },
    "papermill": {
     "duration": 0.421124,
     "end_time": "2023-02-11T01:03:32.034842",
     "exception": false,
     "start_time": "2023-02-11T01:03:31.613718",
     "status": "completed"
    },
    "tags": []
   },
   "outputs": [
    {
     "name": "stderr",
     "output_type": "stream",
     "text": [
      "2023-02-11 01:03:31.636055: I tensorflow/core/common_runtime/process_util.cc:146] Creating new thread pool with default inter op setting: 2. Tune using inter_op_parallelism_threads for best performance.\n"
     ]
    }
   ],
   "source": [
    "preprocessed = []\n",
    "\n",
    "# preprocess binary features by converting to float32\n",
    "for name in binary_feature_names:\n",
    "  inp = inputs[name]\n",
    "  inp = inp[:, tf.newaxis]\n",
    "  float_value = tf.cast(inp, tf.float32)\n",
    "  preprocessed.append(float_value)"
   ]
  },
  {
   "cell_type": "code",
   "execution_count": 6,
   "id": "b8518a18",
   "metadata": {
    "execution": {
     "iopub.execute_input": "2023-02-11T01:03:32.048059Z",
     "iopub.status.busy": "2023-02-11T01:03:32.047633Z",
     "iopub.status.idle": "2023-02-11T01:03:32.054943Z",
     "shell.execute_reply": "2023-02-11T01:03:32.053701Z"
    },
    "papermill": {
     "duration": 0.016782,
     "end_time": "2023-02-11T01:03:32.057324",
     "exception": false,
     "start_time": "2023-02-11T01:03:32.040542",
     "status": "completed"
    },
    "tags": []
   },
   "outputs": [],
   "source": [
    "def stack_dict(inputs, fun=tf.stack):\n",
    "    \"\"\"\n",
    "    Stacks numerical tf.keras.Input() objects as tf.float32 \n",
    "\n",
    "    Parameters\n",
    "    ----------\n",
    "    inputs: dict{string: tf.keras.Input()}\n",
    "        Python dictionary where keys are the column name and values are the previously made tf.keras.Input() objects\n",
    "    fun: function()\n",
    "        Function to manipulate inputs. Default is tf.stack()\n",
    "\n",
    "    Returns\n",
    "    -------\n",
    "    tf.Tensor\n",
    "        A stacked float32 Tensor\n",
    "    \"\"\"   \n",
    "    \n",
    "    values = []\n",
    "    for key in sorted(inputs.keys()):\n",
    "      values.append(tf.cast(inputs[key], tf.float32))\n",
    "\n",
    "    return fun(values, axis=-1)"
   ]
  },
  {
   "cell_type": "code",
   "execution_count": 7,
   "id": "5b4f4992",
   "metadata": {
    "execution": {
     "iopub.execute_input": "2023-02-11T01:03:32.070589Z",
     "iopub.status.busy": "2023-02-11T01:03:32.070135Z",
     "iopub.status.idle": "2023-02-11T01:03:32.450154Z",
     "shell.execute_reply": "2023-02-11T01:03:32.449000Z"
    },
    "papermill": {
     "duration": 0.389893,
     "end_time": "2023-02-11T01:03:32.452999",
     "exception": false,
     "start_time": "2023-02-11T01:03:32.063106",
     "status": "completed"
    },
    "tags": []
   },
   "outputs": [
    {
     "data": {
      "text/plain": [
       "[<KerasTensor: shape=(None, 1) dtype=float32 (created by layer 'tf.cast')>,\n",
       " <KerasTensor: shape=(None, 1) dtype=float32 (created by layer 'tf.cast_1')>,\n",
       " <KerasTensor: shape=(None, 1) dtype=float32 (created by layer 'tf.cast_2')>,\n",
       " <KerasTensor: shape=(None, 1) dtype=float32 (created by layer 'tf.cast_3')>,\n",
       " <KerasTensor: shape=(None, 1) dtype=float32 (created by layer 'tf.cast_4')>,\n",
       " <KerasTensor: shape=(None, 1) dtype=float32 (created by layer 'tf.cast_5')>,\n",
       " <KerasTensor: shape=(None, 1) dtype=float32 (created by layer 'tf.cast_6')>,\n",
       " <KerasTensor: shape=(None, 1) dtype=float32 (created by layer 'tf.cast_7')>,\n",
       " <KerasTensor: shape=(None, 1) dtype=float32 (created by layer 'tf.cast_8')>,\n",
       " <KerasTensor: shape=(None, 1) dtype=float32 (created by layer 'tf.cast_9')>,\n",
       " <KerasTensor: shape=(None, 1) dtype=float32 (created by layer 'tf.cast_10')>,\n",
       " <KerasTensor: shape=(None, 1) dtype=float32 (created by layer 'tf.cast_11')>,\n",
       " <KerasTensor: shape=(None, 1) dtype=float32 (created by layer 'tf.cast_12')>,\n",
       " <KerasTensor: shape=(None, 1) dtype=float32 (created by layer 'tf.cast_13')>,\n",
       " <KerasTensor: shape=(None, 1) dtype=float32 (created by layer 'tf.cast_14')>,\n",
       " <KerasTensor: shape=(None, 1) dtype=float32 (created by layer 'tf.cast_15')>,\n",
       " <KerasTensor: shape=(None, 1) dtype=float32 (created by layer 'tf.cast_16')>,\n",
       " <KerasTensor: shape=(None, 1) dtype=float32 (created by layer 'tf.cast_17')>,\n",
       " <KerasTensor: shape=(None, 1) dtype=float32 (created by layer 'tf.cast_18')>,\n",
       " <KerasTensor: shape=(None, 1) dtype=float32 (created by layer 'tf.cast_19')>,\n",
       " <KerasTensor: shape=(None, 1) dtype=float32 (created by layer 'tf.cast_20')>,\n",
       " <KerasTensor: shape=(None, 1) dtype=float32 (created by layer 'tf.cast_21')>,\n",
       " <KerasTensor: shape=(None, 1) dtype=float32 (created by layer 'tf.cast_22')>,\n",
       " <KerasTensor: shape=(None, 1) dtype=float32 (created by layer 'tf.cast_23')>,\n",
       " <KerasTensor: shape=(None, 1) dtype=float32 (created by layer 'tf.cast_24')>,\n",
       " <KerasTensor: shape=(None, 1) dtype=float32 (created by layer 'tf.cast_25')>,\n",
       " <KerasTensor: shape=(None, 1) dtype=float32 (created by layer 'tf.cast_26')>,\n",
       " <KerasTensor: shape=(None, 1) dtype=float32 (created by layer 'tf.cast_27')>,\n",
       " <KerasTensor: shape=(None, 1) dtype=float32 (created by layer 'tf.cast_28')>,\n",
       " <KerasTensor: shape=(None, 1) dtype=float32 (created by layer 'tf.cast_29')>,\n",
       " <KerasTensor: shape=(None, 1) dtype=float32 (created by layer 'tf.cast_30')>,\n",
       " <KerasTensor: shape=(None, 1) dtype=float32 (created by layer 'tf.cast_31')>,\n",
       " <KerasTensor: shape=(None, 1) dtype=float32 (created by layer 'tf.cast_32')>,\n",
       " <KerasTensor: shape=(None, 1) dtype=float32 (created by layer 'tf.cast_33')>,\n",
       " <KerasTensor: shape=(None, 1) dtype=float32 (created by layer 'tf.cast_34')>,\n",
       " <KerasTensor: shape=(None, 1) dtype=float32 (created by layer 'tf.cast_35')>,\n",
       " <KerasTensor: shape=(None, 1) dtype=float32 (created by layer 'tf.cast_36')>,\n",
       " <KerasTensor: shape=(None, 1) dtype=float32 (created by layer 'tf.cast_37')>,\n",
       " <KerasTensor: shape=(None, 1) dtype=float32 (created by layer 'tf.cast_38')>,\n",
       " <KerasTensor: shape=(None, 1) dtype=float32 (created by layer 'tf.cast_39')>,\n",
       " <KerasTensor: shape=(None, 1) dtype=float32 (created by layer 'tf.cast_40')>,\n",
       " <KerasTensor: shape=(None, 1) dtype=float32 (created by layer 'tf.cast_41')>,\n",
       " <KerasTensor: shape=(None, 1) dtype=float32 (created by layer 'tf.cast_42')>,\n",
       " <KerasTensor: shape=(None, 1) dtype=float32 (created by layer 'tf.cast_43')>,\n",
       " <KerasTensor: shape=(None, 1) dtype=float32 (created by layer 'tf.cast_44')>,\n",
       " <KerasTensor: shape=(None, 1) dtype=float32 (created by layer 'tf.cast_45')>,\n",
       " <KerasTensor: shape=(None, 1) dtype=float32 (created by layer 'tf.cast_46')>,\n",
       " <KerasTensor: shape=(None, 1) dtype=float32 (created by layer 'tf.cast_47')>,\n",
       " <KerasTensor: shape=(None, 1) dtype=float32 (created by layer 'tf.cast_48')>,\n",
       " <KerasTensor: shape=(None, 1) dtype=float32 (created by layer 'tf.cast_49')>,\n",
       " <KerasTensor: shape=(None, 1) dtype=float32 (created by layer 'tf.cast_50')>,\n",
       " <KerasTensor: shape=(None, 1) dtype=float32 (created by layer 'tf.cast_51')>,\n",
       " <KerasTensor: shape=(None, 1) dtype=float32 (created by layer 'tf.cast_52')>,\n",
       " <KerasTensor: shape=(None, 1) dtype=float32 (created by layer 'tf.cast_53')>,\n",
       " <KerasTensor: shape=(None, 1) dtype=float32 (created by layer 'tf.cast_54')>,\n",
       " <KerasTensor: shape=(None, 177) dtype=float32 (created by layer 'tf.stack')>]"
      ]
     },
     "execution_count": 7,
     "metadata": {},
     "output_type": "execute_result"
    }
   ],
   "source": [
    "numeric_inputs = {}\n",
    "for name in numeric_feature_names:\n",
    "  numeric_inputs[name] = inputs[name]\n",
    "\n",
    "# preprocess numeric inputs by stacking them and converting to float32\n",
    "numeric_inputs = stack_dict(numeric_inputs)\n",
    "preprocessed.append(numeric_inputs)\n",
    "\n",
    "preprocessed"
   ]
  },
  {
   "cell_type": "code",
   "execution_count": 8,
   "id": "92503ad7",
   "metadata": {
    "execution": {
     "iopub.execute_input": "2023-02-11T01:03:32.467226Z",
     "iopub.status.busy": "2023-02-11T01:03:32.466115Z",
     "iopub.status.idle": "2023-02-11T01:03:32.509481Z",
     "shell.execute_reply": "2023-02-11T01:03:32.508091Z"
    },
    "papermill": {
     "duration": 0.052958,
     "end_time": "2023-02-11T01:03:32.512079",
     "exception": false,
     "start_time": "2023-02-11T01:03:32.459121",
     "status": "completed"
    },
    "tags": []
   },
   "outputs": [
    {
     "data": {
      "text/plain": [
       "<KerasTensor: shape=(None, 232) dtype=float32 (created by layer 'tf.concat')>"
      ]
     },
     "execution_count": 8,
     "metadata": {},
     "output_type": "execute_result"
    }
   ],
   "source": [
    "# concat the preprocessed binary and numerical features\n",
    "preprocesssed_result = tf.concat(preprocessed, axis=-1)\n",
    "preprocesssed_result"
   ]
  },
  {
   "cell_type": "code",
   "execution_count": 9,
   "id": "35301104",
   "metadata": {
    "execution": {
     "iopub.execute_input": "2023-02-11T01:03:32.525562Z",
     "iopub.status.busy": "2023-02-11T01:03:32.525120Z",
     "iopub.status.idle": "2023-02-11T01:03:32.595262Z",
     "shell.execute_reply": "2023-02-11T01:03:32.593875Z"
    },
    "papermill": {
     "duration": 0.080171,
     "end_time": "2023-02-11T01:03:32.598140",
     "exception": false,
     "start_time": "2023-02-11T01:03:32.517969",
     "status": "completed"
    },
    "tags": []
   },
   "outputs": [],
   "source": [
    "# create a tf.keras.Model out of the preprocessor so it can be reused later\n",
    "preprocessor = tf.keras.Model(inputs, preprocesssed_result)"
   ]
  },
  {
   "cell_type": "code",
   "execution_count": 10,
   "id": "f9db9dbc",
   "metadata": {
    "execution": {
     "iopub.execute_input": "2023-02-11T01:03:32.611682Z",
     "iopub.status.busy": "2023-02-11T01:03:32.611293Z",
     "iopub.status.idle": "2023-02-11T01:03:32.762337Z",
     "shell.execute_reply": "2023-02-11T01:03:32.760990Z"
    },
    "papermill": {
     "duration": 0.160714,
     "end_time": "2023-02-11T01:03:32.764810",
     "exception": false,
     "start_time": "2023-02-11T01:03:32.604096",
     "status": "completed"
    },
    "tags": []
   },
   "outputs": [
    {
     "data": {
      "text/plain": [
       "<tf.Tensor: shape=(1, 232), dtype=float32, numpy=\n",
       "array([[1.00000000e+00, 0.00000000e+00, 0.00000000e+00, 0.00000000e+00,\n",
       "        0.00000000e+00, 1.00000000e+00, 0.00000000e+00, 0.00000000e+00,\n",
       "        0.00000000e+00, 0.00000000e+00, 0.00000000e+00, 0.00000000e+00,\n",
       "        0.00000000e+00, 1.00000000e+00, 0.00000000e+00, 1.00000000e+00,\n",
       "        0.00000000e+00, 0.00000000e+00, 0.00000000e+00, 0.00000000e+00,\n",
       "        0.00000000e+00, 0.00000000e+00, 1.00000000e+00, 0.00000000e+00,\n",
       "        0.00000000e+00, 0.00000000e+00, 1.00000000e+00, 0.00000000e+00,\n",
       "        0.00000000e+00, 0.00000000e+00, 0.00000000e+00, 1.00000000e+00,\n",
       "        0.00000000e+00, 0.00000000e+00, 0.00000000e+00, 1.00000000e+00,\n",
       "        0.00000000e+00, 0.00000000e+00, 0.00000000e+00, 0.00000000e+00,\n",
       "        0.00000000e+00, 1.00000000e+00, 0.00000000e+00, 0.00000000e+00,\n",
       "        0.00000000e+00, 0.00000000e+00, 1.00000000e+00, 0.00000000e+00,\n",
       "        0.00000000e+00, 0.00000000e+00, 0.00000000e+00, 0.00000000e+00,\n",
       "        0.00000000e+00, 1.00000000e+00, 0.00000000e+00, 8.72802734e-03,\n",
       "        9.61914062e-02, 2.76756287e-03, 1.48315430e-01, 1.18103027e-01,\n",
       "        1.83868408e-02, 1.63574219e-02, 7.66372681e-03, 7.15332031e-01,\n",
       "        6.52832031e-01, 8.52203369e-03, 1.00683594e+00, 4.73022461e-03,\n",
       "        2.64358521e-03, 4.80651855e-03, 5.08728027e-02, 4.32586670e-03,\n",
       "        7.72857666e-03, 2.71797180e-04, 2.30979919e-03, 8.46557617e-02,\n",
       "        3.29895020e-02, 4.70733643e-03, 1.00000000e+00, 6.62612915e-03,\n",
       "        1.00097656e+00, 9.97161865e-03, 4.57000732e-03, 2.55371094e-01,\n",
       "        8.09936523e-02, 2.10083008e-01, 6.80541992e-03, 1.10046387e-01,\n",
       "        1.70654297e-01, 6.39038086e-02, 5.94177246e-02, 6.46591187e-03,\n",
       "        8.20922852e-03, 7.66601562e-01, 1.00878906e+00, 1.00488281e+00,\n",
       "        8.93554688e-01, 2.05200195e-01, 6.69921875e-01, 7.14721680e-02,\n",
       "        4.32586670e-03, 7.39257812e-01, 8.74511719e-01, 1.00781250e+00,\n",
       "        7.87353516e-03, 2.38281250e-01, 2.32177734e-01, 2.36206055e-01,\n",
       "        7.02148438e-01, 4.34326172e-01, 3.05747986e-03, 6.86523438e-01,\n",
       "        8.74328613e-03, 1.00292969e+00, 1.00781250e+00, 1.00000000e+00,\n",
       "        2.05230713e-03, 5.97000122e-03, 2.10205078e-01, 4.34494019e-03,\n",
       "        3.30078125e-01, 2.99682617e-02, 2.42797852e-01, 1.42440796e-02,\n",
       "        1.64672852e-01, 2.42614746e-03, 3.70597839e-03, 3.81851196e-03,\n",
       "        3.90869141e-01, 5.69343567e-04, 6.09874725e-04, 2.67410278e-03,\n",
       "        1.73377991e-03, 8.77380371e-03, 1.84936523e-01, 1.54663086e-01,\n",
       "        6.29901886e-04, 7.08984375e-01, 3.58642578e-01, 5.25390625e-01,\n",
       "        2.55615234e-01, 1.91894531e-01, 1.48681641e-01, 1.33593750e+00,\n",
       "        2.07275391e-01, 7.61718750e-02, 1.00195312e+00, 3.54492188e-01,\n",
       "        1.51977539e-01, 1.58569336e-01, 6.36596680e-02, 1.99584961e-01,\n",
       "        3.08349609e-01, 9.10644531e-02, 7.12585449e-03, 9.01031494e-03,\n",
       "        8.33892822e-03, 1.19384766e-01, 4.80270386e-03, 1.56494141e-01,\n",
       "        8.04443359e-02, 6.90917969e-02, 1.40502930e-01, 2.56591797e-01,\n",
       "        1.57546997e-03, 4.23812866e-03, 4.05883789e-03, 3.53240967e-03,\n",
       "        5.06835938e-01, 7.04193115e-03, 8.29696655e-04, 7.08389282e-03,\n",
       "        1.00000000e+00, 1.72363281e-01, 2.66456604e-03, 1.50390625e+00,\n",
       "        1.00585938e+00, 3.56864929e-03, 8.87298584e-03, 4.95147705e-03,\n",
       "        9.38476562e-01, 7.36328125e-01, 7.55310059e-03, 9.22393799e-03,\n",
       "        7.12203979e-03, 2.45666504e-03, 1.00976562e+00, 3.82041931e-03,\n",
       "        4.37974930e-04, 6.45065308e-03, 5.05447388e-03, 1.98364258e-04,\n",
       "        8.91113281e-03, 5.17654419e-03, 6.20269775e-03, 7.78198242e-03,\n",
       "        2.44903564e-03, 7.48062134e-03, 6.89315796e-03, 3.94821167e-03,\n",
       "        3.64685059e-03, 8.46557617e-02, 1.00878906e+00, 1.53446198e-03,\n",
       "        1.42288208e-03, 8.30078125e-03, 1.88159943e-03, 8.36181641e-03,\n",
       "        7.56072998e-03, 1.43432617e-03, 2.29858398e-01, 4.01611328e-01,\n",
       "        2.71972656e-01, 5.15136719e-01, 1.08276367e-01, 2.27165222e-03,\n",
       "        8.03375244e-03, 5.72204590e-03, 2.53677368e-03, 9.70458984e-03,\n",
       "        8.94042969e-01, 1.35620117e-01, 9.11132812e-01, 9.74609375e-01,\n",
       "        1.24359131e-03, 6.76757812e-01, 1.24023438e-01, 2.33764648e-02,\n",
       "        8.32366943e-03, 1.61376953e-01, 9.22851562e-01, 6.57348633e-02]],\n",
       "      dtype=float32)>"
      ]
     },
     "execution_count": 10,
     "metadata": {},
     "output_type": "execute_result"
    }
   ],
   "source": [
    "# verify with the preprocessed first example of the dataset \n",
    "preprocessor(dict(X_train.iloc[:1]))"
   ]
  },
  {
   "cell_type": "markdown",
   "id": "148cb46a",
   "metadata": {
    "papermill": {
     "duration": 0.00643,
     "end_time": "2023-02-11T01:03:32.777240",
     "exception": false,
     "start_time": "2023-02-11T01:03:32.770810",
     "status": "completed"
    },
    "tags": []
   },
   "source": [
    "## Creating the neural network model"
   ]
  },
  {
   "cell_type": "code",
   "execution_count": 11,
   "id": "89a97887",
   "metadata": {
    "execution": {
     "iopub.execute_input": "2023-02-11T01:03:32.790754Z",
     "iopub.status.busy": "2023-02-11T01:03:32.790325Z",
     "iopub.status.idle": "2023-02-11T01:03:32.803813Z",
     "shell.execute_reply": "2023-02-11T01:03:32.802731Z"
    },
    "papermill": {
     "duration": 0.023299,
     "end_time": "2023-02-11T01:03:32.806440",
     "exception": false,
     "start_time": "2023-02-11T01:03:32.783141",
     "status": "completed"
    },
    "tags": []
   },
   "outputs": [],
   "source": [
    "nn = tf.keras.Sequential()\n",
    "\n",
    "# hidden layers\n",
    "nn.add(tf.keras.layers.Dense(116, activation='relu'))\n",
    "\n",
    "# output layer\n",
    "nn.add(tf.keras.layers.Dense(1, activation='sigmoid'))"
   ]
  },
  {
   "cell_type": "code",
   "execution_count": 12,
   "id": "b58dfa0e",
   "metadata": {
    "execution": {
     "iopub.execute_input": "2023-02-11T01:03:32.820544Z",
     "iopub.status.busy": "2023-02-11T01:03:32.820086Z",
     "iopub.status.idle": "2023-02-11T01:03:33.122206Z",
     "shell.execute_reply": "2023-02-11T01:03:33.120581Z"
    },
    "papermill": {
     "duration": 0.312757,
     "end_time": "2023-02-11T01:03:33.125254",
     "exception": false,
     "start_time": "2023-02-11T01:03:32.812497",
     "status": "completed"
    },
    "tags": []
   },
   "outputs": [],
   "source": [
    "# use the saved preprocessor model to generate our features \n",
    "x = preprocessor(inputs)"
   ]
  },
  {
   "cell_type": "code",
   "execution_count": 13,
   "id": "4e77a7fc",
   "metadata": {
    "execution": {
     "iopub.execute_input": "2023-02-11T01:03:33.140151Z",
     "iopub.status.busy": "2023-02-11T01:03:33.139044Z",
     "iopub.status.idle": "2023-02-11T01:03:33.195903Z",
     "shell.execute_reply": "2023-02-11T01:03:33.194619Z"
    },
    "papermill": {
     "duration": 0.066869,
     "end_time": "2023-02-11T01:03:33.198556",
     "exception": false,
     "start_time": "2023-02-11T01:03:33.131687",
     "status": "completed"
    },
    "tags": []
   },
   "outputs": [
    {
     "data": {
      "text/plain": [
       "<KerasTensor: shape=(None, 1) dtype=float32 (created by layer 'sequential')>"
      ]
     },
     "execution_count": 13,
     "metadata": {},
     "output_type": "execute_result"
    }
   ],
   "source": [
    "# create the output tensor to pass to Model() object \n",
    "result = nn(x)\n",
    "result"
   ]
  },
  {
   "cell_type": "code",
   "execution_count": 14,
   "id": "a9185f9a",
   "metadata": {
    "execution": {
     "iopub.execute_input": "2023-02-11T01:03:33.213239Z",
     "iopub.status.busy": "2023-02-11T01:03:33.212791Z",
     "iopub.status.idle": "2023-02-11T01:03:33.254464Z",
     "shell.execute_reply": "2023-02-11T01:03:33.253165Z"
    },
    "papermill": {
     "duration": 0.052355,
     "end_time": "2023-02-11T01:03:33.257302",
     "exception": false,
     "start_time": "2023-02-11T01:03:33.204947",
     "status": "completed"
    },
    "tags": []
   },
   "outputs": [],
   "source": [
    "model = tf.keras.Model(inputs, result)\n",
    "\n",
    "model.compile(optimizer='adam', loss='binary_crossentropy', metrics=['accuracy'])"
   ]
  },
  {
   "cell_type": "code",
   "execution_count": 15,
   "id": "fb3f9201",
   "metadata": {
    "execution": {
     "iopub.execute_input": "2023-02-11T01:03:33.271592Z",
     "iopub.status.busy": "2023-02-11T01:03:33.271155Z",
     "iopub.status.idle": "2023-02-11T01:34:04.228614Z",
     "shell.execute_reply": "2023-02-11T01:34:04.226758Z"
    },
    "papermill": {
     "duration": 1830.968724,
     "end_time": "2023-02-11T01:34:04.232260",
     "exception": false,
     "start_time": "2023-02-11T01:03:33.263536",
     "status": "completed"
    },
    "tags": []
   },
   "outputs": [
    {
     "name": "stderr",
     "output_type": "stream",
     "text": [
      "2023-02-11 01:03:38.054279: I tensorflow/compiler/mlir/mlir_graph_optimization_pass.cc:185] None of the MLIR Optimization Passes are enabled (registered 2)\n"
     ]
    },
    {
     "name": "stdout",
     "output_type": "stream",
     "text": [
      "Epoch 1/50\n",
      "111/111 [==============================] - 40s 315ms/step - loss: 0.3580 - accuracy: 0.8266\n",
      "Epoch 2/50\n",
      "111/111 [==============================] - 36s 320ms/step - loss: 0.2869 - accuracy: 0.8684\n",
      "Epoch 3/50\n",
      "111/111 [==============================] - 36s 319ms/step - loss: 0.2810 - accuracy: 0.8717\n",
      "Epoch 4/50\n",
      "111/111 [==============================] - 36s 320ms/step - loss: 0.2776 - accuracy: 0.8736\n",
      "Epoch 5/50\n",
      "111/111 [==============================] - 35s 318ms/step - loss: 0.2753 - accuracy: 0.8747\n",
      "Epoch 6/50\n",
      "111/111 [==============================] - 35s 317ms/step - loss: 0.2742 - accuracy: 0.8754\n",
      "Epoch 7/50\n",
      "111/111 [==============================] - 36s 322ms/step - loss: 0.2731 - accuracy: 0.8759\n",
      "Epoch 8/50\n",
      "111/111 [==============================] - 35s 316ms/step - loss: 0.2724 - accuracy: 0.8762\n",
      "Epoch 9/50\n",
      "111/111 [==============================] - 35s 317ms/step - loss: 0.2719 - accuracy: 0.8765\n",
      "Epoch 10/50\n",
      "111/111 [==============================] - 35s 317ms/step - loss: 0.2713 - accuracy: 0.8768\n",
      "Epoch 11/50\n",
      "111/111 [==============================] - 35s 316ms/step - loss: 0.2707 - accuracy: 0.8771\n",
      "Epoch 12/50\n",
      "111/111 [==============================] - 38s 345ms/step - loss: 0.2703 - accuracy: 0.8773\n",
      "Epoch 13/50\n",
      "111/111 [==============================] - 36s 321ms/step - loss: 0.2702 - accuracy: 0.8775\n",
      "Epoch 14/50\n",
      "111/111 [==============================] - 36s 320ms/step - loss: 0.2696 - accuracy: 0.8777\n",
      "Epoch 15/50\n",
      "111/111 [==============================] - 36s 317ms/step - loss: 0.2691 - accuracy: 0.8779\n",
      "Epoch 16/50\n",
      "111/111 [==============================] - 36s 321ms/step - loss: 0.2686 - accuracy: 0.8782\n",
      "Epoch 17/50\n",
      "111/111 [==============================] - 36s 321ms/step - loss: 0.2687 - accuracy: 0.8783\n",
      "Epoch 18/50\n",
      "111/111 [==============================] - 36s 319ms/step - loss: 0.2678 - accuracy: 0.8786\n",
      "Epoch 19/50\n",
      "111/111 [==============================] - 36s 321ms/step - loss: 0.2675 - accuracy: 0.8788\n",
      "Epoch 20/50\n",
      "111/111 [==============================] - 35s 318ms/step - loss: 0.2672 - accuracy: 0.8789\n",
      "Epoch 21/50\n",
      "111/111 [==============================] - 36s 318ms/step - loss: 0.2670 - accuracy: 0.8791\n",
      "Epoch 22/50\n",
      "111/111 [==============================] - 36s 325ms/step - loss: 0.2665 - accuracy: 0.8793\n",
      "Epoch 23/50\n",
      "111/111 [==============================] - 35s 319ms/step - loss: 0.2665 - accuracy: 0.8794\n",
      "Epoch 24/50\n",
      "111/111 [==============================] - 35s 319ms/step - loss: 0.2662 - accuracy: 0.8796\n",
      "Epoch 25/50\n",
      "111/111 [==============================] - 36s 319ms/step - loss: 0.2657 - accuracy: 0.8797\n",
      "Epoch 26/50\n",
      "111/111 [==============================] - 35s 319ms/step - loss: 0.2657 - accuracy: 0.8798\n",
      "Epoch 27/50\n",
      "111/111 [==============================] - 36s 318ms/step - loss: 0.2654 - accuracy: 0.8800\n",
      "Epoch 28/50\n",
      "111/111 [==============================] - 36s 320ms/step - loss: 0.2651 - accuracy: 0.8801\n",
      "Epoch 29/50\n",
      "111/111 [==============================] - 36s 322ms/step - loss: 0.2647 - accuracy: 0.8803\n",
      "Epoch 30/50\n",
      "111/111 [==============================] - 36s 321ms/step - loss: 0.2646 - accuracy: 0.8804\n",
      "Epoch 31/50\n",
      "111/111 [==============================] - 36s 320ms/step - loss: 0.2645 - accuracy: 0.8805\n",
      "Epoch 32/50\n",
      "111/111 [==============================] - 36s 321ms/step - loss: 0.2645 - accuracy: 0.8806\n",
      "Epoch 33/50\n",
      "111/111 [==============================] - 36s 319ms/step - loss: 0.2641 - accuracy: 0.8806\n",
      "Epoch 34/50\n",
      "111/111 [==============================] - 36s 318ms/step - loss: 0.2638 - accuracy: 0.8807\n",
      "Epoch 35/50\n",
      "111/111 [==============================] - 36s 319ms/step - loss: 0.2639 - accuracy: 0.8807\n",
      "Epoch 36/50\n",
      "111/111 [==============================] - 36s 319ms/step - loss: 0.2637 - accuracy: 0.8809\n",
      "Epoch 37/50\n",
      "111/111 [==============================] - 36s 324ms/step - loss: 0.2635 - accuracy: 0.8810\n",
      "Epoch 38/50\n",
      "111/111 [==============================] - 35s 320ms/step - loss: 0.2633 - accuracy: 0.8811\n",
      "Epoch 39/50\n",
      "111/111 [==============================] - 36s 319ms/step - loss: 0.2627 - accuracy: 0.8813\n",
      "Epoch 40/50\n",
      "111/111 [==============================] - 36s 326ms/step - loss: 0.2632 - accuracy: 0.8813\n",
      "Epoch 41/50\n",
      "111/111 [==============================] - 36s 322ms/step - loss: 0.2629 - accuracy: 0.8812\n",
      "Epoch 42/50\n",
      "111/111 [==============================] - 36s 323ms/step - loss: 0.2625 - accuracy: 0.8814\n",
      "Epoch 43/50\n",
      "111/111 [==============================] - 36s 320ms/step - loss: 0.2623 - accuracy: 0.8815\n",
      "Epoch 44/50\n",
      "111/111 [==============================] - 36s 322ms/step - loss: 0.2623 - accuracy: 0.8816\n",
      "Epoch 45/50\n",
      "111/111 [==============================] - 36s 322ms/step - loss: 0.2621 - accuracy: 0.8817\n",
      "Epoch 46/50\n",
      "111/111 [==============================] - 36s 320ms/step - loss: 0.2626 - accuracy: 0.8817\n",
      "Epoch 47/50\n",
      "111/111 [==============================] - 36s 318ms/step - loss: 0.2618 - accuracy: 0.8818\n",
      "Epoch 48/50\n",
      "111/111 [==============================] - 36s 320ms/step - loss: 0.2617 - accuracy: 0.8819\n",
      "Epoch 49/50\n",
      "111/111 [==============================] - 36s 319ms/step - loss: 0.2614 - accuracy: 0.8820\n",
      "Epoch 50/50\n",
      "111/111 [==============================] - 35s 315ms/step - loss: 0.2614 - accuracy: 0.8820\n"
     ]
    }
   ],
   "source": [
    "history = model.fit(dict(X_train), target, epochs=50, batch_size=50000)"
   ]
  },
  {
   "cell_type": "markdown",
   "id": "195026c0",
   "metadata": {
    "papermill": {
     "duration": 0.422137,
     "end_time": "2023-02-11T01:34:05.034085",
     "exception": false,
     "start_time": "2023-02-11T01:34:04.611948",
     "status": "completed"
    },
    "tags": []
   },
   "source": [
    "## Loss and accuracy plots"
   ]
  },
  {
   "cell_type": "code",
   "execution_count": 16,
   "id": "f83e3631",
   "metadata": {
    "execution": {
     "iopub.execute_input": "2023-02-11T01:34:05.745477Z",
     "iopub.status.busy": "2023-02-11T01:34:05.744547Z",
     "iopub.status.idle": "2023-02-11T01:34:06.181215Z",
     "shell.execute_reply": "2023-02-11T01:34:06.180266Z"
    },
    "papermill": {
     "duration": 0.794583,
     "end_time": "2023-02-11T01:34:06.183703",
     "exception": false,
     "start_time": "2023-02-11T01:34:05.389120",
     "status": "completed"
    },
    "tags": []
   },
   "outputs": [
    {
     "data": {
      "text/plain": [
       "<AxesSubplot:>"
      ]
     },
     "execution_count": 16,
     "metadata": {},
     "output_type": "execute_result"
    },
    {
     "data": {
      "image/png": "[encoded data removed]",
      "text/plain": [
       "<Figure size 432x288 with 1 Axes>"
      ]
     },
     "metadata": {
      "needs_background": "light"
     },
     "output_type": "display_data"
    },
    {
     "data": {
      "image/png": "[encoded data removed]",
      "text/plain": [
       "<Figure size 432x288 with 1 Axes>"
      ]
     },
     "metadata": {
      "needs_background": "light"
     },
     "output_type": "display_data"
    }
   ],
   "source": [
    "# Create a DataFrame with the history dictionary\n",
    "df = pd.DataFrame(history.history, index=range(1, len(history.history[\"loss\"]) + 1))\n",
    "\n",
    "# Plot the loss\n",
    "df.plot(y=\"loss\")\n",
    "\n",
    "# Plot the accuracy\n",
    "df.plot(y=\"accuracy\")"
   ]
  },
  {
   "cell_type": "code",
   "execution_count": 17,
   "id": "533a9f9b",
   "metadata": {
    "execution": {
     "iopub.execute_input": "2023-02-11T01:34:06.900223Z",
     "iopub.status.busy": "2023-02-11T01:34:06.899138Z",
     "iopub.status.idle": "2023-02-11T01:34:07.128217Z",
     "shell.execute_reply": "2023-02-11T01:34:07.126683Z"
    },
    "papermill": {
     "duration": 0.591072,
     "end_time": "2023-02-11T01:34:07.131903",
     "exception": false,
     "start_time": "2023-02-11T01:34:06.540831",
     "status": "completed"
    },
    "tags": []
   },
   "outputs": [],
   "source": [
    "model.save('shallow_nn.h5')"
   ]
  },
  {
   "cell_type": "code",
   "execution_count": null,
   "id": "58f8299e",
   "metadata": {
    "papermill": {
     "duration": 0.355935,
     "end_time": "2023-02-11T01:34:07.904399",
     "exception": false,
     "start_time": "2023-02-11T01:34:07.548464",
     "status": "completed"
    },
    "tags": []
   },
   "outputs": [],
   "source": []
  }
 ],
 "metadata": {
  "kernelspec": {
   "display_name": "Python 3",
   "language": "python",
   "name": "python3"
  },
  "language_info": {
   "codemirror_mode": {
    "name": "ipython",
    "version": 3
   },
   "file_extension": ".py",
   "mimetype": "text/x-python",
   "name": "python",
   "nbconvert_exporter": "python",
   "pygments_lexer": "ipython3",
   "version": "3.7.12"
  },
  "papermill": {
   "default_parameters": {},
   "duration": 1883.742539,
   "end_time": "2023-02-11T01:34:11.546158",
   "environment_variables": {},
   "exception": null,
   "input_path": "__notebook__.ipynb",
   "output_path": "__notebook__.ipynb",
   "parameters": {},
   "start_time": "2023-02-11T01:02:47.803619",
   "version": "2.3.4"
  }
 },
 "nbformat": 4,
 "nbformat_minor": 5
}
