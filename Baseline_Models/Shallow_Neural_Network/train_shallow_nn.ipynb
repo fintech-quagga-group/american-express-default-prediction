{
 "cells": [
  {
   "cell_type": "code",
   "execution_count": 1,
   "id": "ed3a9e25",
   "metadata": {
    "_cell_guid": "b1076dfc-b9ad-4769-8c92-a6c4dae69d19",
    "_uuid": "8f2839f25d086af736a60e9eeb907d3b93b6e0e5",
    "execution": {
     "iopub.execute_input": "2023-02-10T21:29:32.719012Z",
     "iopub.status.busy": "2023-02-10T21:29:32.718287Z",
     "iopub.status.idle": "2023-02-10T21:29:39.617124Z",
     "shell.execute_reply": "2023-02-10T21:29:39.615925Z"
    },
    "papermill": {
     "duration": 6.913344,
     "end_time": "2023-02-10T21:29:39.620100",
     "exception": false,
     "start_time": "2023-02-10T21:29:32.706756",
     "status": "completed"
    },
    "tags": []
   },
   "outputs": [],
   "source": [
    "import pandas as pd \n",
    "import numpy as np\n",
    "import tensorflow as tf\n",
    "from sklearn.metrics import classification_report"
   ]
  },
  {
   "cell_type": "markdown",
   "id": "d58d1249",
   "metadata": {
    "papermill": {
     "duration": 0.005404,
     "end_time": "2023-02-10T21:29:39.631419",
     "exception": false,
     "start_time": "2023-02-10T21:29:39.626015",
     "status": "completed"
    },
    "tags": []
   },
   "source": [
    "# Modiying our data for tensorflow neural networks \n",
    "\n",
    "The datasets we use are too big to pass into the neural networks, so we need to transform and preprocess our data for better performance in training our models. \n",
    "\n",
    "Most of this code follows the [Load a pandas DataFrame](https://www.tensorflow.org/tutorials/load_data/pandas_dataframe#full_example) preprocessing guide."
   ]
  },
  {
   "cell_type": "code",
   "execution_count": 2,
   "id": "bf18e277",
   "metadata": {
    "execution": {
     "iopub.execute_input": "2023-02-10T21:29:39.644979Z",
     "iopub.status.busy": "2023-02-10T21:29:39.644304Z",
     "iopub.status.idle": "2023-02-10T21:30:07.570307Z",
     "shell.execute_reply": "2023-02-10T21:30:07.568995Z"
    },
    "papermill": {
     "duration": 27.936592,
     "end_time": "2023-02-10T21:30:07.573547",
     "exception": false,
     "start_time": "2023-02-10T21:29:39.636955",
     "status": "completed"
    },
    "tags": []
   },
   "outputs": [],
   "source": [
    "X_train = pd.read_feather('/kaggle/input/amex-imputed-and-1hot-encoded/X_train.ftr').set_index('customer_ID')\n",
    "target = pd.read_feather('/kaggle/input/amex-imputed-and-1hot-encoded/y_train.ftr').set_index('customer_ID')['target']"
   ]
  },
  {
   "cell_type": "code",
   "execution_count": 3,
   "id": "06715ad6",
   "metadata": {
    "execution": {
     "iopub.execute_input": "2023-02-10T21:30:07.588686Z",
     "iopub.status.busy": "2023-02-10T21:30:07.588152Z",
     "iopub.status.idle": "2023-02-10T21:30:07.596275Z",
     "shell.execute_reply": "2023-02-10T21:30:07.594927Z"
    },
    "papermill": {
     "duration": 0.018597,
     "end_time": "2023-02-10T21:30:07.598935",
     "exception": false,
     "start_time": "2023-02-10T21:30:07.580338",
     "status": "completed"
    },
    "tags": []
   },
   "outputs": [],
   "source": [
    "# split the feature names into lists based on their type\n",
    "cat_features = ['B_30', 'B_38', 'D_114', 'D_116', 'D_117', 'D_120', 'D_126', 'D_63', 'D_64', 'D_66', 'D_68']\n",
    "binary_feature_names = [col for col in X_train if '_'.join(col.split(\"_\", 2)[:2]) in cat_features]\n",
    "numeric_feature_names = [col for col in X_train if col not in binary_feature_names]"
   ]
  },
  {
   "cell_type": "code",
   "execution_count": 4,
   "id": "818c3b69",
   "metadata": {
    "execution": {
     "iopub.execute_input": "2023-02-10T21:30:07.613373Z",
     "iopub.status.busy": "2023-02-10T21:30:07.612912Z",
     "iopub.status.idle": "2023-02-10T21:30:09.445503Z",
     "shell.execute_reply": "2023-02-10T21:30:09.444217Z"
    },
    "papermill": {
     "duration": 1.843438,
     "end_time": "2023-02-10T21:30:09.448839",
     "exception": false,
     "start_time": "2023-02-10T21:30:07.605401",
     "status": "completed"
    },
    "tags": []
   },
   "outputs": [],
   "source": [
    "# turn each column of the dataframe into a tf.keras.Input() object \n",
    "inputs = {}\n",
    "for name, column in X_train.items():\n",
    "  if (name in binary_feature_names):\n",
    "    dtype = tf.int64\n",
    "  else:\n",
    "    dtype = tf.float32\n",
    "\n",
    "  inputs[name] = tf.keras.Input(shape=(), name=name, dtype=dtype)"
   ]
  },
  {
   "cell_type": "markdown",
   "id": "cc976932",
   "metadata": {
    "papermill": {
     "duration": 0.006012,
     "end_time": "2023-02-10T21:30:09.461443",
     "exception": false,
     "start_time": "2023-02-10T21:30:09.455431",
     "status": "completed"
    },
    "tags": []
   },
   "source": [
    "## Preprocessing inputs \n",
    "\n",
    "To preserve memory and be more efficient, we need to pass each feature through a preprocessing pipeline. For our purposes, we essentially just convert every column into `tf.float32`. "
   ]
  },
  {
   "cell_type": "code",
   "execution_count": 5,
   "id": "9f1890e5",
   "metadata": {
    "execution": {
     "iopub.execute_input": "2023-02-10T21:30:09.476589Z",
     "iopub.status.busy": "2023-02-10T21:30:09.476100Z",
     "iopub.status.idle": "2023-02-10T21:30:09.907354Z",
     "shell.execute_reply": "2023-02-10T21:30:09.906004Z"
    },
    "papermill": {
     "duration": 0.442706,
     "end_time": "2023-02-10T21:30:09.910405",
     "exception": false,
     "start_time": "2023-02-10T21:30:09.467699",
     "status": "completed"
    },
    "tags": []
   },
   "outputs": [
    {
     "name": "stderr",
     "output_type": "stream",
     "text": [
      "2023-02-10 21:30:09.492317: I tensorflow/core/common_runtime/process_util.cc:146] Creating new thread pool with default inter op setting: 2. Tune using inter_op_parallelism_threads for best performance.\n"
     ]
    }
   ],
   "source": [
    "preprocessed = []\n",
    "\n",
    "# preprocess binary features by converting to float32\n",
    "for name in binary_feature_names:\n",
    "  inp = inputs[name]\n",
    "  inp = inp[:, tf.newaxis]\n",
    "  float_value = tf.cast(inp, tf.float32)\n",
    "  preprocessed.append(float_value)"
   ]
  },
  {
   "cell_type": "code",
   "execution_count": 6,
   "id": "d92bbed3",
   "metadata": {
    "execution": {
     "iopub.execute_input": "2023-02-10T21:30:09.925144Z",
     "iopub.status.busy": "2023-02-10T21:30:09.924608Z",
     "iopub.status.idle": "2023-02-10T21:30:09.933341Z",
     "shell.execute_reply": "2023-02-10T21:30:09.931850Z"
    },
    "papermill": {
     "duration": 0.019193,
     "end_time": "2023-02-10T21:30:09.936094",
     "exception": false,
     "start_time": "2023-02-10T21:30:09.916901",
     "status": "completed"
    },
    "tags": []
   },
   "outputs": [],
   "source": [
    "def stack_dict(inputs, fun=tf.stack):\n",
    "    \"\"\"\n",
    "    Stacks numerical tf.keras.Input() objects as tf.float32 \n",
    "\n",
    "    Parameters\n",
    "    ----------\n",
    "    inputs: dict{string: tf.keras.Input()}\n",
    "        Python dictionary where keys are the column name and values are the previously made tf.keras.Input() objects\n",
    "    fun: function()\n",
    "        Function to manipulate inputs. Default is tf.stack()\n",
    "\n",
    "    Returns\n",
    "    -------\n",
    "    tf.Tensor\n",
    "        A stacked float32 Tensor\n",
    "    \"\"\"   \n",
    "    \n",
    "    values = []\n",
    "    for key in sorted(inputs.keys()):\n",
    "      values.append(tf.cast(inputs[key], tf.float32))\n",
    "\n",
    "    return fun(values, axis=-1)"
   ]
  },
  {
   "cell_type": "code",
   "execution_count": 7,
   "id": "6112e46a",
   "metadata": {
    "execution": {
     "iopub.execute_input": "2023-02-10T21:30:09.951521Z",
     "iopub.status.busy": "2023-02-10T21:30:09.950749Z",
     "iopub.status.idle": "2023-02-10T21:30:10.369283Z",
     "shell.execute_reply": "2023-02-10T21:30:10.367721Z"
    },
    "papermill": {
     "duration": 0.429907,
     "end_time": "2023-02-10T21:30:10.372402",
     "exception": false,
     "start_time": "2023-02-10T21:30:09.942495",
     "status": "completed"
    },
    "tags": []
   },
   "outputs": [
    {
     "data": {
      "text/plain": [
       "[<KerasTensor: shape=(None, 1) dtype=float32 (created by layer 'tf.cast')>,\n",
       " <KerasTensor: shape=(None, 1) dtype=float32 (created by layer 'tf.cast_1')>,\n",
       " <KerasTensor: shape=(None, 1) dtype=float32 (created by layer 'tf.cast_2')>,\n",
       " <KerasTensor: shape=(None, 1) dtype=float32 (created by layer 'tf.cast_3')>,\n",
       " <KerasTensor: shape=(None, 1) dtype=float32 (created by layer 'tf.cast_4')>,\n",
       " <KerasTensor: shape=(None, 1) dtype=float32 (created by layer 'tf.cast_5')>,\n",
       " <KerasTensor: shape=(None, 1) dtype=float32 (created by layer 'tf.cast_6')>,\n",
       " <KerasTensor: shape=(None, 1) dtype=float32 (created by layer 'tf.cast_7')>,\n",
       " <KerasTensor: shape=(None, 1) dtype=float32 (created by layer 'tf.cast_8')>,\n",
       " <KerasTensor: shape=(None, 1) dtype=float32 (created by layer 'tf.cast_9')>,\n",
       " <KerasTensor: shape=(None, 1) dtype=float32 (created by layer 'tf.cast_10')>,\n",
       " <KerasTensor: shape=(None, 1) dtype=float32 (created by layer 'tf.cast_11')>,\n",
       " <KerasTensor: shape=(None, 1) dtype=float32 (created by layer 'tf.cast_12')>,\n",
       " <KerasTensor: shape=(None, 1) dtype=float32 (created by layer 'tf.cast_13')>,\n",
       " <KerasTensor: shape=(None, 1) dtype=float32 (created by layer 'tf.cast_14')>,\n",
       " <KerasTensor: shape=(None, 1) dtype=float32 (created by layer 'tf.cast_15')>,\n",
       " <KerasTensor: shape=(None, 1) dtype=float32 (created by layer 'tf.cast_16')>,\n",
       " <KerasTensor: shape=(None, 1) dtype=float32 (created by layer 'tf.cast_17')>,\n",
       " <KerasTensor: shape=(None, 1) dtype=float32 (created by layer 'tf.cast_18')>,\n",
       " <KerasTensor: shape=(None, 1) dtype=float32 (created by layer 'tf.cast_19')>,\n",
       " <KerasTensor: shape=(None, 1) dtype=float32 (created by layer 'tf.cast_20')>,\n",
       " <KerasTensor: shape=(None, 1) dtype=float32 (created by layer 'tf.cast_21')>,\n",
       " <KerasTensor: shape=(None, 1) dtype=float32 (created by layer 'tf.cast_22')>,\n",
       " <KerasTensor: shape=(None, 1) dtype=float32 (created by layer 'tf.cast_23')>,\n",
       " <KerasTensor: shape=(None, 1) dtype=float32 (created by layer 'tf.cast_24')>,\n",
       " <KerasTensor: shape=(None, 1) dtype=float32 (created by layer 'tf.cast_25')>,\n",
       " <KerasTensor: shape=(None, 1) dtype=float32 (created by layer 'tf.cast_26')>,\n",
       " <KerasTensor: shape=(None, 1) dtype=float32 (created by layer 'tf.cast_27')>,\n",
       " <KerasTensor: shape=(None, 1) dtype=float32 (created by layer 'tf.cast_28')>,\n",
       " <KerasTensor: shape=(None, 1) dtype=float32 (created by layer 'tf.cast_29')>,\n",
       " <KerasTensor: shape=(None, 1) dtype=float32 (created by layer 'tf.cast_30')>,\n",
       " <KerasTensor: shape=(None, 1) dtype=float32 (created by layer 'tf.cast_31')>,\n",
       " <KerasTensor: shape=(None, 1) dtype=float32 (created by layer 'tf.cast_32')>,\n",
       " <KerasTensor: shape=(None, 1) dtype=float32 (created by layer 'tf.cast_33')>,\n",
       " <KerasTensor: shape=(None, 1) dtype=float32 (created by layer 'tf.cast_34')>,\n",
       " <KerasTensor: shape=(None, 1) dtype=float32 (created by layer 'tf.cast_35')>,\n",
       " <KerasTensor: shape=(None, 1) dtype=float32 (created by layer 'tf.cast_36')>,\n",
       " <KerasTensor: shape=(None, 1) dtype=float32 (created by layer 'tf.cast_37')>,\n",
       " <KerasTensor: shape=(None, 1) dtype=float32 (created by layer 'tf.cast_38')>,\n",
       " <KerasTensor: shape=(None, 1) dtype=float32 (created by layer 'tf.cast_39')>,\n",
       " <KerasTensor: shape=(None, 1) dtype=float32 (created by layer 'tf.cast_40')>,\n",
       " <KerasTensor: shape=(None, 1) dtype=float32 (created by layer 'tf.cast_41')>,\n",
       " <KerasTensor: shape=(None, 1) dtype=float32 (created by layer 'tf.cast_42')>,\n",
       " <KerasTensor: shape=(None, 1) dtype=float32 (created by layer 'tf.cast_43')>,\n",
       " <KerasTensor: shape=(None, 1) dtype=float32 (created by layer 'tf.cast_44')>,\n",
       " <KerasTensor: shape=(None, 1) dtype=float32 (created by layer 'tf.cast_45')>,\n",
       " <KerasTensor: shape=(None, 1) dtype=float32 (created by layer 'tf.cast_46')>,\n",
       " <KerasTensor: shape=(None, 1) dtype=float32 (created by layer 'tf.cast_47')>,\n",
       " <KerasTensor: shape=(None, 1) dtype=float32 (created by layer 'tf.cast_48')>,\n",
       " <KerasTensor: shape=(None, 1) dtype=float32 (created by layer 'tf.cast_49')>,\n",
       " <KerasTensor: shape=(None, 1) dtype=float32 (created by layer 'tf.cast_50')>,\n",
       " <KerasTensor: shape=(None, 1) dtype=float32 (created by layer 'tf.cast_51')>,\n",
       " <KerasTensor: shape=(None, 1) dtype=float32 (created by layer 'tf.cast_52')>,\n",
       " <KerasTensor: shape=(None, 1) dtype=float32 (created by layer 'tf.cast_53')>,\n",
       " <KerasTensor: shape=(None, 1) dtype=float32 (created by layer 'tf.cast_54')>,\n",
       " <KerasTensor: shape=(None, 177) dtype=float32 (created by layer 'tf.stack')>]"
      ]
     },
     "execution_count": 7,
     "metadata": {},
     "output_type": "execute_result"
    }
   ],
   "source": [
    "numeric_inputs = {}\n",
    "for name in numeric_feature_names:\n",
    "  numeric_inputs[name] = inputs[name]\n",
    "\n",
    "# preprocess numeric inputs by stacking them and converting to float32\n",
    "numeric_inputs = stack_dict(numeric_inputs)\n",
    "preprocessed.append(numeric_inputs)\n",
    "\n",
    "preprocessed"
   ]
  },
  {
   "cell_type": "code",
   "execution_count": 8,
   "id": "9994b034",
   "metadata": {
    "execution": {
     "iopub.execute_input": "2023-02-10T21:30:10.387580Z",
     "iopub.status.busy": "2023-02-10T21:30:10.386938Z",
     "iopub.status.idle": "2023-02-10T21:30:10.440775Z",
     "shell.execute_reply": "2023-02-10T21:30:10.439346Z"
    },
    "papermill": {
     "duration": 0.064868,
     "end_time": "2023-02-10T21:30:10.443871",
     "exception": false,
     "start_time": "2023-02-10T21:30:10.379003",
     "status": "completed"
    },
    "tags": []
   },
   "outputs": [
    {
     "data": {
      "text/plain": [
       "<KerasTensor: shape=(None, 232) dtype=float32 (created by layer 'tf.concat')>"
      ]
     },
     "execution_count": 8,
     "metadata": {},
     "output_type": "execute_result"
    }
   ],
   "source": [
    "# concat the preprocessed binary and numerical features\n",
    "preprocesssed_result = tf.concat(preprocessed, axis=-1)\n",
    "preprocesssed_result"
   ]
  },
  {
   "cell_type": "code",
   "execution_count": 9,
   "id": "eed5b408",
   "metadata": {
    "execution": {
     "iopub.execute_input": "2023-02-10T21:30:10.459551Z",
     "iopub.status.busy": "2023-02-10T21:30:10.458989Z",
     "iopub.status.idle": "2023-02-10T21:30:10.519763Z",
     "shell.execute_reply": "2023-02-10T21:30:10.518524Z"
    },
    "papermill": {
     "duration": 0.07247,
     "end_time": "2023-02-10T21:30:10.523350",
     "exception": false,
     "start_time": "2023-02-10T21:30:10.450880",
     "status": "completed"
    },
    "tags": []
   },
   "outputs": [],
   "source": [
    "# create a tf.keras.Model out of the preprocessor so it can be reused later\n",
    "preprocessor = tf.keras.Model(inputs, preprocesssed_result)"
   ]
  },
  {
   "cell_type": "code",
   "execution_count": 10,
   "id": "75c43cb3",
   "metadata": {
    "execution": {
     "iopub.execute_input": "2023-02-10T21:30:10.539039Z",
     "iopub.status.busy": "2023-02-10T21:30:10.538066Z",
     "iopub.status.idle": "2023-02-10T21:30:10.706242Z",
     "shell.execute_reply": "2023-02-10T21:30:10.704825Z"
    },
    "papermill": {
     "duration": 0.179437,
     "end_time": "2023-02-10T21:30:10.709362",
     "exception": false,
     "start_time": "2023-02-10T21:30:10.529925",
     "status": "completed"
    },
    "tags": []
   },
   "outputs": [
    {
     "data": {
      "text/plain": [
       "<tf.Tensor: shape=(1, 232), dtype=float32, numpy=\n",
       "array([[1.00000000e+00, 0.00000000e+00, 0.00000000e+00, 0.00000000e+00,\n",
       "        0.00000000e+00, 1.00000000e+00, 0.00000000e+00, 0.00000000e+00,\n",
       "        0.00000000e+00, 0.00000000e+00, 0.00000000e+00, 0.00000000e+00,\n",
       "        0.00000000e+00, 1.00000000e+00, 0.00000000e+00, 1.00000000e+00,\n",
       "        0.00000000e+00, 0.00000000e+00, 0.00000000e+00, 0.00000000e+00,\n",
       "        0.00000000e+00, 0.00000000e+00, 1.00000000e+00, 0.00000000e+00,\n",
       "        0.00000000e+00, 0.00000000e+00, 1.00000000e+00, 0.00000000e+00,\n",
       "        0.00000000e+00, 0.00000000e+00, 0.00000000e+00, 1.00000000e+00,\n",
       "        0.00000000e+00, 0.00000000e+00, 0.00000000e+00, 1.00000000e+00,\n",
       "        0.00000000e+00, 0.00000000e+00, 0.00000000e+00, 0.00000000e+00,\n",
       "        0.00000000e+00, 1.00000000e+00, 0.00000000e+00, 0.00000000e+00,\n",
       "        0.00000000e+00, 0.00000000e+00, 1.00000000e+00, 0.00000000e+00,\n",
       "        0.00000000e+00, 0.00000000e+00, 0.00000000e+00, 0.00000000e+00,\n",
       "        0.00000000e+00, 1.00000000e+00, 0.00000000e+00, 8.72802734e-03,\n",
       "        9.61914062e-02, 2.76756287e-03, 1.48315430e-01, 1.18103027e-01,\n",
       "        1.83868408e-02, 1.63574219e-02, 7.66372681e-03, 7.15332031e-01,\n",
       "        6.52832031e-01, 8.52203369e-03, 1.00683594e+00, 4.73022461e-03,\n",
       "        2.64358521e-03, 4.80651855e-03, 5.08728027e-02, 4.32586670e-03,\n",
       "        7.72857666e-03, 2.71797180e-04, 2.30979919e-03, 8.46557617e-02,\n",
       "        3.29895020e-02, 4.70733643e-03, 1.00000000e+00, 6.62612915e-03,\n",
       "        1.00097656e+00, 9.97161865e-03, 4.57000732e-03, 2.55371094e-01,\n",
       "        8.09936523e-02, 2.10083008e-01, 6.80541992e-03, 1.10046387e-01,\n",
       "        1.70654297e-01, 6.39038086e-02, 5.94177246e-02, 6.46591187e-03,\n",
       "        8.20922852e-03, 7.66601562e-01, 1.00878906e+00, 1.00488281e+00,\n",
       "        8.93554688e-01, 2.05200195e-01, 6.69921875e-01, 7.14721680e-02,\n",
       "        4.32586670e-03, 7.39257812e-01, 8.74511719e-01, 1.00781250e+00,\n",
       "        7.87353516e-03, 2.38281250e-01, 2.32177734e-01, 2.36206055e-01,\n",
       "        7.02148438e-01, 4.34326172e-01, 3.05747986e-03, 6.86523438e-01,\n",
       "        8.74328613e-03, 1.00292969e+00, 1.00781250e+00, 1.00000000e+00,\n",
       "        2.05230713e-03, 5.97000122e-03, 2.10205078e-01, 4.34494019e-03,\n",
       "        3.30078125e-01, 2.99682617e-02, 2.42797852e-01, 1.42440796e-02,\n",
       "        1.64672852e-01, 2.42614746e-03, 3.70597839e-03, 3.81851196e-03,\n",
       "        3.90869141e-01, 5.69343567e-04, 6.09874725e-04, 2.67410278e-03,\n",
       "        1.73377991e-03, 8.77380371e-03, 1.84936523e-01, 1.54663086e-01,\n",
       "        6.29901886e-04, 7.08984375e-01, 3.58642578e-01, 5.25390625e-01,\n",
       "        2.55615234e-01, 1.91894531e-01, 1.48681641e-01, 1.33593750e+00,\n",
       "        2.07275391e-01, 7.61718750e-02, 1.00195312e+00, 3.54492188e-01,\n",
       "        1.51977539e-01, 1.58569336e-01, 6.36596680e-02, 1.99584961e-01,\n",
       "        3.08349609e-01, 9.10644531e-02, 7.12585449e-03, 9.01031494e-03,\n",
       "        8.33892822e-03, 1.19384766e-01, 4.80270386e-03, 1.56494141e-01,\n",
       "        8.04443359e-02, 6.90917969e-02, 1.40502930e-01, 2.56591797e-01,\n",
       "        1.57546997e-03, 4.23812866e-03, 4.05883789e-03, 3.53240967e-03,\n",
       "        5.06835938e-01, 7.04193115e-03, 8.29696655e-04, 7.08389282e-03,\n",
       "        1.00000000e+00, 1.72363281e-01, 2.66456604e-03, 1.50390625e+00,\n",
       "        1.00585938e+00, 3.56864929e-03, 8.87298584e-03, 4.95147705e-03,\n",
       "        9.38476562e-01, 7.36328125e-01, 7.55310059e-03, 9.22393799e-03,\n",
       "        7.12203979e-03, 2.45666504e-03, 1.00976562e+00, 3.82041931e-03,\n",
       "        4.37974930e-04, 6.45065308e-03, 5.05447388e-03, 1.98364258e-04,\n",
       "        8.91113281e-03, 5.17654419e-03, 6.20269775e-03, 7.78198242e-03,\n",
       "        2.44903564e-03, 7.48062134e-03, 6.89315796e-03, 3.94821167e-03,\n",
       "        3.64685059e-03, 8.46557617e-02, 1.00878906e+00, 1.53446198e-03,\n",
       "        1.42288208e-03, 8.30078125e-03, 1.88159943e-03, 8.36181641e-03,\n",
       "        7.56072998e-03, 1.43432617e-03, 2.29858398e-01, 4.01611328e-01,\n",
       "        2.71972656e-01, 5.15136719e-01, 1.08276367e-01, 2.27165222e-03,\n",
       "        8.03375244e-03, 5.72204590e-03, 2.53677368e-03, 9.70458984e-03,\n",
       "        8.94042969e-01, 1.35620117e-01, 9.11132812e-01, 9.74609375e-01,\n",
       "        1.24359131e-03, 6.76757812e-01, 1.24023438e-01, 2.33764648e-02,\n",
       "        8.32366943e-03, 1.61376953e-01, 9.22851562e-01, 6.57348633e-02]],\n",
       "      dtype=float32)>"
      ]
     },
     "execution_count": 10,
     "metadata": {},
     "output_type": "execute_result"
    }
   ],
   "source": [
    "# verify with the preprocessed first example of the dataset \n",
    "preprocessor(dict(X_train.iloc[:1]))"
   ]
  },
  {
   "cell_type": "markdown",
   "id": "af186dee",
   "metadata": {
    "papermill": {
     "duration": 0.007815,
     "end_time": "2023-02-10T21:30:10.723954",
     "exception": false,
     "start_time": "2023-02-10T21:30:10.716139",
     "status": "completed"
    },
    "tags": []
   },
   "source": [
    "## Creating the neural network model"
   ]
  },
  {
   "cell_type": "code",
   "execution_count": 11,
   "id": "da2bc33b",
   "metadata": {
    "execution": {
     "iopub.execute_input": "2023-02-10T21:30:10.740974Z",
     "iopub.status.busy": "2023-02-10T21:30:10.739902Z",
     "iopub.status.idle": "2023-02-10T21:30:10.756646Z",
     "shell.execute_reply": "2023-02-10T21:30:10.755257Z"
    },
    "papermill": {
     "duration": 0.028244,
     "end_time": "2023-02-10T21:30:10.759609",
     "exception": false,
     "start_time": "2023-02-10T21:30:10.731365",
     "status": "completed"
    },
    "tags": []
   },
   "outputs": [],
   "source": [
    "nn = tf.keras.Sequential()\n",
    "\n",
    "# hidden layers\n",
    "nn.add(tf.keras.layers.Dense(116, activation='relu'))\n",
    "\n",
    "# output layer\n",
    "nn.add(tf.keras.layers.Dense(1, activation='sigmoid'))"
   ]
  },
  {
   "cell_type": "code",
   "execution_count": 12,
   "id": "f3964a6b",
   "metadata": {
    "execution": {
     "iopub.execute_input": "2023-02-10T21:30:10.775193Z",
     "iopub.status.busy": "2023-02-10T21:30:10.774676Z",
     "iopub.status.idle": "2023-02-10T21:30:11.111583Z",
     "shell.execute_reply": "2023-02-10T21:30:11.110042Z"
    },
    "papermill": {
     "duration": 0.348382,
     "end_time": "2023-02-10T21:30:11.114901",
     "exception": false,
     "start_time": "2023-02-10T21:30:10.766519",
     "status": "completed"
    },
    "tags": []
   },
   "outputs": [],
   "source": [
    "# use the saved preprocessor model to generate our features \n",
    "x = preprocessor(inputs)"
   ]
  },
  {
   "cell_type": "code",
   "execution_count": 13,
   "id": "350645ca",
   "metadata": {
    "execution": {
     "iopub.execute_input": "2023-02-10T21:30:11.131236Z",
     "iopub.status.busy": "2023-02-10T21:30:11.130734Z",
     "iopub.status.idle": "2023-02-10T21:30:11.193894Z",
     "shell.execute_reply": "2023-02-10T21:30:11.192819Z"
    },
    "papermill": {
     "duration": 0.074405,
     "end_time": "2023-02-10T21:30:11.196782",
     "exception": false,
     "start_time": "2023-02-10T21:30:11.122377",
     "status": "completed"
    },
    "tags": []
   },
   "outputs": [
    {
     "data": {
      "text/plain": [
       "<KerasTensor: shape=(None, 1) dtype=float32 (created by layer 'sequential')>"
      ]
     },
     "execution_count": 13,
     "metadata": {},
     "output_type": "execute_result"
    }
   ],
   "source": [
    "# create the output tensor to pass to Model() object \n",
    "result = nn(x)\n",
    "result"
   ]
  },
  {
   "cell_type": "code",
   "execution_count": 14,
   "id": "a9911230",
   "metadata": {
    "execution": {
     "iopub.execute_input": "2023-02-10T21:30:11.213214Z",
     "iopub.status.busy": "2023-02-10T21:30:11.211837Z",
     "iopub.status.idle": "2023-02-10T21:30:11.258411Z",
     "shell.execute_reply": "2023-02-10T21:30:11.256990Z"
    },
    "papermill": {
     "duration": 0.058398,
     "end_time": "2023-02-10T21:30:11.262099",
     "exception": false,
     "start_time": "2023-02-10T21:30:11.203701",
     "status": "completed"
    },
    "tags": []
   },
   "outputs": [],
   "source": [
    "model = tf.keras.Model(inputs, result)\n",
    "\n",
    "model.compile(optimizer='adam', loss='binary_crossentropy', metrics=['accuracy'])"
   ]
  },
  {
   "cell_type": "code",
   "execution_count": 15,
   "id": "fed0c70c",
   "metadata": {
    "execution": {
     "iopub.execute_input": "2023-02-10T21:30:11.278734Z",
     "iopub.status.busy": "2023-02-10T21:30:11.278243Z",
     "iopub.status.idle": "2023-02-10T22:02:43.325428Z",
     "shell.execute_reply": "2023-02-10T22:02:43.323256Z"
    },
    "papermill": {
     "duration": 1952.059706,
     "end_time": "2023-02-10T22:02:43.328843",
     "exception": false,
     "start_time": "2023-02-10T21:30:11.269137",
     "status": "completed"
    },
    "tags": []
   },
   "outputs": [
    {
     "name": "stderr",
     "output_type": "stream",
     "text": [
      "2023-02-10 21:30:16.843602: I tensorflow/compiler/mlir/mlir_graph_optimization_pass.cc:185] None of the MLIR Optimization Passes are enabled (registered 2)\n"
     ]
    },
    {
     "name": "stdout",
     "output_type": "stream",
     "text": [
      "Epoch 1/50\n",
      "111/111 [==============================] - 43s 340ms/step - loss: 0.3437 - accuracy: 0.8331\n",
      "Epoch 2/50\n",
      "111/111 [==============================] - 39s 347ms/step - loss: 0.2845 - accuracy: 0.8698\n",
      "Epoch 3/50\n",
      "111/111 [==============================] - 38s 341ms/step - loss: 0.2792 - accuracy: 0.8726\n",
      "Epoch 4/50\n",
      "111/111 [==============================] - 38s 341ms/step - loss: 0.2768 - accuracy: 0.8740\n",
      "Epoch 5/50\n",
      "111/111 [==============================] - 42s 380ms/step - loss: 0.2747 - accuracy: 0.8750\n",
      "Epoch 6/50\n",
      "111/111 [==============================] - 38s 346ms/step - loss: 0.2733 - accuracy: 0.8757\n",
      "Epoch 7/50\n",
      "111/111 [==============================] - 38s 347ms/step - loss: 0.2724 - accuracy: 0.8762\n",
      "Epoch 8/50\n",
      "111/111 [==============================] - 38s 344ms/step - loss: 0.2714 - accuracy: 0.8766\n",
      "Epoch 9/50\n",
      "111/111 [==============================] - 38s 342ms/step - loss: 0.2708 - accuracy: 0.8770\n",
      "Epoch 10/50\n",
      "111/111 [==============================] - 38s 344ms/step - loss: 0.2703 - accuracy: 0.8772\n",
      "Epoch 11/50\n",
      "111/111 [==============================] - 38s 344ms/step - loss: 0.2698 - accuracy: 0.8775\n",
      "Epoch 12/50\n",
      "111/111 [==============================] - 38s 347ms/step - loss: 0.2692 - accuracy: 0.8778\n",
      "Epoch 13/50\n",
      "111/111 [==============================] - 39s 351ms/step - loss: 0.2688 - accuracy: 0.8780\n",
      "Epoch 14/50\n",
      "111/111 [==============================] - 38s 345ms/step - loss: 0.2681 - accuracy: 0.8783\n",
      "Epoch 15/50\n",
      "111/111 [==============================] - 39s 348ms/step - loss: 0.2678 - accuracy: 0.8785\n",
      "Epoch 16/50\n",
      "111/111 [==============================] - 38s 345ms/step - loss: 0.2675 - accuracy: 0.8787\n",
      "Epoch 17/50\n",
      "111/111 [==============================] - 39s 347ms/step - loss: 0.2671 - accuracy: 0.8789\n",
      "Epoch 18/50\n",
      "111/111 [==============================] - 38s 344ms/step - loss: 0.2667 - accuracy: 0.8791\n",
      "Epoch 19/50\n",
      "111/111 [==============================] - 38s 344ms/step - loss: 0.2665 - accuracy: 0.8793\n",
      "Epoch 20/50\n",
      "111/111 [==============================] - 38s 343ms/step - loss: 0.2661 - accuracy: 0.8795\n",
      "Epoch 21/50\n",
      "111/111 [==============================] - 39s 350ms/step - loss: 0.2659 - accuracy: 0.8797\n",
      "Epoch 22/50\n",
      "111/111 [==============================] - 39s 344ms/step - loss: 0.2655 - accuracy: 0.8798\n",
      "Epoch 23/50\n",
      "111/111 [==============================] - 38s 345ms/step - loss: 0.2654 - accuracy: 0.8800\n",
      "Epoch 24/50\n",
      "111/111 [==============================] - 41s 364ms/step - loss: 0.2649 - accuracy: 0.8801\n",
      "Epoch 25/50\n",
      "111/111 [==============================] - 38s 343ms/step - loss: 0.2647 - accuracy: 0.8803\n",
      "Epoch 26/50\n",
      "111/111 [==============================] - 38s 342ms/step - loss: 0.2647 - accuracy: 0.8804\n",
      "Epoch 27/50\n",
      "111/111 [==============================] - 39s 345ms/step - loss: 0.2646 - accuracy: 0.8805\n",
      "Epoch 28/50\n",
      "111/111 [==============================] - 39s 347ms/step - loss: 0.2643 - accuracy: 0.8807\n",
      "Epoch 29/50\n",
      "111/111 [==============================] - 38s 345ms/step - loss: 0.2638 - accuracy: 0.8808\n",
      "Epoch 30/50\n",
      "111/111 [==============================] - 38s 341ms/step - loss: 0.2636 - accuracy: 0.8809\n",
      "Epoch 31/50\n",
      "111/111 [==============================] - 38s 341ms/step - loss: 0.2635 - accuracy: 0.8810\n",
      "Epoch 32/50\n",
      "111/111 [==============================] - 39s 345ms/step - loss: 0.2632 - accuracy: 0.8811\n",
      "Epoch 33/50\n",
      "111/111 [==============================] - 38s 342ms/step - loss: 0.2630 - accuracy: 0.8813\n",
      "Epoch 34/50\n",
      "111/111 [==============================] - 38s 341ms/step - loss: 0.2631 - accuracy: 0.8813\n",
      "Epoch 35/50\n",
      "111/111 [==============================] - 38s 337ms/step - loss: 0.2626 - accuracy: 0.8815\n",
      "Epoch 36/50\n",
      "111/111 [==============================] - 38s 341ms/step - loss: 0.2626 - accuracy: 0.8815\n",
      "Epoch 37/50\n",
      "111/111 [==============================] - 38s 341ms/step - loss: 0.2623 - accuracy: 0.8817\n",
      "Epoch 38/50\n",
      "111/111 [==============================] - 38s 341ms/step - loss: 0.2620 - accuracy: 0.8818\n",
      "Epoch 39/50\n",
      "111/111 [==============================] - 38s 340ms/step - loss: 0.2617 - accuracy: 0.8818\n",
      "Epoch 40/50\n",
      "111/111 [==============================] - 38s 342ms/step - loss: 0.2618 - accuracy: 0.8819\n",
      "Epoch 41/50\n",
      "111/111 [==============================] - 38s 344ms/step - loss: 0.2616 - accuracy: 0.8820\n",
      "Epoch 42/50\n",
      "111/111 [==============================] - 39s 347ms/step - loss: 0.2616 - accuracy: 0.8821\n",
      "Epoch 43/50\n",
      "111/111 [==============================] - 38s 339ms/step - loss: 0.2614 - accuracy: 0.8822\n",
      "Epoch 44/50\n",
      "111/111 [==============================] - 38s 341ms/step - loss: 0.2612 - accuracy: 0.8823\n",
      "Epoch 45/50\n",
      "111/111 [==============================] - 38s 343ms/step - loss: 0.2611 - accuracy: 0.8823\n",
      "Epoch 46/50\n",
      "111/111 [==============================] - 38s 340ms/step - loss: 0.2608 - accuracy: 0.8824\n",
      "Epoch 47/50\n",
      "111/111 [==============================] - 39s 345ms/step - loss: 0.2612 - accuracy: 0.8824\n",
      "Epoch 48/50\n",
      "111/111 [==============================] - 38s 343ms/step - loss: 0.2610 - accuracy: 0.8825\n",
      "Epoch 49/50\n",
      "111/111 [==============================] - 39s 344ms/step - loss: 0.2604 - accuracy: 0.8826\n",
      "Epoch 50/50\n",
      "111/111 [==============================] - 38s 339ms/step - loss: 0.2609 - accuracy: 0.8825\n"
     ]
    }
   ],
   "source": [
    "history = model.fit(dict(X_train), target, epochs=50, batch_size=50000)"
   ]
  },
  {
   "cell_type": "markdown",
   "id": "113dd5cb",
   "metadata": {
    "papermill": {
     "duration": 0.356918,
     "end_time": "2023-02-10T22:02:44.043420",
     "exception": false,
     "start_time": "2023-02-10T22:02:43.686502",
     "status": "completed"
    },
    "tags": []
   },
   "source": [
    "## Loss and accuracy plots"
   ]
  },
  {
   "cell_type": "code",
   "execution_count": 16,
   "id": "daa81f87",
   "metadata": {
    "execution": {
     "iopub.execute_input": "2023-02-10T22:02:44.758636Z",
     "iopub.status.busy": "2023-02-10T22:02:44.757248Z",
     "iopub.status.idle": "2023-02-10T22:02:45.225096Z",
     "shell.execute_reply": "2023-02-10T22:02:45.224186Z"
    },
    "papermill": {
     "duration": 0.826593,
     "end_time": "2023-02-10T22:02:45.227281",
     "exception": false,
     "start_time": "2023-02-10T22:02:44.400688",
     "status": "completed"
    },
    "tags": []
   },
   "outputs": [
    {
     "data": {
      "text/plain": [
       "<AxesSubplot:>"
      ]
     },
     "execution_count": 16,
     "metadata": {},
     "output_type": "execute_result"
    },
    {
     "data": {
      "image/png": "[encoded data removed]",
      "text/plain": [
       "<Figure size 432x288 with 1 Axes>"
      ]
     },
     "metadata": {
      "needs_background": "light"
     },
     "output_type": "display_data"
    },
    {
     "data": {
      "image/png": "[encoded data removed]",
      "text/plain": [
       "<Figure size 432x288 with 1 Axes>"
      ]
     },
     "metadata": {
      "needs_background": "light"
     },
     "output_type": "display_data"
    }
   ],
   "source": [
    "# Create a DataFrame with the history dictionary\n",
    "df = pd.DataFrame(history.history, index=range(1, len(history.history[\"loss\"]) + 1))\n",
    "\n",
    "# Plot the loss\n",
    "df.plot(y=\"loss\")\n",
    "\n",
    "# Plot the accuracy\n",
    "df.plot(y=\"accuracy\")"
   ]
  },
  {
   "cell_type": "code",
   "execution_count": 17,
   "id": "835ccb00",
   "metadata": {
    "execution": {
     "iopub.execute_input": "2023-02-10T22:02:46.016434Z",
     "iopub.status.busy": "2023-02-10T22:02:46.015985Z",
     "iopub.status.idle": "2023-02-10T22:02:46.056499Z",
     "shell.execute_reply": "2023-02-10T22:02:46.055392Z"
    },
    "papermill": {
     "duration": 0.399638,
     "end_time": "2023-02-10T22:02:46.059238",
     "exception": false,
     "start_time": "2023-02-10T22:02:45.659600",
     "status": "completed"
    },
    "tags": []
   },
   "outputs": [],
   "source": [
    "nn.save('shallow_nn.h5')"
   ]
  },
  {
   "cell_type": "code",
   "execution_count": null,
   "id": "1849b38c",
   "metadata": {
    "papermill": {
     "duration": 0.381135,
     "end_time": "2023-02-10T22:02:46.803647",
     "exception": false,
     "start_time": "2023-02-10T22:02:46.422512",
     "status": "completed"
    },
    "tags": []
   },
   "outputs": [],
   "source": []
  }
 ],
 "metadata": {
  "kernelspec": {
   "display_name": "Python 3",
   "language": "python",
   "name": "python3"
  },
  "language_info": {
   "codemirror_mode": {
    "name": "ipython",
    "version": 3
   },
   "file_extension": ".py",
   "mimetype": "text/x-python",
   "name": "python",
   "nbconvert_exporter": "python",
   "pygments_lexer": "ipython3",
   "version": "3.7.12"
  },
  "papermill": {
   "default_parameters": {},
   "duration": 2007.300787,
   "end_time": "2023-02-10T22:02:50.723480",
   "environment_variables": {},
   "exception": null,
   "input_path": "__notebook__.ipynb",
   "output_path": "__notebook__.ipynb",
   "parameters": {},
   "start_time": "2023-02-10T21:29:23.422693",
   "version": "2.3.4"
  }
 },
 "nbformat": 4,
 "nbformat_minor": 5
}
