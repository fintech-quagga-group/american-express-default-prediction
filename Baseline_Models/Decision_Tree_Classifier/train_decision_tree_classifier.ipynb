{
 "cells": [
  {
   "cell_type": "code",
   "execution_count": 1,
   "id": "e7b41690",
   "metadata": {
    "_cell_guid": "b1076dfc-b9ad-4769-8c92-a6c4dae69d19",
    "_uuid": "8f2839f25d086af736a60e9eeb907d3b93b6e0e5",
    "execution": {
     "iopub.execute_input": "2023-02-07T23:52:48.440719Z",
     "iopub.status.busy": "2023-02-07T23:52:48.439683Z",
     "iopub.status.idle": "2023-02-07T23:52:49.730363Z",
     "shell.execute_reply": "2023-02-07T23:52:49.729096Z"
    },
    "papermill": {
     "duration": 1.299525,
     "end_time": "2023-02-07T23:52:49.733601",
     "exception": false,
     "start_time": "2023-02-07T23:52:48.434076",
     "status": "completed"
    },
    "tags": []
   },
   "outputs": [],
   "source": [
    "import pickle\n",
    "import pandas as pd\n",
    "from sklearn.tree import DecisionTreeClassifier"
   ]
  },
  {
   "cell_type": "code",
   "execution_count": 2,
   "id": "8a9fba9b",
   "metadata": {
    "execution": {
     "iopub.execute_input": "2023-02-07T23:52:49.740727Z",
     "iopub.status.busy": "2023-02-07T23:52:49.740286Z",
     "iopub.status.idle": "2023-02-07T23:53:14.100385Z",
     "shell.execute_reply": "2023-02-07T23:53:14.098730Z"
    },
    "papermill": {
     "duration": 24.367567,
     "end_time": "2023-02-07T23:53:14.104076",
     "exception": false,
     "start_time": "2023-02-07T23:52:49.736509",
     "status": "completed"
    },
    "tags": []
   },
   "outputs": [],
   "source": [
    "X = pd.read_feather('../input/amex-imputed-and-1hot-encoded/X_train.ftr')\n",
    "y = pd.read_feather('../input/amex-imputed-and-1hot-encoded/y_train.ftr')\n",
    "\n",
    "X = X.set_index('customer_ID')\n",
    "y = y.set_index('customer_ID')"
   ]
  },
  {
   "cell_type": "code",
   "execution_count": 3,
   "id": "1afcd79e",
   "metadata": {
    "execution": {
     "iopub.execute_input": "2023-02-07T23:53:14.111911Z",
     "iopub.status.busy": "2023-02-07T23:53:14.111484Z",
     "iopub.status.idle": "2023-02-08T01:33:01.981375Z",
     "shell.execute_reply": "2023-02-08T01:33:01.975788Z"
    },
    "papermill": {
     "duration": 5987.885395,
     "end_time": "2023-02-08T01:33:01.992969",
     "exception": false,
     "start_time": "2023-02-07T23:53:14.107574",
     "status": "completed"
    },
    "tags": []
   },
   "outputs": [],
   "source": [
    "dtc = DecisionTreeClassifier()\n",
    "dtc = dtc.fit(X, y)"
   ]
  },
  {
   "cell_type": "markdown",
   "id": "0cdadebc",
   "metadata": {
    "papermill": {
     "duration": 0.002996,
     "end_time": "2023-02-08T01:33:02.006642",
     "exception": false,
     "start_time": "2023-02-08T01:33:02.003646",
     "status": "completed"
    },
    "tags": []
   },
   "source": [
    "Function to calculate competition's evaluation metric: https://www.kaggle.com/code/inversion/amex-competition-metric-python"
   ]
  },
  {
   "cell_type": "code",
   "execution_count": 4,
   "id": "56779fe8",
   "metadata": {
    "execution": {
     "iopub.execute_input": "2023-02-08T01:33:02.017105Z",
     "iopub.status.busy": "2023-02-08T01:33:02.016448Z",
     "iopub.status.idle": "2023-02-08T01:33:02.043087Z",
     "shell.execute_reply": "2023-02-08T01:33:02.041937Z"
    },
    "jupyter": {
     "source_hidden": true
    },
    "papermill": {
     "duration": 0.036587,
     "end_time": "2023-02-08T01:33:02.045942",
     "exception": false,
     "start_time": "2023-02-08T01:33:02.009355",
     "status": "completed"
    },
    "tags": []
   },
   "outputs": [],
   "source": [
    "def amex_metric(y_true: pd.DataFrame, y_pred: pd.DataFrame) -> float:\n",
    "\n",
    "    def top_four_percent_captured(y_true: pd.DataFrame, y_pred: pd.DataFrame) -> float:\n",
    "        df = (pd.concat([y_true, y_pred], axis='columns')\n",
    "              .sort_values('prediction', ascending=False))\n",
    "        df['weight'] = df['target'].apply(lambda x: 20 if x==0 else 1)\n",
    "        four_pct_cutoff = int(0.04 * df['weight'].sum())\n",
    "        df['weight_cumsum'] = df['weight'].cumsum()\n",
    "        df_cutoff = df.loc[df['weight_cumsum'] <= four_pct_cutoff]\n",
    "        return (df_cutoff['target'] == 1).sum() / (df['target'] == 1).sum()\n",
    "        \n",
    "    def weighted_gini(y_true: pd.DataFrame, y_pred: pd.DataFrame) -> float:\n",
    "        df = (pd.concat([y_true, y_pred], axis='columns')\n",
    "              .sort_values('prediction', ascending=False))\n",
    "        df['weight'] = df['target'].apply(lambda x: 20 if x==0 else 1)\n",
    "        df['random'] = (df['weight'] / df['weight'].sum()).cumsum()\n",
    "        total_pos = (df['target'] * df['weight']).sum()\n",
    "        df['cum_pos_found'] = (df['target'] * df['weight']).cumsum()\n",
    "        df['lorentz'] = df['cum_pos_found'] / total_pos\n",
    "        df['gini'] = (df['lorentz'] - df['random']) * df['weight']\n",
    "        return df['gini'].sum()\n",
    "\n",
    "    def normalized_weighted_gini(y_true: pd.DataFrame, y_pred: pd.DataFrame) -> float:\n",
    "        y_true_pred = y_true.rename(columns={'target': 'prediction'})\n",
    "        return weighted_gini(y_true, y_pred) / weighted_gini(y_true, y_true_pred)\n",
    "\n",
    "    g = normalized_weighted_gini(y_true, y_pred)\n",
    "    d = top_four_percent_captured(y_true, y_pred)\n",
    "\n",
    "    return 0.5 * (g + d)"
   ]
  },
  {
   "cell_type": "code",
   "execution_count": 5,
   "id": "09093e7a",
   "metadata": {
    "execution": {
     "iopub.execute_input": "2023-02-08T01:33:02.053318Z",
     "iopub.status.busy": "2023-02-08T01:33:02.052895Z",
     "iopub.status.idle": "2023-02-08T01:33:33.076609Z",
     "shell.execute_reply": "2023-02-08T01:33:33.075199Z"
    },
    "papermill": {
     "duration": 31.036333,
     "end_time": "2023-02-08T01:33:33.085056",
     "exception": false,
     "start_time": "2023-02-08T01:33:02.048723",
     "status": "completed"
    },
    "tags": []
   },
   "outputs": [
    {
     "name": "stdout",
     "output_type": "stream",
     "text": [
      "1.0\n"
     ]
    }
   ],
   "source": [
    "preds = dtc.predict(X)\n",
    "print(amex_metric(y, pd.DataFrame(preds, index=y.index, columns=['prediction'])))"
   ]
  },
  {
   "cell_type": "code",
   "execution_count": 6,
   "id": "7ce02036",
   "metadata": {
    "execution": {
     "iopub.execute_input": "2023-02-08T01:33:33.093054Z",
     "iopub.status.busy": "2023-02-08T01:33:33.092285Z",
     "iopub.status.idle": "2023-02-08T01:33:33.176039Z",
     "shell.execute_reply": "2023-02-08T01:33:33.175123Z"
    },
    "papermill": {
     "duration": 0.091083,
     "end_time": "2023-02-08T01:33:33.178933",
     "exception": false,
     "start_time": "2023-02-08T01:33:33.087850",
     "status": "completed"
    },
    "tags": []
   },
   "outputs": [],
   "source": [
    "pickle.dump(dtc, open('decision_tree_classifier_model.sav', 'wb'))"
   ]
  }
 ],
 "metadata": {
  "kernelspec": {
   "display_name": "Python 3",
   "language": "python",
   "name": "python3"
  },
  "language_info": {
   "codemirror_mode": {
    "name": "ipython",
    "version": 3
   },
   "file_extension": ".py",
   "mimetype": "text/x-python",
   "name": "python",
   "nbconvert_exporter": "python",
   "pygments_lexer": "ipython3",
   "version": "3.7.12"
  },
  "papermill": {
   "default_parameters": {},
   "duration": 6054.933507,
   "end_time": "2023-02-08T01:33:34.824936",
   "environment_variables": {},
   "exception": null,
   "input_path": "__notebook__.ipynb",
   "output_path": "__notebook__.ipynb",
   "parameters": {},
   "start_time": "2023-02-07T23:52:39.891429",
   "version": "2.3.4"
  }
 },
 "nbformat": 4,
 "nbformat_minor": 5
}
