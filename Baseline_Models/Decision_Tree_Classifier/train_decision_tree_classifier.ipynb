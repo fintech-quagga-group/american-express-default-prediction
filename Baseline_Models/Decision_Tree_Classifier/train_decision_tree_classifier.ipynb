{
 "cells": [
  {
   "cell_type": "code",
   "execution_count": 1,
   "id": "6b804cb4",
   "metadata": {
    "_cell_guid": "b1076dfc-b9ad-4769-8c92-a6c4dae69d19",
    "_uuid": "8f2839f25d086af736a60e9eeb907d3b93b6e0e5",
    "execution": {
     "iopub.execute_input": "2023-02-10T20:37:00.784148Z",
     "iopub.status.busy": "2023-02-10T20:37:00.783158Z",
     "iopub.status.idle": "2023-02-10T20:37:02.277115Z",
     "shell.execute_reply": "2023-02-10T20:37:02.275819Z"
    },
    "papermill": {
     "duration": 1.50583,
     "end_time": "2023-02-10T20:37:02.280768",
     "exception": false,
     "start_time": "2023-02-10T20:37:00.774938",
     "status": "completed"
    },
    "tags": []
   },
   "outputs": [],
   "source": [
    "import pickle\n",
    "import pandas as pd\n",
    "from sklearn.tree import DecisionTreeClassifier\n",
    "from sklearn.metrics import classification_report"
   ]
  },
  {
   "cell_type": "code",
   "execution_count": 2,
   "id": "f54f5d4a",
   "metadata": {
    "execution": {
     "iopub.execute_input": "2023-02-10T20:37:02.289410Z",
     "iopub.status.busy": "2023-02-10T20:37:02.288222Z",
     "iopub.status.idle": "2023-02-10T20:37:31.633779Z",
     "shell.execute_reply": "2023-02-10T20:37:31.632829Z"
    },
    "papermill": {
     "duration": 29.352491,
     "end_time": "2023-02-10T20:37:31.636357",
     "exception": false,
     "start_time": "2023-02-10T20:37:02.283866",
     "status": "completed"
    },
    "tags": []
   },
   "outputs": [],
   "source": [
    "X = pd.read_feather('../input/amex-imputed-and-1hot-encoded/X_train.ftr')\n",
    "y = pd.read_feather('../input/amex-imputed-and-1hot-encoded/y_train.ftr')\n",
    "\n",
    "X = X.set_index('customer_ID')\n",
    "y = y.set_index('customer_ID')['target']"
   ]
  },
  {
   "cell_type": "markdown",
   "id": "5806587d",
   "metadata": {
    "papermill": {
     "duration": 0.002489,
     "end_time": "2023-02-10T20:37:31.641848",
     "exception": false,
     "start_time": "2023-02-10T20:37:31.639359",
     "status": "completed"
    },
    "tags": []
   },
   "source": [
    "Function to calculate competition's evaluation metric: https://www.kaggle.com/code/inversion/amex-competition-metric-python"
   ]
  },
  {
   "cell_type": "code",
   "execution_count": 3,
   "id": "5db5145a",
   "metadata": {
    "execution": {
     "iopub.execute_input": "2023-02-10T20:37:31.649276Z",
     "iopub.status.busy": "2023-02-10T20:37:31.648837Z",
     "iopub.status.idle": "2023-02-10T20:37:31.663052Z",
     "shell.execute_reply": "2023-02-10T20:37:31.661798Z"
    },
    "jupyter": {
     "source_hidden": true
    },
    "papermill": {
     "duration": 0.021492,
     "end_time": "2023-02-10T20:37:31.666157",
     "exception": false,
     "start_time": "2023-02-10T20:37:31.644665",
     "status": "completed"
    },
    "tags": []
   },
   "outputs": [],
   "source": [
    "def amex_metric(y_true: pd.DataFrame, y_pred: pd.DataFrame) -> float:\n",
    "\n",
    "    def top_four_percent_captured(y_true: pd.DataFrame, y_pred: pd.DataFrame) -> float:\n",
    "        df = (pd.concat([y_true, y_pred], axis='columns')\n",
    "              .sort_values('prediction', ascending=False))\n",
    "        df['weight'] = df['target'].apply(lambda x: 20 if x==0 else 1)\n",
    "        four_pct_cutoff = int(0.04 * df['weight'].sum())\n",
    "        df['weight_cumsum'] = df['weight'].cumsum()\n",
    "        df_cutoff = df.loc[df['weight_cumsum'] <= four_pct_cutoff]\n",
    "        return (df_cutoff['target'] == 1).sum() / (df['target'] == 1).sum()\n",
    "        \n",
    "    def weighted_gini(y_true: pd.DataFrame, y_pred: pd.DataFrame) -> float:\n",
    "        df = (pd.concat([y_true, y_pred], axis='columns')\n",
    "              .sort_values('prediction', ascending=False))\n",
    "        df['weight'] = df['target'].apply(lambda x: 20 if x==0 else 1)\n",
    "        df['random'] = (df['weight'] / df['weight'].sum()).cumsum()\n",
    "        total_pos = (df['target'] * df['weight']).sum()\n",
    "        df['cum_pos_found'] = (df['target'] * df['weight']).cumsum()\n",
    "        df['lorentz'] = df['cum_pos_found'] / total_pos\n",
    "        df['gini'] = (df['lorentz'] - df['random']) * df['weight']\n",
    "        return df['gini'].sum()\n",
    "\n",
    "    def normalized_weighted_gini(y_true: pd.DataFrame, y_pred: pd.DataFrame) -> float:\n",
    "        y_true_pred = y_true.rename(columns={'target': 'prediction'})\n",
    "        return weighted_gini(y_true, y_pred) / weighted_gini(y_true, y_true_pred)\n",
    "\n",
    "    g = normalized_weighted_gini(y_true, y_pred)\n",
    "    d = top_four_percent_captured(y_true, y_pred)\n",
    "\n",
    "    return 0.5 * (g + d)"
   ]
  },
  {
   "cell_type": "code",
   "execution_count": 4,
   "id": "0d9364f9",
   "metadata": {
    "execution": {
     "iopub.execute_input": "2023-02-10T20:37:31.673990Z",
     "iopub.status.busy": "2023-02-10T20:37:31.673378Z",
     "iopub.status.idle": "2023-02-10T22:21:10.880316Z",
     "shell.execute_reply": "2023-02-10T22:21:10.871551Z"
    },
    "papermill": {
     "duration": 6219.229362,
     "end_time": "2023-02-10T22:21:10.898562",
     "exception": false,
     "start_time": "2023-02-10T20:37:31.669200",
     "status": "completed"
    },
    "tags": []
   },
   "outputs": [],
   "source": [
    "dtc = DecisionTreeClassifier()\n",
    "dtc = dtc.fit(X, y)"
   ]
  },
  {
   "cell_type": "code",
   "execution_count": 5,
   "id": "87684d29",
   "metadata": {
    "execution": {
     "iopub.execute_input": "2023-02-10T22:21:10.927871Z",
     "iopub.status.busy": "2023-02-10T22:21:10.927065Z",
     "iopub.status.idle": "2023-02-10T22:21:42.939432Z",
     "shell.execute_reply": "2023-02-10T22:21:42.937902Z"
    },
    "papermill": {
     "duration": 32.028125,
     "end_time": "2023-02-10T22:21:42.942743",
     "exception": false,
     "start_time": "2023-02-10T22:21:10.914618",
     "status": "completed"
    },
    "tags": []
   },
   "outputs": [],
   "source": [
    "proba_preds = dtc.predict_proba(X)[:, 1]\n",
    "preds = dtc.predict(X)"
   ]
  },
  {
   "cell_type": "code",
   "execution_count": 6,
   "id": "c254f9da",
   "metadata": {
    "execution": {
     "iopub.execute_input": "2023-02-10T22:21:42.950832Z",
     "iopub.status.busy": "2023-02-10T22:21:42.950433Z",
     "iopub.status.idle": "2023-02-10T22:21:55.156194Z",
     "shell.execute_reply": "2023-02-10T22:21:55.154866Z"
    },
    "papermill": {
     "duration": 12.221141,
     "end_time": "2023-02-10T22:21:55.167036",
     "exception": false,
     "start_time": "2023-02-10T22:21:42.945895",
     "status": "completed"
    },
    "tags": []
   },
   "outputs": [
    {
     "name": "stdout",
     "output_type": "stream",
     "text": [
      "M = 1.0\n"
     ]
    }
   ],
   "source": [
    "print(f'M = {amex_metric(pd.DataFrame(y), pd.DataFrame(proba_preds, index=y.index, columns=[\"prediction\"]))}')"
   ]
  },
  {
   "cell_type": "code",
   "execution_count": 7,
   "id": "eca699dc",
   "metadata": {
    "execution": {
     "iopub.execute_input": "2023-02-10T22:21:55.176093Z",
     "iopub.status.busy": "2023-02-10T22:21:55.175626Z",
     "iopub.status.idle": "2023-02-10T22:22:07.933809Z",
     "shell.execute_reply": "2023-02-10T22:22:07.932394Z"
    },
    "papermill": {
     "duration": 12.766497,
     "end_time": "2023-02-10T22:22:07.937322",
     "exception": false,
     "start_time": "2023-02-10T22:21:55.170825",
     "status": "completed"
    },
    "tags": []
   },
   "outputs": [
    {
     "name": "stdout",
     "output_type": "stream",
     "text": [
      "              precision    recall  f1-score   support\n",
      "\n",
      "           0       1.00      1.00      1.00   4153582\n",
      "           1       1.00      1.00      1.00   1377869\n",
      "\n",
      "    accuracy                           1.00   5531451\n",
      "   macro avg       1.00      1.00      1.00   5531451\n",
      "weighted avg       1.00      1.00      1.00   5531451\n",
      "\n"
     ]
    }
   ],
   "source": [
    "print(classification_report(y, preds))"
   ]
  },
  {
   "cell_type": "code",
   "execution_count": 8,
   "id": "e00f452d",
   "metadata": {
    "execution": {
     "iopub.execute_input": "2023-02-10T22:22:07.946871Z",
     "iopub.status.busy": "2023-02-10T22:22:07.945968Z",
     "iopub.status.idle": "2023-02-10T22:22:08.033498Z",
     "shell.execute_reply": "2023-02-10T22:22:08.032243Z"
    },
    "papermill": {
     "duration": 0.095916,
     "end_time": "2023-02-10T22:22:08.036844",
     "exception": false,
     "start_time": "2023-02-10T22:22:07.940928",
     "status": "completed"
    },
    "tags": []
   },
   "outputs": [],
   "source": [
    "pickle.dump(dtc, open('decision_tree_classifier_model.sav', 'wb'))"
   ]
  }
 ],
 "metadata": {
  "kernelspec": {
   "display_name": "Python 3",
   "language": "python",
   "name": "python3"
  },
  "language_info": {
   "codemirror_mode": {
    "name": "ipython",
    "version": 3
   },
   "file_extension": ".py",
   "mimetype": "text/x-python",
   "name": "python",
   "nbconvert_exporter": "python",
   "pygments_lexer": "ipython3",
   "version": "3.7.12"
  },
  "papermill": {
   "default_parameters": {},
   "duration": 6318.492455,
   "end_time": "2023-02-10T22:22:10.192444",
   "environment_variables": {},
   "exception": null,
   "input_path": "__notebook__.ipynb",
   "output_path": "__notebook__.ipynb",
   "parameters": {},
   "start_time": "2023-02-10T20:36:51.699989",
   "version": "2.3.4"
  }
 },
 "nbformat": 4,
 "nbformat_minor": 5
}
