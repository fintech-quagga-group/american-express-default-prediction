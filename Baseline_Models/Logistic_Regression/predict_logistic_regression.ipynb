{
 "cells": [
  {
   "cell_type": "code",
   "execution_count": 1,
   "id": "0dc08898",
   "metadata": {
    "_cell_guid": "b1076dfc-b9ad-4769-8c92-a6c4dae69d19",
    "_uuid": "8f2839f25d086af736a60e9eeb907d3b93b6e0e5",
    "execution": {
     "iopub.execute_input": "2023-02-11T05:43:59.568357Z",
     "iopub.status.busy": "2023-02-11T05:43:59.567922Z",
     "iopub.status.idle": "2023-02-11T05:44:00.783344Z",
     "shell.execute_reply": "2023-02-11T05:44:00.782063Z"
    },
    "papermill": {
     "duration": 1.223945,
     "end_time": "2023-02-11T05:44:00.786341",
     "exception": false,
     "start_time": "2023-02-11T05:43:59.562396",
     "status": "completed"
    },
    "tags": []
   },
   "outputs": [],
   "source": [
    "import pickle\n",
    "import pandas as pd\n",
    "from sklearn.linear_model import LogisticRegression"
   ]
  },
  {
   "cell_type": "code",
   "execution_count": 2,
   "id": "a885ae2d",
   "metadata": {
    "execution": {
     "iopub.execute_input": "2023-02-11T05:44:00.793799Z",
     "iopub.status.busy": "2023-02-11T05:44:00.793353Z",
     "iopub.status.idle": "2023-02-11T05:44:25.799715Z",
     "shell.execute_reply": "2023-02-11T05:44:25.798498Z"
    },
    "papermill": {
     "duration": 25.013218,
     "end_time": "2023-02-11T05:44:25.802508",
     "exception": false,
     "start_time": "2023-02-11T05:44:00.789290",
     "status": "completed"
    },
    "tags": []
   },
   "outputs": [],
   "source": [
    "X_test_1 = pd.read_feather('../input/amex-imputed-and-1hot-encoded/X_test_1.ftr')\n",
    "X_test_1 = X_test_1.set_index('customer_ID')"
   ]
  },
  {
   "cell_type": "code",
   "execution_count": 3,
   "id": "a5ec09a6",
   "metadata": {
    "execution": {
     "iopub.execute_input": "2023-02-11T05:44:25.809258Z",
     "iopub.status.busy": "2023-02-11T05:44:25.808892Z",
     "iopub.status.idle": "2023-02-11T05:44:48.989936Z",
     "shell.execute_reply": "2023-02-11T05:44:48.988941Z"
    },
    "papermill": {
     "duration": 23.187362,
     "end_time": "2023-02-11T05:44:48.992562",
     "exception": false,
     "start_time": "2023-02-11T05:44:25.805200",
     "status": "completed"
    },
    "tags": []
   },
   "outputs": [],
   "source": [
    "X_test_2 = pd.read_feather('../input/amex-imputed-and-1hot-encoded/X_test_2.ftr')\n",
    "X_test_2 = X_test_2.set_index('customer_ID')"
   ]
  },
  {
   "cell_type": "code",
   "execution_count": 4,
   "id": "edea7a94",
   "metadata": {
    "execution": {
     "iopub.execute_input": "2023-02-11T05:44:48.999943Z",
     "iopub.status.busy": "2023-02-11T05:44:48.999339Z",
     "iopub.status.idle": "2023-02-11T05:45:13.171947Z",
     "shell.execute_reply": "2023-02-11T05:45:13.170701Z"
    },
    "papermill": {
     "duration": 24.179161,
     "end_time": "2023-02-11T05:45:13.174705",
     "exception": false,
     "start_time": "2023-02-11T05:44:48.995544",
     "status": "completed"
    },
    "tags": []
   },
   "outputs": [],
   "source": [
    "model = pickle.load(open('/kaggle/input/test-dtc-model/logistic_regression_model.sav', 'rb'))\n",
    "preds_1 = pd.DataFrame(model.predict_proba(X_test_1)[:, 1], index=X_test_1.index, columns=['prediction'])\n",
    "preds_2 = pd.DataFrame(model.predict_proba(X_test_2)[:, 1], index=X_test_2.index, columns=['prediction'])"
   ]
  },
  {
   "cell_type": "code",
   "execution_count": 5,
   "id": "4a0cbe06",
   "metadata": {
    "execution": {
     "iopub.execute_input": "2023-02-11T05:45:13.182625Z",
     "iopub.status.busy": "2023-02-11T05:45:13.182023Z",
     "iopub.status.idle": "2023-02-11T05:45:19.547850Z",
     "shell.execute_reply": "2023-02-11T05:45:19.546479Z"
    },
    "papermill": {
     "duration": 6.373172,
     "end_time": "2023-02-11T05:45:19.550661",
     "exception": false,
     "start_time": "2023-02-11T05:45:13.177489",
     "status": "completed"
    },
    "tags": []
   },
   "outputs": [],
   "source": [
    "submission = pd.concat([preds_1, preds_2])\n",
    "\n",
    "# predictions only need to be for each customer\n",
    "submission = submission.groupby('customer_ID').agg(['last'])\n",
    "submission.columns = submission.columns.droplevel(1)\n",
    "\n",
    "# predictions need to be doubles \n",
    "submission['prediction'] = submission['prediction'].astype('double')\n",
    "\n",
    "# index needs to be removed from submission csv\n",
    "submission = submission.reset_index()\n",
    "submission.to_csv('submission.csv', index=False)"
   ]
  },
  {
   "cell_type": "code",
   "execution_count": null,
   "id": "a5069f11",
   "metadata": {
    "papermill": {
     "duration": 0.002291,
     "end_time": "2023-02-11T05:45:19.555654",
     "exception": false,
     "start_time": "2023-02-11T05:45:19.553363",
     "status": "completed"
    },
    "tags": []
   },
   "outputs": [],
   "source": []
  },
  {
   "cell_type": "code",
   "execution_count": null,
   "id": "ce08634b",
   "metadata": {
    "papermill": {
     "duration": 0.002154,
     "end_time": "2023-02-11T05:45:19.560259",
     "exception": false,
     "start_time": "2023-02-11T05:45:19.558105",
     "status": "completed"
    },
    "tags": []
   },
   "outputs": [],
   "source": []
  }
 ],
 "metadata": {
  "kernelspec": {
   "display_name": "Python 3",
   "language": "python",
   "name": "python3"
  },
  "language_info": {
   "codemirror_mode": {
    "name": "ipython",
    "version": 3
   },
   "file_extension": ".py",
   "mimetype": "text/x-python",
   "name": "python",
   "nbconvert_exporter": "python",
   "pygments_lexer": "ipython3",
   "version": "3.7.12"
  },
  "papermill": {
   "default_parameters": {},
   "duration": 89.545875,
   "end_time": "2023-02-11T05:45:20.486339",
   "environment_variables": {},
   "exception": null,
   "input_path": "__notebook__.ipynb",
   "output_path": "__notebook__.ipynb",
   "parameters": {},
   "start_time": "2023-02-11T05:43:50.940464",
   "version": "2.3.4"
  }
 },
 "nbformat": 4,
 "nbformat_minor": 5
}
