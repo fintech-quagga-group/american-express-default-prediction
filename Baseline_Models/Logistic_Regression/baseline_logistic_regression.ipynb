{
 "cells": [
  {
   "cell_type": "code",
   "execution_count": 1,
   "id": "246f0806",
   "metadata": {
    "_cell_guid": "b1076dfc-b9ad-4769-8c92-a6c4dae69d19",
    "_uuid": "8f2839f25d086af736a60e9eeb907d3b93b6e0e5",
    "execution": {
     "iopub.execute_input": "2023-02-14T01:03:51.041741Z",
     "iopub.status.busy": "2023-02-14T01:03:51.041069Z",
     "iopub.status.idle": "2023-02-14T01:03:52.371652Z",
     "shell.execute_reply": "2023-02-14T01:03:52.370371Z"
    },
    "papermill": {
     "duration": 1.342951,
     "end_time": "2023-02-14T01:03:52.375004",
     "exception": false,
     "start_time": "2023-02-14T01:03:51.032053",
     "status": "completed"
    },
    "tags": []
   },
   "outputs": [],
   "source": [
    "import pickle\n",
    "import gc\n",
    "import pandas as pd\n",
    "from sklearn.linear_model import LogisticRegression\n",
    "from sklearn.metrics import classification_report"
   ]
  },
  {
   "cell_type": "code",
   "execution_count": 2,
   "id": "4cc051da",
   "metadata": {
    "execution": {
     "iopub.execute_input": "2023-02-14T01:03:52.386171Z",
     "iopub.status.busy": "2023-02-14T01:03:52.385727Z",
     "iopub.status.idle": "2023-02-14T01:04:29.422458Z",
     "shell.execute_reply": "2023-02-14T01:04:29.421212Z"
    },
    "papermill": {
     "duration": 37.04544,
     "end_time": "2023-02-14T01:04:29.425350",
     "exception": false,
     "start_time": "2023-02-14T01:03:52.379910",
     "status": "completed"
    },
    "tags": []
   },
   "outputs": [],
   "source": [
    "X = pd.read_feather('../input/amex-imputed-and-1hot-encoded/X_train.ftr')\n",
    "y = pd.read_feather('../input/amex-imputed-and-1hot-encoded/y_train.ftr')\n",
    "\n",
    "X = X.set_index('customer_ID')\n",
    "y = y.set_index('customer_ID')['target']"
   ]
  },
  {
   "cell_type": "markdown",
   "id": "cea8aafd",
   "metadata": {
    "execution": {
     "iopub.execute_input": "2023-02-07T23:57:05.559392Z",
     "iopub.status.busy": "2023-02-07T23:57:05.558967Z",
     "iopub.status.idle": "2023-02-07T23:57:05.587369Z",
     "shell.execute_reply": "2023-02-07T23:57:05.586391Z",
     "shell.execute_reply.started": "2023-02-07T23:57:05.559313Z"
    },
    "papermill": {
     "duration": 0.00417,
     "end_time": "2023-02-14T01:04:29.434290",
     "exception": false,
     "start_time": "2023-02-14T01:04:29.430120",
     "status": "completed"
    },
    "tags": []
   },
   "source": [
    "Function to calculate competition's evaluation metric: https://www.kaggle.com/code/inversion/amex-competition-metric-python"
   ]
  },
  {
   "cell_type": "code",
   "execution_count": 3,
   "id": "59b2e4e6",
   "metadata": {
    "execution": {
     "iopub.execute_input": "2023-02-14T01:04:29.445235Z",
     "iopub.status.busy": "2023-02-14T01:04:29.444782Z",
     "iopub.status.idle": "2023-02-14T01:04:29.744656Z",
     "shell.execute_reply": "2023-02-14T01:04:29.743485Z"
    },
    "papermill": {
     "duration": 0.308544,
     "end_time": "2023-02-14T01:04:29.747269",
     "exception": false,
     "start_time": "2023-02-14T01:04:29.438725",
     "status": "completed"
    },
    "tags": []
   },
   "outputs": [],
   "source": [
    "def amex_metric(y_true: pd.DataFrame, y_pred: pd.DataFrame) -> float:\n",
    "\n",
    "    def top_four_percent_captured(y_true: pd.DataFrame, y_pred: pd.DataFrame) -> float:\n",
    "        df = (pd.concat([y_true, y_pred], axis='columns')\n",
    "              .sort_values('prediction', ascending=False))\n",
    "        df['weight'] = df['target'].apply(lambda x: 20 if x==0 else 1)\n",
    "        four_pct_cutoff = int(0.04 * df['weight'].sum())\n",
    "        df['weight_cumsum'] = df['weight'].cumsum()\n",
    "        df_cutoff = df.loc[df['weight_cumsum'] <= four_pct_cutoff]\n",
    "        return (df_cutoff['target'] == 1).sum() / (df['target'] == 1).sum()\n",
    "        \n",
    "    def weighted_gini(y_true: pd.DataFrame, y_pred: pd.DataFrame) -> float:\n",
    "        df = (pd.concat([y_true, y_pred], axis='columns')\n",
    "              .sort_values('prediction', ascending=False))\n",
    "        df['weight'] = df['target'].apply(lambda x: 20 if x==0 else 1)\n",
    "        df['random'] = (df['weight'] / df['weight'].sum()).cumsum()\n",
    "        total_pos = (df['target'] * df['weight']).sum()\n",
    "        df['cum_pos_found'] = (df['target'] * df['weight']).cumsum()\n",
    "        df['lorentz'] = df['cum_pos_found'] / total_pos\n",
    "        df['gini'] = (df['lorentz'] - df['random']) * df['weight']\n",
    "        return df['gini'].sum()\n",
    "\n",
    "    def normalized_weighted_gini(y_true: pd.DataFrame, y_pred: pd.DataFrame) -> float:\n",
    "        y_true_pred = y_true.rename(columns={'target': 'prediction'})\n",
    "        return weighted_gini(y_true, y_pred) / weighted_gini(y_true, y_true_pred)\n",
    "\n",
    "    g = normalized_weighted_gini(y_true, y_pred)\n",
    "    d = top_four_percent_captured(y_true, y_pred)\n",
    "\n",
    "    return 0.5 * (g + d)"
   ]
  },
  {
   "cell_type": "markdown",
   "id": "7c8acd5e",
   "metadata": {
    "papermill": {
     "duration": 0.004361,
     "end_time": "2023-02-14T01:04:29.756369",
     "exception": false,
     "start_time": "2023-02-14T01:04:29.752008",
     "status": "completed"
    },
    "tags": []
   },
   "source": [
    "## Train model"
   ]
  },
  {
   "cell_type": "code",
   "execution_count": 4,
   "id": "0f84dbd4",
   "metadata": {
    "execution": {
     "iopub.execute_input": "2023-02-14T01:04:29.767505Z",
     "iopub.status.busy": "2023-02-14T01:04:29.767053Z",
     "iopub.status.idle": "2023-02-14T01:07:58.962690Z",
     "shell.execute_reply": "2023-02-14T01:07:58.959949Z"
    },
    "papermill": {
     "duration": 209.232642,
     "end_time": "2023-02-14T01:07:58.993617",
     "exception": false,
     "start_time": "2023-02-14T01:04:29.760975",
     "status": "completed"
    },
    "tags": []
   },
   "outputs": [
    {
     "name": "stderr",
     "output_type": "stream",
     "text": [
      "/opt/conda/lib/python3.7/site-packages/sklearn/linear_model/_logistic.py:818: ConvergenceWarning: lbfgs failed to converge (status=1):\n",
      "STOP: TOTAL NO. of ITERATIONS REACHED LIMIT.\n",
      "\n",
      "Increase the number of iterations (max_iter) or scale the data as shown in:\n",
      "    https://scikit-learn.org/stable/modules/preprocessing.html\n",
      "Please also refer to the documentation for alternative solver options:\n",
      "    https://scikit-learn.org/stable/modules/linear_model.html#logistic-regression\n",
      "  extra_warning_msg=_LOGISTIC_SOLVER_CONVERGENCE_MSG,\n"
     ]
    }
   ],
   "source": [
    "model = LogisticRegression()\n",
    "model = model.fit(X, y)"
   ]
  },
  {
   "cell_type": "code",
   "execution_count": 5,
   "id": "23b424d9",
   "metadata": {
    "execution": {
     "iopub.execute_input": "2023-02-14T01:07:59.012185Z",
     "iopub.status.busy": "2023-02-14T01:07:59.010085Z",
     "iopub.status.idle": "2023-02-14T01:08:12.669832Z",
     "shell.execute_reply": "2023-02-14T01:08:12.668501Z"
    },
    "papermill": {
     "duration": 13.671234,
     "end_time": "2023-02-14T01:08:12.673279",
     "exception": false,
     "start_time": "2023-02-14T01:07:59.002045",
     "status": "completed"
    },
    "tags": []
   },
   "outputs": [],
   "source": [
    "proba_preds = model.predict_proba(X)[:, 1]\n",
    "preds = model.predict(X)"
   ]
  },
  {
   "cell_type": "code",
   "execution_count": 6,
   "id": "7937ae2a",
   "metadata": {
    "execution": {
     "iopub.execute_input": "2023-02-14T01:08:12.684975Z",
     "iopub.status.busy": "2023-02-14T01:08:12.684442Z",
     "iopub.status.idle": "2023-02-14T01:08:28.278151Z",
     "shell.execute_reply": "2023-02-14T01:08:28.276765Z"
    },
    "papermill": {
     "duration": 15.602847,
     "end_time": "2023-02-14T01:08:28.281119",
     "exception": false,
     "start_time": "2023-02-14T01:08:12.678272",
     "status": "completed"
    },
    "tags": []
   },
   "outputs": [
    {
     "name": "stdout",
     "output_type": "stream",
     "text": [
      "M = 0.6835356094957665\n"
     ]
    }
   ],
   "source": [
    "print(f'M = {amex_metric(pd.DataFrame(y), pd.DataFrame(proba_preds, index=y.index, columns=[\"prediction\"]))}')"
   ]
  },
  {
   "cell_type": "code",
   "execution_count": 7,
   "id": "311689cd",
   "metadata": {
    "execution": {
     "iopub.execute_input": "2023-02-14T01:08:28.292719Z",
     "iopub.status.busy": "2023-02-14T01:08:28.292275Z",
     "iopub.status.idle": "2023-02-14T01:08:41.514553Z",
     "shell.execute_reply": "2023-02-14T01:08:41.512946Z"
    },
    "papermill": {
     "duration": 13.23218,
     "end_time": "2023-02-14T01:08:41.518251",
     "exception": false,
     "start_time": "2023-02-14T01:08:28.286071",
     "status": "completed"
    },
    "tags": []
   },
   "outputs": [
    {
     "name": "stdout",
     "output_type": "stream",
     "text": [
      "              precision    recall  f1-score   support\n",
      "\n",
      "           0       0.90      0.93      0.92   4153582\n",
      "           1       0.76      0.70      0.73   1377869\n",
      "\n",
      "    accuracy                           0.87   5531451\n",
      "   macro avg       0.83      0.82      0.82   5531451\n",
      "weighted avg       0.87      0.87      0.87   5531451\n",
      "\n"
     ]
    }
   ],
   "source": [
    "print(classification_report(y, preds))"
   ]
  },
  {
   "cell_type": "code",
   "execution_count": 8,
   "id": "b472df51",
   "metadata": {
    "execution": {
     "iopub.execute_input": "2023-02-14T01:08:41.530486Z",
     "iopub.status.busy": "2023-02-14T01:08:41.529683Z",
     "iopub.status.idle": "2023-02-14T01:08:41.858510Z",
     "shell.execute_reply": "2023-02-14T01:08:41.857263Z"
    },
    "papermill": {
     "duration": 0.337634,
     "end_time": "2023-02-14T01:08:41.861151",
     "exception": false,
     "start_time": "2023-02-14T01:08:41.523517",
     "status": "completed"
    },
    "tags": []
   },
   "outputs": [
    {
     "data": {
      "text/plain": [
       "125"
      ]
     },
     "execution_count": 8,
     "metadata": {},
     "output_type": "execute_result"
    }
   ],
   "source": [
    "del X, y\n",
    "gc.collect()"
   ]
  },
  {
   "cell_type": "markdown",
   "id": "ff1e14b7",
   "metadata": {
    "papermill": {
     "duration": 0.004567,
     "end_time": "2023-02-14T01:08:41.870763",
     "exception": false,
     "start_time": "2023-02-14T01:08:41.866196",
     "status": "completed"
    },
    "tags": []
   },
   "source": [
    "## Save model and predict on test set"
   ]
  },
  {
   "cell_type": "code",
   "execution_count": 9,
   "id": "7328ccde",
   "metadata": {
    "execution": {
     "iopub.execute_input": "2023-02-14T01:08:41.883207Z",
     "iopub.status.busy": "2023-02-14T01:08:41.881870Z",
     "iopub.status.idle": "2023-02-14T01:08:41.889207Z",
     "shell.execute_reply": "2023-02-14T01:08:41.888096Z"
    },
    "papermill": {
     "duration": 0.016215,
     "end_time": "2023-02-14T01:08:41.891874",
     "exception": false,
     "start_time": "2023-02-14T01:08:41.875659",
     "status": "completed"
    },
    "tags": []
   },
   "outputs": [],
   "source": [
    "pickle.dump(model, open('baseline_logistic_regression_model.sav', 'wb'))"
   ]
  },
  {
   "cell_type": "code",
   "execution_count": 10,
   "id": "57c6f9b3",
   "metadata": {
    "execution": {
     "iopub.execute_input": "2023-02-14T01:08:41.904190Z",
     "iopub.status.busy": "2023-02-14T01:08:41.903778Z",
     "iopub.status.idle": "2023-02-14T01:09:18.770439Z",
     "shell.execute_reply": "2023-02-14T01:09:18.768945Z"
    },
    "papermill": {
     "duration": 36.87703,
     "end_time": "2023-02-14T01:09:18.774097",
     "exception": false,
     "start_time": "2023-02-14T01:08:41.897067",
     "status": "completed"
    },
    "tags": []
   },
   "outputs": [],
   "source": [
    "X_test_1 = pd.read_feather('../input/amex-imputed-and-1hot-encoded/X_test_1.ftr')\n",
    "X_test_1 = X_test_1.set_index('customer_ID')"
   ]
  },
  {
   "cell_type": "code",
   "execution_count": 11,
   "id": "bacbbff1",
   "metadata": {
    "execution": {
     "iopub.execute_input": "2023-02-14T01:09:18.790934Z",
     "iopub.status.busy": "2023-02-14T01:09:18.789924Z",
     "iopub.status.idle": "2023-02-14T01:09:52.181525Z",
     "shell.execute_reply": "2023-02-14T01:09:52.180272Z"
    },
    "papermill": {
     "duration": 33.401261,
     "end_time": "2023-02-14T01:09:52.184772",
     "exception": false,
     "start_time": "2023-02-14T01:09:18.783511",
     "status": "completed"
    },
    "tags": []
   },
   "outputs": [],
   "source": [
    "X_test_2 = pd.read_feather('../input/amex-imputed-and-1hot-encoded/X_test_2.ftr')\n",
    "X_test_2 = X_test_2.set_index('customer_ID')"
   ]
  },
  {
   "cell_type": "code",
   "execution_count": 12,
   "id": "3586413f",
   "metadata": {
    "execution": {
     "iopub.execute_input": "2023-02-14T01:09:52.197044Z",
     "iopub.status.busy": "2023-02-14T01:09:52.196606Z",
     "iopub.status.idle": "2023-02-14T01:10:13.549407Z",
     "shell.execute_reply": "2023-02-14T01:10:13.547925Z"
    },
    "papermill": {
     "duration": 21.362645,
     "end_time": "2023-02-14T01:10:13.552873",
     "exception": false,
     "start_time": "2023-02-14T01:09:52.190228",
     "status": "completed"
    },
    "tags": []
   },
   "outputs": [],
   "source": [
    "preds_1 = pd.DataFrame(model.predict_proba(X_test_1)[:, 1], index=X_test_1.index, columns=['prediction'])\n",
    "preds_2 = pd.DataFrame(model.predict_proba(X_test_2)[:, 1], index=X_test_2.index, columns=['prediction'])"
   ]
  },
  {
   "cell_type": "code",
   "execution_count": 13,
   "id": "2baf2e63",
   "metadata": {
    "execution": {
     "iopub.execute_input": "2023-02-14T01:10:13.565963Z",
     "iopub.status.busy": "2023-02-14T01:10:13.565517Z",
     "iopub.status.idle": "2023-02-14T01:10:20.140633Z",
     "shell.execute_reply": "2023-02-14T01:10:20.139262Z"
    },
    "papermill": {
     "duration": 6.585088,
     "end_time": "2023-02-14T01:10:20.143585",
     "exception": false,
     "start_time": "2023-02-14T01:10:13.558497",
     "status": "completed"
    },
    "tags": []
   },
   "outputs": [],
   "source": [
    "submission = pd.concat([preds_1, preds_2])\n",
    "\n",
    "# predictions only need to be for each customer\n",
    "submission = submission.groupby('customer_ID').agg(['last'])\n",
    "submission.columns = submission.columns.droplevel(1)\n",
    "\n",
    "# predictions need to be doubles \n",
    "submission['prediction'] = submission['prediction'].astype('double')\n",
    "\n",
    "# index needs to be removed from submission csv\n",
    "submission = submission.reset_index()\n",
    "submission.to_csv('baseline_logistic_regression_submission.csv', index=False)"
   ]
  }
 ],
 "metadata": {
  "kernelspec": {
   "display_name": "Python 3 (ipykernel)",
   "language": "python",
   "name": "python3"
  },
  "language_info": {
   "codemirror_mode": {
    "name": "ipython",
    "version": 3
   },
   "file_extension": ".py",
   "mimetype": "text/x-python",
   "name": "python",
   "nbconvert_exporter": "python",
   "pygments_lexer": "ipython3",
   "version": "3.10.8"
  },
  "papermill": {
   "default_parameters": {},
   "duration": 399.36725,
   "end_time": "2023-02-14T01:10:21.277659",
   "environment_variables": {},
   "exception": null,
   "input_path": "__notebook__.ipynb",
   "output_path": "__notebook__.ipynb",
   "parameters": {},
   "start_time": "2023-02-14T01:03:41.910409",
   "version": "2.3.4"
  }
 },
 "nbformat": 4,
 "nbformat_minor": 5
}
