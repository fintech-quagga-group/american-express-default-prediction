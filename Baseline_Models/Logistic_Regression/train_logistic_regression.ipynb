{
 "cells": [
  {
   "cell_type": "code",
   "execution_count": 1,
   "id": "376e8356",
   "metadata": {
    "_cell_guid": "b1076dfc-b9ad-4769-8c92-a6c4dae69d19",
    "_uuid": "8f2839f25d086af736a60e9eeb907d3b93b6e0e5",
    "execution": {
     "iopub.execute_input": "2023-02-10T18:44:57.790589Z",
     "iopub.status.busy": "2023-02-10T18:44:57.790076Z",
     "iopub.status.idle": "2023-02-10T18:44:59.246336Z",
     "shell.execute_reply": "2023-02-10T18:44:59.245266Z"
    },
    "papermill": {
     "duration": 1.465668,
     "end_time": "2023-02-10T18:44:59.249297",
     "exception": false,
     "start_time": "2023-02-10T18:44:57.783629",
     "status": "completed"
    },
    "tags": []
   },
   "outputs": [],
   "source": [
    "import pickle\n",
    "import pandas as pd\n",
    "from sklearn.linear_model import LogisticRegression\n",
    "from sklearn.metrics import classification_report"
   ]
  },
  {
   "cell_type": "code",
   "execution_count": 2,
   "id": "ee81b053",
   "metadata": {
    "execution": {
     "iopub.execute_input": "2023-02-10T18:44:59.257199Z",
     "iopub.status.busy": "2023-02-10T18:44:59.256814Z",
     "iopub.status.idle": "2023-02-10T18:45:30.772287Z",
     "shell.execute_reply": "2023-02-10T18:45:30.768796Z"
    },
    "papermill": {
     "duration": 31.528428,
     "end_time": "2023-02-10T18:45:30.780913",
     "exception": false,
     "start_time": "2023-02-10T18:44:59.252485",
     "status": "completed"
    },
    "tags": []
   },
   "outputs": [],
   "source": [
    "X = pd.read_feather('../input/amex-imputed-and-1hot-encoded/X_train.ftr')\n",
    "y = pd.read_feather('../input/amex-imputed-and-1hot-encoded/y_train.ftr')\n",
    "\n",
    "X = X.set_index('customer_ID')\n",
    "y = y.set_index('customer_ID')['target']"
   ]
  },
  {
   "cell_type": "markdown",
   "id": "d5a6e6ed",
   "metadata": {
    "execution": {
     "iopub.execute_input": "2023-02-07T23:57:05.559392Z",
     "iopub.status.busy": "2023-02-07T23:57:05.558967Z",
     "iopub.status.idle": "2023-02-07T23:57:05.587369Z",
     "shell.execute_reply": "2023-02-07T23:57:05.586391Z",
     "shell.execute_reply.started": "2023-02-07T23:57:05.559313Z"
    },
    "papermill": {
     "duration": 0.007856,
     "end_time": "2023-02-10T18:45:30.798779",
     "exception": false,
     "start_time": "2023-02-10T18:45:30.790923",
     "status": "completed"
    },
    "tags": []
   },
   "source": [
    "Function to calculate competition's evaluation metric: https://www.kaggle.com/code/inversion/amex-competition-metric-python"
   ]
  },
  {
   "cell_type": "code",
   "execution_count": 3,
   "id": "814d2807",
   "metadata": {
    "execution": {
     "iopub.execute_input": "2023-02-10T18:45:30.819786Z",
     "iopub.status.busy": "2023-02-10T18:45:30.818685Z",
     "iopub.status.idle": "2023-02-10T18:45:30.844519Z",
     "shell.execute_reply": "2023-02-10T18:45:30.843298Z"
    },
    "papermill": {
     "duration": 0.040776,
     "end_time": "2023-02-10T18:45:30.847468",
     "exception": false,
     "start_time": "2023-02-10T18:45:30.806692",
     "status": "completed"
    },
    "tags": []
   },
   "outputs": [],
   "source": [
    "def amex_metric(y_true: pd.DataFrame, y_pred: pd.DataFrame) -> float:\n",
    "\n",
    "    def top_four_percent_captured(y_true: pd.DataFrame, y_pred: pd.DataFrame) -> float:\n",
    "        df = (pd.concat([y_true, y_pred], axis='columns')\n",
    "              .sort_values('prediction', ascending=False))\n",
    "        df['weight'] = df['target'].apply(lambda x: 20 if x==0 else 1)\n",
    "        four_pct_cutoff = int(0.04 * df['weight'].sum())\n",
    "        df['weight_cumsum'] = df['weight'].cumsum()\n",
    "        df_cutoff = df.loc[df['weight_cumsum'] <= four_pct_cutoff]\n",
    "        return (df_cutoff['target'] == 1).sum() / (df['target'] == 1).sum()\n",
    "        \n",
    "    def weighted_gini(y_true: pd.DataFrame, y_pred: pd.DataFrame) -> float:\n",
    "        df = (pd.concat([y_true, y_pred], axis='columns')\n",
    "              .sort_values('prediction', ascending=False))\n",
    "        df['weight'] = df['target'].apply(lambda x: 20 if x==0 else 1)\n",
    "        df['random'] = (df['weight'] / df['weight'].sum()).cumsum()\n",
    "        total_pos = (df['target'] * df['weight']).sum()\n",
    "        df['cum_pos_found'] = (df['target'] * df['weight']).cumsum()\n",
    "        df['lorentz'] = df['cum_pos_found'] / total_pos\n",
    "        df['gini'] = (df['lorentz'] - df['random']) * df['weight']\n",
    "        return df['gini'].sum()\n",
    "\n",
    "    def normalized_weighted_gini(y_true: pd.DataFrame, y_pred: pd.DataFrame) -> float:\n",
    "        y_true_pred = y_true.rename(columns={'target': 'prediction'})\n",
    "        return weighted_gini(y_true, y_pred) / weighted_gini(y_true, y_true_pred)\n",
    "\n",
    "    g = normalized_weighted_gini(y_true, y_pred)\n",
    "    d = top_four_percent_captured(y_true, y_pred)\n",
    "\n",
    "    return 0.5 * (g + d)"
   ]
  },
  {
   "cell_type": "code",
   "execution_count": 4,
   "id": "f3d7e33d",
   "metadata": {
    "execution": {
     "iopub.execute_input": "2023-02-10T18:45:30.857112Z",
     "iopub.status.busy": "2023-02-10T18:45:30.856236Z",
     "iopub.status.idle": "2023-02-10T18:48:55.585677Z",
     "shell.execute_reply": "2023-02-10T18:48:55.583850Z"
    },
    "papermill": {
     "duration": 204.753269,
     "end_time": "2023-02-10T18:48:55.604268",
     "exception": false,
     "start_time": "2023-02-10T18:45:30.850999",
     "status": "completed"
    },
    "tags": []
   },
   "outputs": [
    {
     "name": "stderr",
     "output_type": "stream",
     "text": [
      "/opt/conda/lib/python3.7/site-packages/sklearn/linear_model/_logistic.py:818: ConvergenceWarning: lbfgs failed to converge (status=1):\n",
      "STOP: TOTAL NO. of ITERATIONS REACHED LIMIT.\n",
      "\n",
      "Increase the number of iterations (max_iter) or scale the data as shown in:\n",
      "    https://scikit-learn.org/stable/modules/preprocessing.html\n",
      "Please also refer to the documentation for alternative solver options:\n",
      "    https://scikit-learn.org/stable/modules/linear_model.html#logistic-regression\n",
      "  extra_warning_msg=_LOGISTIC_SOLVER_CONVERGENCE_MSG,\n"
     ]
    }
   ],
   "source": [
    "model = LogisticRegression()\n",
    "model = model.fit(X, y)"
   ]
  },
  {
   "cell_type": "code",
   "execution_count": 5,
   "id": "8d8e909a",
   "metadata": {
    "execution": {
     "iopub.execute_input": "2023-02-10T18:48:55.622421Z",
     "iopub.status.busy": "2023-02-10T18:48:55.621676Z",
     "iopub.status.idle": "2023-02-10T18:49:09.082102Z",
     "shell.execute_reply": "2023-02-10T18:49:09.080858Z"
    },
    "papermill": {
     "duration": 13.473107,
     "end_time": "2023-02-10T18:49:09.084986",
     "exception": false,
     "start_time": "2023-02-10T18:48:55.611879",
     "status": "completed"
    },
    "tags": []
   },
   "outputs": [],
   "source": [
    "proba_preds = model.predict_proba(X)[:, 1]\n",
    "preds = model.predict(X)"
   ]
  },
  {
   "cell_type": "code",
   "execution_count": 6,
   "id": "ae2a1925",
   "metadata": {
    "execution": {
     "iopub.execute_input": "2023-02-10T18:49:09.093467Z",
     "iopub.status.busy": "2023-02-10T18:49:09.093039Z",
     "iopub.status.idle": "2023-02-10T18:49:24.392939Z",
     "shell.execute_reply": "2023-02-10T18:49:24.391792Z"
    },
    "papermill": {
     "duration": 15.307177,
     "end_time": "2023-02-10T18:49:24.395455",
     "exception": false,
     "start_time": "2023-02-10T18:49:09.088278",
     "status": "completed"
    },
    "tags": []
   },
   "outputs": [
    {
     "name": "stdout",
     "output_type": "stream",
     "text": [
      "M = 0.6835356094957665\n"
     ]
    }
   ],
   "source": [
    "print(f'M = {amex_metric(pd.DataFrame(y), pd.DataFrame(proba_preds, index=y.index, columns=[\"prediction\"]))}')"
   ]
  },
  {
   "cell_type": "code",
   "execution_count": 7,
   "id": "91bbb677",
   "metadata": {
    "execution": {
     "iopub.execute_input": "2023-02-10T18:49:24.403410Z",
     "iopub.status.busy": "2023-02-10T18:49:24.403061Z",
     "iopub.status.idle": "2023-02-10T18:49:37.225602Z",
     "shell.execute_reply": "2023-02-10T18:49:37.224187Z"
    },
    "papermill": {
     "duration": 12.829627,
     "end_time": "2023-02-10T18:49:37.228252",
     "exception": false,
     "start_time": "2023-02-10T18:49:24.398625",
     "status": "completed"
    },
    "tags": []
   },
   "outputs": [
    {
     "name": "stdout",
     "output_type": "stream",
     "text": [
      "              precision    recall  f1-score   support\n",
      "\n",
      "           0       0.90      0.93      0.92   4153582\n",
      "           1       0.76      0.70      0.73   1377869\n",
      "\n",
      "    accuracy                           0.87   5531451\n",
      "   macro avg       0.83      0.82      0.82   5531451\n",
      "weighted avg       0.87      0.87      0.87   5531451\n",
      "\n"
     ]
    }
   ],
   "source": [
    "print(classification_report(y, preds))"
   ]
  },
  {
   "cell_type": "code",
   "execution_count": 8,
   "id": "5b08eb19",
   "metadata": {
    "execution": {
     "iopub.execute_input": "2023-02-10T18:49:37.236680Z",
     "iopub.status.busy": "2023-02-10T18:49:37.235919Z",
     "iopub.status.idle": "2023-02-10T18:49:37.242909Z",
     "shell.execute_reply": "2023-02-10T18:49:37.241704Z"
    },
    "papermill": {
     "duration": 0.013762,
     "end_time": "2023-02-10T18:49:37.245320",
     "exception": false,
     "start_time": "2023-02-10T18:49:37.231558",
     "status": "completed"
    },
    "tags": []
   },
   "outputs": [],
   "source": [
    "pickle.dump(model, open('logistic_regression_model.sav', 'wb'))"
   ]
  }
 ],
 "metadata": {
  "kernelspec": {
   "display_name": "Python 3",
   "language": "python",
   "name": "python3"
  },
  "language_info": {
   "codemirror_mode": {
    "name": "ipython",
    "version": 3
   },
   "file_extension": ".py",
   "mimetype": "text/x-python",
   "name": "python",
   "nbconvert_exporter": "python",
   "pygments_lexer": "ipython3",
   "version": "3.7.12"
  },
  "papermill": {
   "default_parameters": {},
   "duration": 289.097318,
   "end_time": "2023-02-10T18:49:38.275764",
   "environment_variables": {},
   "exception": null,
   "input_path": "__notebook__.ipynb",
   "output_path": "__notebook__.ipynb",
   "parameters": {},
   "start_time": "2023-02-10T18:44:49.178446",
   "version": "2.3.4"
  }
 },
 "nbformat": 4,
 "nbformat_minor": 5
}
