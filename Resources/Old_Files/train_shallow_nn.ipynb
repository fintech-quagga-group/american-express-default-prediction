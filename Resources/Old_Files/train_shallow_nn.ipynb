{
 "cells": [
  {
   "cell_type": "code",
   "execution_count": 1,
   "id": "d6e16c31",
   "metadata": {
    "_cell_guid": "b1076dfc-b9ad-4769-8c92-a6c4dae69d19",
    "_uuid": "8f2839f25d086af736a60e9eeb907d3b93b6e0e5",
    "execution": {
     "iopub.execute_input": "2023-02-11T04:47:38.680454Z",
     "iopub.status.busy": "2023-02-11T04:47:38.679957Z",
     "iopub.status.idle": "2023-02-11T04:47:44.949599Z",
     "shell.execute_reply": "2023-02-11T04:47:44.948374Z"
    },
    "papermill": {
     "duration": 6.283295,
     "end_time": "2023-02-11T04:47:44.953384",
     "exception": false,
     "start_time": "2023-02-11T04:47:38.670089",
     "status": "completed"
    },
    "tags": []
   },
   "outputs": [],
   "source": [
    "import pandas as pd \n",
    "import numpy as np\n",
    "import tensorflow as tf\n",
    "from sklearn.metrics import classification_report"
   ]
  },
  {
   "cell_type": "markdown",
   "id": "13caba11",
   "metadata": {
    "papermill": {
     "duration": 0.007475,
     "end_time": "2023-02-11T04:47:44.972120",
     "exception": false,
     "start_time": "2023-02-11T04:47:44.964645",
     "status": "completed"
    },
    "tags": []
   },
   "source": [
    "## Modiying our data for tensorflow neural networks \n",
    "\n",
    "The datasets we use are too big to pass into the neural networks, so we need to transform and preprocess our data for better performance in training our models. \n",
    "\n",
    "Most of this code follows the [Load a pandas DataFrame](https://www.tensorflow.org/tutorials/load_data/pandas_dataframe#full_example) preprocessing guide."
   ]
  },
  {
   "cell_type": "code",
   "execution_count": 2,
   "id": "4ef4f222",
   "metadata": {
    "execution": {
     "iopub.execute_input": "2023-02-11T04:47:44.988333Z",
     "iopub.status.busy": "2023-02-11T04:47:44.987636Z",
     "iopub.status.idle": "2023-02-11T04:48:12.584254Z",
     "shell.execute_reply": "2023-02-11T04:48:12.582841Z"
    },
    "papermill": {
     "duration": 27.608625,
     "end_time": "2023-02-11T04:48:12.587521",
     "exception": false,
     "start_time": "2023-02-11T04:47:44.978896",
     "status": "completed"
    },
    "tags": []
   },
   "outputs": [],
   "source": [
    "X_train = pd.read_feather('/kaggle/input/amex-imputed-and-1hot-encoded/X_train.ftr').set_index('customer_ID')\n",
    "target = pd.read_feather('/kaggle/input/amex-imputed-and-1hot-encoded/y_train.ftr').set_index('customer_ID')['target']"
   ]
  },
  {
   "cell_type": "code",
   "execution_count": 3,
   "id": "9eda31cb",
   "metadata": {
    "execution": {
     "iopub.execute_input": "2023-02-11T04:48:12.603633Z",
     "iopub.status.busy": "2023-02-11T04:48:12.603208Z",
     "iopub.status.idle": "2023-02-11T04:48:12.610572Z",
     "shell.execute_reply": "2023-02-11T04:48:12.609166Z"
    },
    "papermill": {
     "duration": 0.018003,
     "end_time": "2023-02-11T04:48:12.612932",
     "exception": false,
     "start_time": "2023-02-11T04:48:12.594929",
     "status": "completed"
    },
    "tags": []
   },
   "outputs": [],
   "source": [
    "# split the feature names into lists based on their type\n",
    "cat_features = ['B_30', 'B_38', 'D_114', 'D_116', 'D_117', 'D_120', 'D_126', 'D_63', 'D_64', 'D_66', 'D_68']\n",
    "binary_feature_names = [col for col in X_train if '_'.join(col.split(\"_\", 2)[:2]) in cat_features]\n",
    "numeric_feature_names = [col for col in X_train if col not in binary_feature_names]"
   ]
  },
  {
   "cell_type": "code",
   "execution_count": 4,
   "id": "2c2737e0",
   "metadata": {
    "execution": {
     "iopub.execute_input": "2023-02-11T04:48:12.629381Z",
     "iopub.status.busy": "2023-02-11T04:48:12.628650Z",
     "iopub.status.idle": "2023-02-11T04:48:14.233681Z",
     "shell.execute_reply": "2023-02-11T04:48:14.232365Z"
    },
    "papermill": {
     "duration": 1.616118,
     "end_time": "2023-02-11T04:48:14.236404",
     "exception": false,
     "start_time": "2023-02-11T04:48:12.620286",
     "status": "completed"
    },
    "tags": []
   },
   "outputs": [],
   "source": [
    "# turn each column of the dataframe into a tf.keras.Input() object \n",
    "inputs = {}\n",
    "for name, column in X_train.items():\n",
    "  if (name in binary_feature_names):\n",
    "    dtype = tf.int64\n",
    "  else:\n",
    "    dtype = tf.float32\n",
    "\n",
    "  inputs[name] = tf.keras.Input(shape=(), name=name, dtype=dtype)"
   ]
  },
  {
   "cell_type": "markdown",
   "id": "6687f214",
   "metadata": {
    "papermill": {
     "duration": 0.006285,
     "end_time": "2023-02-11T04:48:14.249521",
     "exception": false,
     "start_time": "2023-02-11T04:48:14.243236",
     "status": "completed"
    },
    "tags": []
   },
   "source": [
    "## Preprocessing inputs \n",
    "\n",
    "To preserve memory and be more efficient, we need to pass each feature through a preprocessing pipeline. For our purposes, we essentially just convert every column into `tf.float32`. "
   ]
  },
  {
   "cell_type": "code",
   "execution_count": 5,
   "id": "887e44e7",
   "metadata": {
    "execution": {
     "iopub.execute_input": "2023-02-11T04:48:14.265749Z",
     "iopub.status.busy": "2023-02-11T04:48:14.264575Z",
     "iopub.status.idle": "2023-02-11T04:48:14.631666Z",
     "shell.execute_reply": "2023-02-11T04:48:14.630492Z"
    },
    "papermill": {
     "duration": 0.378269,
     "end_time": "2023-02-11T04:48:14.634380",
     "exception": false,
     "start_time": "2023-02-11T04:48:14.256111",
     "status": "completed"
    },
    "tags": []
   },
   "outputs": [
    {
     "name": "stderr",
     "output_type": "stream",
     "text": [
      "2023-02-11 04:48:14.283899: I tensorflow/core/common_runtime/process_util.cc:146] Creating new thread pool with default inter op setting: 2. Tune using inter_op_parallelism_threads for best performance.\n"
     ]
    }
   ],
   "source": [
    "preprocessed = []\n",
    "\n",
    "# preprocess binary features by converting to float32\n",
    "for name in binary_feature_names:\n",
    "  inp = inputs[name]\n",
    "  inp = inp[:, tf.newaxis]\n",
    "  float_value = tf.cast(inp, tf.float32)\n",
    "  preprocessed.append(float_value)"
   ]
  },
  {
   "cell_type": "code",
   "execution_count": 6,
   "id": "d52388ec",
   "metadata": {
    "execution": {
     "iopub.execute_input": "2023-02-11T04:48:14.650137Z",
     "iopub.status.busy": "2023-02-11T04:48:14.649711Z",
     "iopub.status.idle": "2023-02-11T04:48:14.656250Z",
     "shell.execute_reply": "2023-02-11T04:48:14.655064Z"
    },
    "papermill": {
     "duration": 0.017313,
     "end_time": "2023-02-11T04:48:14.658634",
     "exception": false,
     "start_time": "2023-02-11T04:48:14.641321",
     "status": "completed"
    },
    "tags": []
   },
   "outputs": [],
   "source": [
    "def stack_dict(inputs, fun=tf.stack):\n",
    "    \"\"\"\n",
    "    Stacks numerical tf.keras.Input() objects as tf.float32 \n",
    "\n",
    "    Parameters\n",
    "    ----------\n",
    "    inputs: dict{string: tf.keras.Input()}\n",
    "        Python dictionary where keys are the column name and values are the previously made tf.keras.Input() objects\n",
    "    fun: function()\n",
    "        Function to manipulate inputs. Default is tf.stack()\n",
    "\n",
    "    Returns\n",
    "    -------\n",
    "    tf.Tensor\n",
    "        A stacked float32 Tensor\n",
    "    \"\"\"   \n",
    "    \n",
    "    values = []\n",
    "    for key in sorted(inputs.keys()):\n",
    "      values.append(tf.cast(inputs[key], tf.float32))\n",
    "\n",
    "    return fun(values, axis=-1)"
   ]
  },
  {
   "cell_type": "code",
   "execution_count": 7,
   "id": "6c846474",
   "metadata": {
    "execution": {
     "iopub.execute_input": "2023-02-11T04:48:14.674199Z",
     "iopub.status.busy": "2023-02-11T04:48:14.673756Z",
     "iopub.status.idle": "2023-02-11T04:48:15.035414Z",
     "shell.execute_reply": "2023-02-11T04:48:15.034368Z"
    },
    "papermill": {
     "duration": 0.37301,
     "end_time": "2023-02-11T04:48:15.038646",
     "exception": false,
     "start_time": "2023-02-11T04:48:14.665636",
     "status": "completed"
    },
    "tags": []
   },
   "outputs": [
    {
     "data": {
      "text/plain": [
       "[<KerasTensor: shape=(None, 1) dtype=float32 (created by layer 'tf.cast')>,\n",
       " <KerasTensor: shape=(None, 1) dtype=float32 (created by layer 'tf.cast_1')>,\n",
       " <KerasTensor: shape=(None, 1) dtype=float32 (created by layer 'tf.cast_2')>,\n",
       " <KerasTensor: shape=(None, 1) dtype=float32 (created by layer 'tf.cast_3')>,\n",
       " <KerasTensor: shape=(None, 1) dtype=float32 (created by layer 'tf.cast_4')>,\n",
       " <KerasTensor: shape=(None, 1) dtype=float32 (created by layer 'tf.cast_5')>,\n",
       " <KerasTensor: shape=(None, 1) dtype=float32 (created by layer 'tf.cast_6')>,\n",
       " <KerasTensor: shape=(None, 1) dtype=float32 (created by layer 'tf.cast_7')>,\n",
       " <KerasTensor: shape=(None, 1) dtype=float32 (created by layer 'tf.cast_8')>,\n",
       " <KerasTensor: shape=(None, 1) dtype=float32 (created by layer 'tf.cast_9')>,\n",
       " <KerasTensor: shape=(None, 1) dtype=float32 (created by layer 'tf.cast_10')>,\n",
       " <KerasTensor: shape=(None, 1) dtype=float32 (created by layer 'tf.cast_11')>,\n",
       " <KerasTensor: shape=(None, 1) dtype=float32 (created by layer 'tf.cast_12')>,\n",
       " <KerasTensor: shape=(None, 1) dtype=float32 (created by layer 'tf.cast_13')>,\n",
       " <KerasTensor: shape=(None, 1) dtype=float32 (created by layer 'tf.cast_14')>,\n",
       " <KerasTensor: shape=(None, 1) dtype=float32 (created by layer 'tf.cast_15')>,\n",
       " <KerasTensor: shape=(None, 1) dtype=float32 (created by layer 'tf.cast_16')>,\n",
       " <KerasTensor: shape=(None, 1) dtype=float32 (created by layer 'tf.cast_17')>,\n",
       " <KerasTensor: shape=(None, 1) dtype=float32 (created by layer 'tf.cast_18')>,\n",
       " <KerasTensor: shape=(None, 1) dtype=float32 (created by layer 'tf.cast_19')>,\n",
       " <KerasTensor: shape=(None, 1) dtype=float32 (created by layer 'tf.cast_20')>,\n",
       " <KerasTensor: shape=(None, 1) dtype=float32 (created by layer 'tf.cast_21')>,\n",
       " <KerasTensor: shape=(None, 1) dtype=float32 (created by layer 'tf.cast_22')>,\n",
       " <KerasTensor: shape=(None, 1) dtype=float32 (created by layer 'tf.cast_23')>,\n",
       " <KerasTensor: shape=(None, 1) dtype=float32 (created by layer 'tf.cast_24')>,\n",
       " <KerasTensor: shape=(None, 1) dtype=float32 (created by layer 'tf.cast_25')>,\n",
       " <KerasTensor: shape=(None, 1) dtype=float32 (created by layer 'tf.cast_26')>,\n",
       " <KerasTensor: shape=(None, 1) dtype=float32 (created by layer 'tf.cast_27')>,\n",
       " <KerasTensor: shape=(None, 1) dtype=float32 (created by layer 'tf.cast_28')>,\n",
       " <KerasTensor: shape=(None, 1) dtype=float32 (created by layer 'tf.cast_29')>,\n",
       " <KerasTensor: shape=(None, 1) dtype=float32 (created by layer 'tf.cast_30')>,\n",
       " <KerasTensor: shape=(None, 1) dtype=float32 (created by layer 'tf.cast_31')>,\n",
       " <KerasTensor: shape=(None, 1) dtype=float32 (created by layer 'tf.cast_32')>,\n",
       " <KerasTensor: shape=(None, 1) dtype=float32 (created by layer 'tf.cast_33')>,\n",
       " <KerasTensor: shape=(None, 1) dtype=float32 (created by layer 'tf.cast_34')>,\n",
       " <KerasTensor: shape=(None, 1) dtype=float32 (created by layer 'tf.cast_35')>,\n",
       " <KerasTensor: shape=(None, 1) dtype=float32 (created by layer 'tf.cast_36')>,\n",
       " <KerasTensor: shape=(None, 1) dtype=float32 (created by layer 'tf.cast_37')>,\n",
       " <KerasTensor: shape=(None, 1) dtype=float32 (created by layer 'tf.cast_38')>,\n",
       " <KerasTensor: shape=(None, 1) dtype=float32 (created by layer 'tf.cast_39')>,\n",
       " <KerasTensor: shape=(None, 1) dtype=float32 (created by layer 'tf.cast_40')>,\n",
       " <KerasTensor: shape=(None, 1) dtype=float32 (created by layer 'tf.cast_41')>,\n",
       " <KerasTensor: shape=(None, 1) dtype=float32 (created by layer 'tf.cast_42')>,\n",
       " <KerasTensor: shape=(None, 1) dtype=float32 (created by layer 'tf.cast_43')>,\n",
       " <KerasTensor: shape=(None, 1) dtype=float32 (created by layer 'tf.cast_44')>,\n",
       " <KerasTensor: shape=(None, 1) dtype=float32 (created by layer 'tf.cast_45')>,\n",
       " <KerasTensor: shape=(None, 1) dtype=float32 (created by layer 'tf.cast_46')>,\n",
       " <KerasTensor: shape=(None, 1) dtype=float32 (created by layer 'tf.cast_47')>,\n",
       " <KerasTensor: shape=(None, 1) dtype=float32 (created by layer 'tf.cast_48')>,\n",
       " <KerasTensor: shape=(None, 1) dtype=float32 (created by layer 'tf.cast_49')>,\n",
       " <KerasTensor: shape=(None, 1) dtype=float32 (created by layer 'tf.cast_50')>,\n",
       " <KerasTensor: shape=(None, 1) dtype=float32 (created by layer 'tf.cast_51')>,\n",
       " <KerasTensor: shape=(None, 1) dtype=float32 (created by layer 'tf.cast_52')>,\n",
       " <KerasTensor: shape=(None, 1) dtype=float32 (created by layer 'tf.cast_53')>,\n",
       " <KerasTensor: shape=(None, 1) dtype=float32 (created by layer 'tf.cast_54')>,\n",
       " <KerasTensor: shape=(None, 177) dtype=float32 (created by layer 'tf.stack')>]"
      ]
     },
     "execution_count": 7,
     "metadata": {},
     "output_type": "execute_result"
    }
   ],
   "source": [
    "numeric_inputs = {}\n",
    "for name in numeric_feature_names:\n",
    "  numeric_inputs[name] = inputs[name]\n",
    "\n",
    "# preprocess numeric inputs by stacking them and converting to float32\n",
    "numeric_inputs = stack_dict(numeric_inputs)\n",
    "preprocessed.append(numeric_inputs)\n",
    "\n",
    "preprocessed"
   ]
  },
  {
   "cell_type": "code",
   "execution_count": 8,
   "id": "55811e6e",
   "metadata": {
    "execution": {
     "iopub.execute_input": "2023-02-11T04:48:15.055573Z",
     "iopub.status.busy": "2023-02-11T04:48:15.055200Z",
     "iopub.status.idle": "2023-02-11T04:48:15.096997Z",
     "shell.execute_reply": "2023-02-11T04:48:15.095813Z"
    },
    "papermill": {
     "duration": 0.052817,
     "end_time": "2023-02-11T04:48:15.099648",
     "exception": false,
     "start_time": "2023-02-11T04:48:15.046831",
     "status": "completed"
    },
    "tags": []
   },
   "outputs": [
    {
     "data": {
      "text/plain": [
       "<KerasTensor: shape=(None, 232) dtype=float32 (created by layer 'tf.concat')>"
      ]
     },
     "execution_count": 8,
     "metadata": {},
     "output_type": "execute_result"
    }
   ],
   "source": [
    "# concat the preprocessed binary and numerical features\n",
    "preprocesssed_result = tf.concat(preprocessed, axis=-1)\n",
    "preprocesssed_result"
   ]
  },
  {
   "cell_type": "code",
   "execution_count": 9,
   "id": "4edc5f35",
   "metadata": {
    "execution": {
     "iopub.execute_input": "2023-02-11T04:48:15.116038Z",
     "iopub.status.busy": "2023-02-11T04:48:15.114933Z",
     "iopub.status.idle": "2023-02-11T04:48:15.171163Z",
     "shell.execute_reply": "2023-02-11T04:48:15.169958Z"
    },
    "papermill": {
     "duration": 0.067273,
     "end_time": "2023-02-11T04:48:15.173927",
     "exception": false,
     "start_time": "2023-02-11T04:48:15.106654",
     "status": "completed"
    },
    "tags": []
   },
   "outputs": [],
   "source": [
    "# create a tf.keras.Model out of the preprocessor so it can be reused later\n",
    "preprocessor = tf.keras.Model(inputs, preprocesssed_result)"
   ]
  },
  {
   "cell_type": "code",
   "execution_count": 10,
   "id": "e386ea34",
   "metadata": {
    "execution": {
     "iopub.execute_input": "2023-02-11T04:48:15.190424Z",
     "iopub.status.busy": "2023-02-11T04:48:15.189283Z",
     "iopub.status.idle": "2023-02-11T04:48:15.334220Z",
     "shell.execute_reply": "2023-02-11T04:48:15.333420Z"
    },
    "papermill": {
     "duration": 0.155386,
     "end_time": "2023-02-11T04:48:15.336478",
     "exception": false,
     "start_time": "2023-02-11T04:48:15.181092",
     "status": "completed"
    },
    "tags": []
   },
   "outputs": [
    {
     "data": {
      "text/plain": [
       "<tf.Tensor: shape=(1, 232), dtype=float32, numpy=\n",
       "array([[1.00000000e+00, 0.00000000e+00, 0.00000000e+00, 0.00000000e+00,\n",
       "        0.00000000e+00, 1.00000000e+00, 0.00000000e+00, 0.00000000e+00,\n",
       "        0.00000000e+00, 0.00000000e+00, 0.00000000e+00, 0.00000000e+00,\n",
       "        0.00000000e+00, 1.00000000e+00, 0.00000000e+00, 1.00000000e+00,\n",
       "        0.00000000e+00, 0.00000000e+00, 0.00000000e+00, 0.00000000e+00,\n",
       "        0.00000000e+00, 0.00000000e+00, 1.00000000e+00, 0.00000000e+00,\n",
       "        0.00000000e+00, 0.00000000e+00, 1.00000000e+00, 0.00000000e+00,\n",
       "        0.00000000e+00, 0.00000000e+00, 0.00000000e+00, 1.00000000e+00,\n",
       "        0.00000000e+00, 0.00000000e+00, 0.00000000e+00, 1.00000000e+00,\n",
       "        0.00000000e+00, 0.00000000e+00, 0.00000000e+00, 0.00000000e+00,\n",
       "        0.00000000e+00, 1.00000000e+00, 0.00000000e+00, 0.00000000e+00,\n",
       "        0.00000000e+00, 0.00000000e+00, 1.00000000e+00, 0.00000000e+00,\n",
       "        0.00000000e+00, 0.00000000e+00, 0.00000000e+00, 0.00000000e+00,\n",
       "        0.00000000e+00, 1.00000000e+00, 0.00000000e+00, 8.72802734e-03,\n",
       "        9.61914062e-02, 2.76756287e-03, 1.48315430e-01, 1.18103027e-01,\n",
       "        1.83868408e-02, 1.63574219e-02, 7.66372681e-03, 7.15332031e-01,\n",
       "        6.52832031e-01, 8.52203369e-03, 1.00683594e+00, 4.73022461e-03,\n",
       "        2.64358521e-03, 4.80651855e-03, 5.08728027e-02, 4.32586670e-03,\n",
       "        7.72857666e-03, 2.71797180e-04, 2.30979919e-03, 8.46557617e-02,\n",
       "        3.29895020e-02, 4.70733643e-03, 1.00000000e+00, 6.62612915e-03,\n",
       "        1.00097656e+00, 9.97161865e-03, 4.57000732e-03, 2.55371094e-01,\n",
       "        8.09936523e-02, 2.10083008e-01, 6.80541992e-03, 1.10046387e-01,\n",
       "        1.70654297e-01, 6.39038086e-02, 5.94177246e-02, 6.46591187e-03,\n",
       "        8.20922852e-03, 7.66601562e-01, 1.00878906e+00, 1.00488281e+00,\n",
       "        8.93554688e-01, 2.05200195e-01, 6.69921875e-01, 7.14721680e-02,\n",
       "        4.32586670e-03, 7.39257812e-01, 8.74511719e-01, 1.00781250e+00,\n",
       "        7.87353516e-03, 2.38281250e-01, 2.32177734e-01, 2.36206055e-01,\n",
       "        7.02148438e-01, 4.34326172e-01, 3.05747986e-03, 6.86523438e-01,\n",
       "        8.74328613e-03, 1.00292969e+00, 1.00781250e+00, 1.00000000e+00,\n",
       "        2.05230713e-03, 5.97000122e-03, 2.10205078e-01, 4.34494019e-03,\n",
       "        3.30078125e-01, 2.99682617e-02, 2.42797852e-01, 1.42440796e-02,\n",
       "        1.64672852e-01, 2.42614746e-03, 3.70597839e-03, 3.81851196e-03,\n",
       "        3.90869141e-01, 5.69343567e-04, 6.09874725e-04, 2.67410278e-03,\n",
       "        1.73377991e-03, 8.77380371e-03, 1.84936523e-01, 1.54663086e-01,\n",
       "        6.29901886e-04, 7.08984375e-01, 3.58642578e-01, 5.25390625e-01,\n",
       "        2.55615234e-01, 1.91894531e-01, 1.48681641e-01, 1.33593750e+00,\n",
       "        2.07275391e-01, 7.61718750e-02, 1.00195312e+00, 3.54492188e-01,\n",
       "        1.51977539e-01, 1.58569336e-01, 6.36596680e-02, 1.99584961e-01,\n",
       "        3.08349609e-01, 9.10644531e-02, 7.12585449e-03, 9.01031494e-03,\n",
       "        8.33892822e-03, 1.19384766e-01, 4.80270386e-03, 1.56494141e-01,\n",
       "        8.04443359e-02, 6.90917969e-02, 1.40502930e-01, 2.56591797e-01,\n",
       "        1.57546997e-03, 4.23812866e-03, 4.05883789e-03, 3.53240967e-03,\n",
       "        5.06835938e-01, 7.04193115e-03, 8.29696655e-04, 7.08389282e-03,\n",
       "        1.00000000e+00, 1.72363281e-01, 2.66456604e-03, 1.50390625e+00,\n",
       "        1.00585938e+00, 3.56864929e-03, 8.87298584e-03, 4.95147705e-03,\n",
       "        9.38476562e-01, 7.36328125e-01, 7.55310059e-03, 9.22393799e-03,\n",
       "        7.12203979e-03, 2.45666504e-03, 1.00976562e+00, 3.82041931e-03,\n",
       "        4.37974930e-04, 6.45065308e-03, 5.05447388e-03, 1.98364258e-04,\n",
       "        8.91113281e-03, 5.17654419e-03, 6.20269775e-03, 7.78198242e-03,\n",
       "        2.44903564e-03, 7.48062134e-03, 6.89315796e-03, 3.94821167e-03,\n",
       "        3.64685059e-03, 8.46557617e-02, 1.00878906e+00, 1.53446198e-03,\n",
       "        1.42288208e-03, 8.30078125e-03, 1.88159943e-03, 8.36181641e-03,\n",
       "        7.56072998e-03, 1.43432617e-03, 2.29858398e-01, 4.01611328e-01,\n",
       "        2.71972656e-01, 5.15136719e-01, 1.08276367e-01, 2.27165222e-03,\n",
       "        8.03375244e-03, 5.72204590e-03, 2.53677368e-03, 9.70458984e-03,\n",
       "        8.94042969e-01, 1.35620117e-01, 9.11132812e-01, 9.74609375e-01,\n",
       "        1.24359131e-03, 6.76757812e-01, 1.24023438e-01, 2.33764648e-02,\n",
       "        8.32366943e-03, 1.61376953e-01, 9.22851562e-01, 6.57348633e-02]],\n",
       "      dtype=float32)>"
      ]
     },
     "execution_count": 10,
     "metadata": {},
     "output_type": "execute_result"
    }
   ],
   "source": [
    "# verify with the preprocessed first example of the dataset \n",
    "preprocessor(dict(X_train.iloc[:1]))"
   ]
  },
  {
   "cell_type": "markdown",
   "id": "2c0b7d2e",
   "metadata": {
    "papermill": {
     "duration": 0.006986,
     "end_time": "2023-02-11T04:48:15.351362",
     "exception": false,
     "start_time": "2023-02-11T04:48:15.344376",
     "status": "completed"
    },
    "tags": []
   },
   "source": [
    "## Creating the neural network model"
   ]
  },
  {
   "cell_type": "code",
   "execution_count": 11,
   "id": "876bd700",
   "metadata": {
    "execution": {
     "iopub.execute_input": "2023-02-11T04:48:15.368036Z",
     "iopub.status.busy": "2023-02-11T04:48:15.367033Z",
     "iopub.status.idle": "2023-02-11T04:48:15.379561Z",
     "shell.execute_reply": "2023-02-11T04:48:15.378474Z"
    },
    "papermill": {
     "duration": 0.023515,
     "end_time": "2023-02-11T04:48:15.382161",
     "exception": false,
     "start_time": "2023-02-11T04:48:15.358646",
     "status": "completed"
    },
    "tags": []
   },
   "outputs": [],
   "source": [
    "nn = tf.keras.Sequential()\n",
    "\n",
    "# hidden layers\n",
    "nn.add(tf.keras.layers.Dense(116, activation='relu'))\n",
    "\n",
    "# output layer\n",
    "nn.add(tf.keras.layers.Dense(1, activation='sigmoid'))"
   ]
  },
  {
   "cell_type": "code",
   "execution_count": 12,
   "id": "47ee7ec8",
   "metadata": {
    "execution": {
     "iopub.execute_input": "2023-02-11T04:48:15.398055Z",
     "iopub.status.busy": "2023-02-11T04:48:15.397636Z",
     "iopub.status.idle": "2023-02-11T04:48:15.701737Z",
     "shell.execute_reply": "2023-02-11T04:48:15.700646Z"
    },
    "papermill": {
     "duration": 0.315137,
     "end_time": "2023-02-11T04:48:15.704437",
     "exception": false,
     "start_time": "2023-02-11T04:48:15.389300",
     "status": "completed"
    },
    "tags": []
   },
   "outputs": [],
   "source": [
    "# use the saved preprocessor model to generate our features \n",
    "x = preprocessor(inputs)"
   ]
  },
  {
   "cell_type": "code",
   "execution_count": 13,
   "id": "258f89ca",
   "metadata": {
    "execution": {
     "iopub.execute_input": "2023-02-11T04:48:15.721606Z",
     "iopub.status.busy": "2023-02-11T04:48:15.721182Z",
     "iopub.status.idle": "2023-02-11T04:48:15.776008Z",
     "shell.execute_reply": "2023-02-11T04:48:15.774682Z"
    },
    "papermill": {
     "duration": 0.06692,
     "end_time": "2023-02-11T04:48:15.779165",
     "exception": false,
     "start_time": "2023-02-11T04:48:15.712245",
     "status": "completed"
    },
    "tags": []
   },
   "outputs": [
    {
     "data": {
      "text/plain": [
       "<KerasTensor: shape=(None, 1) dtype=float32 (created by layer 'sequential')>"
      ]
     },
     "execution_count": 13,
     "metadata": {},
     "output_type": "execute_result"
    }
   ],
   "source": [
    "# create the output tensor to pass to Model() object \n",
    "result = nn(x)\n",
    "result"
   ]
  },
  {
   "cell_type": "code",
   "execution_count": 14,
   "id": "a2775d27",
   "metadata": {
    "execution": {
     "iopub.execute_input": "2023-02-11T04:48:15.795520Z",
     "iopub.status.busy": "2023-02-11T04:48:15.795115Z",
     "iopub.status.idle": "2023-02-11T04:48:15.835970Z",
     "shell.execute_reply": "2023-02-11T04:48:15.834749Z"
    },
    "papermill": {
     "duration": 0.05298,
     "end_time": "2023-02-11T04:48:15.839309",
     "exception": false,
     "start_time": "2023-02-11T04:48:15.786329",
     "status": "completed"
    },
    "tags": []
   },
   "outputs": [],
   "source": [
    "model = tf.keras.Model(inputs, result)\n",
    "\n",
    "model.compile(optimizer='adam', loss='binary_crossentropy', metrics=['accuracy'])"
   ]
  },
  {
   "cell_type": "code",
   "execution_count": 15,
   "id": "e5464f85",
   "metadata": {
    "execution": {
     "iopub.execute_input": "2023-02-11T04:48:15.865044Z",
     "iopub.status.busy": "2023-02-11T04:48:15.864647Z",
     "iopub.status.idle": "2023-02-11T05:25:47.681778Z",
     "shell.execute_reply": "2023-02-11T05:25:47.680463Z"
    },
    "papermill": {
     "duration": 2251.831659,
     "end_time": "2023-02-11T05:25:47.684399",
     "exception": false,
     "start_time": "2023-02-11T04:48:15.852740",
     "status": "completed"
    },
    "tags": []
   },
   "outputs": [
    {
     "name": "stderr",
     "output_type": "stream",
     "text": [
      "2023-02-11 04:48:21.671993: I tensorflow/compiler/mlir/mlir_graph_optimization_pass.cc:185] None of the MLIR Optimization Passes are enabled (registered 2)\n"
     ]
    },
    {
     "name": "stdout",
     "output_type": "stream",
     "text": [
      "Epoch 1/50\n",
      "111/111 [==============================] - 49s 395ms/step - loss: 0.3184 - accuracy: 0.8537\n",
      "Epoch 2/50\n",
      "111/111 [==============================] - 45s 402ms/step - loss: 0.2818 - accuracy: 0.8713\n",
      "Epoch 3/50\n",
      "111/111 [==============================] - 45s 400ms/step - loss: 0.2774 - accuracy: 0.8737\n",
      "Epoch 4/50\n",
      "111/111 [==============================] - 44s 395ms/step - loss: 0.2748 - accuracy: 0.8750\n",
      "Epoch 5/50\n",
      "111/111 [==============================] - 45s 398ms/step - loss: 0.2732 - accuracy: 0.8758\n",
      "Epoch 6/50\n",
      "111/111 [==============================] - 45s 399ms/step - loss: 0.2721 - accuracy: 0.8763\n",
      "Epoch 7/50\n",
      "111/111 [==============================] - 45s 398ms/step - loss: 0.2712 - accuracy: 0.8768\n",
      "Epoch 8/50\n",
      "111/111 [==============================] - 44s 390ms/step - loss: 0.2704 - accuracy: 0.8772\n",
      "Epoch 9/50\n",
      "111/111 [==============================] - 44s 393ms/step - loss: 0.2696 - accuracy: 0.8775\n",
      "Epoch 10/50\n",
      "111/111 [==============================] - 45s 402ms/step - loss: 0.2691 - accuracy: 0.8779\n",
      "Epoch 11/50\n",
      "111/111 [==============================] - 45s 401ms/step - loss: 0.2685 - accuracy: 0.8782\n",
      "Epoch 12/50\n",
      "111/111 [==============================] - 45s 400ms/step - loss: 0.2681 - accuracy: 0.8785\n",
      "Epoch 13/50\n",
      "111/111 [==============================] - 44s 395ms/step - loss: 0.2677 - accuracy: 0.8787\n",
      "Epoch 14/50\n",
      "111/111 [==============================] - 44s 393ms/step - loss: 0.2671 - accuracy: 0.8789\n",
      "Epoch 15/50\n",
      "111/111 [==============================] - 45s 393ms/step - loss: 0.2665 - accuracy: 0.8793\n",
      "Epoch 16/50\n",
      "111/111 [==============================] - 44s 394ms/step - loss: 0.2662 - accuracy: 0.8794\n",
      "Epoch 17/50\n",
      "111/111 [==============================] - 45s 400ms/step - loss: 0.2660 - accuracy: 0.8797\n",
      "Epoch 18/50\n",
      "111/111 [==============================] - 45s 402ms/step - loss: 0.2657 - accuracy: 0.8798\n",
      "Epoch 19/50\n",
      "111/111 [==============================] - 45s 404ms/step - loss: 0.2652 - accuracy: 0.8800\n",
      "Epoch 20/50\n",
      "111/111 [==============================] - 46s 413ms/step - loss: 0.2648 - accuracy: 0.8802\n",
      "Epoch 21/50\n",
      "111/111 [==============================] - 45s 401ms/step - loss: 0.2650 - accuracy: 0.8803\n",
      "Epoch 22/50\n",
      "111/111 [==============================] - 45s 406ms/step - loss: 0.2645 - accuracy: 0.8805\n",
      "Epoch 23/50\n",
      "111/111 [==============================] - 45s 407ms/step - loss: 0.2642 - accuracy: 0.8806\n",
      "Epoch 24/50\n",
      "111/111 [==============================] - 45s 407ms/step - loss: 0.2640 - accuracy: 0.8808\n",
      "Epoch 25/50\n",
      "111/111 [==============================] - 44s 394ms/step - loss: 0.2635 - accuracy: 0.8809\n",
      "Epoch 26/50\n",
      "111/111 [==============================] - 44s 396ms/step - loss: 0.2634 - accuracy: 0.8809\n",
      "Epoch 27/50\n",
      "111/111 [==============================] - 45s 402ms/step - loss: 0.2633 - accuracy: 0.8811\n",
      "Epoch 28/50\n",
      "111/111 [==============================] - 44s 396ms/step - loss: 0.2628 - accuracy: 0.8813\n",
      "Epoch 29/50\n",
      "111/111 [==============================] - 45s 400ms/step - loss: 0.2627 - accuracy: 0.8814\n",
      "Epoch 30/50\n",
      "111/111 [==============================] - 45s 403ms/step - loss: 0.2626 - accuracy: 0.8816\n",
      "Epoch 31/50\n",
      "111/111 [==============================] - 46s 410ms/step - loss: 0.2624 - accuracy: 0.8816\n",
      "Epoch 32/50\n",
      "111/111 [==============================] - 45s 399ms/step - loss: 0.2625 - accuracy: 0.8816\n",
      "Epoch 33/50\n",
      "111/111 [==============================] - 44s 391ms/step - loss: 0.2621 - accuracy: 0.8818\n",
      "Epoch 34/50\n",
      "111/111 [==============================] - 45s 401ms/step - loss: 0.2621 - accuracy: 0.8818\n",
      "Epoch 35/50\n",
      "111/111 [==============================] - 45s 401ms/step - loss: 0.2616 - accuracy: 0.8820\n",
      "Epoch 36/50\n",
      "111/111 [==============================] - 44s 400ms/step - loss: 0.2616 - accuracy: 0.8820\n",
      "Epoch 37/50\n",
      "111/111 [==============================] - 44s 397ms/step - loss: 0.2613 - accuracy: 0.8822\n",
      "Epoch 38/50\n",
      "111/111 [==============================] - 44s 399ms/step - loss: 0.2617 - accuracy: 0.8822\n",
      "Epoch 39/50\n",
      "111/111 [==============================] - 45s 401ms/step - loss: 0.2610 - accuracy: 0.8823\n",
      "Epoch 40/50\n",
      "111/111 [==============================] - 44s 396ms/step - loss: 0.2610 - accuracy: 0.8824\n",
      "Epoch 41/50\n",
      "111/111 [==============================] - 45s 404ms/step - loss: 0.2611 - accuracy: 0.8824\n",
      "Epoch 42/50\n",
      "111/111 [==============================] - 44s 395ms/step - loss: 0.2610 - accuracy: 0.8824\n",
      "Epoch 43/50\n",
      "111/111 [==============================] - 43s 388ms/step - loss: 0.2609 - accuracy: 0.8826\n",
      "Epoch 44/50\n",
      "111/111 [==============================] - 44s 397ms/step - loss: 0.2604 - accuracy: 0.8827\n",
      "Epoch 45/50\n",
      "111/111 [==============================] - 45s 399ms/step - loss: 0.2605 - accuracy: 0.8828\n",
      "Epoch 46/50\n",
      "111/111 [==============================] - 46s 408ms/step - loss: 0.2603 - accuracy: 0.8828\n",
      "Epoch 47/50\n",
      "111/111 [==============================] - 45s 403ms/step - loss: 0.2602 - accuracy: 0.8828\n",
      "Epoch 48/50\n",
      "111/111 [==============================] - 45s 409ms/step - loss: 0.2600 - accuracy: 0.8829\n",
      "Epoch 49/50\n",
      "111/111 [==============================] - 45s 398ms/step - loss: 0.2602 - accuracy: 0.8829\n",
      "Epoch 50/50\n",
      "111/111 [==============================] - 44s 393ms/step - loss: 0.2600 - accuracy: 0.8829\n"
     ]
    }
   ],
   "source": [
    "history = model.fit(dict(X_train), target, epochs=50, batch_size=50000)"
   ]
  },
  {
   "cell_type": "markdown",
   "id": "8eb915fc",
   "metadata": {
    "papermill": {
     "duration": 0.359285,
     "end_time": "2023-02-11T05:25:48.472605",
     "exception": false,
     "start_time": "2023-02-11T05:25:48.113320",
     "status": "completed"
    },
    "tags": []
   },
   "source": [
    "## Loss and accuracy plots"
   ]
  },
  {
   "cell_type": "code",
   "execution_count": 16,
   "id": "932f7918",
   "metadata": {
    "execution": {
     "iopub.execute_input": "2023-02-11T05:25:49.196368Z",
     "iopub.status.busy": "2023-02-11T05:25:49.195662Z",
     "iopub.status.idle": "2023-02-11T05:25:49.607960Z",
     "shell.execute_reply": "2023-02-11T05:25:49.606812Z"
    },
    "papermill": {
     "duration": 0.779209,
     "end_time": "2023-02-11T05:25:49.610429",
     "exception": false,
     "start_time": "2023-02-11T05:25:48.831220",
     "status": "completed"
    },
    "tags": []
   },
   "outputs": [
    {
     "data": {
      "text/plain": [
       "<AxesSubplot:>"
      ]
     },
     "execution_count": 16,
     "metadata": {},
     "output_type": "execute_result"
    },
    {
     "data": {
      "image/png": "[encoded data removed]",
      "text/plain": [
       "<Figure size 432x288 with 1 Axes>"
      ]
     },
     "metadata": {
      "needs_background": "light"
     },
     "output_type": "display_data"
    },
    {
     "data": {
      "image/png": "[encoded data removed]",
      "text/plain": [
       "<Figure size 432x288 with 1 Axes>"
      ]
     },
     "metadata": {
      "needs_background": "light"
     },
     "output_type": "display_data"
    }
   ],
   "source": [
    "# Create a DataFrame with the history dictionary\n",
    "df = pd.DataFrame(history.history, index=range(1, len(history.history[\"loss\"]) + 1))\n",
    "\n",
    "# Plot the loss\n",
    "df.plot(y=\"loss\")\n",
    "\n",
    "# Plot the accuracy\n",
    "df.plot(y=\"accuracy\")"
   ]
  },
  {
   "cell_type": "markdown",
   "id": "bdcc6bc0",
   "metadata": {
    "papermill": {
     "duration": 0.431869,
     "end_time": "2023-02-11T05:25:50.411729",
     "exception": false,
     "start_time": "2023-02-11T05:25:49.979860",
     "status": "completed"
    },
    "tags": []
   },
   "source": [
    "## M score and classification report"
   ]
  },
  {
   "cell_type": "code",
   "execution_count": 17,
   "id": "79e6e7de",
   "metadata": {
    "execution": {
     "iopub.execute_input": "2023-02-11T05:25:51.131798Z",
     "iopub.status.busy": "2023-02-11T05:25:51.131049Z",
     "iopub.status.idle": "2023-02-11T05:26:33.716337Z",
     "shell.execute_reply": "2023-02-11T05:26:33.714987Z"
    },
    "papermill": {
     "duration": 42.949456,
     "end_time": "2023-02-11T05:26:33.719798",
     "exception": false,
     "start_time": "2023-02-11T05:25:50.770342",
     "status": "completed"
    },
    "tags": []
   },
   "outputs": [
    {
     "name": "stdout",
     "output_type": "stream",
     "text": [
      "1107/1107 [==============================] - 36s 30ms/step\n"
     ]
    }
   ],
   "source": [
    "preds = model.predict(dict(X_train), batch_size=5000, verbose=1)"
   ]
  },
  {
   "cell_type": "markdown",
   "id": "21f1549b",
   "metadata": {
    "execution": {
     "iopub.execute_input": "2023-02-11T04:38:17.336553Z",
     "iopub.status.busy": "2023-02-11T04:38:17.336094Z",
     "iopub.status.idle": "2023-02-11T04:38:17.345572Z",
     "shell.execute_reply": "2023-02-11T04:38:17.343568Z",
     "shell.execute_reply.started": "2023-02-11T04:38:17.336517Z"
    },
    "papermill": {
     "duration": 0.40181,
     "end_time": "2023-02-11T05:26:34.597117",
     "exception": false,
     "start_time": "2023-02-11T05:26:34.195307",
     "status": "completed"
    },
    "tags": []
   },
   "source": [
    "Function to calculate competition's evaluation metric: https://www.kaggle.com/code/inversion/amex-competition-metric-python"
   ]
  },
  {
   "cell_type": "code",
   "execution_count": 18,
   "id": "18000110",
   "metadata": {
    "execution": {
     "iopub.execute_input": "2023-02-11T05:26:35.389461Z",
     "iopub.status.busy": "2023-02-11T05:26:35.389033Z",
     "iopub.status.idle": "2023-02-11T05:26:35.403511Z",
     "shell.execute_reply": "2023-02-11T05:26:35.402366Z"
    },
    "jupyter": {
     "source_hidden": true
    },
    "papermill": {
     "duration": 0.413444,
     "end_time": "2023-02-11T05:26:35.406064",
     "exception": false,
     "start_time": "2023-02-11T05:26:34.992620",
     "status": "completed"
    },
    "tags": []
   },
   "outputs": [],
   "source": [
    "def amex_metric(y_true: pd.DataFrame, y_pred: pd.DataFrame) -> float:\n",
    "\n",
    "    def top_four_percent_captured(y_true: pd.DataFrame, y_pred: pd.DataFrame) -> float:\n",
    "        df = (pd.concat([y_true, y_pred], axis='columns')\n",
    "              .sort_values('prediction', ascending=False))\n",
    "        df['weight'] = df['target'].apply(lambda x: 20 if x==0 else 1)\n",
    "        four_pct_cutoff = int(0.04 * df['weight'].sum())\n",
    "        df['weight_cumsum'] = df['weight'].cumsum()\n",
    "        df_cutoff = df.loc[df['weight_cumsum'] <= four_pct_cutoff]\n",
    "        return (df_cutoff['target'] == 1).sum() / (df['target'] == 1).sum()\n",
    "        \n",
    "    def weighted_gini(y_true: pd.DataFrame, y_pred: pd.DataFrame) -> float:\n",
    "        df = (pd.concat([y_true, y_pred], axis='columns')\n",
    "              .sort_values('prediction', ascending=False))\n",
    "        df['weight'] = df['target'].apply(lambda x: 20 if x==0 else 1)\n",
    "        df['random'] = (df['weight'] / df['weight'].sum()).cumsum()\n",
    "        total_pos = (df['target'] * df['weight']).sum()\n",
    "        df['cum_pos_found'] = (df['target'] * df['weight']).cumsum()\n",
    "        df['lorentz'] = df['cum_pos_found'] / total_pos\n",
    "        df['gini'] = (df['lorentz'] - df['random']) * df['weight']\n",
    "        return df['gini'].sum()\n",
    "\n",
    "    def normalized_weighted_gini(y_true: pd.DataFrame, y_pred: pd.DataFrame) -> float:\n",
    "        y_true_pred = y_true.rename(columns={'target': 'prediction'})\n",
    "        return weighted_gini(y_true, y_pred) / weighted_gini(y_true, y_true_pred)\n",
    "\n",
    "    g = normalized_weighted_gini(y_true, y_pred)\n",
    "    d = top_four_percent_captured(y_true, y_pred)\n",
    "\n",
    "    return 0.5 * (g + d)"
   ]
  },
  {
   "cell_type": "code",
   "execution_count": 19,
   "id": "81b33b7c",
   "metadata": {
    "execution": {
     "iopub.execute_input": "2023-02-11T05:26:36.274938Z",
     "iopub.status.busy": "2023-02-11T05:26:36.273978Z",
     "iopub.status.idle": "2023-02-11T05:26:52.400951Z",
     "shell.execute_reply": "2023-02-11T05:26:52.399533Z"
    },
    "papermill": {
     "duration": 16.528314,
     "end_time": "2023-02-11T05:26:52.404121",
     "exception": false,
     "start_time": "2023-02-11T05:26:35.875807",
     "status": "completed"
    },
    "tags": []
   },
   "outputs": [
    {
     "name": "stdout",
     "output_type": "stream",
     "text": [
      "M = 0.7187359306917394\n"
     ]
    }
   ],
   "source": [
    "print(f'M = {amex_metric(pd.DataFrame(target), pd.DataFrame(preds, index=target.index, columns=[\"prediction\"]))}')"
   ]
  },
  {
   "cell_type": "code",
   "execution_count": 20,
   "id": "02355fe5",
   "metadata": {
    "execution": {
     "iopub.execute_input": "2023-02-11T05:26:53.199571Z",
     "iopub.status.busy": "2023-02-11T05:26:53.198841Z",
     "iopub.status.idle": "2023-02-11T05:27:05.816127Z",
     "shell.execute_reply": "2023-02-11T05:27:05.814711Z"
    },
    "papermill": {
     "duration": 13.021697,
     "end_time": "2023-02-11T05:27:05.818810",
     "exception": false,
     "start_time": "2023-02-11T05:26:52.797113",
     "status": "completed"
    },
    "tags": []
   },
   "outputs": [
    {
     "name": "stdout",
     "output_type": "stream",
     "text": [
      "              precision    recall  f1-score   support\n",
      "\n",
      "           0       0.92      0.92      0.92   4153582\n",
      "           1       0.76      0.77      0.77   1377869\n",
      "\n",
      "    accuracy                           0.88   5531451\n",
      "   macro avg       0.84      0.85      0.84   5531451\n",
      "weighted avg       0.88      0.88      0.88   5531451\n",
      "\n"
     ]
    }
   ],
   "source": [
    "print(classification_report(target, (preds > 0.5).astype(\"int32\")))"
   ]
  },
  {
   "cell_type": "code",
   "execution_count": 21,
   "id": "125f44cc",
   "metadata": {
    "execution": {
     "iopub.execute_input": "2023-02-11T05:27:06.688288Z",
     "iopub.status.busy": "2023-02-11T05:27:06.687806Z",
     "iopub.status.idle": "2023-02-11T05:27:06.894976Z",
     "shell.execute_reply": "2023-02-11T05:27:06.893863Z"
    },
    "papermill": {
     "duration": 0.605559,
     "end_time": "2023-02-11T05:27:06.897948",
     "exception": false,
     "start_time": "2023-02-11T05:27:06.292389",
     "status": "completed"
    },
    "tags": []
   },
   "outputs": [],
   "source": [
    "model.save('shallow_nn.h5')"
   ]
  },
  {
   "cell_type": "code",
   "execution_count": null,
   "id": "6632ba7f",
   "metadata": {
    "papermill": {
     "duration": 0.397394,
     "end_time": "2023-02-11T05:27:07.691653",
     "exception": false,
     "start_time": "2023-02-11T05:27:07.294259",
     "status": "completed"
    },
    "tags": []
   },
   "outputs": [],
   "source": []
  }
 ],
 "metadata": {
  "kernelspec": {
   "display_name": "Python 3",
   "language": "python",
   "name": "python3"
  },
  "language_info": {
   "codemirror_mode": {
    "name": "ipython",
    "version": 3
   },
   "file_extension": ".py",
   "mimetype": "text/x-python",
   "name": "python",
   "nbconvert_exporter": "python",
   "pygments_lexer": "ipython3",
   "version": "3.7.12"
  },
  "papermill": {
   "default_parameters": {},
   "duration": 2382.992583,
   "end_time": "2023-02-11T05:27:11.555990",
   "environment_variables": {},
   "exception": null,
   "input_path": "__notebook__.ipynb",
   "output_path": "__notebook__.ipynb",
   "parameters": {},
   "start_time": "2023-02-11T04:47:28.563407",
   "version": "2.3.4"
  }
 },
 "nbformat": 4,
 "nbformat_minor": 5
}
