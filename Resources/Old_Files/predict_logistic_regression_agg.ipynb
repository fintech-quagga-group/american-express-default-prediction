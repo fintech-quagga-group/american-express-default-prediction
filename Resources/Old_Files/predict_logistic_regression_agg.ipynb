{
 "cells": [
  {
   "cell_type": "code",
   "execution_count": 1,
   "id": "60130b64",
   "metadata": {
    "_cell_guid": "b1076dfc-b9ad-4769-8c92-a6c4dae69d19",
    "_uuid": "8f2839f25d086af736a60e9eeb907d3b93b6e0e5",
    "execution": {
     "iopub.execute_input": "2023-02-10T00:47:39.756332Z",
     "iopub.status.busy": "2023-02-10T00:47:39.755771Z",
     "iopub.status.idle": "2023-02-10T00:47:41.118625Z",
     "shell.execute_reply": "2023-02-10T00:47:41.117376Z"
    },
    "papermill": {
     "duration": 1.372168,
     "end_time": "2023-02-10T00:47:41.121884",
     "exception": false,
     "start_time": "2023-02-10T00:47:39.749716",
     "status": "completed"
    },
    "tags": []
   },
   "outputs": [],
   "source": [
    "import pickle\n",
    "import pandas as pd\n",
    "from sklearn.linear_model import LogisticRegression"
   ]
  },
  {
   "cell_type": "code",
   "execution_count": 2,
   "id": "2fa24561",
   "metadata": {
    "execution": {
     "iopub.execute_input": "2023-02-10T00:47:41.130235Z",
     "iopub.status.busy": "2023-02-10T00:47:41.129093Z",
     "iopub.status.idle": "2023-02-10T00:48:26.116261Z",
     "shell.execute_reply": "2023-02-10T00:48:26.114863Z"
    },
    "papermill": {
     "duration": 44.994586,
     "end_time": "2023-02-10T00:48:26.119576",
     "exception": false,
     "start_time": "2023-02-10T00:47:41.124990",
     "status": "completed"
    },
    "tags": []
   },
   "outputs": [],
   "source": [
    "X_test = pd.read_pickle('/kaggle/input/amex-imputed-aggregate-data/X_test_agg.pkl', compression='gzip')"
   ]
  },
  {
   "cell_type": "code",
   "execution_count": 3,
   "id": "8f5a21e9",
   "metadata": {
    "execution": {
     "iopub.execute_input": "2023-02-10T00:48:26.127732Z",
     "iopub.status.busy": "2023-02-10T00:48:26.126613Z",
     "iopub.status.idle": "2023-02-10T00:48:33.265367Z",
     "shell.execute_reply": "2023-02-10T00:48:33.263774Z"
    },
    "papermill": {
     "duration": 7.147387,
     "end_time": "2023-02-10T00:48:33.269801",
     "exception": false,
     "start_time": "2023-02-10T00:48:26.122414",
     "status": "completed"
    },
    "tags": []
   },
   "outputs": [],
   "source": [
    "model = pickle.load(open('/kaggle/input/test-dtc-model/logistic_regression_agg_model.sav', 'rb'))\n",
    "submission = pd.DataFrame(model.predict_proba(X_test)[:, 1], index=X_test.index, columns=['prediction'])"
   ]
  },
  {
   "cell_type": "code",
   "execution_count": 4,
   "id": "99d053a1",
   "metadata": {
    "execution": {
     "iopub.execute_input": "2023-02-10T00:48:33.282173Z",
     "iopub.status.busy": "2023-02-10T00:48:33.281064Z",
     "iopub.status.idle": "2023-02-10T00:48:33.320820Z",
     "shell.execute_reply": "2023-02-10T00:48:33.318770Z"
    },
    "papermill": {
     "duration": 0.050308,
     "end_time": "2023-02-10T00:48:33.324302",
     "exception": false,
     "start_time": "2023-02-10T00:48:33.273994",
     "status": "completed"
    },
    "tags": []
   },
   "outputs": [
    {
     "data": {
      "text/html": [
       "<div>\n",
       "<style scoped>\n",
       "    .dataframe tbody tr th:only-of-type {\n",
       "        vertical-align: middle;\n",
       "    }\n",
       "\n",
       "    .dataframe tbody tr th {\n",
       "        vertical-align: top;\n",
       "    }\n",
       "\n",
       "    .dataframe thead th {\n",
       "        text-align: right;\n",
       "    }\n",
       "</style>\n",
       "<table border=\"1\" class=\"dataframe\">\n",
       "  <thead>\n",
       "    <tr style=\"text-align: right;\">\n",
       "      <th></th>\n",
       "      <th>prediction</th>\n",
       "    </tr>\n",
       "    <tr>\n",
       "      <th>customer_ID</th>\n",
       "      <th></th>\n",
       "    </tr>\n",
       "  </thead>\n",
       "  <tbody>\n",
       "    <tr>\n",
       "      <th>00000469ba478561f23a92a868bd366de6f6527a684c9a2e78fb826dcac3b9b7</th>\n",
       "      <td>0.027488</td>\n",
       "    </tr>\n",
       "    <tr>\n",
       "      <th>00001bf2e77ff879fab36aa4fac689b9ba411dae63ae397d4263dafa1daedef5</th>\n",
       "      <td>0.007404</td>\n",
       "    </tr>\n",
       "    <tr>\n",
       "      <th>0000210045da4f81e5f122c6bde5c2a617d03eef67f82c5e400fc98e7bd43ce8</th>\n",
       "      <td>0.037138</td>\n",
       "    </tr>\n",
       "    <tr>\n",
       "      <th>00003b41e58ede33b8daf61ab56d9952f17c9ad1c3976cf6e56734528702d694</th>\n",
       "      <td>0.331976</td>\n",
       "    </tr>\n",
       "    <tr>\n",
       "      <th>00004b22eaeeeb0ec976890c1d9bfc14fd9427e98c4ee9a4693dd914fca22557</th>\n",
       "      <td>0.884660</td>\n",
       "    </tr>\n",
       "  </tbody>\n",
       "</table>\n",
       "</div>"
      ],
      "text/plain": [
       "                                                    prediction\n",
       "customer_ID                                                   \n",
       "00000469ba478561f23a92a868bd366de6f6527a684c9a2...    0.027488\n",
       "00001bf2e77ff879fab36aa4fac689b9ba411dae63ae397...    0.007404\n",
       "0000210045da4f81e5f122c6bde5c2a617d03eef67f82c5...    0.037138\n",
       "00003b41e58ede33b8daf61ab56d9952f17c9ad1c3976cf...    0.331976\n",
       "00004b22eaeeeb0ec976890c1d9bfc14fd9427e98c4ee9a...    0.884660"
      ]
     },
     "execution_count": 4,
     "metadata": {},
     "output_type": "execute_result"
    }
   ],
   "source": [
    "submission.head()"
   ]
  },
  {
   "cell_type": "code",
   "execution_count": 5,
   "id": "69af61f8",
   "metadata": {
    "execution": {
     "iopub.execute_input": "2023-02-10T00:48:33.332718Z",
     "iopub.status.busy": "2023-02-10T00:48:33.332192Z",
     "iopub.status.idle": "2023-02-10T00:48:37.286318Z",
     "shell.execute_reply": "2023-02-10T00:48:37.284660Z"
    },
    "papermill": {
     "duration": 3.962344,
     "end_time": "2023-02-10T00:48:37.289764",
     "exception": false,
     "start_time": "2023-02-10T00:48:33.327420",
     "status": "completed"
    },
    "tags": []
   },
   "outputs": [],
   "source": [
    "# index needs to be removed from submission csv\n",
    "submission = submission.reset_index()\n",
    "submission.to_csv('submission.csv', index=False)"
   ]
  },
  {
   "cell_type": "code",
   "execution_count": null,
   "id": "d22713b0",
   "metadata": {
    "papermill": {
     "duration": 0.00261,
     "end_time": "2023-02-10T00:48:37.295951",
     "exception": false,
     "start_time": "2023-02-10T00:48:37.293341",
     "status": "completed"
    },
    "tags": []
   },
   "outputs": [],
   "source": []
  }
 ],
 "metadata": {
  "kernelspec": {
   "display_name": "Python 3",
   "language": "python",
   "name": "python3"
  },
  "language_info": {
   "codemirror_mode": {
    "name": "ipython",
    "version": 3
   },
   "file_extension": ".py",
   "mimetype": "text/x-python",
   "name": "python",
   "nbconvert_exporter": "python",
   "pygments_lexer": "ipython3",
   "version": "3.7.12"
  },
  "papermill": {
   "default_parameters": {},
   "duration": 67.872081,
   "end_time": "2023-02-10T00:48:38.526424",
   "environment_variables": {},
   "exception": null,
   "input_path": "__notebook__.ipynb",
   "output_path": "__notebook__.ipynb",
   "parameters": {},
   "start_time": "2023-02-10T00:47:30.654343",
   "version": "2.3.4"
  }
 },
 "nbformat": 4,
 "nbformat_minor": 5
}
