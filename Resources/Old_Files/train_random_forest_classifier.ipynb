{
 "cells": [
  {
   "cell_type": "code",
   "execution_count": 1,
   "id": "adec212f",
   "metadata": {
    "_cell_guid": "b1076dfc-b9ad-4769-8c92-a6c4dae69d19",
    "_uuid": "8f2839f25d086af736a60e9eeb907d3b93b6e0e5",
    "execution": {
     "iopub.execute_input": "2023-02-11T06:02:42.932008Z",
     "iopub.status.busy": "2023-02-11T06:02:42.931016Z",
     "iopub.status.idle": "2023-02-11T06:02:44.323727Z",
     "shell.execute_reply": "2023-02-11T06:02:44.322130Z"
    },
    "papermill": {
     "duration": 1.404688,
     "end_time": "2023-02-11T06:02:44.326960",
     "exception": false,
     "start_time": "2023-02-11T06:02:42.922272",
     "status": "completed"
    },
    "tags": []
   },
   "outputs": [],
   "source": [
    "import pickle\n",
    "import pandas as pd\n",
    "from sklearn.ensemble import RandomForestClassifier\n",
    "from sklearn.metrics import classification_report"
   ]
  },
  {
   "cell_type": "code",
   "execution_count": 2,
   "id": "5598a8a1",
   "metadata": {
    "execution": {
     "iopub.execute_input": "2023-02-11T06:02:44.336144Z",
     "iopub.status.busy": "2023-02-11T06:02:44.335617Z",
     "iopub.status.idle": "2023-02-11T06:03:14.474188Z",
     "shell.execute_reply": "2023-02-11T06:03:14.472782Z"
    },
    "papermill": {
     "duration": 30.147236,
     "end_time": "2023-02-11T06:03:14.477949",
     "exception": false,
     "start_time": "2023-02-11T06:02:44.330713",
     "status": "completed"
    },
    "tags": []
   },
   "outputs": [],
   "source": [
    "X = pd.read_feather('../input/amex-imputed-and-1hot-encoded/X_train.ftr')\n",
    "y = pd.read_feather('../input/amex-imputed-and-1hot-encoded/y_train.ftr')\n",
    "\n",
    "X = X.set_index('customer_ID')\n",
    "y = y.set_index('customer_ID')['target']"
   ]
  },
  {
   "cell_type": "markdown",
   "id": "ab895ed9",
   "metadata": {
    "papermill": {
     "duration": 0.002992,
     "end_time": "2023-02-11T06:03:14.484726",
     "exception": false,
     "start_time": "2023-02-11T06:03:14.481734",
     "status": "completed"
    },
    "tags": []
   },
   "source": [
    "Function to calculate competition's evaluation metric: https://www.kaggle.com/code/inversion/amex-competition-metric-python"
   ]
  },
  {
   "cell_type": "code",
   "execution_count": 3,
   "id": "8f639a06",
   "metadata": {
    "execution": {
     "iopub.execute_input": "2023-02-11T06:03:14.495232Z",
     "iopub.status.busy": "2023-02-11T06:03:14.493883Z",
     "iopub.status.idle": "2023-02-11T06:03:14.511132Z",
     "shell.execute_reply": "2023-02-11T06:03:14.509422Z"
    },
    "papermill": {
     "duration": 0.026902,
     "end_time": "2023-02-11T06:03:14.515479",
     "exception": false,
     "start_time": "2023-02-11T06:03:14.488577",
     "status": "completed"
    },
    "tags": []
   },
   "outputs": [],
   "source": [
    "def amex_metric(y_true: pd.DataFrame, y_pred: pd.DataFrame) -> float:\n",
    "\n",
    "    def top_four_percent_captured(y_true: pd.DataFrame, y_pred: pd.DataFrame) -> float:\n",
    "        df = (pd.concat([y_true, y_pred], axis='columns')\n",
    "              .sort_values('prediction', ascending=False))\n",
    "        df['weight'] = df['target'].apply(lambda x: 20 if x==0 else 1)\n",
    "        four_pct_cutoff = int(0.04 * df['weight'].sum())\n",
    "        df['weight_cumsum'] = df['weight'].cumsum()\n",
    "        df_cutoff = df.loc[df['weight_cumsum'] <= four_pct_cutoff]\n",
    "        return (df_cutoff['target'] == 1).sum() / (df['target'] == 1).sum()\n",
    "        \n",
    "    def weighted_gini(y_true: pd.DataFrame, y_pred: pd.DataFrame) -> float:\n",
    "        df = (pd.concat([y_true, y_pred], axis='columns')\n",
    "              .sort_values('prediction', ascending=False))\n",
    "        df['weight'] = df['target'].apply(lambda x: 20 if x==0 else 1)\n",
    "        df['random'] = (df['weight'] / df['weight'].sum()).cumsum()\n",
    "        total_pos = (df['target'] * df['weight']).sum()\n",
    "        df['cum_pos_found'] = (df['target'] * df['weight']).cumsum()\n",
    "        df['lorentz'] = df['cum_pos_found'] / total_pos\n",
    "        df['gini'] = (df['lorentz'] - df['random']) * df['weight']\n",
    "        return df['gini'].sum()\n",
    "\n",
    "    def normalized_weighted_gini(y_true: pd.DataFrame, y_pred: pd.DataFrame) -> float:\n",
    "        y_true_pred = y_true.rename(columns={'target': 'prediction'})\n",
    "        return weighted_gini(y_true, y_pred) / weighted_gini(y_true, y_true_pred)\n",
    "\n",
    "    g = normalized_weighted_gini(y_true, y_pred)\n",
    "    d = top_four_percent_captured(y_true, y_pred)\n",
    "\n",
    "    return 0.5 * (g + d)"
   ]
  },
  {
   "cell_type": "code",
   "execution_count": 4,
   "id": "8e646307",
   "metadata": {
    "execution": {
     "iopub.execute_input": "2023-02-11T06:03:14.525227Z",
     "iopub.status.busy": "2023-02-11T06:03:14.524481Z",
     "iopub.status.idle": "2023-02-11T07:28:39.775265Z",
     "shell.execute_reply": "2023-02-11T07:28:39.768633Z"
    },
    "papermill": {
     "duration": 5125.271615,
     "end_time": "2023-02-11T07:28:39.790629",
     "exception": false,
     "start_time": "2023-02-11T06:03:14.519014",
     "status": "completed"
    },
    "tags": []
   },
   "outputs": [],
   "source": [
    "rfc = RandomForestClassifier(max_depth=5)\n",
    "rfc = rfc.fit(X, y)"
   ]
  },
  {
   "cell_type": "code",
   "execution_count": 5,
   "id": "25ffe24a",
   "metadata": {
    "execution": {
     "iopub.execute_input": "2023-02-11T07:28:39.816718Z",
     "iopub.status.busy": "2023-02-11T07:28:39.815782Z",
     "iopub.status.idle": "2023-02-11T07:30:56.117683Z",
     "shell.execute_reply": "2023-02-11T07:30:56.115904Z"
    },
    "papermill": {
     "duration": 136.31655,
     "end_time": "2023-02-11T07:30:56.121420",
     "exception": false,
     "start_time": "2023-02-11T07:28:39.804870",
     "status": "completed"
    },
    "tags": []
   },
   "outputs": [],
   "source": [
    "proba_preds = rfc.predict_proba(X)[:, 1]\n",
    "preds = rfc.predict(X)"
   ]
  },
  {
   "cell_type": "code",
   "execution_count": 6,
   "id": "068f69a0",
   "metadata": {
    "execution": {
     "iopub.execute_input": "2023-02-11T07:30:56.131802Z",
     "iopub.status.busy": "2023-02-11T07:30:56.131283Z",
     "iopub.status.idle": "2023-02-11T07:31:13.744507Z",
     "shell.execute_reply": "2023-02-11T07:31:13.742725Z"
    },
    "papermill": {
     "duration": 17.630878,
     "end_time": "2023-02-11T07:31:13.756250",
     "exception": false,
     "start_time": "2023-02-11T07:30:56.125372",
     "status": "completed"
    },
    "tags": []
   },
   "outputs": [
    {
     "name": "stdout",
     "output_type": "stream",
     "text": [
      "M = 0.6340978403530687\n"
     ]
    }
   ],
   "source": [
    "print(f'M = {amex_metric(pd.DataFrame(y), pd.DataFrame(proba_preds, index=y.index, columns=[\"prediction\"]))}')"
   ]
  },
  {
   "cell_type": "code",
   "execution_count": 7,
   "id": "00f2f65b",
   "metadata": {
    "execution": {
     "iopub.execute_input": "2023-02-11T07:31:13.767481Z",
     "iopub.status.busy": "2023-02-11T07:31:13.765610Z",
     "iopub.status.idle": "2023-02-11T07:31:29.182633Z",
     "shell.execute_reply": "2023-02-11T07:31:29.181634Z"
    },
    "papermill": {
     "duration": 15.425504,
     "end_time": "2023-02-11T07:31:29.185779",
     "exception": false,
     "start_time": "2023-02-11T07:31:13.760275",
     "status": "completed"
    },
    "tags": []
   },
   "outputs": [
    {
     "name": "stdout",
     "output_type": "stream",
     "text": [
      "              precision    recall  f1-score   support\n",
      "\n",
      "           0       0.89      0.92      0.91   4153582\n",
      "           1       0.74      0.65      0.69   1377869\n",
      "\n",
      "    accuracy                           0.86   5531451\n",
      "   macro avg       0.81      0.79      0.80   5531451\n",
      "weighted avg       0.85      0.86      0.85   5531451\n",
      "\n"
     ]
    }
   ],
   "source": [
    "print(classification_report(y, preds))"
   ]
  },
  {
   "cell_type": "code",
   "execution_count": 8,
   "id": "5a76e17c",
   "metadata": {
    "execution": {
     "iopub.execute_input": "2023-02-11T07:31:29.195161Z",
     "iopub.status.busy": "2023-02-11T07:31:29.194698Z",
     "iopub.status.idle": "2023-02-11T07:31:29.224521Z",
     "shell.execute_reply": "2023-02-11T07:31:29.223099Z"
    },
    "papermill": {
     "duration": 0.038188,
     "end_time": "2023-02-11T07:31:29.227632",
     "exception": false,
     "start_time": "2023-02-11T07:31:29.189444",
     "status": "completed"
    },
    "tags": []
   },
   "outputs": [],
   "source": [
    "pickle.dump(rfc, open('random_forest_classifier_model.sav', 'wb'))"
   ]
  }
 ],
 "metadata": {
  "kernelspec": {
   "display_name": "Python 3",
   "language": "python",
   "name": "python3"
  },
  "language_info": {
   "codemirror_mode": {
    "name": "ipython",
    "version": 3
   },
   "file_extension": ".py",
   "mimetype": "text/x-python",
   "name": "python",
   "nbconvert_exporter": "python",
   "pygments_lexer": "ipython3",
   "version": "3.7.12"
  },
  "papermill": {
   "default_parameters": {},
   "duration": 5338.066761,
   "end_time": "2023-02-11T07:31:31.581395",
   "environment_variables": {},
   "exception": null,
   "input_path": "__notebook__.ipynb",
   "output_path": "__notebook__.ipynb",
   "parameters": {},
   "start_time": "2023-02-11T06:02:33.514634",
   "version": "2.3.4"
  }
 },
 "nbformat": 4,
 "nbformat_minor": 5
}
