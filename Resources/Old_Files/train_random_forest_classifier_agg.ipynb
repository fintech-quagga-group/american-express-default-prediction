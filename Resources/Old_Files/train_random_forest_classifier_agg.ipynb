{
 "cells": [
  {
   "cell_type": "code",
   "execution_count": 1,
   "id": "cae5d495",
   "metadata": {
    "_cell_guid": "b1076dfc-b9ad-4769-8c92-a6c4dae69d19",
    "_uuid": "8f2839f25d086af736a60e9eeb907d3b93b6e0e5",
    "execution": {
     "iopub.execute_input": "2023-02-11T06:01:54.734906Z",
     "iopub.status.busy": "2023-02-11T06:01:54.734269Z",
     "iopub.status.idle": "2023-02-11T06:01:56.375341Z",
     "shell.execute_reply": "2023-02-11T06:01:56.373844Z"
    },
    "papermill": {
     "duration": 1.650996,
     "end_time": "2023-02-11T06:01:56.378781",
     "exception": false,
     "start_time": "2023-02-11T06:01:54.727785",
     "status": "completed"
    },
    "tags": []
   },
   "outputs": [],
   "source": [
    "import pickle\n",
    "import pandas as pd\n",
    "from sklearn.ensemble import RandomForestClassifier\n",
    "from sklearn.metrics import classification_report"
   ]
  },
  {
   "cell_type": "code",
   "execution_count": 2,
   "id": "2410def1",
   "metadata": {
    "execution": {
     "iopub.execute_input": "2023-02-11T06:01:56.388395Z",
     "iopub.status.busy": "2023-02-11T06:01:56.387981Z",
     "iopub.status.idle": "2023-02-11T06:02:24.763140Z",
     "shell.execute_reply": "2023-02-11T06:02:24.761725Z"
    },
    "papermill": {
     "duration": 28.383811,
     "end_time": "2023-02-11T06:02:24.766536",
     "exception": false,
     "start_time": "2023-02-11T06:01:56.382725",
     "status": "completed"
    },
    "tags": []
   },
   "outputs": [],
   "source": [
    "X = pd.read_pickle('/kaggle/input/amex-imputed-aggregate-data/X_train_agg.pkl', compression='gzip')\n",
    "y = pd.read_pickle('/kaggle/input/amex-imputed-aggregate-data/y_train_agg.pkl', compression='gzip')"
   ]
  },
  {
   "cell_type": "markdown",
   "id": "d5a81e0a",
   "metadata": {
    "papermill": {
     "duration": 0.002744,
     "end_time": "2023-02-11T06:02:24.772549",
     "exception": false,
     "start_time": "2023-02-11T06:02:24.769805",
     "status": "completed"
    },
    "tags": []
   },
   "source": [
    "Function to calculate competition's evaluation metric: https://www.kaggle.com/code/inversion/amex-competition-metric-python"
   ]
  },
  {
   "cell_type": "code",
   "execution_count": 3,
   "id": "38cb9fe4",
   "metadata": {
    "execution": {
     "iopub.execute_input": "2023-02-11T06:02:24.780868Z",
     "iopub.status.busy": "2023-02-11T06:02:24.780402Z",
     "iopub.status.idle": "2023-02-11T06:02:24.796685Z",
     "shell.execute_reply": "2023-02-11T06:02:24.795141Z"
    },
    "papermill": {
     "duration": 0.023769,
     "end_time": "2023-02-11T06:02:24.799380",
     "exception": false,
     "start_time": "2023-02-11T06:02:24.775611",
     "status": "completed"
    },
    "tags": []
   },
   "outputs": [],
   "source": [
    "def amex_metric(y_true: pd.DataFrame, y_pred: pd.DataFrame) -> float:\n",
    "\n",
    "    def top_four_percent_captured(y_true: pd.DataFrame, y_pred: pd.DataFrame) -> float:\n",
    "        df = (pd.concat([y_true, y_pred], axis='columns')\n",
    "              .sort_values('prediction', ascending=False))\n",
    "        df['weight'] = df['target'].apply(lambda x: 20 if x==0 else 1)\n",
    "        four_pct_cutoff = int(0.04 * df['weight'].sum())\n",
    "        df['weight_cumsum'] = df['weight'].cumsum()\n",
    "        df_cutoff = df.loc[df['weight_cumsum'] <= four_pct_cutoff]\n",
    "        return (df_cutoff['target'] == 1).sum() / (df['target'] == 1).sum()\n",
    "        \n",
    "    def weighted_gini(y_true: pd.DataFrame, y_pred: pd.DataFrame) -> float:\n",
    "        df = (pd.concat([y_true, y_pred], axis='columns')\n",
    "              .sort_values('prediction', ascending=False))\n",
    "        df['weight'] = df['target'].apply(lambda x: 20 if x==0 else 1)\n",
    "        df['random'] = (df['weight'] / df['weight'].sum()).cumsum()\n",
    "        total_pos = (df['target'] * df['weight']).sum()\n",
    "        df['cum_pos_found'] = (df['target'] * df['weight']).cumsum()\n",
    "        df['lorentz'] = df['cum_pos_found'] / total_pos\n",
    "        df['gini'] = (df['lorentz'] - df['random']) * df['weight']\n",
    "        return df['gini'].sum()\n",
    "\n",
    "    def normalized_weighted_gini(y_true: pd.DataFrame, y_pred: pd.DataFrame) -> float:\n",
    "        y_true_pred = y_true.rename(columns={'target': 'prediction'})\n",
    "        return weighted_gini(y_true, y_pred) / weighted_gini(y_true, y_true_pred)\n",
    "\n",
    "    g = normalized_weighted_gini(y_true, y_pred)\n",
    "    d = top_four_percent_captured(y_true, y_pred)\n",
    "\n",
    "    return 0.5 * (g + d)"
   ]
  },
  {
   "cell_type": "code",
   "execution_count": 4,
   "id": "f25abe91",
   "metadata": {
    "execution": {
     "iopub.execute_input": "2023-02-11T06:02:24.808350Z",
     "iopub.status.busy": "2023-02-11T06:02:24.807080Z",
     "iopub.status.idle": "2023-02-11T06:17:28.452928Z",
     "shell.execute_reply": "2023-02-11T06:17:28.450340Z"
    },
    "papermill": {
     "duration": 903.656635,
     "end_time": "2023-02-11T06:17:28.459148",
     "exception": false,
     "start_time": "2023-02-11T06:02:24.802513",
     "status": "completed"
    },
    "tags": []
   },
   "outputs": [],
   "source": [
    "rfc = RandomForestClassifier(max_depth=5)\n",
    "rfc = rfc.fit(X, y)"
   ]
  },
  {
   "cell_type": "code",
   "execution_count": 5,
   "id": "7120d25f",
   "metadata": {
    "execution": {
     "iopub.execute_input": "2023-02-11T06:17:28.472574Z",
     "iopub.status.busy": "2023-02-11T06:17:28.471995Z",
     "iopub.status.idle": "2023-02-11T06:17:47.427518Z",
     "shell.execute_reply": "2023-02-11T06:17:47.425879Z"
    },
    "papermill": {
     "duration": 18.965191,
     "end_time": "2023-02-11T06:17:47.431093",
     "exception": false,
     "start_time": "2023-02-11T06:17:28.465902",
     "status": "completed"
    },
    "tags": []
   },
   "outputs": [],
   "source": [
    "proba_preds = rfc.predict_proba(X)[:, 1]\n",
    "preds = rfc.predict(X)"
   ]
  },
  {
   "cell_type": "code",
   "execution_count": 6,
   "id": "a070e16c",
   "metadata": {
    "execution": {
     "iopub.execute_input": "2023-02-11T06:17:47.440340Z",
     "iopub.status.busy": "2023-02-11T06:17:47.439866Z",
     "iopub.status.idle": "2023-02-11T06:17:48.938375Z",
     "shell.execute_reply": "2023-02-11T06:17:48.936904Z"
    },
    "papermill": {
     "duration": 1.509695,
     "end_time": "2023-02-11T06:17:48.944635",
     "exception": false,
     "start_time": "2023-02-11T06:17:47.434940",
     "status": "completed"
    },
    "tags": []
   },
   "outputs": [
    {
     "name": "stdout",
     "output_type": "stream",
     "text": [
      "M = 0.717041793899371\n"
     ]
    }
   ],
   "source": [
    "print(f'M = {amex_metric(pd.DataFrame(y), pd.DataFrame(proba_preds, index=y.index, columns=[\"prediction\"]))}')"
   ]
  },
  {
   "cell_type": "code",
   "execution_count": 7,
   "id": "6c21fe26",
   "metadata": {
    "execution": {
     "iopub.execute_input": "2023-02-11T06:17:48.954350Z",
     "iopub.status.busy": "2023-02-11T06:17:48.953859Z",
     "iopub.status.idle": "2023-02-11T06:17:49.798736Z",
     "shell.execute_reply": "2023-02-11T06:17:49.796964Z"
    },
    "papermill": {
     "duration": 0.853166,
     "end_time": "2023-02-11T06:17:49.801616",
     "exception": false,
     "start_time": "2023-02-11T06:17:48.948450",
     "status": "completed"
    },
    "tags": []
   },
   "outputs": [
    {
     "name": "stdout",
     "output_type": "stream",
     "text": [
      "              precision    recall  f1-score   support\n",
      "\n",
      "           0       0.91      0.93      0.92    340085\n",
      "           1       0.78      0.74      0.76    118828\n",
      "\n",
      "    accuracy                           0.88    458913\n",
      "   macro avg       0.85      0.83      0.84    458913\n",
      "weighted avg       0.88      0.88      0.88    458913\n",
      "\n"
     ]
    }
   ],
   "source": [
    "print(classification_report(y, preds))"
   ]
  },
  {
   "cell_type": "code",
   "execution_count": 8,
   "id": "2c3fc3de",
   "metadata": {
    "execution": {
     "iopub.execute_input": "2023-02-11T06:17:49.811003Z",
     "iopub.status.busy": "2023-02-11T06:17:49.810518Z",
     "iopub.status.idle": "2023-02-11T06:17:49.826078Z",
     "shell.execute_reply": "2023-02-11T06:17:49.824684Z"
    },
    "papermill": {
     "duration": 0.023535,
     "end_time": "2023-02-11T06:17:49.828944",
     "exception": false,
     "start_time": "2023-02-11T06:17:49.805409",
     "status": "completed"
    },
    "tags": []
   },
   "outputs": [],
   "source": [
    "pickle.dump(rfc, open('random_forest_classifier_agg_model.sav', 'wb'))"
   ]
  }
 ],
 "metadata": {
  "kernelspec": {
   "display_name": "Python 3",
   "language": "python",
   "name": "python3"
  },
  "language_info": {
   "codemirror_mode": {
    "name": "ipython",
    "version": 3
   },
   "file_extension": ".py",
   "mimetype": "text/x-python",
   "name": "python",
   "nbconvert_exporter": "python",
   "pygments_lexer": "ipython3",
   "version": "3.7.12"
  },
  "papermill": {
   "default_parameters": {},
   "duration": 966.005862,
   "end_time": "2023-02-11T06:17:51.063838",
   "environment_variables": {},
   "exception": null,
   "input_path": "__notebook__.ipynb",
   "output_path": "__notebook__.ipynb",
   "parameters": {},
   "start_time": "2023-02-11T06:01:45.057976",
   "version": "2.3.4"
  }
 },
 "nbformat": 4,
 "nbformat_minor": 5
}
