{
 "cells": [
  {
   "cell_type": "code",
   "execution_count": 1,
   "id": "2b58ff09",
   "metadata": {
    "_cell_guid": "b1076dfc-b9ad-4769-8c92-a6c4dae69d19",
    "_uuid": "8f2839f25d086af736a60e9eeb907d3b93b6e0e5",
    "execution": {
     "iopub.execute_input": "2023-02-07T02:36:03.102342Z",
     "iopub.status.busy": "2023-02-07T02:36:03.101611Z",
     "iopub.status.idle": "2023-02-07T02:36:04.712095Z",
     "shell.execute_reply": "2023-02-07T02:36:04.710652Z"
    },
    "papermill": {
     "duration": 1.621583,
     "end_time": "2023-02-07T02:36:04.715792",
     "exception": false,
     "start_time": "2023-02-07T02:36:03.094209",
     "status": "completed"
    },
    "tags": []
   },
   "outputs": [],
   "source": [
    "import pickle\n",
    "import pandas as pd\n",
    "from sklearn.tree import DecisionTreeClassifier"
   ]
  },
  {
   "cell_type": "code",
   "execution_count": 2,
   "id": "88a2951b",
   "metadata": {
    "execution": {
     "iopub.execute_input": "2023-02-07T02:36:04.724591Z",
     "iopub.status.busy": "2023-02-07T02:36:04.724084Z",
     "iopub.status.idle": "2023-02-07T02:36:30.711197Z",
     "shell.execute_reply": "2023-02-07T02:36:30.709839Z"
    },
    "papermill": {
     "duration": 25.996466,
     "end_time": "2023-02-07T02:36:30.715649",
     "exception": false,
     "start_time": "2023-02-07T02:36:04.719183",
     "status": "completed"
    },
    "tags": []
   },
   "outputs": [],
   "source": [
    "X = pd.read_parquet('../input/amex-imputed-and-1hot-encoded/X_train.parquet')\n",
    "y = pd.read_parquet('../input/amex-imputed-and-1hot-encoded/y_train.parquet')\n",
    "\n",
    "X = X.set_index('customer_ID')\n",
    "y = y.set_index('customer_ID')"
   ]
  },
  {
   "cell_type": "code",
   "execution_count": 3,
   "id": "ff211a28",
   "metadata": {
    "execution": {
     "iopub.execute_input": "2023-02-07T02:36:30.729177Z",
     "iopub.status.busy": "2023-02-07T02:36:30.727827Z",
     "iopub.status.idle": "2023-02-07T02:38:50.096037Z",
     "shell.execute_reply": "2023-02-07T02:38:50.092951Z"
    },
    "papermill": {
     "duration": 139.381183,
     "end_time": "2023-02-07T02:38:50.102662",
     "exception": false,
     "start_time": "2023-02-07T02:36:30.721479",
     "status": "completed"
    },
    "tags": []
   },
   "outputs": [],
   "source": [
    "dtc = DecisionTreeClassifier()\n",
    "dtc = dtc.fit(X, y)"
   ]
  },
  {
   "cell_type": "markdown",
   "id": "0f1be335",
   "metadata": {
    "papermill": {
     "duration": 0.00268,
     "end_time": "2023-02-07T02:38:50.115956",
     "exception": false,
     "start_time": "2023-02-07T02:38:50.113276",
     "status": "completed"
    },
    "tags": []
   },
   "source": [
    "Function to calculate competition's evaluation metric: https://www.kaggle.com/code/inversion/amex-competition-metric-python"
   ]
  },
  {
   "cell_type": "code",
   "execution_count": 4,
   "id": "deaa524f",
   "metadata": {
    "_kg_hide-input": true,
    "execution": {
     "iopub.execute_input": "2023-02-07T02:38:50.124801Z",
     "iopub.status.busy": "2023-02-07T02:38:50.124210Z",
     "iopub.status.idle": "2023-02-07T02:38:50.140589Z",
     "shell.execute_reply": "2023-02-07T02:38:50.139616Z"
    },
    "jupyter": {
     "source_hidden": true
    },
    "papermill": {
     "duration": 0.024465,
     "end_time": "2023-02-07T02:38:50.143242",
     "exception": false,
     "start_time": "2023-02-07T02:38:50.118777",
     "status": "completed"
    },
    "tags": []
   },
   "outputs": [],
   "source": [
    "def amex_metric(y_true: pd.DataFrame, y_pred: pd.DataFrame) -> float:\n",
    "\n",
    "    def top_four_percent_captured(y_true: pd.DataFrame, y_pred: pd.DataFrame) -> float:\n",
    "        df = (pd.concat([y_true, y_pred], axis='columns')\n",
    "              .sort_values('prediction', ascending=False))\n",
    "        df['weight'] = df['target'].apply(lambda x: 20 if x==0 else 1)\n",
    "        four_pct_cutoff = int(0.04 * df['weight'].sum())\n",
    "        df['weight_cumsum'] = df['weight'].cumsum()\n",
    "        df_cutoff = df.loc[df['weight_cumsum'] <= four_pct_cutoff]\n",
    "        return (df_cutoff['target'] == 1).sum() / (df['target'] == 1).sum()\n",
    "        \n",
    "    def weighted_gini(y_true: pd.DataFrame, y_pred: pd.DataFrame) -> float:\n",
    "        df = (pd.concat([y_true, y_pred], axis='columns')\n",
    "              .sort_values('prediction', ascending=False))\n",
    "        df['weight'] = df['target'].apply(lambda x: 20 if x==0 else 1)\n",
    "        df['random'] = (df['weight'] / df['weight'].sum()).cumsum()\n",
    "        total_pos = (df['target'] * df['weight']).sum()\n",
    "        df['cum_pos_found'] = (df['target'] * df['weight']).cumsum()\n",
    "        df['lorentz'] = df['cum_pos_found'] / total_pos\n",
    "        df['gini'] = (df['lorentz'] - df['random']) * df['weight']\n",
    "        return df['gini'].sum()\n",
    "\n",
    "    def normalized_weighted_gini(y_true: pd.DataFrame, y_pred: pd.DataFrame) -> float:\n",
    "        y_true_pred = y_true.rename(columns={'target': 'prediction'})\n",
    "        return weighted_gini(y_true, y_pred) / weighted_gini(y_true, y_true_pred)\n",
    "\n",
    "    g = normalized_weighted_gini(y_true, y_pred)\n",
    "    d = top_four_percent_captured(y_true, y_pred)\n",
    "\n",
    "    return 0.5 * (g + d)"
   ]
  },
  {
   "cell_type": "code",
   "execution_count": 5,
   "id": "b050646e",
   "metadata": {
    "execution": {
     "iopub.execute_input": "2023-02-07T02:38:50.150880Z",
     "iopub.status.busy": "2023-02-07T02:38:50.150343Z",
     "iopub.status.idle": "2023-02-07T02:39:08.528356Z",
     "shell.execute_reply": "2023-02-07T02:39:08.526907Z"
    },
    "papermill": {
     "duration": 18.386866,
     "end_time": "2023-02-07T02:39:08.532917",
     "exception": false,
     "start_time": "2023-02-07T02:38:50.146051",
     "status": "completed"
    },
    "tags": []
   },
   "outputs": [
    {
     "name": "stdout",
     "output_type": "stream",
     "text": [
      "1.0\n"
     ]
    }
   ],
   "source": [
    "preds = dtc.predict(X)\n",
    "print(amex_metric(y, pd.DataFrame(preds, index=y.index, columns=['prediction'])))"
   ]
  },
  {
   "cell_type": "code",
   "execution_count": 6,
   "id": "becfadc9",
   "metadata": {
    "execution": {
     "iopub.execute_input": "2023-02-07T02:39:08.541265Z",
     "iopub.status.busy": "2023-02-07T02:39:08.540246Z",
     "iopub.status.idle": "2023-02-07T02:39:08.549234Z",
     "shell.execute_reply": "2023-02-07T02:39:08.548188Z"
    },
    "papermill": {
     "duration": 0.015849,
     "end_time": "2023-02-07T02:39:08.551788",
     "exception": false,
     "start_time": "2023-02-07T02:39:08.535939",
     "status": "completed"
    },
    "tags": []
   },
   "outputs": [],
   "source": [
    "pickle.dump(dtc, open('decision_tree_classifier_model.sav', 'wb'))"
   ]
  }
 ],
 "metadata": {
  "kernelspec": {
   "display_name": "Python 3",
   "language": "python",
   "name": "python3"
  },
  "language_info": {
   "codemirror_mode": {
    "name": "ipython",
    "version": 3
   },
   "file_extension": ".py",
   "mimetype": "text/x-python",
   "name": "python",
   "nbconvert_exporter": "python",
   "pygments_lexer": "ipython3",
   "version": "3.7.12"
  },
  "papermill": {
   "default_parameters": {},
   "duration": 195.93124,
   "end_time": "2023-02-07T02:39:09.782250",
   "environment_variables": {},
   "exception": null,
   "input_path": "__notebook__.ipynb",
   "output_path": "__notebook__.ipynb",
   "parameters": {},
   "start_time": "2023-02-07T02:35:53.851010",
   "version": "2.3.4"
  }
 },
 "nbformat": 4,
 "nbformat_minor": 5
}
