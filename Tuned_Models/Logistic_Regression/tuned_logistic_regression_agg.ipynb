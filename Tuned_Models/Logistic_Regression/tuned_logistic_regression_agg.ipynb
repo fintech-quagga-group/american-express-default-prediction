{
 "cells": [
  {
   "cell_type": "code",
   "execution_count": 1,
   "id": "89774447",
   "metadata": {
    "_cell_guid": "b1076dfc-b9ad-4769-8c92-a6c4dae69d19",
    "_uuid": "8f2839f25d086af736a60e9eeb907d3b93b6e0e5",
    "execution": {
     "iopub.execute_input": "2023-02-12T02:52:15.822092Z",
     "iopub.status.busy": "2023-02-12T02:52:15.821615Z",
     "iopub.status.idle": "2023-02-12T02:52:16.905638Z",
     "shell.execute_reply": "2023-02-12T02:52:16.904419Z"
    },
    "papermill": {
     "duration": 1.091295,
     "end_time": "2023-02-12T02:52:16.908058",
     "exception": false,
     "start_time": "2023-02-12T02:52:15.816763",
     "status": "completed"
    },
    "tags": []
   },
   "outputs": [],
   "source": [
    "import pickle\n",
    "import gc\n",
    "import pandas as pd\n",
    "from sklearn.linear_model import LogisticRegression\n",
    "from sklearn.metrics import classification_report\n",
    "from sklearn.model_selection import train_test_split\n",
    "\n",
    "from warnings import simplefilter\n",
    "from sklearn.exceptions import ConvergenceWarning\n",
    "simplefilter(\"ignore\", category=ConvergenceWarning)"
   ]
  },
  {
   "cell_type": "code",
   "execution_count": 2,
   "id": "bffa2eee",
   "metadata": {
    "execution": {
     "iopub.execute_input": "2023-02-12T02:52:16.914783Z",
     "iopub.status.busy": "2023-02-12T02:52:16.914416Z",
     "iopub.status.idle": "2023-02-12T02:52:35.597514Z",
     "shell.execute_reply": "2023-02-12T02:52:35.596403Z"
    },
    "papermill": {
     "duration": 18.689067,
     "end_time": "2023-02-12T02:52:35.599894",
     "exception": false,
     "start_time": "2023-02-12T02:52:16.910827",
     "status": "completed"
    },
    "tags": []
   },
   "outputs": [],
   "source": [
    "X = pd.read_pickle('/kaggle/input/amex-imputed-aggregate-data/X_train_agg.pkl', compression='gzip')\n",
    "y = pd.read_pickle('/kaggle/input/amex-imputed-aggregate-data/y_train_agg.pkl', compression='gzip')"
   ]
  },
  {
   "cell_type": "markdown",
   "id": "78a42815",
   "metadata": {
    "papermill": {
     "duration": 0.002182,
     "end_time": "2023-02-12T02:52:35.604682",
     "exception": false,
     "start_time": "2023-02-12T02:52:35.602500",
     "status": "completed"
    },
    "tags": []
   },
   "source": [
    "Function to calculate competition's evaluation metric: https://www.kaggle.com/code/inversion/amex-competition-metric-python"
   ]
  },
  {
   "cell_type": "code",
   "execution_count": 3,
   "id": "d0eead12",
   "metadata": {
    "execution": {
     "iopub.execute_input": "2023-02-12T02:52:35.611430Z",
     "iopub.status.busy": "2023-02-12T02:52:35.611087Z",
     "iopub.status.idle": "2023-02-12T02:52:35.625207Z",
     "shell.execute_reply": "2023-02-12T02:52:35.623948Z"
    },
    "jupyter": {
     "source_hidden": true
    },
    "papermill": {
     "duration": 0.020206,
     "end_time": "2023-02-12T02:52:35.627290",
     "exception": false,
     "start_time": "2023-02-12T02:52:35.607084",
     "status": "completed"
    },
    "tags": []
   },
   "outputs": [],
   "source": [
    "def amex_metric(y_true: pd.DataFrame, y_pred: pd.DataFrame) -> float:\n",
    "\n",
    "    def top_four_percent_captured(y_true: pd.DataFrame, y_pred: pd.DataFrame) -> float:\n",
    "        df = (pd.concat([y_true, y_pred], axis='columns')\n",
    "              .sort_values('prediction', ascending=False))\n",
    "        df['weight'] = df['target'].apply(lambda x: 20 if x==0 else 1)\n",
    "        four_pct_cutoff = int(0.04 * df['weight'].sum())\n",
    "        df['weight_cumsum'] = df['weight'].cumsum()\n",
    "        df_cutoff = df.loc[df['weight_cumsum'] <= four_pct_cutoff]\n",
    "        return (df_cutoff['target'] == 1).sum() / (df['target'] == 1).sum()\n",
    "        \n",
    "    def weighted_gini(y_true: pd.DataFrame, y_pred: pd.DataFrame) -> float:\n",
    "        df = (pd.concat([y_true, y_pred], axis='columns')\n",
    "              .sort_values('prediction', ascending=False))\n",
    "        df['weight'] = df['target'].apply(lambda x: 20 if x==0 else 1)\n",
    "        df['random'] = (df['weight'] / df['weight'].sum()).cumsum()\n",
    "        total_pos = (df['target'] * df['weight']).sum()\n",
    "        df['cum_pos_found'] = (df['target'] * df['weight']).cumsum()\n",
    "        df['lorentz'] = df['cum_pos_found'] / total_pos\n",
    "        df['gini'] = (df['lorentz'] - df['random']) * df['weight']\n",
    "        return df['gini'].sum()\n",
    "\n",
    "    def normalized_weighted_gini(y_true: pd.DataFrame, y_pred: pd.DataFrame) -> float:\n",
    "        y_true_pred = y_true.rename(columns={'target': 'prediction'})\n",
    "        return weighted_gini(y_true, y_pred) / weighted_gini(y_true, y_true_pred)\n",
    "\n",
    "    g = normalized_weighted_gini(y_true, y_pred)\n",
    "    d = top_four_percent_captured(y_true, y_pred)\n",
    "\n",
    "    return 0.5 * (g + d)"
   ]
  },
  {
   "cell_type": "markdown",
   "id": "a667fc41",
   "metadata": {
    "papermill": {
     "duration": 0.002281,
     "end_time": "2023-02-12T02:52:35.632132",
     "exception": false,
     "start_time": "2023-02-12T02:52:35.629851",
     "status": "completed"
    },
    "tags": []
   },
   "source": [
    "## Generating the model\n",
    "\n",
    "Optimizing the LogisticRegression() model doesn't produce significantly greater results than the baseline model (M = 0.77398). However, when tuning it was found that adjusting the following hyperparameters produced a validation set M score around 0.78:\n",
    "\n",
    "* Validation set size = .25\n",
    "* max_iter = 290\n",
    "* C = 100\n",
    "\n",
    "In the below code you can set `target_m_score` to produce a model with your desired quality, but the highest this model has gotten was M = 0.78461"
   ]
  },
  {
   "cell_type": "code",
   "execution_count": 4,
   "id": "d92fdad2",
   "metadata": {
    "execution": {
     "iopub.execute_input": "2023-02-12T02:52:35.638336Z",
     "iopub.status.busy": "2023-02-12T02:52:35.637976Z",
     "iopub.status.idle": "2023-02-12T02:53:33.885390Z",
     "shell.execute_reply": "2023-02-12T02:53:33.884017Z"
    },
    "papermill": {
     "duration": 58.255292,
     "end_time": "2023-02-12T02:53:33.889669",
     "exception": false,
     "start_time": "2023-02-12T02:52:35.634377",
     "status": "completed"
    },
    "tags": []
   },
   "outputs": [
    {
     "name": "stdout",
     "output_type": "stream",
     "text": [
      "M = 0.7842075221300133\n",
      "\n",
      "               precision    recall  f1-score   support\n",
      "\n",
      "           0       0.93      0.94      0.93     84871\n",
      "           1       0.82      0.79      0.80     29858\n",
      "\n",
      "    accuracy                           0.90    114729\n",
      "   macro avg       0.87      0.86      0.87    114729\n",
      "weighted avg       0.90      0.90      0.90    114729\n",
      "\n"
     ]
    }
   ],
   "source": [
    "m_score = 0\n",
    "target_m_score = 0.784\n",
    "final_model = None\n",
    "\n",
    "# loop through different iterations of LogisticRegression() model until a model with expected M score is produced\n",
    "while m_score < target_m_score:\n",
    "    # add validation with train_test_split since aggregate data is not time series based\n",
    "    X_train, X_val, y_train, y_val = train_test_split(X, y, test_size=.25)\n",
    "    \n",
    "    model = LogisticRegression(max_iter=290, C=100)\n",
    "    model = model.fit(X_train, y_train)\n",
    "    \n",
    "    # use predict_proba() for M score and predict() for classification_report()\n",
    "    proba_preds = model.predict_proba(X_val)[:, 1]\n",
    "    preds = model.predict(X_val)\n",
    "    \n",
    "    # calculate M score on validation set \n",
    "    m_score = amex_metric(pd.DataFrame(y_val), pd.DataFrame(proba_preds, index=y_val.index, columns=[\"prediction\"]))\n",
    "    final_model = model\n",
    "    \n",
    "    print(f'M = {m_score}')\n",
    "    \n",
    "    # show classification report for final model \n",
    "    if m_score >= target_m_score:\n",
    "        print('\\n', classification_report(y_val, preds))"
   ]
  },
  {
   "cell_type": "code",
   "execution_count": 5,
   "id": "1bd44b80",
   "metadata": {
    "execution": {
     "iopub.execute_input": "2023-02-12T02:53:33.896189Z",
     "iopub.status.busy": "2023-02-12T02:53:33.895832Z",
     "iopub.status.idle": "2023-02-12T02:53:33.901592Z",
     "shell.execute_reply": "2023-02-12T02:53:33.900687Z"
    },
    "papermill": {
     "duration": 0.011384,
     "end_time": "2023-02-12T02:53:33.903611",
     "exception": false,
     "start_time": "2023-02-12T02:53:33.892227",
     "status": "completed"
    },
    "tags": []
   },
   "outputs": [],
   "source": [
    "pickle.dump(final_model, open('logistic_regression_model.sav', 'wb'))"
   ]
  },
  {
   "cell_type": "code",
   "execution_count": 6,
   "id": "4ee61bb4",
   "metadata": {
    "execution": {
     "iopub.execute_input": "2023-02-12T02:53:33.910391Z",
     "iopub.status.busy": "2023-02-12T02:53:33.910041Z",
     "iopub.status.idle": "2023-02-12T02:54:13.871459Z",
     "shell.execute_reply": "2023-02-12T02:54:13.869811Z"
    },
    "papermill": {
     "duration": 39.967692,
     "end_time": "2023-02-12T02:54:13.873996",
     "exception": false,
     "start_time": "2023-02-12T02:53:33.906304",
     "status": "completed"
    },
    "tags": []
   },
   "outputs": [],
   "source": [
    "X_test = pd.read_pickle('/kaggle/input/amex-imputed-aggregate-data/X_test_agg.pkl', compression='gzip')\n",
    "\n",
    "submission = pd.DataFrame(final_model.predict_proba(X_test)[:, 1], index=X_test.index, columns=['prediction'])\n",
    "\n",
    "# index needs to be removed from submission csv\n",
    "submission = submission.reset_index()\n",
    "submission.to_csv('logistic_regression_submission.csv', index=False)"
   ]
  }
 ],
 "metadata": {
  "kernelspec": {
   "display_name": "Python 3",
   "language": "python",
   "name": "python3"
  },
  "language_info": {
   "codemirror_mode": {
    "name": "ipython",
    "version": 3
   },
   "file_extension": ".py",
   "mimetype": "text/x-python",
   "name": "python",
   "nbconvert_exporter": "python",
   "pygments_lexer": "ipython3",
   "version": "3.7.12"
  },
  "papermill": {
   "default_parameters": {},
   "duration": 126.22865,
   "end_time": "2023-02-12T02:54:14.798324",
   "environment_variables": {},
   "exception": null,
   "input_path": "__notebook__.ipynb",
   "output_path": "__notebook__.ipynb",
   "parameters": {},
   "start_time": "2023-02-12T02:52:08.569674",
   "version": "2.3.4"
  }
 },
 "nbformat": 4,
 "nbformat_minor": 5
}
