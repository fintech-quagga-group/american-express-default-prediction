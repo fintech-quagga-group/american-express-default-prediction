{
 "cells": [
  {
   "cell_type": "code",
   "execution_count": 1,
   "id": "9147692c",
   "metadata": {
    "_cell_guid": "b1076dfc-b9ad-4769-8c92-a6c4dae69d19",
    "_uuid": "8f2839f25d086af736a60e9eeb907d3b93b6e0e5",
    "execution": {
     "iopub.execute_input": "2023-02-15T01:19:38.918604Z",
     "iopub.status.busy": "2023-02-15T01:19:38.917967Z",
     "iopub.status.idle": "2023-02-15T01:19:40.140022Z",
     "shell.execute_reply": "2023-02-15T01:19:40.138497Z"
    },
    "papermill": {
     "duration": 1.23212,
     "end_time": "2023-02-15T01:19:40.143608",
     "exception": false,
     "start_time": "2023-02-15T01:19:38.911488",
     "status": "completed"
    },
    "tags": []
   },
   "outputs": [],
   "source": [
    "import pickle\n",
    "import gc\n",
    "import pandas as pd\n",
    "import numpy as np\n",
    "import matplotlib.pyplot as plt\n",
    "\n",
    "from sklearn.linear_model import LogisticRegression\n",
    "from sklearn.metrics import classification_report\n",
    "from sklearn.model_selection import StratifiedKFold\n",
    "\n",
    "from warnings import simplefilter\n",
    "from sklearn.exceptions import ConvergenceWarning\n",
    "simplefilter(\"ignore\", category=ConvergenceWarning)"
   ]
  },
  {
   "cell_type": "code",
   "execution_count": 2,
   "id": "c38e2282",
   "metadata": {
    "execution": {
     "iopub.execute_input": "2023-02-15T01:19:40.152558Z",
     "iopub.status.busy": "2023-02-15T01:19:40.152107Z",
     "iopub.status.idle": "2023-02-15T01:20:51.683962Z",
     "shell.execute_reply": "2023-02-15T01:20:51.682669Z"
    },
    "papermill": {
     "duration": 71.540585,
     "end_time": "2023-02-15T01:20:51.687925",
     "exception": false,
     "start_time": "2023-02-15T01:19:40.147340",
     "status": "completed"
    },
    "tags": []
   },
   "outputs": [],
   "source": [
    "X = pd.read_pickle('/kaggle/input/amex-imputed-aggregate-data/X_train_agg.pkl', compression='gzip')\n",
    "y = pd.read_pickle('/kaggle/input/amex-imputed-aggregate-data/y_train_agg.pkl', compression='gzip')\n",
    "test = pd.read_pickle('/kaggle/input/amex-imputed-aggregate-data/X_test_agg.pkl', compression='gzip')"
   ]
  },
  {
   "cell_type": "markdown",
   "id": "fed100eb",
   "metadata": {
    "papermill": {
     "duration": 0.004548,
     "end_time": "2023-02-15T01:20:51.697356",
     "exception": false,
     "start_time": "2023-02-15T01:20:51.692808",
     "status": "completed"
    },
    "tags": []
   },
   "source": [
    "Function to calculate competition's evaluation metric: https://www.kaggle.com/code/inversion/amex-competition-metric-python"
   ]
  },
  {
   "cell_type": "code",
   "execution_count": 3,
   "id": "b38ee4b5",
   "metadata": {
    "execution": {
     "iopub.execute_input": "2023-02-15T01:20:51.709094Z",
     "iopub.status.busy": "2023-02-15T01:20:51.708573Z",
     "iopub.status.idle": "2023-02-15T01:20:51.725170Z",
     "shell.execute_reply": "2023-02-15T01:20:51.724162Z"
    },
    "jupyter": {
     "source_hidden": true
    },
    "papermill": {
     "duration": 0.02423,
     "end_time": "2023-02-15T01:20:51.727532",
     "exception": false,
     "start_time": "2023-02-15T01:20:51.703302",
     "status": "completed"
    },
    "tags": []
   },
   "outputs": [],
   "source": [
    "def amex_metric(y_true: pd.DataFrame, y_pred: pd.DataFrame) -> float:\n",
    "\n",
    "    def top_four_percent_captured(y_true: pd.DataFrame, y_pred: pd.DataFrame) -> float:\n",
    "        df = (pd.concat([y_true, y_pred], axis='columns')\n",
    "              .sort_values('prediction', ascending=False))\n",
    "        df['weight'] = df['target'].apply(lambda x: 20 if x==0 else 1)\n",
    "        four_pct_cutoff = int(0.04 * df['weight'].sum())\n",
    "        df['weight_cumsum'] = df['weight'].cumsum()\n",
    "        df_cutoff = df.loc[df['weight_cumsum'] <= four_pct_cutoff]\n",
    "        return (df_cutoff['target'] == 1).sum() / (df['target'] == 1).sum()\n",
    "        \n",
    "    def weighted_gini(y_true: pd.DataFrame, y_pred: pd.DataFrame) -> float:\n",
    "        df = (pd.concat([y_true, y_pred], axis='columns')\n",
    "              .sort_values('prediction', ascending=False))\n",
    "        df['weight'] = df['target'].apply(lambda x: 20 if x==0 else 1)\n",
    "        df['random'] = (df['weight'] / df['weight'].sum()).cumsum()\n",
    "        total_pos = (df['target'] * df['weight']).sum()\n",
    "        df['cum_pos_found'] = (df['target'] * df['weight']).cumsum()\n",
    "        df['lorentz'] = df['cum_pos_found'] / total_pos\n",
    "        df['gini'] = (df['lorentz'] - df['random']) * df['weight']\n",
    "        return df['gini'].sum()\n",
    "\n",
    "    def normalized_weighted_gini(y_true: pd.DataFrame, y_pred: pd.DataFrame) -> float:\n",
    "        y_true_pred = y_true.rename(columns={'target': 'prediction'})\n",
    "        return weighted_gini(y_true, y_pred) / weighted_gini(y_true, y_true_pred)\n",
    "\n",
    "    g = normalized_weighted_gini(y_true, y_pred)\n",
    "    d = top_four_percent_captured(y_true, y_pred)\n",
    "\n",
    "    return 0.5 * (g + d)"
   ]
  },
  {
   "cell_type": "markdown",
   "id": "e639803e",
   "metadata": {
    "papermill": {
     "duration": 0.002763,
     "end_time": "2023-02-15T01:20:51.733851",
     "exception": false,
     "start_time": "2023-02-15T01:20:51.731088",
     "status": "completed"
    },
    "tags": []
   },
   "source": [
    "## Generating the model"
   ]
  },
  {
   "cell_type": "code",
   "execution_count": 4,
   "id": "5f6459e0",
   "metadata": {
    "execution": {
     "iopub.execute_input": "2023-02-15T01:20:51.741823Z",
     "iopub.status.busy": "2023-02-15T01:20:51.741290Z",
     "iopub.status.idle": "2023-02-15T01:32:50.911482Z",
     "shell.execute_reply": "2023-02-15T01:32:50.909771Z"
    },
    "papermill": {
     "duration": 719.178238,
     "end_time": "2023-02-15T01:32:50.915031",
     "exception": false,
     "start_time": "2023-02-15T01:20:51.736793",
     "status": "completed"
    },
    "tags": []
   },
   "outputs": [
    {
     "name": "stdout",
     "output_type": "stream",
     "text": [
      "\n",
      "Fold 1\n",
      "\n",
      "Fold 2\n",
      "\n",
      "Fold 3\n",
      "\n",
      "Fold 4\n",
      "\n",
      "Fold 5\n"
     ]
    }
   ],
   "source": [
    "num_folds = 5\n",
    "skf = StratifiedKFold(n_splits=num_folds, shuffle=True, random_state=25)\n",
    "\n",
    "val_preds = np.zeros(X.shape[0])\n",
    "val_class = np.zeros(X.shape[0])\n",
    "test_preds = np.zeros(test.shape[0])\n",
    "\n",
    "for fold, (train_index, val_index) in enumerate(skf.split(X, y)):\n",
    "    print(f'\\nFold {fold + 1}')\n",
    "    \n",
    "    # allocate train and val sets using fold split indices \n",
    "    X_train, X_val = (X.iloc[train_index].reset_index(drop=True), X.iloc[val_index].reset_index(drop=True))\n",
    "    y_train, y_val = (y.iloc[train_index].reset_index(drop=True), y.iloc[val_index].reset_index(drop=True))\n",
    "    \n",
    "    # define and train model\n",
    "    model = LogisticRegression(max_iter=290, C=100)\n",
    "    model = model.fit(X_train, y_train)\n",
    "    \n",
    "    # predict on val set\n",
    "    val_preds[val_index] = val_preds[val_index] + model.predict_proba(X_val)[:,1]\n",
    "    val_class[val_index] = val_class[val_index] + model.predict(X_val)\n",
    "    \n",
    "    # predict on this fold's section of test set \n",
    "    test_proba = model.predict_proba(test)[:, 1]\n",
    "    test_preds = test_preds + test_proba / num_folds"
   ]
  },
  {
   "cell_type": "code",
   "execution_count": 5,
   "id": "26106e5a",
   "metadata": {
    "execution": {
     "iopub.execute_input": "2023-02-15T01:32:50.924698Z",
     "iopub.status.busy": "2023-02-15T01:32:50.924199Z",
     "iopub.status.idle": "2023-02-15T01:32:53.363954Z",
     "shell.execute_reply": "2023-02-15T01:32:53.362642Z"
    },
    "papermill": {
     "duration": 2.447494,
     "end_time": "2023-02-15T01:32:53.366418",
     "exception": false,
     "start_time": "2023-02-15T01:32:50.918924",
     "status": "completed"
    },
    "tags": []
   },
   "outputs": [
    {
     "name": "stdout",
     "output_type": "stream",
     "text": [
      "\n",
      "M score: 0.7791441609985774\n",
      "\n",
      "              precision    recall  f1-score   support\n",
      "\n",
      "           0       0.93      0.94      0.93    340085\n",
      "           1       0.82      0.79      0.80    118828\n",
      "\n",
      "    accuracy                           0.90    458913\n",
      "   macro avg       0.87      0.86      0.87    458913\n",
      "weighted avg       0.90      0.90      0.90    458913\n",
      "\n"
     ]
    }
   ],
   "source": [
    "# use validation preds to get val M score\n",
    "y_preds = pd.DataFrame(y).copy(deep=True)\n",
    "y_preds = y_preds.rename(columns={\"target\": \"prediction\"})\n",
    "y_preds['prediction'] = val_preds\n",
    "\n",
    "# print M score and class report \n",
    "print(f'\\nM score: {amex_metric(pd.DataFrame(y), y_preds)}')\n",
    "print(f'\\n{classification_report(y, val_class)}')"
   ]
  },
  {
   "cell_type": "markdown",
   "id": "42ff974c",
   "metadata": {
    "papermill": {
     "duration": 0.003092,
     "end_time": "2023-02-15T01:32:53.373020",
     "exception": false,
     "start_time": "2023-02-15T01:32:53.369928",
     "status": "completed"
    },
    "tags": []
   },
   "source": [
    "## Generate submission\n",
    "\n",
    "Note: since there are multiple models (one per fold), one model can't be exported like our other models"
   ]
  },
  {
   "cell_type": "code",
   "execution_count": 6,
   "id": "8816f6c7",
   "metadata": {
    "execution": {
     "iopub.execute_input": "2023-02-15T01:32:53.381714Z",
     "iopub.status.busy": "2023-02-15T01:32:53.381304Z",
     "iopub.status.idle": "2023-02-15T01:32:58.361018Z",
     "shell.execute_reply": "2023-02-15T01:32:58.360163Z"
    },
    "papermill": {
     "duration": 4.987784,
     "end_time": "2023-02-15T01:32:58.364068",
     "exception": false,
     "start_time": "2023-02-15T01:32:53.376284",
     "status": "completed"
    },
    "tags": []
   },
   "outputs": [],
   "source": [
    "test['prediction'] = test_preds\n",
    "test = test[['prediction']]\n",
    "\n",
    "# submission can't have index \n",
    "test = test.reset_index()\n",
    "test.to_csv('logistic_regression_submission.csv', index=False)"
   ]
  }
 ],
 "metadata": {
  "kernelspec": {
   "display_name": "Python 3",
   "language": "python",
   "name": "python3"
  },
  "language_info": {
   "codemirror_mode": {
    "name": "ipython",
    "version": 3
   },
   "file_extension": ".py",
   "mimetype": "text/x-python",
   "name": "python",
   "nbconvert_exporter": "python",
   "pygments_lexer": "ipython3",
   "version": "3.7.12"
  },
  "papermill": {
   "default_parameters": {},
   "duration": 810.58915,
   "end_time": "2023-02-15T01:32:59.896695",
   "environment_variables": {},
   "exception": null,
   "input_path": "__notebook__.ipynb",
   "output_path": "__notebook__.ipynb",
   "parameters": {},
   "start_time": "2023-02-15T01:19:29.307545",
   "version": "2.3.4"
  }
 },
 "nbformat": 4,
 "nbformat_minor": 5
}
