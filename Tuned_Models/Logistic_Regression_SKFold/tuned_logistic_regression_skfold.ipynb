{
 "cells": [
  {
   "cell_type": "code",
   "execution_count": 1,
   "id": "fb156f78",
   "metadata": {
    "_cell_guid": "b1076dfc-b9ad-4769-8c92-a6c4dae69d19",
    "_uuid": "8f2839f25d086af736a60e9eeb907d3b93b6e0e5",
    "execution": {
     "iopub.execute_input": "2023-02-15T01:51:06.287787Z",
     "iopub.status.busy": "2023-02-15T01:51:06.287089Z",
     "iopub.status.idle": "2023-02-15T01:51:07.708256Z",
     "shell.execute_reply": "2023-02-15T01:51:07.706963Z"
    },
    "papermill": {
     "duration": 1.430576,
     "end_time": "2023-02-15T01:51:07.711212",
     "exception": false,
     "start_time": "2023-02-15T01:51:06.280636",
     "status": "completed"
    },
    "tags": []
   },
   "outputs": [],
   "source": [
    "import pickle\n",
    "import gc\n",
    "import pandas as pd\n",
    "import numpy as np\n",
    "import matplotlib.pyplot as plt\n",
    "\n",
    "from sklearn.linear_model import LogisticRegression\n",
    "from sklearn.metrics import classification_report\n",
    "from sklearn.model_selection import StratifiedKFold\n",
    "\n",
    "from warnings import simplefilter\n",
    "from sklearn.exceptions import ConvergenceWarning\n",
    "simplefilter(\"ignore\", category=ConvergenceWarning)"
   ]
  },
  {
   "cell_type": "code",
   "execution_count": 2,
   "id": "ce3c67ef",
   "metadata": {
    "execution": {
     "iopub.execute_input": "2023-02-15T01:51:07.722330Z",
     "iopub.status.busy": "2023-02-15T01:51:07.720853Z",
     "iopub.status.idle": "2023-02-15T01:52:16.269712Z",
     "shell.execute_reply": "2023-02-15T01:52:16.268422Z"
    },
    "papermill": {
     "duration": 68.557381,
     "end_time": "2023-02-15T01:52:16.273046",
     "exception": false,
     "start_time": "2023-02-15T01:51:07.715665",
     "status": "completed"
    },
    "tags": []
   },
   "outputs": [],
   "source": [
    "X = pd.read_pickle('/kaggle/input/amex-imputed-aggregate-data/X_train_agg.pkl', compression='gzip')\n",
    "y = pd.read_pickle('/kaggle/input/amex-imputed-aggregate-data/y_train_agg.pkl', compression='gzip')\n",
    "test = pd.read_pickle('/kaggle/input/amex-imputed-aggregate-data/X_test_agg.pkl', compression='gzip')"
   ]
  },
  {
   "cell_type": "markdown",
   "id": "4c695b30",
   "metadata": {
    "papermill": {
     "duration": 0.002837,
     "end_time": "2023-02-15T01:52:16.279148",
     "exception": false,
     "start_time": "2023-02-15T01:52:16.276311",
     "status": "completed"
    },
    "tags": []
   },
   "source": [
    "Function to calculate competition's evaluation metric: https://www.kaggle.com/code/inversion/amex-competition-metric-python"
   ]
  },
  {
   "cell_type": "code",
   "execution_count": 3,
   "id": "c52ef6fe",
   "metadata": {
    "execution": {
     "iopub.execute_input": "2023-02-15T01:52:16.286665Z",
     "iopub.status.busy": "2023-02-15T01:52:16.286235Z",
     "iopub.status.idle": "2023-02-15T01:52:16.302744Z",
     "shell.execute_reply": "2023-02-15T01:52:16.301483Z"
    },
    "papermill": {
     "duration": 0.023678,
     "end_time": "2023-02-15T01:52:16.305700",
     "exception": false,
     "start_time": "2023-02-15T01:52:16.282022",
     "status": "completed"
    },
    "tags": []
   },
   "outputs": [],
   "source": [
    "def amex_metric(y_true: pd.DataFrame, y_pred: pd.DataFrame) -> float:\n",
    "\n",
    "    def top_four_percent_captured(y_true: pd.DataFrame, y_pred: pd.DataFrame) -> float:\n",
    "        df = (pd.concat([y_true, y_pred], axis='columns')\n",
    "              .sort_values('prediction', ascending=False))\n",
    "        df['weight'] = df['target'].apply(lambda x: 20 if x==0 else 1)\n",
    "        four_pct_cutoff = int(0.04 * df['weight'].sum())\n",
    "        df['weight_cumsum'] = df['weight'].cumsum()\n",
    "        df_cutoff = df.loc[df['weight_cumsum'] <= four_pct_cutoff]\n",
    "        return (df_cutoff['target'] == 1).sum() / (df['target'] == 1).sum()\n",
    "        \n",
    "    def weighted_gini(y_true: pd.DataFrame, y_pred: pd.DataFrame) -> float:\n",
    "        df = (pd.concat([y_true, y_pred], axis='columns')\n",
    "              .sort_values('prediction', ascending=False))\n",
    "        df['weight'] = df['target'].apply(lambda x: 20 if x==0 else 1)\n",
    "        df['random'] = (df['weight'] / df['weight'].sum()).cumsum()\n",
    "        total_pos = (df['target'] * df['weight']).sum()\n",
    "        df['cum_pos_found'] = (df['target'] * df['weight']).cumsum()\n",
    "        df['lorentz'] = df['cum_pos_found'] / total_pos\n",
    "        df['gini'] = (df['lorentz'] - df['random']) * df['weight']\n",
    "        return df['gini'].sum()\n",
    "\n",
    "    def normalized_weighted_gini(y_true: pd.DataFrame, y_pred: pd.DataFrame) -> float:\n",
    "        y_true_pred = y_true.rename(columns={'target': 'prediction'})\n",
    "        return weighted_gini(y_true, y_pred) / weighted_gini(y_true, y_true_pred)\n",
    "\n",
    "    g = normalized_weighted_gini(y_true, y_pred)\n",
    "    d = top_four_percent_captured(y_true, y_pred)\n",
    "\n",
    "    return 0.5 * (g + d)"
   ]
  },
  {
   "cell_type": "markdown",
   "id": "fa68ca97",
   "metadata": {
    "papermill": {
     "duration": 0.002752,
     "end_time": "2023-02-15T01:52:16.311603",
     "exception": false,
     "start_time": "2023-02-15T01:52:16.308851",
     "status": "completed"
    },
    "tags": []
   },
   "source": [
    "## Use StratifiedKFold() to train and predict on val and test sets\n",
    "\n",
    "We will use the same hyperparameters from our tuned LogisticRegression() without KFolding: \n",
    "\n",
    "* max_iter=290\n",
    "* C=100"
   ]
  },
  {
   "cell_type": "code",
   "execution_count": 4,
   "id": "370f4c4b",
   "metadata": {
    "execution": {
     "iopub.execute_input": "2023-02-15T01:52:16.319436Z",
     "iopub.status.busy": "2023-02-15T01:52:16.318995Z",
     "iopub.status.idle": "2023-02-15T02:01:13.071438Z",
     "shell.execute_reply": "2023-02-15T02:01:13.067683Z"
    },
    "papermill": {
     "duration": 536.763177,
     "end_time": "2023-02-15T02:01:13.077849",
     "exception": false,
     "start_time": "2023-02-15T01:52:16.314672",
     "status": "completed"
    },
    "tags": []
   },
   "outputs": [
    {
     "name": "stdout",
     "output_type": "stream",
     "text": [
      "\n",
      "Fold 1\n",
      "\n",
      "Fold 2\n",
      "\n",
      "Fold 3\n",
      "\n",
      "Fold 4\n",
      "\n",
      "Fold 5\n"
     ]
    }
   ],
   "source": [
    "num_folds = 5\n",
    "skf = StratifiedKFold(n_splits=num_folds, shuffle=True, random_state=20)\n",
    "\n",
    "val_preds = np.zeros(X.shape[0])\n",
    "val_class = np.zeros(X.shape[0])\n",
    "test_preds = np.zeros(test.shape[0])\n",
    "\n",
    "for fold, (train_index, val_index) in enumerate(skf.split(X, y)):\n",
    "    print(f'\\nFold {fold + 1}')\n",
    "    \n",
    "    # allocate train and val sets using fold split indices \n",
    "    X_train, X_val = (X.iloc[train_index].reset_index(drop=True), X.iloc[val_index].reset_index(drop=True))\n",
    "    y_train, y_val = (y.iloc[train_index].reset_index(drop=True), y.iloc[val_index].reset_index(drop=True))\n",
    "    \n",
    "    # define and train model\n",
    "    model = LogisticRegression(max_iter=290, C=100)\n",
    "    model = model.fit(X_train, y_train)\n",
    "    \n",
    "    # predict on val set\n",
    "    val_preds[val_index] = val_preds[val_index] + model.predict_proba(X_val)[:,1]\n",
    "    val_class[val_index] = val_class[val_index] + model.predict(X_val)\n",
    "    \n",
    "    # predict on this fold's section of test set \n",
    "    test_proba = model.predict_proba(test)[:, 1]\n",
    "    test_preds = test_preds + test_proba / num_folds"
   ]
  },
  {
   "cell_type": "code",
   "execution_count": 5,
   "id": "2e58de22",
   "metadata": {
    "execution": {
     "iopub.execute_input": "2023-02-15T02:01:13.102672Z",
     "iopub.status.busy": "2023-02-15T02:01:13.099919Z",
     "iopub.status.idle": "2023-02-15T02:01:15.537385Z",
     "shell.execute_reply": "2023-02-15T02:01:15.536076Z"
    },
    "papermill": {
     "duration": 2.453136,
     "end_time": "2023-02-15T02:01:15.540252",
     "exception": false,
     "start_time": "2023-02-15T02:01:13.087116",
     "status": "completed"
    },
    "tags": []
   },
   "outputs": [
    {
     "name": "stdout",
     "output_type": "stream",
     "text": [
      "\n",
      "M score: 0.7789007070595015\n",
      "\n",
      "              precision    recall  f1-score   support\n",
      "\n",
      "           0       0.93      0.94      0.93    340085\n",
      "           1       0.82      0.78      0.80    118828\n",
      "\n",
      "    accuracy                           0.90    458913\n",
      "   macro avg       0.87      0.86      0.87    458913\n",
      "weighted avg       0.90      0.90      0.90    458913\n",
      "\n"
     ]
    }
   ],
   "source": [
    "# use validation preds to get val M score\n",
    "y_preds = pd.DataFrame(y).copy(deep=True)\n",
    "y_preds = y_preds.rename(columns={\"target\": \"prediction\"})\n",
    "y_preds['prediction'] = val_preds\n",
    "\n",
    "# print M score and class report \n",
    "print(f'\\nM score: {amex_metric(pd.DataFrame(y), y_preds)}')\n",
    "print(f'\\n{classification_report(y, val_class)}')"
   ]
  },
  {
   "cell_type": "markdown",
   "id": "d472ab6e",
   "metadata": {
    "papermill": {
     "duration": 0.003263,
     "end_time": "2023-02-15T02:01:15.547604",
     "exception": false,
     "start_time": "2023-02-15T02:01:15.544341",
     "status": "completed"
    },
    "tags": []
   },
   "source": [
    "## Generate submission\n",
    "\n",
    "Note: since there are multiple models (one per fold), one model can't be exported like our other models"
   ]
  },
  {
   "cell_type": "code",
   "execution_count": 6,
   "id": "7c8bb523",
   "metadata": {
    "execution": {
     "iopub.execute_input": "2023-02-15T02:01:15.561196Z",
     "iopub.status.busy": "2023-02-15T02:01:15.560747Z",
     "iopub.status.idle": "2023-02-15T02:01:20.810408Z",
     "shell.execute_reply": "2023-02-15T02:01:20.809014Z"
    },
    "papermill": {
     "duration": 5.262135,
     "end_time": "2023-02-15T02:01:20.813348",
     "exception": false,
     "start_time": "2023-02-15T02:01:15.551213",
     "status": "completed"
    },
    "tags": []
   },
   "outputs": [],
   "source": [
    "test['prediction'] = test_preds\n",
    "test = test[['prediction']]\n",
    "\n",
    "# submission can't have index \n",
    "test = test.reset_index()\n",
    "test.to_csv('logistic_regression_submission.csv', index=False)"
   ]
  }
 ],
 "metadata": {
  "kernelspec": {
   "display_name": "Python 3",
   "language": "python",
   "name": "python3"
  },
  "language_info": {
   "codemirror_mode": {
    "name": "ipython",
    "version": 3
   },
   "file_extension": ".py",
   "mimetype": "text/x-python",
   "name": "python",
   "nbconvert_exporter": "python",
   "pygments_lexer": "ipython3",
   "version": "3.7.12"
  },
  "papermill": {
   "default_parameters": {},
   "duration": 626.652579,
   "end_time": "2023-02-15T02:01:22.348915",
   "environment_variables": {},
   "exception": null,
   "input_path": "__notebook__.ipynb",
   "output_path": "__notebook__.ipynb",
   "parameters": {},
   "start_time": "2023-02-15T01:50:55.696336",
   "version": "2.3.4"
  }
 },
 "nbformat": 4,
 "nbformat_minor": 5
}
