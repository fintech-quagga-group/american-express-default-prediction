{
 "cells": [
  {
   "cell_type": "code",
   "execution_count": 1,
   "id": "8283f645",
   "metadata": {
    "_cell_guid": "b1076dfc-b9ad-4769-8c92-a6c4dae69d19",
    "_uuid": "8f2839f25d086af736a60e9eeb907d3b93b6e0e5",
    "execution": {
     "iopub.execute_input": "2023-02-13T05:54:59.587756Z",
     "iopub.status.busy": "2023-02-13T05:54:59.587280Z",
     "iopub.status.idle": "2023-02-13T05:55:01.050355Z",
     "shell.execute_reply": "2023-02-13T05:55:01.049426Z"
    },
    "papermill": {
     "duration": 1.472016,
     "end_time": "2023-02-13T05:55:01.053167",
     "exception": false,
     "start_time": "2023-02-13T05:54:59.581151",
     "status": "completed"
    },
    "tags": []
   },
   "outputs": [],
   "source": [
    "import pickle\n",
    "import gc\n",
    "import pandas as pd\n",
    "from sklearn.ensemble import RandomForestClassifier\n",
    "from sklearn.metrics import classification_report\n",
    "from sklearn.model_selection import train_test_split"
   ]
  },
  {
   "cell_type": "code",
   "execution_count": 2,
   "id": "a04b2642",
   "metadata": {
    "execution": {
     "iopub.execute_input": "2023-02-13T05:55:01.062176Z",
     "iopub.status.busy": "2023-02-13T05:55:01.061161Z",
     "iopub.status.idle": "2023-02-13T05:55:23.451656Z",
     "shell.execute_reply": "2023-02-13T05:55:23.450607Z"
    },
    "papermill": {
     "duration": 22.397753,
     "end_time": "2023-02-13T05:55:23.454423",
     "exception": false,
     "start_time": "2023-02-13T05:55:01.056670",
     "status": "completed"
    },
    "tags": []
   },
   "outputs": [],
   "source": [
    "X = pd.read_pickle('/kaggle/input/amex-imputed-aggregate-data/X_train_agg.pkl', compression='gzip')\n",
    "y = pd.read_pickle('/kaggle/input/amex-imputed-aggregate-data/y_train_agg.pkl', compression='gzip')"
   ]
  },
  {
   "cell_type": "markdown",
   "id": "8a10e721",
   "metadata": {
    "papermill": {
     "duration": 0.002635,
     "end_time": "2023-02-13T05:55:23.460238",
     "exception": false,
     "start_time": "2023-02-13T05:55:23.457603",
     "status": "completed"
    },
    "tags": []
   },
   "source": [
    "Function to calculate competition's evaluation metric: https://www.kaggle.com/code/inversion/amex-competition-metric-python"
   ]
  },
  {
   "cell_type": "code",
   "execution_count": 3,
   "id": "9613eaef",
   "metadata": {
    "execution": {
     "iopub.execute_input": "2023-02-13T05:55:23.468553Z",
     "iopub.status.busy": "2023-02-13T05:55:23.467349Z",
     "iopub.status.idle": "2023-02-13T05:55:23.482387Z",
     "shell.execute_reply": "2023-02-13T05:55:23.481119Z"
    },
    "jupyter": {
     "source_hidden": true
    },
    "papermill": {
     "duration": 0.022163,
     "end_time": "2023-02-13T05:55:23.485281",
     "exception": false,
     "start_time": "2023-02-13T05:55:23.463118",
     "status": "completed"
    },
    "tags": []
   },
   "outputs": [],
   "source": [
    "def amex_metric(y_true: pd.DataFrame, y_pred: pd.DataFrame) -> float:\n",
    "\n",
    "    def top_four_percent_captured(y_true: pd.DataFrame, y_pred: pd.DataFrame) -> float:\n",
    "        df = (pd.concat([y_true, y_pred], axis='columns')\n",
    "              .sort_values('prediction', ascending=False))\n",
    "        df['weight'] = df['target'].apply(lambda x: 20 if x==0 else 1)\n",
    "        four_pct_cutoff = int(0.04 * df['weight'].sum())\n",
    "        df['weight_cumsum'] = df['weight'].cumsum()\n",
    "        df_cutoff = df.loc[df['weight_cumsum'] <= four_pct_cutoff]\n",
    "        return (df_cutoff['target'] == 1).sum() / (df['target'] == 1).sum()\n",
    "        \n",
    "    def weighted_gini(y_true: pd.DataFrame, y_pred: pd.DataFrame) -> float:\n",
    "        df = (pd.concat([y_true, y_pred], axis='columns')\n",
    "              .sort_values('prediction', ascending=False))\n",
    "        df['weight'] = df['target'].apply(lambda x: 20 if x==0 else 1)\n",
    "        df['random'] = (df['weight'] / df['weight'].sum()).cumsum()\n",
    "        total_pos = (df['target'] * df['weight']).sum()\n",
    "        df['cum_pos_found'] = (df['target'] * df['weight']).cumsum()\n",
    "        df['lorentz'] = df['cum_pos_found'] / total_pos\n",
    "        df['gini'] = (df['lorentz'] - df['random']) * df['weight']\n",
    "        return df['gini'].sum()\n",
    "\n",
    "    def normalized_weighted_gini(y_true: pd.DataFrame, y_pred: pd.DataFrame) -> float:\n",
    "        y_true_pred = y_true.rename(columns={'target': 'prediction'})\n",
    "        return weighted_gini(y_true, y_pred) / weighted_gini(y_true, y_true_pred)\n",
    "\n",
    "    g = normalized_weighted_gini(y_true, y_pred)\n",
    "    d = top_four_percent_captured(y_true, y_pred)\n",
    "\n",
    "    return 0.5 * (g + d)"
   ]
  },
  {
   "cell_type": "markdown",
   "id": "f7c1ea6d",
   "metadata": {
    "papermill": {
     "duration": 0.003249,
     "end_time": "2023-02-13T05:55:23.491769",
     "exception": false,
     "start_time": "2023-02-13T05:55:23.488520",
     "status": "completed"
    },
    "tags": []
   },
   "source": [
    "## Generating the model\n"
   ]
  },
  {
   "cell_type": "code",
   "execution_count": 4,
   "id": "bed7040f",
   "metadata": {
    "execution": {
     "iopub.execute_input": "2023-02-13T05:55:23.499580Z",
     "iopub.status.busy": "2023-02-13T05:55:23.499174Z",
     "iopub.status.idle": "2023-02-13T06:51:00.502807Z",
     "shell.execute_reply": "2023-02-13T06:51:00.501266Z"
    },
    "papermill": {
     "duration": 3337.0136,
     "end_time": "2023-02-13T06:51:00.508405",
     "exception": false,
     "start_time": "2023-02-13T05:55:23.494805",
     "status": "completed"
    },
    "tags": []
   },
   "outputs": [
    {
     "name": "stdout",
     "output_type": "stream",
     "text": [
      "M = 0.7596917967271029\n",
      "M = 0.7652776121882127\n",
      "\n",
      "               precision    recall  f1-score   support\n",
      "\n",
      "           0       0.93      0.93      0.93     68154\n",
      "           1       0.80      0.79      0.80     23629\n",
      "\n",
      "    accuracy                           0.90     91783\n",
      "   macro avg       0.86      0.86      0.86     91783\n",
      "weighted avg       0.89      0.90      0.90     91783\n",
      "\n"
     ]
    }
   ],
   "source": [
    "m_score = 0\n",
    "target_m_score = 0.76\n",
    "final_model = None\n",
    "\n",
    "# loop through different iterations of LogisticRegression() model until a model with expected M score is produced\n",
    "while m_score < target_m_score:\n",
    "    # add validation with train_test_split since aggregate data is not time series based\n",
    "    X_train, X_val, y_train, y_val = train_test_split(X, y, test_size=.2)\n",
    "    \n",
    "    model = RandomForestClassifier(max_depth=20)\n",
    "    model = model.fit(X_train, y_train)\n",
    "    \n",
    "    # use predict_proba() for M score and predict() for classification_report()\n",
    "    proba_preds = model.predict_proba(X_val)[:, 1]\n",
    "    preds = model.predict(X_val)\n",
    "    \n",
    "    # calculate M score on validation set \n",
    "    m_score = amex_metric(pd.DataFrame(y_val), pd.DataFrame(proba_preds, index=y_val.index, columns=[\"prediction\"]))\n",
    "    final_model = model\n",
    "    \n",
    "    print(f'M = {m_score}')\n",
    "    \n",
    "    # show classification report for final model \n",
    "    if m_score >= target_m_score:\n",
    "        print('\\n', classification_report(y_val, preds))"
   ]
  },
  {
   "cell_type": "markdown",
   "id": "1acd4b3c",
   "metadata": {
    "papermill": {
     "duration": 0.002854,
     "end_time": "2023-02-13T06:51:00.514386",
     "exception": false,
     "start_time": "2023-02-13T06:51:00.511532",
     "status": "completed"
    },
    "tags": []
   },
   "source": [
    "## Saving and using the model to predict on test set "
   ]
  },
  {
   "cell_type": "code",
   "execution_count": 5,
   "id": "a0769e29",
   "metadata": {
    "execution": {
     "iopub.execute_input": "2023-02-13T06:51:00.522814Z",
     "iopub.status.busy": "2023-02-13T06:51:00.522426Z",
     "iopub.status.idle": "2023-02-13T06:51:00.705253Z",
     "shell.execute_reply": "2023-02-13T06:51:00.703989Z"
    },
    "papermill": {
     "duration": 0.190549,
     "end_time": "2023-02-13T06:51:00.708016",
     "exception": false,
     "start_time": "2023-02-13T06:51:00.517467",
     "status": "completed"
    },
    "tags": []
   },
   "outputs": [],
   "source": [
    "pickle.dump(final_model, open('random_forest_classifier_model.sav', 'wb'))"
   ]
  },
  {
   "cell_type": "code",
   "execution_count": 6,
   "id": "0edb8a0c",
   "metadata": {
    "execution": {
     "iopub.execute_input": "2023-02-13T06:51:00.716720Z",
     "iopub.status.busy": "2023-02-13T06:51:00.716276Z",
     "iopub.status.idle": "2023-02-13T06:52:39.329934Z",
     "shell.execute_reply": "2023-02-13T06:52:39.328530Z"
    },
    "papermill": {
     "duration": 98.621634,
     "end_time": "2023-02-13T06:52:39.333118",
     "exception": false,
     "start_time": "2023-02-13T06:51:00.711484",
     "status": "completed"
    },
    "tags": []
   },
   "outputs": [],
   "source": [
    "X_test = pd.read_pickle('/kaggle/input/amex-imputed-aggregate-data/X_test_agg.pkl', compression='gzip')\n",
    "\n",
    "submission = pd.DataFrame(final_model.predict_proba(X_test)[:, 1], index=X_test.index, columns=['prediction'])\n",
    "\n",
    "# index needs to be removed from submission csv\n",
    "submission = submission.reset_index()\n",
    "submission.to_csv('random_forest_classifier_submission.csv', index=False)"
   ]
  }
 ],
 "metadata": {
  "kernelspec": {
   "display_name": "Python 3",
   "language": "python",
   "name": "python3"
  },
  "language_info": {
   "codemirror_mode": {
    "name": "ipython",
    "version": 3
   },
   "file_extension": ".py",
   "mimetype": "text/x-python",
   "name": "python",
   "nbconvert_exporter": "python",
   "pygments_lexer": "ipython3",
   "version": "3.7.12"
  },
  "papermill": {
   "default_parameters": {},
   "duration": 3470.007041,
   "end_time": "2023-02-13T06:52:40.869625",
   "environment_variables": {},
   "exception": null,
   "input_path": "__notebook__.ipynb",
   "output_path": "__notebook__.ipynb",
   "parameters": {},
   "start_time": "2023-02-13T05:54:50.862584",
   "version": "2.3.4"
  }
 },
 "nbformat": 4,
 "nbformat_minor": 5
}
