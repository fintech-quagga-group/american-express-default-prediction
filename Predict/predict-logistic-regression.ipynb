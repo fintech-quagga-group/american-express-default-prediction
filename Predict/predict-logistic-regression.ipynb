{
 "cells": [
  {
   "cell_type": "code",
   "execution_count": 1,
   "id": "5546f73c",
   "metadata": {
    "_cell_guid": "b1076dfc-b9ad-4769-8c92-a6c4dae69d19",
    "_uuid": "8f2839f25d086af736a60e9eeb907d3b93b6e0e5",
    "execution": {
     "iopub.execute_input": "2023-02-08T06:08:31.861643Z",
     "iopub.status.busy": "2023-02-08T06:08:31.860598Z",
     "iopub.status.idle": "2023-02-08T06:08:32.882929Z",
     "shell.execute_reply": "2023-02-08T06:08:32.881768Z"
    },
    "papermill": {
     "duration": 1.031103,
     "end_time": "2023-02-08T06:08:32.885859",
     "exception": false,
     "start_time": "2023-02-08T06:08:31.854756",
     "status": "completed"
    },
    "tags": []
   },
   "outputs": [],
   "source": [
    "import pickle\n",
    "import pandas as pd\n",
    "from sklearn.linear_model import LogisticRegression"
   ]
  },
  {
   "cell_type": "code",
   "execution_count": 2,
   "id": "1100fc7d",
   "metadata": {
    "execution": {
     "iopub.execute_input": "2023-02-08T06:08:32.894854Z",
     "iopub.status.busy": "2023-02-08T06:08:32.894417Z",
     "iopub.status.idle": "2023-02-08T06:08:55.737666Z",
     "shell.execute_reply": "2023-02-08T06:08:55.736608Z"
    },
    "papermill": {
     "duration": 22.849699,
     "end_time": "2023-02-08T06:08:55.740422",
     "exception": false,
     "start_time": "2023-02-08T06:08:32.890723",
     "status": "completed"
    },
    "tags": []
   },
   "outputs": [],
   "source": [
    "X_test_1 = pd.read_feather('../input/amex-imputed-and-1hot-encoded/X_test_1.ftr')\n",
    "X_test_1 = X_test_1.set_index('customer_ID')"
   ]
  },
  {
   "cell_type": "code",
   "execution_count": 3,
   "id": "14a82871",
   "metadata": {
    "execution": {
     "iopub.execute_input": "2023-02-08T06:08:55.748090Z",
     "iopub.status.busy": "2023-02-08T06:08:55.746840Z",
     "iopub.status.idle": "2023-02-08T06:09:24.495506Z",
     "shell.execute_reply": "2023-02-08T06:09:24.493133Z"
    },
    "papermill": {
     "duration": 28.758278,
     "end_time": "2023-02-08T06:09:24.501498",
     "exception": false,
     "start_time": "2023-02-08T06:08:55.743220",
     "status": "completed"
    },
    "tags": []
   },
   "outputs": [],
   "source": [
    "X_test_2 = pd.read_feather('../input/amex-imputed-and-1hot-encoded/X_test_2.ftr')\n",
    "X_test_2 = X_test_2.set_index('customer_ID')"
   ]
  },
  {
   "cell_type": "code",
   "execution_count": 4,
   "id": "5e6fe01a",
   "metadata": {
    "execution": {
     "iopub.execute_input": "2023-02-08T06:09:24.512300Z",
     "iopub.status.busy": "2023-02-08T06:09:24.511790Z",
     "iopub.status.idle": "2023-02-08T06:09:48.247163Z",
     "shell.execute_reply": "2023-02-08T06:09:48.245883Z"
    },
    "papermill": {
     "duration": 23.743876,
     "end_time": "2023-02-08T06:09:48.250312",
     "exception": false,
     "start_time": "2023-02-08T06:09:24.506436",
     "status": "completed"
    },
    "tags": []
   },
   "outputs": [],
   "source": [
    "model = pickle.load(open('/kaggle/input/test-dtc-model/logistic_regression_model2.sav', 'rb'))\n",
    "preds_1 = pd.DataFrame(model.predict_proba(X_test_1)[:, 1], index=X_test_1.index, columns=['prediction'])\n",
    "preds_2 = pd.DataFrame(model.predict_proba(X_test_2)[:, 1], index=X_test_2.index, columns=['prediction'])"
   ]
  },
  {
   "cell_type": "code",
   "execution_count": 5,
   "id": "7d2f850f",
   "metadata": {
    "execution": {
     "iopub.execute_input": "2023-02-08T06:09:48.257387Z",
     "iopub.status.busy": "2023-02-08T06:09:48.257007Z",
     "iopub.status.idle": "2023-02-08T06:09:54.588364Z",
     "shell.execute_reply": "2023-02-08T06:09:54.587111Z"
    },
    "papermill": {
     "duration": 6.33785,
     "end_time": "2023-02-08T06:09:54.591048",
     "exception": false,
     "start_time": "2023-02-08T06:09:48.253198",
     "status": "completed"
    },
    "tags": []
   },
   "outputs": [],
   "source": [
    "submission = pd.concat([preds_1, preds_2])\n",
    "\n",
    "# predictions only need to be for each customer\n",
    "submission = submission.groupby('customer_ID').agg(['last'])\n",
    "submission.columns = submission.columns.droplevel(1)\n",
    "\n",
    "# predictions need to be doubles \n",
    "submission['prediction'] = submission['prediction'].astype('double')\n",
    "\n",
    "# index needs to be removed from submission csv\n",
    "submission = submission.reset_index()\n",
    "submission.to_csv('submission.csv', index=False)"
   ]
  },
  {
   "cell_type": "code",
   "execution_count": null,
   "id": "b4073d5e",
   "metadata": {
    "papermill": {
     "duration": 0.002207,
     "end_time": "2023-02-08T06:09:54.595862",
     "exception": false,
     "start_time": "2023-02-08T06:09:54.593655",
     "status": "completed"
    },
    "tags": []
   },
   "outputs": [],
   "source": []
  },
  {
   "cell_type": "code",
   "execution_count": null,
   "id": "4c6389b0",
   "metadata": {
    "papermill": {
     "duration": 0.0021,
     "end_time": "2023-02-08T06:09:54.600316",
     "exception": false,
     "start_time": "2023-02-08T06:09:54.598216",
     "status": "completed"
    },
    "tags": []
   },
   "outputs": [],
   "source": []
  }
 ],
 "metadata": {
  "kernelspec": {
   "display_name": "Python 3",
   "language": "python",
   "name": "python3"
  },
  "language_info": {
   "codemirror_mode": {
    "name": "ipython",
    "version": 3
   },
   "file_extension": ".py",
   "mimetype": "text/x-python",
   "name": "python",
   "nbconvert_exporter": "python",
   "pygments_lexer": "ipython3",
   "version": "3.7.12"
  },
  "papermill": {
   "default_parameters": {},
   "duration": 91.805234,
   "end_time": "2023-02-08T06:09:55.525511",
   "environment_variables": {},
   "exception": null,
   "input_path": "__notebook__.ipynb",
   "output_path": "__notebook__.ipynb",
   "parameters": {},
   "start_time": "2023-02-08T06:08:23.720277",
   "version": "2.3.4"
  }
 },
 "nbformat": 4,
 "nbformat_minor": 5
}
