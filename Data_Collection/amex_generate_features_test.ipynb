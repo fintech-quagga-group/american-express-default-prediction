{
 "cells": [
  {
   "cell_type": "code",
   "execution_count": 1,
   "id": "0b456226",
   "metadata": {
    "_cell_guid": "b1076dfc-b9ad-4769-8c92-a6c4dae69d19",
    "_uuid": "8f2839f25d086af736a60e9eeb907d3b93b6e0e5",
    "execution": {
     "iopub.execute_input": "2023-02-08T05:09:37.104373Z",
     "iopub.status.busy": "2023-02-08T05:09:37.103629Z",
     "iopub.status.idle": "2023-02-08T05:09:38.600924Z",
     "shell.execute_reply": "2023-02-08T05:09:38.599756Z"
    },
    "papermill": {
     "duration": 1.50939,
     "end_time": "2023-02-08T05:09:38.603851",
     "exception": false,
     "start_time": "2023-02-08T05:09:37.094461",
     "status": "completed"
    },
    "tags": []
   },
   "outputs": [],
   "source": [
    "import gc\n",
    "import pandas as pd \n",
    "import numpy as np\n",
    "from sklearn.preprocessing import OneHotEncoder\n",
    "from sklearn.impute import SimpleImputer"
   ]
  },
  {
   "cell_type": "markdown",
   "id": "bf628b06",
   "metadata": {
    "papermill": {
     "duration": 0.002898,
     "end_time": "2023-02-08T05:09:38.610240",
     "exception": false,
     "start_time": "2023-02-08T05:09:38.607342",
     "status": "completed"
    },
    "tags": []
   },
   "source": [
    "## Helper functions to impute, encode, and generate features/targets"
   ]
  },
  {
   "cell_type": "code",
   "execution_count": 2,
   "id": "8f031d0c",
   "metadata": {
    "execution": {
     "iopub.execute_input": "2023-02-08T05:09:38.618296Z",
     "iopub.status.busy": "2023-02-08T05:09:38.617870Z",
     "iopub.status.idle": "2023-02-08T05:09:38.625322Z",
     "shell.execute_reply": "2023-02-08T05:09:38.623884Z"
    },
    "papermill": {
     "duration": 0.014633,
     "end_time": "2023-02-08T05:09:38.627915",
     "exception": false,
     "start_time": "2023-02-08T05:09:38.613282",
     "status": "completed"
    },
    "tags": []
   },
   "outputs": [],
   "source": [
    "def one_hot_encode_categorical(cat_features, cat_names):\n",
    "    \"\"\"\n",
    "    One-hot encodes categorical features using scikit-learn OneHotEncoder\n",
    "\n",
    "    Parameters\n",
    "    ----------\n",
    "    cat_features : pd.DataFrame\n",
    "        DataFrame, with index, that has only the categorical columns to one-hot encode\n",
    "    cat_names : list\n",
    "        list of categorical column names \n",
    "\n",
    "    Returns\n",
    "    -------\n",
    "    pd.DataFrame\n",
    "        DataFrame that holds each of the one-hot encoded columns \n",
    "    \"\"\"\n",
    "    \n",
    "    enc = OneHotEncoder(sparse=False)\n",
    "    encoded_df = pd.DataFrame(enc.fit_transform(cat_features), columns=enc.get_feature_names(cat_names), index=cat_features.index)\n",
    "    return encoded_df"
   ]
  },
  {
   "cell_type": "code",
   "execution_count": 3,
   "id": "06e26bea",
   "metadata": {
    "execution": {
     "iopub.execute_input": "2023-02-08T05:09:38.636778Z",
     "iopub.status.busy": "2023-02-08T05:09:38.636350Z",
     "iopub.status.idle": "2023-02-08T05:09:38.645239Z",
     "shell.execute_reply": "2023-02-08T05:09:38.643655Z"
    },
    "papermill": {
     "duration": 0.016304,
     "end_time": "2023-02-08T05:09:38.647751",
     "exception": false,
     "start_time": "2023-02-08T05:09:38.631447",
     "status": "completed"
    },
    "tags": []
   },
   "outputs": [],
   "source": [
    "def simple_impute_numerical(numeric_features, numeric_names):\n",
    "    \"\"\"\n",
    "    Imputes numerical columns with scikit-learn SimpleImputer()\n",
    "\n",
    "    Parameters\n",
    "    ----------\n",
    "    numeric_features : pd.DataFrame\n",
    "        DataFrame, with index, that has only the numerical columns to impute\n",
    "    numeric_features : list\n",
    "        list of numerical column names \n",
    "\n",
    "    Returns\n",
    "    -------\n",
    "    pd.DataFrame\n",
    "        DataFrame that holds each of the imputed numerical columns\n",
    "    \"\"\"    \n",
    "    \n",
    "    # current numeric columns are float16, and they will not work when computing mean()\n",
    "    # need to convert to float32\n",
    "    for column in numeric_features.columns:\n",
    "        numeric_features[column] = numeric_features[column].astype(np.float32)\n",
    "\n",
    "    imp_mean = SimpleImputer(missing_values=np.nan, strategy='mean')\n",
    "    numeric_df = pd.DataFrame(imp_mean.fit_transform(numeric_features), columns=numeric_names, index=numeric_features.index)\n",
    "    \n",
    "    # convert back to float16 for lighter load\n",
    "    for column in numeric_df.columns:\n",
    "        numeric_df[column] = numeric_df[column].astype(np.float16)\n",
    "    \n",
    "    return numeric_df"
   ]
  },
  {
   "cell_type": "code",
   "execution_count": 4,
   "id": "2c4b3098",
   "metadata": {
    "execution": {
     "iopub.execute_input": "2023-02-08T05:09:38.655945Z",
     "iopub.status.busy": "2023-02-08T05:09:38.655500Z",
     "iopub.status.idle": "2023-02-08T05:09:38.665161Z",
     "shell.execute_reply": "2023-02-08T05:09:38.664056Z"
    },
    "papermill": {
     "duration": 0.01673,
     "end_time": "2023-02-08T05:09:38.667716",
     "exception": false,
     "start_time": "2023-02-08T05:09:38.650986",
     "status": "completed"
    },
    "tags": []
   },
   "outputs": [],
   "source": [
    "def generate_x_y(df, test=False):\n",
    "    \"\"\"\n",
    "    Returns the features (X) and targets (y) for the given data file\n",
    "\n",
    "    Parameters\n",
    "    ----------\n",
    "    df_file_path : string\n",
    "        File path to generate DataFrame from \n",
    "    test : boolean\n",
    "        Whether or not the provided data file is the test set\n",
    "        False = training set \n",
    "        True = test set \n",
    "\n",
    "    Returns\n",
    "    -------\n",
    "    pd.DataFrame\n",
    "        If it is the test dataset it will return only the features (X)\n",
    "        \n",
    "    OR \n",
    "    \n",
    "    Tuple(pd.DataFrame, pd.DataFrame)\n",
    "        If it is the training set it will return the features and targets in a tuple (X, y)\n",
    "    \"\"\"    \n",
    "    \n",
    "    # read in data and set index to customer ID\n",
    "    df = df.set_index('customer_ID')\n",
    "    \n",
    "    # get X and y; drop dates from X \n",
    "    X = df.drop('S_2', axis=1) if test else df.drop(['S_2', 'target'], axis=1)\n",
    "    y = None if test else df['target']\n",
    "    \n",
    "    # delete original dataframe from memory \n",
    "    del df\n",
    "    gc.collect()\n",
    "    \n",
    "    # encode categorical features\n",
    "    cat_features = ['B_30', 'B_38', 'D_114', 'D_116', 'D_117', 'D_120', 'D_126', 'D_63', 'D_64', 'D_66', 'D_68']\n",
    "    encoded_df = one_hot_encode_categorical(X[cat_features], cat_features)\n",
    "    \n",
    "    # simple impute numerical columns with mean()\n",
    "    X = X.drop(cat_features, axis=1)\n",
    "    X = simple_impute_numerical(X, list(X.columns))\n",
    "    \n",
    "    # get final encoded and imputed features\n",
    "    X = pd.concat([X, encoded_df], axis=1)\n",
    "\n",
    "    if test: \n",
    "        return X\n",
    "    else: \n",
    "        return (X, y)\n",
    "    "
   ]
  },
  {
   "cell_type": "markdown",
   "id": "4910fc8f",
   "metadata": {
    "papermill": {
     "duration": 0.002746,
     "end_time": "2023-02-08T05:09:38.673675",
     "exception": false,
     "start_time": "2023-02-08T05:09:38.670929",
     "status": "completed"
    },
    "tags": []
   },
   "source": [
    "## Generate the features and targets, and then save to .ftr file"
   ]
  },
  {
   "cell_type": "code",
   "execution_count": 5,
   "id": "124795c4",
   "metadata": {
    "execution": {
     "iopub.execute_input": "2023-02-08T05:09:38.682024Z",
     "iopub.status.busy": "2023-02-08T05:09:38.681168Z",
     "iopub.status.idle": "2023-02-08T05:10:12.948188Z",
     "shell.execute_reply": "2023-02-08T05:10:12.946754Z"
    },
    "papermill": {
     "duration": 34.277299,
     "end_time": "2023-02-08T05:10:12.953939",
     "exception": false,
     "start_time": "2023-02-08T05:09:38.676640",
     "status": "completed"
    },
    "tags": []
   },
   "outputs": [
    {
     "data": {
      "text/plain": [
       "0"
      ]
     },
     "execution_count": 5,
     "metadata": {},
     "output_type": "execute_result"
    }
   ],
   "source": [
    "df = pd.read_feather('../input/amexfeather/test_data.ftr')\n",
    "\n",
    "# split test set in half for lighter memory load\n",
    "df1 = df.iloc[0:5681881]\n",
    "df2 = df.iloc[5681881:]\n",
    "\n",
    "del df\n",
    "gc.collect()"
   ]
  },
  {
   "cell_type": "markdown",
   "id": "b5ff23dc",
   "metadata": {
    "papermill": {
     "duration": 0.002921,
     "end_time": "2023-02-08T05:10:12.960094",
     "exception": false,
     "start_time": "2023-02-08T05:10:12.957173",
     "status": "completed"
    },
    "tags": []
   },
   "source": [
    "### Generate features and targets for each half of the split testing set"
   ]
  },
  {
   "cell_type": "code",
   "execution_count": 6,
   "id": "0d240a71",
   "metadata": {
    "execution": {
     "iopub.execute_input": "2023-02-08T05:10:12.983700Z",
     "iopub.status.busy": "2023-02-08T05:10:12.983074Z",
     "iopub.status.idle": "2023-02-08T05:17:05.798905Z",
     "shell.execute_reply": "2023-02-08T05:17:05.797605Z"
    },
    "papermill": {
     "duration": 412.831988,
     "end_time": "2023-02-08T05:17:05.802064",
     "exception": false,
     "start_time": "2023-02-08T05:10:12.970076",
     "status": "completed"
    },
    "tags": []
   },
   "outputs": [
    {
     "name": "stderr",
     "output_type": "stream",
     "text": [
      "/opt/conda/lib/python3.7/site-packages/sklearn/utils/deprecation.py:87: FutureWarning: Function get_feature_names is deprecated; get_feature_names is deprecated in 1.0 and will be removed in 1.2. Please use get_feature_names_out instead.\n",
      "  warnings.warn(msg, category=FutureWarning)\n",
      "/opt/conda/lib/python3.7/site-packages/ipykernel_launcher.py:5: PerformanceWarning: DataFrame is highly fragmented.  This is usually the result of calling `frame.insert` many times, which has poor performance.  Consider joining all columns at once using pd.concat(axis=1) instead.  To get a de-fragmented frame, use `newframe = frame.copy()`\n",
      "  \"\"\"\n",
      "/opt/conda/lib/python3.7/site-packages/ipykernel_launcher.py:6: PerformanceWarning: DataFrame is highly fragmented.  This is usually the result of calling `frame.insert` many times, which has poor performance.  Consider joining all columns at once using pd.concat(axis=1) instead.  To get a de-fragmented frame, use `newframe = frame.copy()`\n",
      "  \n",
      "/opt/conda/lib/python3.7/site-packages/ipykernel_launcher.py:7: PerformanceWarning: DataFrame is highly fragmented.  This is usually the result of calling `frame.insert` many times, which has poor performance.  Consider joining all columns at once using pd.concat(axis=1) instead.  To get a de-fragmented frame, use `newframe = frame.copy()`\n",
      "  import sys\n"
     ]
    },
    {
     "data": {
      "text/plain": [
       "0"
      ]
     },
     "execution_count": 6,
     "metadata": {},
     "output_type": "execute_result"
    }
   ],
   "source": [
    "X_test_1 = generate_x_y(df1, test=True)\n",
    "\n",
    "# these values are not present in test set but are in training\n",
    "# set all to 0 to work in .predict()\n",
    "X_test_1['D_64_-1'] = 0.0\n",
    "X_test_1['D_66_0.0'] = 0.0\n",
    "X_test_1['D_68_0.0'] = 0.0\n",
    "X_test_1 = X_test_1.reindex(sorted(X_test_1.columns), axis=1)\n",
    "\n",
    "# feather files do not support indexing\n",
    "X_test_1 = X_test_1.reset_index()\n",
    "X_test_1.to_feather('X_test_1.ftr')\n",
    "\n",
    "del X_test_1, df1\n",
    "gc.collect()\n"
   ]
  },
  {
   "cell_type": "code",
   "execution_count": 7,
   "id": "e39577b4",
   "metadata": {
    "execution": {
     "iopub.execute_input": "2023-02-08T05:17:05.812721Z",
     "iopub.status.busy": "2023-02-08T05:17:05.812086Z",
     "iopub.status.idle": "2023-02-08T05:23:02.063053Z",
     "shell.execute_reply": "2023-02-08T05:23:02.061843Z"
    },
    "papermill": {
     "duration": 356.259475,
     "end_time": "2023-02-08T05:23:02.065610",
     "exception": false,
     "start_time": "2023-02-08T05:17:05.806135",
     "status": "completed"
    },
    "tags": []
   },
   "outputs": [
    {
     "name": "stderr",
     "output_type": "stream",
     "text": [
      "/opt/conda/lib/python3.7/site-packages/sklearn/utils/deprecation.py:87: FutureWarning: Function get_feature_names is deprecated; get_feature_names is deprecated in 1.0 and will be removed in 1.2. Please use get_feature_names_out instead.\n",
      "  warnings.warn(msg, category=FutureWarning)\n",
      "/opt/conda/lib/python3.7/site-packages/ipykernel_launcher.py:3: PerformanceWarning: DataFrame is highly fragmented.  This is usually the result of calling `frame.insert` many times, which has poor performance.  Consider joining all columns at once using pd.concat(axis=1) instead.  To get a de-fragmented frame, use `newframe = frame.copy()`\n",
      "  This is separate from the ipykernel package so we can avoid doing imports until\n",
      "/opt/conda/lib/python3.7/site-packages/ipykernel_launcher.py:4: PerformanceWarning: DataFrame is highly fragmented.  This is usually the result of calling `frame.insert` many times, which has poor performance.  Consider joining all columns at once using pd.concat(axis=1) instead.  To get a de-fragmented frame, use `newframe = frame.copy()`\n",
      "  after removing the cwd from sys.path.\n",
      "/opt/conda/lib/python3.7/site-packages/ipykernel_launcher.py:5: PerformanceWarning: DataFrame is highly fragmented.  This is usually the result of calling `frame.insert` many times, which has poor performance.  Consider joining all columns at once using pd.concat(axis=1) instead.  To get a de-fragmented frame, use `newframe = frame.copy()`\n",
      "  \"\"\"\n"
     ]
    },
    {
     "data": {
      "text/plain": [
       "0"
      ]
     },
     "execution_count": 7,
     "metadata": {},
     "output_type": "execute_result"
    }
   ],
   "source": [
    "X_test_2 = generate_x_y(df2, test=True)\n",
    "\n",
    "X_test_2['D_64_-1'] = 0.0\n",
    "X_test_2['D_66_0.0'] = 0.0\n",
    "X_test_2['D_68_0.0'] = 0.0\n",
    "X_test_2 = X_test_2.reindex(sorted(X_test_2.columns), axis=1)\n",
    "\n",
    "X_test_2 = X_test_2.reset_index()\n",
    "X_test_2.to_feather('X_test_2.ftr')\n",
    "\n",
    "del X_test_2, df2\n",
    "gc.collect()\n"
   ]
  }
 ],
 "metadata": {
  "kernelspec": {
   "display_name": "Python 3",
   "language": "python",
   "name": "python3"
  },
  "language_info": {
   "codemirror_mode": {
    "name": "ipython",
    "version": 3
   },
   "file_extension": ".py",
   "mimetype": "text/x-python",
   "name": "python",
   "nbconvert_exporter": "python",
   "pygments_lexer": "ipython3",
   "version": "3.7.12"
  },
  "papermill": {
   "default_parameters": {},
   "duration": 816.806012,
   "end_time": "2023-02-08T05:23:04.473097",
   "environment_variables": {},
   "exception": null,
   "input_path": "__notebook__.ipynb",
   "output_path": "__notebook__.ipynb",
   "parameters": {},
   "start_time": "2023-02-08T05:09:27.667085",
   "version": "2.3.4"
  }
 },
 "nbformat": 4,
 "nbformat_minor": 5
}
