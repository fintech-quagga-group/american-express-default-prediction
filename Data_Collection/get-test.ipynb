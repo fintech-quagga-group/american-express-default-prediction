{
 "cells": [
  {
   "cell_type": "code",
   "execution_count": 1,
   "id": "10386506",
   "metadata": {
    "_cell_guid": "b1076dfc-b9ad-4769-8c92-a6c4dae69d19",
    "_uuid": "8f2839f25d086af736a60e9eeb907d3b93b6e0e5",
    "execution": {
     "iopub.execute_input": "2023-02-05T06:45:26.334473Z",
     "iopub.status.busy": "2023-02-05T06:45:26.333972Z",
     "iopub.status.idle": "2023-02-05T06:45:27.592101Z",
     "shell.execute_reply": "2023-02-05T06:45:27.590699Z"
    },
    "papermill": {
     "duration": 1.26644,
     "end_time": "2023-02-05T06:45:27.595041",
     "exception": false,
     "start_time": "2023-02-05T06:45:26.328601",
     "status": "completed"
    },
    "tags": []
   },
   "outputs": [],
   "source": [
    "import gc\n",
    "import pandas as pd \n",
    "import numpy as np\n",
    "from sklearn.preprocessing import OneHotEncoder\n",
    "from sklearn.tree import DecisionTreeClassifier\n",
    "from sklearn.impute import SimpleImputer"
   ]
  },
  {
   "cell_type": "code",
   "execution_count": 2,
   "id": "90d5a6ca",
   "metadata": {
    "execution": {
     "iopub.execute_input": "2023-02-05T06:45:27.601704Z",
     "iopub.status.busy": "2023-02-05T06:45:27.601149Z",
     "iopub.status.idle": "2023-02-05T06:45:27.606516Z",
     "shell.execute_reply": "2023-02-05T06:45:27.605411Z"
    },
    "papermill": {
     "duration": 0.011025,
     "end_time": "2023-02-05T06:45:27.608718",
     "exception": false,
     "start_time": "2023-02-05T06:45:27.597693",
     "status": "completed"
    },
    "tags": []
   },
   "outputs": [],
   "source": [
    "def one_hot_encode_categorical(cat_features, cat_names):\n",
    "    enc = OneHotEncoder(sparse=False)\n",
    "    encoded_df = pd.DataFrame(enc.fit_transform(cat_features), columns=enc.get_feature_names(cat_names), index=cat_features.index)\n",
    "    return encoded_df"
   ]
  },
  {
   "cell_type": "code",
   "execution_count": 3,
   "id": "d93a917d",
   "metadata": {
    "execution": {
     "iopub.execute_input": "2023-02-05T06:45:27.614713Z",
     "iopub.status.busy": "2023-02-05T06:45:27.614400Z",
     "iopub.status.idle": "2023-02-05T06:45:27.619817Z",
     "shell.execute_reply": "2023-02-05T06:45:27.619017Z"
    },
    "papermill": {
     "duration": 0.011122,
     "end_time": "2023-02-05T06:45:27.622257",
     "exception": false,
     "start_time": "2023-02-05T06:45:27.611135",
     "status": "completed"
    },
    "tags": []
   },
   "outputs": [],
   "source": [
    "def simple_impute_numerical(numeric_features, numeric_names):\n",
    "    # current numeric columns are float16, and they will not work when computing mean()\n",
    "    # need to convert to float32\n",
    "    for column in numeric_features.columns:\n",
    "        numeric_features[column] = numeric_features[column].astype(np.float32)\n",
    "\n",
    "    imp_mean = SimpleImputer(missing_values=np.nan, strategy='mean')\n",
    "    numeric_df = pd.DataFrame(imp_mean.fit_transform(numeric_features), columns=numeric_names, index=numeric_features.index)\n",
    "    \n",
    "    # convert back to float16 for lighter load\n",
    "    for column in numeric_df.columns:\n",
    "        numeric_df[column] = numeric_df[column].astype(np.float16)\n",
    "    \n",
    "    return numeric_df"
   ]
  },
  {
   "cell_type": "code",
   "execution_count": 4,
   "id": "a5bbb736",
   "metadata": {
    "execution": {
     "iopub.execute_input": "2023-02-05T06:45:27.628427Z",
     "iopub.status.busy": "2023-02-05T06:45:27.628056Z",
     "iopub.status.idle": "2023-02-05T06:45:27.635885Z",
     "shell.execute_reply": "2023-02-05T06:45:27.634765Z"
    },
    "papermill": {
     "duration": 0.013448,
     "end_time": "2023-02-05T06:45:27.638174",
     "exception": false,
     "start_time": "2023-02-05T06:45:27.624726",
     "status": "completed"
    },
    "tags": []
   },
   "outputs": [],
   "source": [
    "def generate_x_y(df, test=False):\n",
    "    # read in data and set index to customer ID\n",
    "    # df = pd.read_feather(df_file_path)\n",
    "    df = df.set_index('customer_ID')\n",
    "    \n",
    "    # get X and y; drop dates from X \n",
    "    X = df.drop('S_2', axis=1) if test else df.drop(['S_2', 'target'], axis=1)\n",
    "    y = None if test else df['target']\n",
    "    \n",
    "    # delete original dataframe from memory \n",
    "    del df\n",
    "    gc.collect()\n",
    "    \n",
    "    # encode categorical features\n",
    "    cat_features = ['B_30', 'B_38', 'D_114', 'D_116', 'D_117', 'D_120', 'D_126', 'D_63', 'D_64', 'D_66', 'D_68']\n",
    "    encoded_df = one_hot_encode_categorical(X[cat_features], cat_features)\n",
    "    \n",
    "    X = X.drop(cat_features, axis=1)\n",
    "    X = simple_impute_numerical(X, list(X.columns))\n",
    "    \n",
    "    # get final encoded and imputed features\n",
    "    X = pd.concat([X, encoded_df], axis=1)\n",
    "\n",
    "    if test: \n",
    "        return X\n",
    "    else: \n",
    "        return (X, y)\n",
    "    "
   ]
  },
  {
   "cell_type": "code",
   "execution_count": 5,
   "id": "39788737",
   "metadata": {
    "execution": {
     "iopub.execute_input": "2023-02-05T06:45:27.646029Z",
     "iopub.status.busy": "2023-02-05T06:45:27.644532Z",
     "iopub.status.idle": "2023-02-05T06:45:58.057090Z",
     "shell.execute_reply": "2023-02-05T06:45:58.056224Z"
    },
    "papermill": {
     "duration": 30.420004,
     "end_time": "2023-02-05T06:45:58.061236",
     "exception": false,
     "start_time": "2023-02-05T06:45:27.641232",
     "status": "completed"
    },
    "tags": []
   },
   "outputs": [
    {
     "data": {
      "text/plain": [
       "0"
      ]
     },
     "execution_count": 5,
     "metadata": {},
     "output_type": "execute_result"
    }
   ],
   "source": [
    "df = pd.read_feather('../input/amexfeather/test_data.ftr')\n",
    "len(df.index)\n",
    "\n",
    "df1 = df.iloc[0:5681881]\n",
    "df2 = df.iloc[5681881:]\n",
    "\n",
    "del df\n",
    "gc.collect()"
   ]
  },
  {
   "cell_type": "code",
   "execution_count": 6,
   "id": "bcf8e38f",
   "metadata": {
    "execution": {
     "iopub.execute_input": "2023-02-05T06:45:58.067736Z",
     "iopub.status.busy": "2023-02-05T06:45:58.066671Z",
     "iopub.status.idle": "2023-02-05T06:47:50.517194Z",
     "shell.execute_reply": "2023-02-05T06:47:50.516045Z"
    },
    "papermill": {
     "duration": 112.455731,
     "end_time": "2023-02-05T06:47:50.519268",
     "exception": false,
     "start_time": "2023-02-05T06:45:58.063537",
     "status": "completed"
    },
    "tags": []
   },
   "outputs": [
    {
     "name": "stderr",
     "output_type": "stream",
     "text": [
      "/opt/conda/lib/python3.7/site-packages/sklearn/utils/deprecation.py:87: FutureWarning: Function get_feature_names is deprecated; get_feature_names is deprecated in 1.0 and will be removed in 1.2. Please use get_feature_names_out instead.\n",
      "  warnings.warn(msg, category=FutureWarning)\n"
     ]
    },
    {
     "data": {
      "text/plain": [
       "0"
      ]
     },
     "execution_count": 6,
     "metadata": {},
     "output_type": "execute_result"
    }
   ],
   "source": [
    "X_test_1 = generate_x_y(df1, test=True)\n",
    "\n",
    "X_test_1 = X_test_1.reset_index()\n",
    "X_test_1.to_feather('X_test_1.parquet')\n",
    "\n",
    "del X_test_1, df1\n",
    "gc.collect()\n"
   ]
  },
  {
   "cell_type": "code",
   "execution_count": 7,
   "id": "dd4f70fc",
   "metadata": {
    "execution": {
     "iopub.execute_input": "2023-02-05T06:47:50.526011Z",
     "iopub.status.busy": "2023-02-05T06:47:50.525235Z",
     "iopub.status.idle": "2023-02-05T06:49:53.586645Z",
     "shell.execute_reply": "2023-02-05T06:49:53.585514Z"
    },
    "papermill": {
     "duration": 123.074657,
     "end_time": "2023-02-05T06:49:53.596485",
     "exception": false,
     "start_time": "2023-02-05T06:47:50.521828",
     "status": "completed"
    },
    "tags": []
   },
   "outputs": [
    {
     "name": "stderr",
     "output_type": "stream",
     "text": [
      "/opt/conda/lib/python3.7/site-packages/sklearn/utils/deprecation.py:87: FutureWarning: Function get_feature_names is deprecated; get_feature_names is deprecated in 1.0 and will be removed in 1.2. Please use get_feature_names_out instead.\n",
      "  warnings.warn(msg, category=FutureWarning)\n"
     ]
    },
    {
     "data": {
      "text/plain": [
       "0"
      ]
     },
     "execution_count": 7,
     "metadata": {},
     "output_type": "execute_result"
    }
   ],
   "source": [
    "X_test_2 = generate_x_y(df2, test=True)\n",
    "\n",
    "X_test_2 = X_test_2.reset_index()\n",
    "X_test_2.to_feather('X_test_2.parquet')\n",
    "\n",
    "del X_test_2, df2\n",
    "gc.collect()\n"
   ]
  }
 ],
 "metadata": {
  "kernelspec": {
   "display_name": "Python 3",
   "language": "python",
   "name": "python3"
  },
  "language_info": {
   "codemirror_mode": {
    "name": "ipython",
    "version": 3
   },
   "file_extension": ".py",
   "mimetype": "text/x-python",
   "name": "python",
   "nbconvert_exporter": "python",
   "pygments_lexer": "ipython3",
   "version": "3.7.12"
  },
  "papermill": {
   "default_parameters": {},
   "duration": 276.239798,
   "end_time": "2023-02-05T06:49:54.628308",
   "environment_variables": {},
   "exception": null,
   "input_path": "__notebook__.ipynb",
   "output_path": "__notebook__.ipynb",
   "parameters": {},
   "start_time": "2023-02-05T06:45:18.388510",
   "version": "2.3.4"
  }
 },
 "nbformat": 4,
 "nbformat_minor": 5
}
