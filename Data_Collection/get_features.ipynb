{
 "cells": [
  {
   "cell_type": "code",
   "execution_count": 1,
   "id": "e1b4435d",
   "metadata": {
    "_cell_guid": "b1076dfc-b9ad-4769-8c92-a6c4dae69d19",
    "_uuid": "8f2839f25d086af736a60e9eeb907d3b93b6e0e5",
    "execution": {
     "iopub.execute_input": "2023-02-05T04:34:37.288420Z",
     "iopub.status.busy": "2023-02-05T04:34:37.287159Z",
     "iopub.status.idle": "2023-02-05T04:34:38.689253Z",
     "shell.execute_reply": "2023-02-05T04:34:38.687976Z"
    },
    "papermill": {
     "duration": 1.410643,
     "end_time": "2023-02-05T04:34:38.691961",
     "exception": false,
     "start_time": "2023-02-05T04:34:37.281318",
     "status": "completed"
    },
    "tags": []
   },
   "outputs": [],
   "source": [
    "import gc\n",
    "import pandas as pd \n",
    "import numpy as np\n",
    "from sklearn.preprocessing import OneHotEncoder\n",
    "from sklearn.tree import DecisionTreeClassifier\n",
    "from sklearn.impute import SimpleImputer"
   ]
  },
  {
   "cell_type": "code",
   "execution_count": 2,
   "id": "e6349fd6",
   "metadata": {
    "execution": {
     "iopub.execute_input": "2023-02-05T04:34:38.699996Z",
     "iopub.status.busy": "2023-02-05T04:34:38.699344Z",
     "iopub.status.idle": "2023-02-05T04:34:38.704424Z",
     "shell.execute_reply": "2023-02-05T04:34:38.703496Z"
    },
    "papermill": {
     "duration": 0.011717,
     "end_time": "2023-02-05T04:34:38.706860",
     "exception": false,
     "start_time": "2023-02-05T04:34:38.695143",
     "status": "completed"
    },
    "tags": []
   },
   "outputs": [],
   "source": [
    "def one_hot_encode_categorical(cat_features, cat_names):\n",
    "    enc = OneHotEncoder(sparse=False)\n",
    "    encoded_df = pd.DataFrame(enc.fit_transform(cat_features), columns=enc.get_feature_names(cat_names), index=cat_features.index)\n",
    "    return encoded_df"
   ]
  },
  {
   "cell_type": "code",
   "execution_count": 3,
   "id": "0521e717",
   "metadata": {
    "execution": {
     "iopub.execute_input": "2023-02-05T04:34:38.714598Z",
     "iopub.status.busy": "2023-02-05T04:34:38.713606Z",
     "iopub.status.idle": "2023-02-05T04:34:38.721101Z",
     "shell.execute_reply": "2023-02-05T04:34:38.719473Z"
    },
    "papermill": {
     "duration": 0.013804,
     "end_time": "2023-02-05T04:34:38.723572",
     "exception": false,
     "start_time": "2023-02-05T04:34:38.709768",
     "status": "completed"
    },
    "tags": []
   },
   "outputs": [],
   "source": [
    "def simple_impute_numerical(numeric_features, numeric_names):\n",
    "    # current numeric columns are float16, and they will not work when computing mean()\n",
    "    # need to convert to float32\n",
    "    for column in numeric_features.columns:\n",
    "        numeric_features[column] = numeric_features[column].astype(np.float32)\n",
    "\n",
    "    imp_mean = SimpleImputer(missing_values=np.nan, strategy='mean')\n",
    "    numeric_df = pd.DataFrame(imp_mean.fit_transform(numeric_features), columns=numeric_names, index=numeric_features.index)\n",
    "    \n",
    "    # convert back to float16 for lighter load\n",
    "    for column in numeric_df.columns:\n",
    "        numeric_df[column] = numeric_df[column].astype(np.float16)\n",
    "    \n",
    "    return numeric_df"
   ]
  },
  {
   "cell_type": "code",
   "execution_count": 4,
   "id": "0563f6d1",
   "metadata": {
    "execution": {
     "iopub.execute_input": "2023-02-05T04:34:38.730992Z",
     "iopub.status.busy": "2023-02-05T04:34:38.730336Z",
     "iopub.status.idle": "2023-02-05T04:34:38.739938Z",
     "shell.execute_reply": "2023-02-05T04:34:38.738730Z"
    },
    "papermill": {
     "duration": 0.015951,
     "end_time": "2023-02-05T04:34:38.742305",
     "exception": false,
     "start_time": "2023-02-05T04:34:38.726354",
     "status": "completed"
    },
    "tags": []
   },
   "outputs": [],
   "source": [
    "def generate_x_y(df_file_path, test=False):\n",
    "    # read in data and set index to customer ID\n",
    "    df = pd.read_feather(df_file_path)\n",
    "    df = df.set_index('customer_ID')\n",
    "    \n",
    "    # get X and y; drop dates from X \n",
    "    X = df.drop('S_2', axis=1) if test else df.drop(['S_2', 'target'], axis=1)\n",
    "    y = None if test else df['target']\n",
    "    \n",
    "    # delete original dataframe from memory \n",
    "    del df\n",
    "    gc.collect()\n",
    "    \n",
    "    # encode categorical features\n",
    "    cat_features = ['B_30', 'B_38', 'D_114', 'D_116', 'D_117', 'D_120', 'D_126', 'D_63', 'D_64', 'D_66', 'D_68']\n",
    "    encoded_df = one_hot_encode_categorical(X[cat_features], cat_features)\n",
    "    \n",
    "    \n",
    "    X = X.drop(cat_features, axis=1)\n",
    "    X = simple_impute_numerical(X, list(X.columns))\n",
    "    \n",
    "    # get final encoded and imputed features\n",
    "    X = pd.concat([X, encoded_df], axis=1)\n",
    "\n",
    "    if test: \n",
    "        return X\n",
    "    else: \n",
    "        return (X, y)\n",
    "    \n",
    "    "
   ]
  },
  {
   "cell_type": "code",
   "execution_count": 5,
   "id": "076bbfe9",
   "metadata": {
    "execution": {
     "iopub.execute_input": "2023-02-05T04:34:38.749805Z",
     "iopub.status.busy": "2023-02-05T04:34:38.749151Z",
     "iopub.status.idle": "2023-02-05T04:39:54.656871Z",
     "shell.execute_reply": "2023-02-05T04:39:54.655597Z"
    },
    "papermill": {
     "duration": 315.918868,
     "end_time": "2023-02-05T04:39:54.663934",
     "exception": false,
     "start_time": "2023-02-05T04:34:38.745066",
     "status": "completed"
    },
    "tags": []
   },
   "outputs": [
    {
     "name": "stderr",
     "output_type": "stream",
     "text": [
      "/opt/conda/lib/python3.7/site-packages/sklearn/utils/deprecation.py:87: FutureWarning: Function get_feature_names is deprecated; get_feature_names is deprecated in 1.0 and will be removed in 1.2. Please use get_feature_names_out instead.\n",
      "  warnings.warn(msg, category=FutureWarning)\n"
     ]
    },
    {
     "data": {
      "text/plain": [
       "0"
      ]
     },
     "execution_count": 5,
     "metadata": {},
     "output_type": "execute_result"
    }
   ],
   "source": [
    "X_train, y_train = generate_x_y('../input/amexfeather/train_data.ftr')\n",
    "\n",
    "X_train = X_train.reset_index()\n",
    "y_train = y_train.reset_index()\n",
    "X_train.to_feather('X_train.parquet')\n",
    "y_train.to_feather('y_train.parquet')\n",
    "\n",
    "del X_train, y_train\n",
    "gc.collect()"
   ]
  },
  {
   "cell_type": "code",
   "execution_count": 6,
   "id": "25641b4a",
   "metadata": {
    "execution": {
     "iopub.execute_input": "2023-02-05T04:39:54.673971Z",
     "iopub.status.busy": "2023-02-05T04:39:54.673121Z",
     "iopub.status.idle": "2023-02-05T04:39:54.681011Z",
     "shell.execute_reply": "2023-02-05T04:39:54.679745Z"
    },
    "papermill": {
     "duration": 0.016111,
     "end_time": "2023-02-05T04:39:54.683594",
     "exception": false,
     "start_time": "2023-02-05T04:39:54.667483",
     "status": "completed"
    },
    "tags": []
   },
   "outputs": [
    {
     "data": {
      "text/plain": [
       "\"\\nX_test = generate_x_y('../input/amexfeather/test_data.ftr', test=True)\\n\\nX_test = X_test.reset_index()\\nX_test.to_feather('X_test.parquet')\\n\\ndel X_test\\ngc.collect()\\n\""
      ]
     },
     "execution_count": 6,
     "metadata": {},
     "output_type": "execute_result"
    }
   ],
   "source": [
    "\"\"\"\n",
    "X_test = generate_x_y('../input/amexfeather/test_data.ftr', test=True)\n",
    "\n",
    "X_test = X_test.reset_index()\n",
    "X_test.to_feather('X_test.parquet')\n",
    "\n",
    "del X_test\n",
    "gc.collect()\n",
    "\"\"\""
   ]
  },
  {
   "cell_type": "code",
   "execution_count": null,
   "id": "f4202420",
   "metadata": {
    "papermill": {
     "duration": 0.002817,
     "end_time": "2023-02-05T04:39:54.689824",
     "exception": false,
     "start_time": "2023-02-05T04:39:54.687007",
     "status": "completed"
    },
    "tags": []
   },
   "outputs": [],
   "source": []
  }
 ],
 "metadata": {
  "kernelspec": {
   "display_name": "Python 3",
   "language": "python",
   "name": "python3"
  },
  "language_info": {
   "codemirror_mode": {
    "name": "ipython",
    "version": 3
   },
   "file_extension": ".py",
   "mimetype": "text/x-python",
   "name": "python",
   "nbconvert_exporter": "python",
   "pygments_lexer": "ipython3",
   "version": "3.7.12"
  },
  "papermill": {
   "default_parameters": {},
   "duration": 329.448251,
   "end_time": "2023-02-05T04:39:57.409613",
   "environment_variables": {},
   "exception": null,
   "input_path": "__notebook__.ipynb",
   "output_path": "__notebook__.ipynb",
   "parameters": {},
   "start_time": "2023-02-05T04:34:27.961362",
   "version": "2.3.4"
  }
 },
 "nbformat": 4,
 "nbformat_minor": 5
}
