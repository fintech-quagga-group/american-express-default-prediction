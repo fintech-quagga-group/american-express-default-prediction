{
 "cells": [
  {
   "cell_type": "code",
   "execution_count": 1,
   "id": "e3abe35f",
   "metadata": {
    "_cell_guid": "b1076dfc-b9ad-4769-8c92-a6c4dae69d19",
    "_uuid": "8f2839f25d086af736a60e9eeb907d3b93b6e0e5",
    "execution": {
     "iopub.execute_input": "2023-02-07T06:59:21.603019Z",
     "iopub.status.busy": "2023-02-07T06:59:21.602436Z",
     "iopub.status.idle": "2023-02-07T06:59:22.985748Z",
     "shell.execute_reply": "2023-02-07T06:59:22.984488Z"
    },
    "papermill": {
     "duration": 1.393363,
     "end_time": "2023-02-07T06:59:22.989502",
     "exception": false,
     "start_time": "2023-02-07T06:59:21.596139",
     "status": "completed"
    },
    "tags": []
   },
   "outputs": [],
   "source": [
    "import pickle\n",
    "import pandas as pd\n",
    "from sklearn.tree import DecisionTreeClassifier"
   ]
  },
  {
   "cell_type": "code",
   "execution_count": 2,
   "id": "0998c833",
   "metadata": {
    "execution": {
     "iopub.execute_input": "2023-02-07T06:59:22.997236Z",
     "iopub.status.busy": "2023-02-07T06:59:22.996745Z",
     "iopub.status.idle": "2023-02-07T06:59:51.050342Z",
     "shell.execute_reply": "2023-02-07T06:59:51.049051Z"
    },
    "papermill": {
     "duration": 28.06078,
     "end_time": "2023-02-07T06:59:51.053438",
     "exception": false,
     "start_time": "2023-02-07T06:59:22.992658",
     "status": "completed"
    },
    "tags": []
   },
   "outputs": [],
   "source": [
    "X_test_1 = pd.read_parquet('../input/amex-imputed-and-1hot-encoded/X_test_1.parquet')\n",
    "X_test_1 = X_test_1.set_index('customer_ID')"
   ]
  },
  {
   "cell_type": "code",
   "execution_count": 3,
   "id": "b4bbcffd",
   "metadata": {
    "execution": {
     "iopub.execute_input": "2023-02-07T06:59:51.060738Z",
     "iopub.status.busy": "2023-02-07T06:59:51.060239Z",
     "iopub.status.idle": "2023-02-07T07:00:16.880584Z",
     "shell.execute_reply": "2023-02-07T07:00:16.879222Z"
    },
    "papermill": {
     "duration": 25.827475,
     "end_time": "2023-02-07T07:00:16.883749",
     "exception": false,
     "start_time": "2023-02-07T06:59:51.056274",
     "status": "completed"
    },
    "tags": []
   },
   "outputs": [],
   "source": [
    "X_test_2 = pd.read_parquet('../input/amex-imputed-and-1hot-encoded/X_test_2.parquet')\n",
    "X_test_2 = X_test_2.set_index('customer_ID')"
   ]
  },
  {
   "cell_type": "code",
   "execution_count": 4,
   "id": "80de952a",
   "metadata": {
    "execution": {
     "iopub.execute_input": "2023-02-07T07:00:16.892245Z",
     "iopub.status.busy": "2023-02-07T07:00:16.891389Z",
     "iopub.status.idle": "2023-02-07T07:01:12.511641Z",
     "shell.execute_reply": "2023-02-07T07:01:12.509728Z"
    },
    "papermill": {
     "duration": 55.628577,
     "end_time": "2023-02-07T07:01:12.515390",
     "exception": false,
     "start_time": "2023-02-07T07:00:16.886813",
     "status": "completed"
    },
    "tags": []
   },
   "outputs": [],
   "source": [
    "model = pickle.load(open('../input/test-dtc-model/decision_tree_classifier_model.sav', 'rb'))\n",
    "preds_1 = pd.DataFrame(model.predict(X_test_1), index=X_test_1.index, columns=['prediction'])\n",
    "preds_2 = pd.DataFrame(model.predict(X_test_2), index=X_test_2.index, columns=['prediction'])"
   ]
  },
  {
   "cell_type": "code",
   "execution_count": 5,
   "id": "8ef8a52a",
   "metadata": {
    "execution": {
     "iopub.execute_input": "2023-02-07T07:01:12.524029Z",
     "iopub.status.busy": "2023-02-07T07:01:12.523485Z",
     "iopub.status.idle": "2023-02-07T07:01:18.372415Z",
     "shell.execute_reply": "2023-02-07T07:01:18.371029Z"
    },
    "papermill": {
     "duration": 5.856693,
     "end_time": "2023-02-07T07:01:18.375608",
     "exception": false,
     "start_time": "2023-02-07T07:01:12.518915",
     "status": "completed"
    },
    "tags": []
   },
   "outputs": [],
   "source": [
    "submission = pd.concat([preds_1, preds_2])\n",
    "\n",
    "# predictions only need to be for each customer\n",
    "submission = submission.groupby('customer_ID').agg(['last'])\n",
    "submission.columns = submission.columns.droplevel(1)\n",
    "\n",
    "# predictions need to be doubles \n",
    "submission['prediction'] = submission['prediction'].astype('double')\n",
    "\n",
    "# index needs to be removed from submission csv\n",
    "submission = submission.reset_index()\n",
    "submission.to_csv('submission.csv', index=False)"
   ]
  },
  {
   "cell_type": "code",
   "execution_count": null,
   "id": "fe04d629",
   "metadata": {
    "papermill": {
     "duration": 0.00244,
     "end_time": "2023-02-07T07:01:18.381109",
     "exception": false,
     "start_time": "2023-02-07T07:01:18.378669",
     "status": "completed"
    },
    "tags": []
   },
   "outputs": [],
   "source": []
  },
  {
   "cell_type": "code",
   "execution_count": null,
   "id": "0f0e3821",
   "metadata": {
    "papermill": {
     "duration": 0.002263,
     "end_time": "2023-02-07T07:01:18.386135",
     "exception": false,
     "start_time": "2023-02-07T07:01:18.383872",
     "status": "completed"
    },
    "tags": []
   },
   "outputs": [],
   "source": []
  }
 ],
 "metadata": {
  "kernelspec": {
   "display_name": "Python 3",
   "language": "python",
   "name": "python3"
  },
  "language_info": {
   "codemirror_mode": {
    "name": "ipython",
    "version": 3
   },
   "file_extension": ".py",
   "mimetype": "text/x-python",
   "name": "python",
   "nbconvert_exporter": "python",
   "pygments_lexer": "ipython3",
   "version": "3.7.12"
  },
  "papermill": {
   "default_parameters": {},
   "duration": 128.313123,
   "end_time": "2023-02-07T07:01:20.793509",
   "environment_variables": {},
   "exception": null,
   "input_path": "__notebook__.ipynb",
   "output_path": "__notebook__.ipynb",
   "parameters": {},
   "start_time": "2023-02-07T06:59:12.480386",
   "version": "2.3.4"
  }
 },
 "nbformat": 4,
 "nbformat_minor": 5
}
