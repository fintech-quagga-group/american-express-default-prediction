{
 "cells": [
  {
   "cell_type": "code",
   "execution_count": 1,
   "id": "43cf7281",
   "metadata": {
    "_cell_guid": "b1076dfc-b9ad-4769-8c92-a6c4dae69d19",
    "_uuid": "8f2839f25d086af736a60e9eeb907d3b93b6e0e5",
    "execution": {
     "iopub.execute_input": "2023-02-07T02:39:50.057575Z",
     "iopub.status.busy": "2023-02-07T02:39:50.056359Z",
     "iopub.status.idle": "2023-02-07T02:39:51.501064Z",
     "shell.execute_reply": "2023-02-07T02:39:51.499616Z"
    },
    "papermill": {
     "duration": 1.453845,
     "end_time": "2023-02-07T02:39:51.504146",
     "exception": false,
     "start_time": "2023-02-07T02:39:50.050301",
     "status": "completed"
    },
    "tags": []
   },
   "outputs": [],
   "source": [
    "import gc\n",
    "import pandas as pd \n",
    "import numpy as np\n",
    "from sklearn.preprocessing import OneHotEncoder\n",
    "from sklearn.impute import SimpleImputer"
   ]
  },
  {
   "cell_type": "code",
   "execution_count": 2,
   "id": "6303daab",
   "metadata": {
    "execution": {
     "iopub.execute_input": "2023-02-07T02:39:51.512434Z",
     "iopub.status.busy": "2023-02-07T02:39:51.511923Z",
     "iopub.status.idle": "2023-02-07T02:39:51.518960Z",
     "shell.execute_reply": "2023-02-07T02:39:51.517511Z"
    },
    "papermill": {
     "duration": 0.013319,
     "end_time": "2023-02-07T02:39:51.521545",
     "exception": false,
     "start_time": "2023-02-07T02:39:51.508226",
     "status": "completed"
    },
    "tags": []
   },
   "outputs": [],
   "source": [
    "def one_hot_encode_categorical(cat_features, cat_names):\n",
    "    enc = OneHotEncoder(sparse=False)\n",
    "    encoded_df = pd.DataFrame(enc.fit_transform(cat_features), columns=enc.get_feature_names(cat_names), index=cat_features.index)\n",
    "    return encoded_df"
   ]
  },
  {
   "cell_type": "code",
   "execution_count": 3,
   "id": "2a8a4933",
   "metadata": {
    "execution": {
     "iopub.execute_input": "2023-02-07T02:39:51.528496Z",
     "iopub.status.busy": "2023-02-07T02:39:51.527324Z",
     "iopub.status.idle": "2023-02-07T02:39:51.536723Z",
     "shell.execute_reply": "2023-02-07T02:39:51.535840Z"
    },
    "papermill": {
     "duration": 0.015135,
     "end_time": "2023-02-07T02:39:51.539024",
     "exception": false,
     "start_time": "2023-02-07T02:39:51.523889",
     "status": "completed"
    },
    "tags": []
   },
   "outputs": [],
   "source": [
    "def generate_features(df_file_path, test=False):\n",
    "    # read in data and set index to customer ID\n",
    "    df = pd.read_parquet(df_file_path)\n",
    "    df = df.set_index('customer_ID')\n",
    "    \n",
    "    # load the extended train targets for training set\n",
    "    if not test:\n",
    "        df = pd.concat([df, pd.read_parquet('/kaggle/input/amex-imputed-and-1hot-encoded/y_train.parquet').set_index('customer_ID')], axis=1)\n",
    "    \n",
    "    # get X and y; drop dates from X \n",
    "    X = df.drop('S_2', axis=1)\n",
    "    \n",
    "    # delete original dataframe from memory \n",
    "    del df\n",
    "    gc.collect()\n",
    "    \n",
    "    # encode categorical features\n",
    "    cat_features = ['B_30', 'B_38', 'D_114', 'D_116', 'D_117', 'D_120', 'D_126', 'D_63', 'D_64', 'D_66', 'D_68']\n",
    "    encoded_df = one_hot_encode_categorical(X[cat_features], cat_features)\n",
    "    \n",
    "    # fill empty numerical columns with mean \n",
    "    X = X.drop(cat_features, axis=1)\n",
    "    X = X.apply(lambda col: col.fillna(col.mean()))\n",
    "    \n",
    "    # get final encoded and imputed features\n",
    "    X = pd.concat([X, encoded_df], axis=1)\n",
    "\n",
    "    return X \n",
    "    \n",
    "    "
   ]
  },
  {
   "cell_type": "code",
   "execution_count": 4,
   "id": "e9fb24be",
   "metadata": {
    "execution": {
     "iopub.execute_input": "2023-02-07T02:39:51.545770Z",
     "iopub.status.busy": "2023-02-07T02:39:51.544695Z",
     "iopub.status.idle": "2023-02-07T02:41:24.632510Z",
     "shell.execute_reply": "2023-02-07T02:41:24.631062Z"
    },
    "papermill": {
     "duration": 93.097298,
     "end_time": "2023-02-07T02:41:24.638657",
     "exception": false,
     "start_time": "2023-02-07T02:39:51.541359",
     "status": "completed"
    },
    "tags": []
   },
   "outputs": [
    {
     "name": "stderr",
     "output_type": "stream",
     "text": [
      "/opt/conda/lib/python3.7/site-packages/sklearn/utils/deprecation.py:87: FutureWarning: Function get_feature_names is deprecated; get_feature_names is deprecated in 1.0 and will be removed in 1.2. Please use get_feature_names_out instead.\n",
      "  warnings.warn(msg, category=FutureWarning)\n"
     ]
    },
    {
     "data": {
      "text/plain": [
       "0"
      ]
     },
     "execution_count": 4,
     "metadata": {},
     "output_type": "execute_result"
    }
   ],
   "source": [
    "X_train = generate_features('/kaggle/input/amex-data-integer-dtypes-parquet-format/train.parquet')\n",
    "\n",
    "# sort columns for matching with test set \n",
    "X_train = X_train.reindex(sorted(X_train.columns), axis=1)\n",
    "\n",
    "X_train = X_train.reset_index()\n",
    "X_train.to_parquet('X_train.parquet')\n",
    "\n",
    "del X_train\n",
    "gc.collect()"
   ]
  },
  {
   "cell_type": "code",
   "execution_count": null,
   "id": "1c3a5ad7",
   "metadata": {
    "papermill": {
     "duration": 0.002117,
     "end_time": "2023-02-07T02:41:24.643412",
     "exception": false,
     "start_time": "2023-02-07T02:41:24.641295",
     "status": "completed"
    },
    "tags": []
   },
   "outputs": [],
   "source": []
  }
 ],
 "metadata": {
  "kernelspec": {
   "display_name": "Python 3",
   "language": "python",
   "name": "python3"
  },
  "language_info": {
   "codemirror_mode": {
    "name": "ipython",
    "version": 3
   },
   "file_extension": ".py",
   "mimetype": "text/x-python",
   "name": "python",
   "nbconvert_exporter": "python",
   "pygments_lexer": "ipython3",
   "version": "3.7.12"
  },
  "papermill": {
   "default_parameters": {},
   "duration": 106.585971,
   "end_time": "2023-02-07T02:41:25.469774",
   "environment_variables": {},
   "exception": null,
   "input_path": "__notebook__.ipynb",
   "output_path": "__notebook__.ipynb",
   "parameters": {},
   "start_time": "2023-02-07T02:39:38.883803",
   "version": "2.3.4"
  }
 },
 "nbformat": 4,
 "nbformat_minor": 5
}
