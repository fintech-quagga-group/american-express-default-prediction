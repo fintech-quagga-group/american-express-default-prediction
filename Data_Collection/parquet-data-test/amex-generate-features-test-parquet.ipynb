{
 "cells": [
  {
   "cell_type": "code",
   "execution_count": 1,
   "id": "6756934b",
   "metadata": {
    "_cell_guid": "b1076dfc-b9ad-4769-8c92-a6c4dae69d19",
    "_uuid": "8f2839f25d086af736a60e9eeb907d3b93b6e0e5",
    "execution": {
     "iopub.execute_input": "2023-02-07T05:47:14.761245Z",
     "iopub.status.busy": "2023-02-07T05:47:14.760484Z",
     "iopub.status.idle": "2023-02-07T05:47:16.152244Z",
     "shell.execute_reply": "2023-02-07T05:47:16.151124Z"
    },
    "papermill": {
     "duration": 1.400334,
     "end_time": "2023-02-07T05:47:16.155314",
     "exception": false,
     "start_time": "2023-02-07T05:47:14.754980",
     "status": "completed"
    },
    "tags": []
   },
   "outputs": [],
   "source": [
    "import gc\n",
    "import pandas as pd \n",
    "import numpy as np\n",
    "from sklearn.preprocessing import OneHotEncoder\n",
    "from sklearn.impute import SimpleImputer"
   ]
  },
  {
   "cell_type": "code",
   "execution_count": 2,
   "id": "ee1d394d",
   "metadata": {
    "execution": {
     "iopub.execute_input": "2023-02-07T05:47:16.161990Z",
     "iopub.status.busy": "2023-02-07T05:47:16.161536Z",
     "iopub.status.idle": "2023-02-07T05:47:16.168210Z",
     "shell.execute_reply": "2023-02-07T05:47:16.166732Z"
    },
    "papermill": {
     "duration": 0.012814,
     "end_time": "2023-02-07T05:47:16.170742",
     "exception": false,
     "start_time": "2023-02-07T05:47:16.157928",
     "status": "completed"
    },
    "tags": []
   },
   "outputs": [],
   "source": [
    "def one_hot_encode_categorical(cat_features, cat_names):\n",
    "    enc = OneHotEncoder(sparse=False)\n",
    "    encoded_df = pd.DataFrame(enc.fit_transform(cat_features), columns=enc.get_feature_names(cat_names), index=cat_features.index)\n",
    "    return encoded_df"
   ]
  },
  {
   "cell_type": "code",
   "execution_count": 3,
   "id": "194565c8",
   "metadata": {
    "execution": {
     "iopub.execute_input": "2023-02-07T05:47:16.177252Z",
     "iopub.status.busy": "2023-02-07T05:47:16.176774Z",
     "iopub.status.idle": "2023-02-07T05:47:16.186639Z",
     "shell.execute_reply": "2023-02-07T05:47:16.185132Z"
    },
    "papermill": {
     "duration": 0.016276,
     "end_time": "2023-02-07T05:47:16.189425",
     "exception": false,
     "start_time": "2023-02-07T05:47:16.173149",
     "status": "completed"
    },
    "tags": []
   },
   "outputs": [],
   "source": [
    "def generate_features(df_file_path, test=False):\n",
    "    # read in data and set index to customer ID\n",
    "    df = pd.read_parquet(df_file_path)\n",
    "    df = df.set_index('customer_ID')\n",
    "    \n",
    "    # get X and y; drop dates from X \n",
    "    X = df.drop('S_2', axis=1)\n",
    "    \n",
    "    # delete original dataframe from memory \n",
    "    del df\n",
    "    gc.collect()\n",
    "    \n",
    "    # encode categorical features\n",
    "    cat_features = ['B_30', 'B_38', 'D_114', 'D_116', 'D_117', 'D_120', 'D_126', 'D_63', 'D_64', 'D_66', 'D_68']\n",
    "    encoded_df = one_hot_encode_categorical(X[cat_features], cat_features)\n",
    "    \n",
    "    # fill empty numerical columns with mean \n",
    "    X = X.drop(cat_features, axis=1)\n",
    "    X = X.apply(lambda col: col.fillna(col.mean()))\n",
    "    \n",
    "    # get final encoded and imputed features\n",
    "    X = pd.concat([X, encoded_df], axis=1)\n",
    "\n",
    "    return X \n",
    "    "
   ]
  },
  {
   "cell_type": "code",
   "execution_count": 4,
   "id": "829435d9",
   "metadata": {
    "execution": {
     "iopub.execute_input": "2023-02-07T05:47:16.195881Z",
     "iopub.status.busy": "2023-02-07T05:47:16.195426Z",
     "iopub.status.idle": "2023-02-07T05:51:18.925256Z",
     "shell.execute_reply": "2023-02-07T05:51:18.923836Z"
    },
    "papermill": {
     "duration": 242.738622,
     "end_time": "2023-02-07T05:51:18.930460",
     "exception": false,
     "start_time": "2023-02-07T05:47:16.191838",
     "status": "completed"
    },
    "tags": []
   },
   "outputs": [
    {
     "name": "stderr",
     "output_type": "stream",
     "text": [
      "/opt/conda/lib/python3.7/site-packages/sklearn/utils/deprecation.py:87: FutureWarning: Function get_feature_names is deprecated; get_feature_names is deprecated in 1.0 and will be removed in 1.2. Please use get_feature_names_out instead.\n",
      "  warnings.warn(msg, category=FutureWarning)\n"
     ]
    },
    {
     "data": {
      "text/plain": [
       "0"
      ]
     },
     "execution_count": 4,
     "metadata": {},
     "output_type": "execute_result"
    }
   ],
   "source": [
    "X_test = generate_features('/kaggle/input/amex-data-integer-dtypes-parquet-format/test.parquet', test=True)\n",
    "\n",
    "# these values are not present in test set but are in training\n",
    "# set all to 0 to work in .predict()\n",
    "X_test['D_64_-1'] = 0.0\n",
    "X_test['D_64_1'] = 0.0\n",
    "X_test['D_66_0'] = 0.0\n",
    "X_test['D_68_0'] = 0.0\n",
    "X_test = X_test.reindex(sorted(X_test.columns), axis=1)\n",
    "\n",
    "# split for predicting\n",
    "X_test = X_test.reset_index()\n",
    "X_test.to_parquet('X_test.parquet')\n",
    "X_test.iloc[0:5681881].to_parquet('X_test_1.parquet')\n",
    "X_test.iloc[5681881:].to_parquet('X_test_2.parquet')\n",
    "\n",
    "del X_test\n",
    "gc.collect()\n"
   ]
  }
 ],
 "metadata": {
  "kernelspec": {
   "display_name": "Python 3",
   "language": "python",
   "name": "python3"
  },
  "language_info": {
   "codemirror_mode": {
    "name": "ipython",
    "version": 3
   },
   "file_extension": ".py",
   "mimetype": "text/x-python",
   "name": "python",
   "nbconvert_exporter": "python",
   "pygments_lexer": "ipython3",
   "version": "3.7.12"
  },
  "papermill": {
   "default_parameters": {},
   "duration": 254.188151,
   "end_time": "2023-02-07T05:51:19.859659",
   "environment_variables": {},
   "exception": null,
   "input_path": "__notebook__.ipynb",
   "output_path": "__notebook__.ipynb",
   "parameters": {},
   "start_time": "2023-02-07T05:47:05.671508",
   "version": "2.3.4"
  }
 },
 "nbformat": 4,
 "nbformat_minor": 5
}
