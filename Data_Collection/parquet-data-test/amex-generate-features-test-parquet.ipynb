{
 "cells": [
  {
   "cell_type": "code",
   "execution_count": 1,
   "id": "a1fcb43b",
   "metadata": {
    "_cell_guid": "b1076dfc-b9ad-4769-8c92-a6c4dae69d19",
    "_uuid": "8f2839f25d086af736a60e9eeb907d3b93b6e0e5",
    "execution": {
     "iopub.execute_input": "2023-02-07T02:40:15.709193Z",
     "iopub.status.busy": "2023-02-07T02:40:15.708706Z",
     "iopub.status.idle": "2023-02-07T02:40:17.052999Z",
     "shell.execute_reply": "2023-02-07T02:40:17.051599Z"
    },
    "papermill": {
     "duration": 1.353517,
     "end_time": "2023-02-07T02:40:17.056785",
     "exception": false,
     "start_time": "2023-02-07T02:40:15.703268",
     "status": "completed"
    },
    "tags": []
   },
   "outputs": [],
   "source": [
    "import gc\n",
    "import pandas as pd \n",
    "import numpy as np\n",
    "from sklearn.preprocessing import OneHotEncoder\n",
    "from sklearn.impute import SimpleImputer"
   ]
  },
  {
   "cell_type": "code",
   "execution_count": 2,
   "id": "b0675afa",
   "metadata": {
    "execution": {
     "iopub.execute_input": "2023-02-07T02:40:17.064376Z",
     "iopub.status.busy": "2023-02-07T02:40:17.063940Z",
     "iopub.status.idle": "2023-02-07T02:40:17.069788Z",
     "shell.execute_reply": "2023-02-07T02:40:17.068446Z"
    },
    "papermill": {
     "duration": 0.012698,
     "end_time": "2023-02-07T02:40:17.072558",
     "exception": false,
     "start_time": "2023-02-07T02:40:17.059860",
     "status": "completed"
    },
    "tags": []
   },
   "outputs": [],
   "source": [
    "def one_hot_encode_categorical(cat_features, cat_names):\n",
    "    enc = OneHotEncoder(sparse=False)\n",
    "    encoded_df = pd.DataFrame(enc.fit_transform(cat_features), columns=enc.get_feature_names(cat_names), index=cat_features.index)\n",
    "    return encoded_df"
   ]
  },
  {
   "cell_type": "code",
   "execution_count": 3,
   "id": "1fbbcfca",
   "metadata": {
    "execution": {
     "iopub.execute_input": "2023-02-07T02:40:17.078705Z",
     "iopub.status.busy": "2023-02-07T02:40:17.078310Z",
     "iopub.status.idle": "2023-02-07T02:40:17.088080Z",
     "shell.execute_reply": "2023-02-07T02:40:17.086621Z"
    },
    "papermill": {
     "duration": 0.015994,
     "end_time": "2023-02-07T02:40:17.090715",
     "exception": false,
     "start_time": "2023-02-07T02:40:17.074721",
     "status": "completed"
    },
    "tags": []
   },
   "outputs": [],
   "source": [
    "def generate_features(df_file_path, test=False):\n",
    "    # read in data and set index to customer ID\n",
    "    df = pd.read_parquet(df_file_path)\n",
    "    df = df.set_index('customer_ID')\n",
    "    \n",
    "    # load the extended train targets for training set\n",
    "    if not test:\n",
    "        df = pd.concat([df, pd.read_parquet('/kaggle/input/extended-y-train-parquet/y_train.parquet').set_index('customer_ID')], axis=1)\n",
    "    \n",
    "    # get X and y; drop dates from X \n",
    "    X = df.drop('S_2', axis=1)\n",
    "    \n",
    "    # delete original dataframe from memory \n",
    "    del df\n",
    "    gc.collect()\n",
    "    \n",
    "    # encode categorical features\n",
    "    cat_features = ['B_30', 'B_38', 'D_114', 'D_116', 'D_117', 'D_120', 'D_126', 'D_63', 'D_64', 'D_66', 'D_68']\n",
    "    encoded_df = one_hot_encode_categorical(X[cat_features], cat_features)\n",
    "    \n",
    "    # fill empty numerical columns with mean \n",
    "    X = X.drop(cat_features, axis=1)\n",
    "    X = X.apply(lambda col: col.fillna(col.mean()))\n",
    "    \n",
    "    # get final encoded and imputed features\n",
    "    X = pd.concat([X, encoded_df], axis=1)\n",
    "\n",
    "    return X \n",
    "    "
   ]
  },
  {
   "cell_type": "code",
   "execution_count": 4,
   "id": "c5a243e7",
   "metadata": {
    "execution": {
     "iopub.execute_input": "2023-02-07T02:40:17.097043Z",
     "iopub.status.busy": "2023-02-07T02:40:17.096502Z",
     "iopub.status.idle": "2023-02-07T02:43:54.209247Z",
     "shell.execute_reply": "2023-02-07T02:43:54.207876Z"
    },
    "papermill": {
     "duration": 217.122053,
     "end_time": "2023-02-07T02:43:54.214971",
     "exception": false,
     "start_time": "2023-02-07T02:40:17.092918",
     "status": "completed"
    },
    "tags": []
   },
   "outputs": [
    {
     "name": "stderr",
     "output_type": "stream",
     "text": [
      "/opt/conda/lib/python3.7/site-packages/sklearn/utils/deprecation.py:87: FutureWarning: Function get_feature_names is deprecated; get_feature_names is deprecated in 1.0 and will be removed in 1.2. Please use get_feature_names_out instead.\n",
      "  warnings.warn(msg, category=FutureWarning)\n"
     ]
    },
    {
     "data": {
      "text/plain": [
       "0"
      ]
     },
     "execution_count": 4,
     "metadata": {},
     "output_type": "execute_result"
    }
   ],
   "source": [
    "X_test = generate_features('/kaggle/input/amex-data-integer-dtypes-parquet-format/test.parquet', test=True)\n",
    "\n",
    "# these values are not present in test set but are in training\n",
    "# set all to 0 to work in .predict()\n",
    "X_test['D_64_-1'] = 0.0\n",
    "X_test['D_66_0.0'] = 0.0\n",
    "X_test['D_68_0.0'] = 0.0\n",
    "X_test = X_test.reindex(sorted(X_test.columns), axis=1)\n",
    "\n",
    "X_test = X_test.reset_index()\n",
    "X_test.to_parquet('X_test.parquet')\n",
    "\n",
    "del X_test\n",
    "gc.collect()\n"
   ]
  }
 ],
 "metadata": {
  "kernelspec": {
   "display_name": "Python 3",
   "language": "python",
   "name": "python3"
  },
  "language_info": {
   "codemirror_mode": {
    "name": "ipython",
    "version": 3
   },
   "file_extension": ".py",
   "mimetype": "text/x-python",
   "name": "python",
   "nbconvert_exporter": "python",
   "pygments_lexer": "ipython3",
   "version": "3.7.12"
  },
  "papermill": {
   "default_parameters": {},
   "duration": 228.683567,
   "end_time": "2023-02-07T02:43:55.244596",
   "environment_variables": {},
   "exception": null,
   "input_path": "__notebook__.ipynb",
   "output_path": "__notebook__.ipynb",
   "parameters": {},
   "start_time": "2023-02-07T02:40:06.561029",
   "version": "2.3.4"
  }
 },
 "nbformat": 4,
 "nbformat_minor": 5
}
