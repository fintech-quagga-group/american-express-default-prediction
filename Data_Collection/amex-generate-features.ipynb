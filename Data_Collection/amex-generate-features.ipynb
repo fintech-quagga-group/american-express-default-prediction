{
 "cells": [
  {
   "cell_type": "code",
   "execution_count": 1,
   "id": "50916892",
   "metadata": {
    "_cell_guid": "b1076dfc-b9ad-4769-8c92-a6c4dae69d19",
    "_uuid": "8f2839f25d086af736a60e9eeb907d3b93b6e0e5",
    "execution": {
     "iopub.execute_input": "2023-02-07T22:07:59.092082Z",
     "iopub.status.busy": "2023-02-07T22:07:59.091557Z",
     "iopub.status.idle": "2023-02-07T22:08:00.331452Z",
     "shell.execute_reply": "2023-02-07T22:08:00.330124Z"
    },
    "papermill": {
     "duration": 1.248934,
     "end_time": "2023-02-07T22:08:00.334768",
     "exception": false,
     "start_time": "2023-02-07T22:07:59.085834",
     "status": "completed"
    },
    "tags": []
   },
   "outputs": [],
   "source": [
    "import gc\n",
    "import pandas as pd \n",
    "import numpy as np\n",
    "from sklearn.preprocessing import OneHotEncoder\n",
    "from sklearn.impute import SimpleImputer"
   ]
  },
  {
   "cell_type": "code",
   "execution_count": 2,
   "id": "e06e6d2f",
   "metadata": {
    "execution": {
     "iopub.execute_input": "2023-02-07T22:08:00.343042Z",
     "iopub.status.busy": "2023-02-07T22:08:00.341865Z",
     "iopub.status.idle": "2023-02-07T22:08:00.350183Z",
     "shell.execute_reply": "2023-02-07T22:08:00.348704Z"
    },
    "papermill": {
     "duration": 0.014785,
     "end_time": "2023-02-07T22:08:00.352864",
     "exception": false,
     "start_time": "2023-02-07T22:08:00.338079",
     "status": "completed"
    },
    "tags": []
   },
   "outputs": [],
   "source": [
    "def one_hot_encode_categorical(cat_features, cat_names):\n",
    "    enc = OneHotEncoder(sparse=False)\n",
    "    encoded_df = pd.DataFrame(enc.fit_transform(cat_features), columns=enc.get_feature_names(cat_names), index=cat_features.index)\n",
    "    return encoded_df"
   ]
  },
  {
   "cell_type": "code",
   "execution_count": 3,
   "id": "f71fa928",
   "metadata": {
    "execution": {
     "iopub.execute_input": "2023-02-07T22:08:00.359832Z",
     "iopub.status.busy": "2023-02-07T22:08:00.359451Z",
     "iopub.status.idle": "2023-02-07T22:08:00.367395Z",
     "shell.execute_reply": "2023-02-07T22:08:00.366122Z"
    },
    "papermill": {
     "duration": 0.015081,
     "end_time": "2023-02-07T22:08:00.370602",
     "exception": false,
     "start_time": "2023-02-07T22:08:00.355521",
     "status": "completed"
    },
    "tags": []
   },
   "outputs": [],
   "source": [
    "def simple_impute_numerical(numeric_features, numeric_names):\n",
    "    # current numeric columns are float16, and they will not work when computing mean()\n",
    "    # need to convert to float32\n",
    "    for column in numeric_features.columns:\n",
    "        numeric_features[column] = numeric_features[column].astype(np.float32)\n",
    "\n",
    "    imp_mean = SimpleImputer(missing_values=np.nan, strategy='mean')\n",
    "    numeric_df = pd.DataFrame(imp_mean.fit_transform(numeric_features), columns=numeric_names, index=numeric_features.index)\n",
    "    \n",
    "    # convert back to float16 for lighter load\n",
    "    for column in numeric_df.columns:\n",
    "        numeric_df[column] = numeric_df[column].astype(np.float16)\n",
    "    \n",
    "    return numeric_df"
   ]
  },
  {
   "cell_type": "code",
   "execution_count": 4,
   "id": "06d24000",
   "metadata": {
    "execution": {
     "iopub.execute_input": "2023-02-07T22:08:00.377320Z",
     "iopub.status.busy": "2023-02-07T22:08:00.376861Z",
     "iopub.status.idle": "2023-02-07T22:08:00.385814Z",
     "shell.execute_reply": "2023-02-07T22:08:00.384562Z"
    },
    "papermill": {
     "duration": 0.015065,
     "end_time": "2023-02-07T22:08:00.388179",
     "exception": false,
     "start_time": "2023-02-07T22:08:00.373114",
     "status": "completed"
    },
    "tags": []
   },
   "outputs": [],
   "source": [
    "def generate_x_y(df_file_path, test=False):\n",
    "    # read in data and set index to customer ID\n",
    "    df = pd.read_feather(df_file_path)\n",
    "    df = df.set_index('customer_ID')\n",
    "    \n",
    "    # get X and y; drop dates from X \n",
    "    X = df.drop('S_2', axis=1) if test else df.drop(['S_2', 'target'], axis=1)\n",
    "    y = None if test else df['target']\n",
    "    \n",
    "    # delete original dataframe from memory \n",
    "    del df\n",
    "    gc.collect()\n",
    "    \n",
    "    # encode categorical features\n",
    "    cat_features = ['B_30', 'B_38', 'D_114', 'D_116', 'D_117', 'D_120', 'D_126', 'D_63', 'D_64', 'D_66', 'D_68']\n",
    "    encoded_df = one_hot_encode_categorical(X[cat_features], cat_features)\n",
    "    \n",
    "    \n",
    "    X = X.drop(cat_features, axis=1)\n",
    "    X = simple_impute_numerical(X, list(X.columns))\n",
    "    \n",
    "    # get final encoded and imputed features\n",
    "    X = pd.concat([X, encoded_df], axis=1)\n",
    "\n",
    "    if test: \n",
    "        return X\n",
    "    else: \n",
    "        return (X, y)\n",
    "    \n",
    "    "
   ]
  },
  {
   "cell_type": "code",
   "execution_count": 5,
   "id": "8cc9ab2a",
   "metadata": {
    "execution": {
     "iopub.execute_input": "2023-02-07T22:08:00.394806Z",
     "iopub.status.busy": "2023-02-07T22:08:00.394436Z",
     "iopub.status.idle": "2023-02-07T22:13:41.220694Z",
     "shell.execute_reply": "2023-02-07T22:13:41.219350Z"
    },
    "papermill": {
     "duration": 340.837168,
     "end_time": "2023-02-07T22:13:41.227857",
     "exception": false,
     "start_time": "2023-02-07T22:08:00.390689",
     "status": "completed"
    },
    "tags": []
   },
   "outputs": [
    {
     "name": "stderr",
     "output_type": "stream",
     "text": [
      "/opt/conda/lib/python3.7/site-packages/sklearn/utils/deprecation.py:87: FutureWarning: Function get_feature_names is deprecated; get_feature_names is deprecated in 1.0 and will be removed in 1.2. Please use get_feature_names_out instead.\n",
      "  warnings.warn(msg, category=FutureWarning)\n"
     ]
    },
    {
     "data": {
      "text/plain": [
       "0"
      ]
     },
     "execution_count": 5,
     "metadata": {},
     "output_type": "execute_result"
    }
   ],
   "source": [
    "X_train, y_train = generate_x_y('../input/amexfeather/train_data.ftr')\n",
    "\n",
    "# sort columns for matching with test set \n",
    "X_train = X_train.reindex(sorted(X_train.columns), axis=1)\n",
    "\n",
    "X_train = X_train.reset_index()\n",
    "y_train = y_train.reset_index()\n",
    "X_train.to_feather('X_train.ftr')\n",
    "y_train.to_feather('y_train.ftr')\n",
    "\n",
    "del X_train, y_train\n",
    "gc.collect()"
   ]
  }
 ],
 "metadata": {
  "kernelspec": {
   "display_name": "Python 3",
   "language": "python",
   "name": "python3"
  },
  "language_info": {
   "codemirror_mode": {
    "name": "ipython",
    "version": 3
   },
   "file_extension": ".py",
   "mimetype": "text/x-python",
   "name": "python",
   "nbconvert_exporter": "python",
   "pygments_lexer": "ipython3",
   "version": "3.7.12"
  },
  "papermill": {
   "default_parameters": {},
   "duration": 351.481431,
   "end_time": "2023-02-07T22:13:42.161644",
   "environment_variables": {},
   "exception": null,
   "input_path": "__notebook__.ipynb",
   "output_path": "__notebook__.ipynb",
   "parameters": {},
   "start_time": "2023-02-07T22:07:50.680213",
   "version": "2.3.4"
  }
 },
 "nbformat": 4,
 "nbformat_minor": 5
}
