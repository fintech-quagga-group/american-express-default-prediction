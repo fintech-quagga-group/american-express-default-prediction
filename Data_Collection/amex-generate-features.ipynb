{
 "cells": [
  {
   "cell_type": "code",
   "execution_count": 1,
   "id": "1949b803",
   "metadata": {
    "_cell_guid": "b1076dfc-b9ad-4769-8c92-a6c4dae69d19",
    "_uuid": "8f2839f25d086af736a60e9eeb907d3b93b6e0e5",
    "execution": {
     "iopub.execute_input": "2023-02-05T22:44:56.640772Z",
     "iopub.status.busy": "2023-02-05T22:44:56.640193Z",
     "iopub.status.idle": "2023-02-05T22:44:58.016013Z",
     "shell.execute_reply": "2023-02-05T22:44:58.014510Z"
    },
    "papermill": {
     "duration": 1.38464,
     "end_time": "2023-02-05T22:44:58.019158",
     "exception": false,
     "start_time": "2023-02-05T22:44:56.634518",
     "status": "completed"
    },
    "tags": []
   },
   "outputs": [],
   "source": [
    "import gc\n",
    "import pandas as pd \n",
    "import numpy as np\n",
    "from sklearn.preprocessing import OneHotEncoder\n",
    "from sklearn.impute import SimpleImputer"
   ]
  },
  {
   "cell_type": "code",
   "execution_count": 2,
   "id": "a5262e30",
   "metadata": {
    "execution": {
     "iopub.execute_input": "2023-02-05T22:44:58.026955Z",
     "iopub.status.busy": "2023-02-05T22:44:58.026059Z",
     "iopub.status.idle": "2023-02-05T22:44:58.032402Z",
     "shell.execute_reply": "2023-02-05T22:44:58.031318Z"
    },
    "papermill": {
     "duration": 0.012789,
     "end_time": "2023-02-05T22:44:58.034591",
     "exception": false,
     "start_time": "2023-02-05T22:44:58.021802",
     "status": "completed"
    },
    "tags": []
   },
   "outputs": [],
   "source": [
    "def one_hot_encode_categorical(cat_features, cat_names):\n",
    "    enc = OneHotEncoder(sparse=False)\n",
    "    encoded_df = pd.DataFrame(enc.fit_transform(cat_features), columns=enc.get_feature_names(cat_names), index=cat_features.index)\n",
    "    return encoded_df"
   ]
  },
  {
   "cell_type": "code",
   "execution_count": 3,
   "id": "53670a4d",
   "metadata": {
    "execution": {
     "iopub.execute_input": "2023-02-05T22:44:58.041002Z",
     "iopub.status.busy": "2023-02-05T22:44:58.040513Z",
     "iopub.status.idle": "2023-02-05T22:44:58.048782Z",
     "shell.execute_reply": "2023-02-05T22:44:58.047416Z"
    },
    "papermill": {
     "duration": 0.014375,
     "end_time": "2023-02-05T22:44:58.051223",
     "exception": false,
     "start_time": "2023-02-05T22:44:58.036848",
     "status": "completed"
    },
    "tags": []
   },
   "outputs": [],
   "source": [
    "def simple_impute_numerical(numeric_features, numeric_names):\n",
    "    # current numeric columns are float16, and they will not work when computing mean()\n",
    "    # need to convert to float32\n",
    "    for column in numeric_features.columns:\n",
    "        numeric_features[column] = numeric_features[column].astype(np.float32)\n",
    "\n",
    "    imp_mean = SimpleImputer(missing_values=np.nan, strategy='mean')\n",
    "    numeric_df = pd.DataFrame(imp_mean.fit_transform(numeric_features), columns=numeric_names, index=numeric_features.index)\n",
    "    \n",
    "    # convert back to float16 for lighter load\n",
    "    for column in numeric_df.columns:\n",
    "        numeric_df[column] = numeric_df[column].astype(np.float16)\n",
    "    \n",
    "    return numeric_df"
   ]
  },
  {
   "cell_type": "code",
   "execution_count": 4,
   "id": "9df7d6f1",
   "metadata": {
    "execution": {
     "iopub.execute_input": "2023-02-05T22:44:58.057961Z",
     "iopub.status.busy": "2023-02-05T22:44:58.056910Z",
     "iopub.status.idle": "2023-02-05T22:44:58.066129Z",
     "shell.execute_reply": "2023-02-05T22:44:58.064903Z"
    },
    "papermill": {
     "duration": 0.014911,
     "end_time": "2023-02-05T22:44:58.068405",
     "exception": false,
     "start_time": "2023-02-05T22:44:58.053494",
     "status": "completed"
    },
    "tags": []
   },
   "outputs": [],
   "source": [
    "def generate_x_y(df_file_path, test=False):\n",
    "    # read in data and set index to customer ID\n",
    "    df = pd.read_feather(df_file_path)\n",
    "    df = df.set_index('customer_ID')\n",
    "    \n",
    "    # get X and y; drop dates from X \n",
    "    X = df.drop('S_2', axis=1) if test else df.drop(['S_2', 'target'], axis=1)\n",
    "    y = None if test else df['target']\n",
    "    \n",
    "    # delete original dataframe from memory \n",
    "    del df\n",
    "    gc.collect()\n",
    "    \n",
    "    # encode categorical features\n",
    "    cat_features = ['B_30', 'B_38', 'D_114', 'D_116', 'D_117', 'D_120', 'D_126', 'D_63', 'D_64', 'D_66', 'D_68']\n",
    "    encoded_df = one_hot_encode_categorical(X[cat_features], cat_features)\n",
    "    \n",
    "    \n",
    "    X = X.drop(cat_features, axis=1)\n",
    "    X = simple_impute_numerical(X, list(X.columns))\n",
    "    \n",
    "    # get final encoded and imputed features\n",
    "    X = pd.concat([X, encoded_df], axis=1)\n",
    "\n",
    "    if test: \n",
    "        return X\n",
    "    else: \n",
    "        return (X, y)\n",
    "    \n",
    "    "
   ]
  },
  {
   "cell_type": "code",
   "execution_count": 5,
   "id": "c63744a3",
   "metadata": {
    "execution": {
     "iopub.execute_input": "2023-02-05T22:44:58.074978Z",
     "iopub.status.busy": "2023-02-05T22:44:58.074349Z",
     "iopub.status.idle": "2023-02-05T22:52:57.822170Z",
     "shell.execute_reply": "2023-02-05T22:52:57.820595Z"
    },
    "papermill": {
     "duration": 479.75778,
     "end_time": "2023-02-05T22:52:57.828540",
     "exception": false,
     "start_time": "2023-02-05T22:44:58.070760",
     "status": "completed"
    },
    "tags": []
   },
   "outputs": [
    {
     "name": "stderr",
     "output_type": "stream",
     "text": [
      "/opt/conda/lib/python3.7/site-packages/sklearn/utils/deprecation.py:87: FutureWarning: Function get_feature_names is deprecated; get_feature_names is deprecated in 1.0 and will be removed in 1.2. Please use get_feature_names_out instead.\n",
      "  warnings.warn(msg, category=FutureWarning)\n"
     ]
    },
    {
     "data": {
      "text/plain": [
       "0"
      ]
     },
     "execution_count": 5,
     "metadata": {},
     "output_type": "execute_result"
    }
   ],
   "source": [
    "X_train, y_train = generate_x_y('../input/amexfeather/train_data.ftr')\n",
    "\n",
    "# sort columns for matching with test set \n",
    "X_train = X_train.reindex(sorted(X_train.columns), axis=1)\n",
    "\n",
    "X_train = X_train.reset_index()\n",
    "y_train = y_train.reset_index()\n",
    "X_train.to_feather('X_train.parquet')\n",
    "y_train.to_feather('y_train.parquet')\n",
    "\n",
    "del X_train, y_train\n",
    "gc.collect()"
   ]
  }
 ],
 "metadata": {
  "kernelspec": {
   "display_name": "Python 3",
   "language": "python",
   "name": "python3"
  },
  "language_info": {
   "codemirror_mode": {
    "name": "ipython",
    "version": 3
   },
   "file_extension": ".py",
   "mimetype": "text/x-python",
   "name": "python",
   "nbconvert_exporter": "python",
   "pygments_lexer": "ipython3",
   "version": "3.7.12"
  },
  "papermill": {
   "default_parameters": {},
   "duration": 491.047914,
   "end_time": "2023-02-05T22:52:58.757678",
   "environment_variables": {},
   "exception": null,
   "input_path": "__notebook__.ipynb",
   "output_path": "__notebook__.ipynb",
   "parameters": {},
   "start_time": "2023-02-05T22:44:47.709764",
   "version": "2.3.4"
  }
 },
 "nbformat": 4,
 "nbformat_minor": 5
}
