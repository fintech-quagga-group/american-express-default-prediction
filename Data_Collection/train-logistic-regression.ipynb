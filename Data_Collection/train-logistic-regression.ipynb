{
 "cells": [
  {
   "cell_type": "code",
   "execution_count": 1,
   "id": "d6f411f8",
   "metadata": {
    "_cell_guid": "b1076dfc-b9ad-4769-8c92-a6c4dae69d19",
    "_uuid": "8f2839f25d086af736a60e9eeb907d3b93b6e0e5",
    "execution": {
     "iopub.execute_input": "2023-02-08T02:04:06.880341Z",
     "iopub.status.busy": "2023-02-08T02:04:06.879865Z",
     "iopub.status.idle": "2023-02-08T02:04:08.063570Z",
     "shell.execute_reply": "2023-02-08T02:04:08.062365Z"
    },
    "papermill": {
     "duration": 1.192049,
     "end_time": "2023-02-08T02:04:08.066667",
     "exception": false,
     "start_time": "2023-02-08T02:04:06.874618",
     "status": "completed"
    },
    "tags": []
   },
   "outputs": [],
   "source": [
    "import pickle\n",
    "import pandas as pd\n",
    "from sklearn.linear_model import LogisticRegression"
   ]
  },
  {
   "cell_type": "code",
   "execution_count": 2,
   "id": "6d7a9f9c",
   "metadata": {
    "execution": {
     "iopub.execute_input": "2023-02-08T02:04:08.076540Z",
     "iopub.status.busy": "2023-02-08T02:04:08.076018Z",
     "iopub.status.idle": "2023-02-08T02:04:33.183881Z",
     "shell.execute_reply": "2023-02-08T02:04:33.182632Z"
    },
    "papermill": {
     "duration": 25.115568,
     "end_time": "2023-02-08T02:04:33.186574",
     "exception": false,
     "start_time": "2023-02-08T02:04:08.071006",
     "status": "completed"
    },
    "tags": []
   },
   "outputs": [],
   "source": [
    "X = pd.read_feather('../input/amex-imputed-and-1hot-encoded/X_train.ftr')\n",
    "y = pd.read_feather('../input/amex-imputed-and-1hot-encoded/y_train.ftr')\n",
    "\n",
    "X = X.set_index('customer_ID')\n",
    "y = y.set_index('customer_ID')['target']"
   ]
  },
  {
   "cell_type": "markdown",
   "id": "dfc36315",
   "metadata": {
    "execution": {
     "iopub.execute_input": "2023-02-07T23:57:05.559392Z",
     "iopub.status.busy": "2023-02-07T23:57:05.558967Z",
     "iopub.status.idle": "2023-02-07T23:57:05.587369Z",
     "shell.execute_reply": "2023-02-07T23:57:05.586391Z",
     "shell.execute_reply.started": "2023-02-07T23:57:05.559313Z"
    },
    "papermill": {
     "duration": 0.002085,
     "end_time": "2023-02-08T02:04:33.191226",
     "exception": false,
     "start_time": "2023-02-08T02:04:33.189141",
     "status": "completed"
    },
    "tags": []
   },
   "source": [
    "Function to calculate competition's evaluation metric: https://www.kaggle.com/code/inversion/amex-competition-metric-python"
   ]
  },
  {
   "cell_type": "code",
   "execution_count": 3,
   "id": "cafd685f",
   "metadata": {
    "execution": {
     "iopub.execute_input": "2023-02-08T02:04:33.197627Z",
     "iopub.status.busy": "2023-02-08T02:04:33.197055Z",
     "iopub.status.idle": "2023-02-08T02:04:33.209343Z",
     "shell.execute_reply": "2023-02-08T02:04:33.208231Z"
    },
    "papermill": {
     "duration": 0.01831,
     "end_time": "2023-02-08T02:04:33.211777",
     "exception": false,
     "start_time": "2023-02-08T02:04:33.193467",
     "status": "completed"
    },
    "tags": []
   },
   "outputs": [],
   "source": [
    "def amex_metric(y_true: pd.DataFrame, y_pred: pd.DataFrame) -> float:\n",
    "\n",
    "    def top_four_percent_captured(y_true: pd.DataFrame, y_pred: pd.DataFrame) -> float:\n",
    "        df = (pd.concat([y_true, y_pred], axis='columns')\n",
    "              .sort_values('prediction', ascending=False))\n",
    "        df['weight'] = df['target'].apply(lambda x: 20 if x==0 else 1)\n",
    "        four_pct_cutoff = int(0.04 * df['weight'].sum())\n",
    "        df['weight_cumsum'] = df['weight'].cumsum()\n",
    "        df_cutoff = df.loc[df['weight_cumsum'] <= four_pct_cutoff]\n",
    "        return (df_cutoff['target'] == 1).sum() / (df['target'] == 1).sum()\n",
    "        \n",
    "    def weighted_gini(y_true: pd.DataFrame, y_pred: pd.DataFrame) -> float:\n",
    "        df = (pd.concat([y_true, y_pred], axis='columns')\n",
    "              .sort_values('prediction', ascending=False))\n",
    "        df['weight'] = df['target'].apply(lambda x: 20 if x==0 else 1)\n",
    "        df['random'] = (df['weight'] / df['weight'].sum()).cumsum()\n",
    "        total_pos = (df['target'] * df['weight']).sum()\n",
    "        df['cum_pos_found'] = (df['target'] * df['weight']).cumsum()\n",
    "        df['lorentz'] = df['cum_pos_found'] / total_pos\n",
    "        df['gini'] = (df['lorentz'] - df['random']) * df['weight']\n",
    "        return df['gini'].sum()\n",
    "\n",
    "    def normalized_weighted_gini(y_true: pd.DataFrame, y_pred: pd.DataFrame) -> float:\n",
    "        y_true_pred = y_true.rename(columns={'target': 'prediction'})\n",
    "        return weighted_gini(y_true, y_pred) / weighted_gini(y_true, y_true_pred)\n",
    "\n",
    "    g = normalized_weighted_gini(y_true, y_pred)\n",
    "    d = top_four_percent_captured(y_true, y_pred)\n",
    "\n",
    "    return 0.5 * (g + d)"
   ]
  },
  {
   "cell_type": "code",
   "execution_count": 4,
   "id": "c4b1315a",
   "metadata": {
    "execution": {
     "iopub.execute_input": "2023-02-08T02:04:33.218370Z",
     "iopub.status.busy": "2023-02-08T02:04:33.217973Z",
     "iopub.status.idle": "2023-02-08T02:07:51.113906Z",
     "shell.execute_reply": "2023-02-08T02:07:51.111157Z"
    },
    "papermill": {
     "duration": 197.92472,
     "end_time": "2023-02-08T02:07:51.139072",
     "exception": false,
     "start_time": "2023-02-08T02:04:33.214352",
     "status": "completed"
    },
    "tags": []
   },
   "outputs": [
    {
     "name": "stderr",
     "output_type": "stream",
     "text": [
      "/opt/conda/lib/python3.7/site-packages/sklearn/linear_model/_logistic.py:818: ConvergenceWarning: lbfgs failed to converge (status=1):\n",
      "STOP: TOTAL NO. of ITERATIONS REACHED LIMIT.\n",
      "\n",
      "Increase the number of iterations (max_iter) or scale the data as shown in:\n",
      "    https://scikit-learn.org/stable/modules/preprocessing.html\n",
      "Please also refer to the documentation for alternative solver options:\n",
      "    https://scikit-learn.org/stable/modules/linear_model.html#logistic-regression\n",
      "  extra_warning_msg=_LOGISTIC_SOLVER_CONVERGENCE_MSG,\n"
     ]
    }
   ],
   "source": [
    "model = LogisticRegression()\n",
    "model = model.fit(X, y)"
   ]
  },
  {
   "cell_type": "code",
   "execution_count": 5,
   "id": "b50a972d",
   "metadata": {
    "execution": {
     "iopub.execute_input": "2023-02-08T02:07:51.157701Z",
     "iopub.status.busy": "2023-02-08T02:07:51.155635Z",
     "iopub.status.idle": "2023-02-08T02:08:12.078270Z",
     "shell.execute_reply": "2023-02-08T02:08:12.076996Z"
    },
    "papermill": {
     "duration": 20.93556,
     "end_time": "2023-02-08T02:08:12.080984",
     "exception": false,
     "start_time": "2023-02-08T02:07:51.145424",
     "status": "completed"
    },
    "tags": []
   },
   "outputs": [
    {
     "name": "stdout",
     "output_type": "stream",
     "text": [
      "0.4820440203011267\n"
     ]
    }
   ],
   "source": [
    "preds = model.predict(X)\n",
    "print(amex_metric(pd.read_feather('../input/amex-imputed-and-1hot-encoded/y_train.ftr').set_index('customer_ID'), pd.DataFrame(preds, index=y.index, columns=['prediction'])))"
   ]
  },
  {
   "cell_type": "code",
   "execution_count": 6,
   "id": "70074d58",
   "metadata": {
    "execution": {
     "iopub.execute_input": "2023-02-08T02:08:12.088350Z",
     "iopub.status.busy": "2023-02-08T02:08:12.088003Z",
     "iopub.status.idle": "2023-02-08T02:08:12.094980Z",
     "shell.execute_reply": "2023-02-08T02:08:12.093888Z"
    },
    "papermill": {
     "duration": 0.013415,
     "end_time": "2023-02-08T02:08:12.097398",
     "exception": false,
     "start_time": "2023-02-08T02:08:12.083983",
     "status": "completed"
    },
    "tags": []
   },
   "outputs": [],
   "source": [
    "pickle.dump(model, open('logistic_regression_model.sav', 'wb'))"
   ]
  }
 ],
 "metadata": {
  "kernelspec": {
   "display_name": "Python 3",
   "language": "python",
   "name": "python3"
  },
  "language_info": {
   "codemirror_mode": {
    "name": "ipython",
    "version": 3
   },
   "file_extension": ".py",
   "mimetype": "text/x-python",
   "name": "python",
   "nbconvert_exporter": "python",
   "pygments_lexer": "ipython3",
   "version": "3.7.12"
  },
  "papermill": {
   "default_parameters": {},
   "duration": 254.807951,
   "end_time": "2023-02-08T02:08:13.224114",
   "environment_variables": {},
   "exception": null,
   "input_path": "__notebook__.ipynb",
   "output_path": "__notebook__.ipynb",
   "parameters": {},
   "start_time": "2023-02-08T02:03:58.416163",
   "version": "2.3.4"
  }
 },
 "nbformat": 4,
 "nbformat_minor": 5
}
