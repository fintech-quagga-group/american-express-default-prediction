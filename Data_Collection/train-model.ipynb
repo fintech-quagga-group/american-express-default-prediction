{
 "cells": [
  {
   "cell_type": "code",
   "execution_count": 1,
   "id": "c052679a",
   "metadata": {
    "_cell_guid": "b1076dfc-b9ad-4769-8c92-a6c4dae69d19",
    "_uuid": "8f2839f25d086af736a60e9eeb907d3b93b6e0e5",
    "execution": {
     "iopub.execute_input": "2023-02-05T23:50:33.443448Z",
     "iopub.status.busy": "2023-02-05T23:50:33.443032Z",
     "iopub.status.idle": "2023-02-05T23:50:34.589020Z",
     "shell.execute_reply": "2023-02-05T23:50:34.587449Z"
    },
    "papermill": {
     "duration": 1.153882,
     "end_time": "2023-02-05T23:50:34.591948",
     "exception": false,
     "start_time": "2023-02-05T23:50:33.438066",
     "status": "completed"
    },
    "tags": []
   },
   "outputs": [],
   "source": [
    "import pickle\n",
    "import pandas as pd\n",
    "from sklearn.tree import DecisionTreeClassifier"
   ]
  },
  {
   "cell_type": "code",
   "execution_count": 2,
   "id": "4b8307ef",
   "metadata": {
    "execution": {
     "iopub.execute_input": "2023-02-05T23:50:34.598900Z",
     "iopub.status.busy": "2023-02-05T23:50:34.598516Z",
     "iopub.status.idle": "2023-02-05T23:50:52.456501Z",
     "shell.execute_reply": "2023-02-05T23:50:52.455304Z"
    },
    "papermill": {
     "duration": 17.863908,
     "end_time": "2023-02-05T23:50:52.458760",
     "exception": false,
     "start_time": "2023-02-05T23:50:34.594852",
     "status": "completed"
    },
    "tags": []
   },
   "outputs": [],
   "source": [
    "X = pd.read_feather('../input/amex-imputed-and-1hot-encoded/X_train.parquet')\n",
    "y = pd.read_feather('../input/amex-imputed-and-1hot-encoded/y_train.parquet')\n",
    "\n",
    "X = X.set_index('customer_ID')\n",
    "y = y.set_index('customer_ID')"
   ]
  },
  {
   "cell_type": "code",
   "execution_count": 3,
   "id": "08882759",
   "metadata": {
    "execution": {
     "iopub.execute_input": "2023-02-05T23:50:52.465914Z",
     "iopub.status.busy": "2023-02-05T23:50:52.464840Z",
     "iopub.status.idle": "2023-02-05T23:50:52.470479Z",
     "shell.execute_reply": "2023-02-05T23:50:52.469244Z"
    },
    "papermill": {
     "duration": 0.011157,
     "end_time": "2023-02-05T23:50:52.472564",
     "exception": false,
     "start_time": "2023-02-05T23:50:52.461407",
     "status": "completed"
    },
    "tags": []
   },
   "outputs": [],
   "source": [
    "X = X.iloc[0:200]\n",
    "y = y.iloc[0:200]"
   ]
  },
  {
   "cell_type": "code",
   "execution_count": 4,
   "id": "7eb14eb0",
   "metadata": {
    "execution": {
     "iopub.execute_input": "2023-02-05T23:50:52.479251Z",
     "iopub.status.busy": "2023-02-05T23:50:52.478876Z",
     "iopub.status.idle": "2023-02-05T23:50:52.505136Z",
     "shell.execute_reply": "2023-02-05T23:50:52.503790Z"
    },
    "papermill": {
     "duration": 0.032455,
     "end_time": "2023-02-05T23:50:52.507457",
     "exception": false,
     "start_time": "2023-02-05T23:50:52.475002",
     "status": "completed"
    },
    "tags": []
   },
   "outputs": [],
   "source": [
    "dtc = DecisionTreeClassifier()\n",
    "dtc = dtc.fit(X, y)"
   ]
  },
  {
   "cell_type": "markdown",
   "id": "94e379ba",
   "metadata": {
    "papermill": {
     "duration": 0.002397,
     "end_time": "2023-02-05T23:50:52.512483",
     "exception": false,
     "start_time": "2023-02-05T23:50:52.510086",
     "status": "completed"
    },
    "tags": []
   },
   "source": [
    "Function to calculate competition's evaluation metric: https://www.kaggle.com/code/inversion/amex-competition-metric-python"
   ]
  },
  {
   "cell_type": "code",
   "execution_count": 5,
   "id": "0a92564f",
   "metadata": {
    "_kg_hide-input": true,
    "execution": {
     "iopub.execute_input": "2023-02-05T23:50:52.519148Z",
     "iopub.status.busy": "2023-02-05T23:50:52.518829Z",
     "iopub.status.idle": "2023-02-05T23:50:52.530414Z",
     "shell.execute_reply": "2023-02-05T23:50:52.529452Z"
    },
    "jupyter": {
     "source_hidden": true
    },
    "papermill": {
     "duration": 0.017623,
     "end_time": "2023-02-05T23:50:52.532630",
     "exception": false,
     "start_time": "2023-02-05T23:50:52.515007",
     "status": "completed"
    },
    "tags": []
   },
   "outputs": [],
   "source": [
    "def amex_metric(y_true: pd.DataFrame, y_pred: pd.DataFrame) -> float:\n",
    "\n",
    "    def top_four_percent_captured(y_true: pd.DataFrame, y_pred: pd.DataFrame) -> float:\n",
    "        df = (pd.concat([y_true, y_pred], axis='columns')\n",
    "              .sort_values('prediction', ascending=False))\n",
    "        df['weight'] = df['target'].apply(lambda x: 20 if x==0 else 1)\n",
    "        four_pct_cutoff = int(0.04 * df['weight'].sum())\n",
    "        df['weight_cumsum'] = df['weight'].cumsum()\n",
    "        df_cutoff = df.loc[df['weight_cumsum'] <= four_pct_cutoff]\n",
    "        return (df_cutoff['target'] == 1).sum() / (df['target'] == 1).sum()\n",
    "        \n",
    "    def weighted_gini(y_true: pd.DataFrame, y_pred: pd.DataFrame) -> float:\n",
    "        df = (pd.concat([y_true, y_pred], axis='columns')\n",
    "              .sort_values('prediction', ascending=False))\n",
    "        df['weight'] = df['target'].apply(lambda x: 20 if x==0 else 1)\n",
    "        df['random'] = (df['weight'] / df['weight'].sum()).cumsum()\n",
    "        total_pos = (df['target'] * df['weight']).sum()\n",
    "        df['cum_pos_found'] = (df['target'] * df['weight']).cumsum()\n",
    "        df['lorentz'] = df['cum_pos_found'] / total_pos\n",
    "        df['gini'] = (df['lorentz'] - df['random']) * df['weight']\n",
    "        return df['gini'].sum()\n",
    "\n",
    "    def normalized_weighted_gini(y_true: pd.DataFrame, y_pred: pd.DataFrame) -> float:\n",
    "        y_true_pred = y_true.rename(columns={'target': 'prediction'})\n",
    "        return weighted_gini(y_true, y_pred) / weighted_gini(y_true, y_true_pred)\n",
    "\n",
    "    g = normalized_weighted_gini(y_true, y_pred)\n",
    "    d = top_four_percent_captured(y_true, y_pred)\n",
    "\n",
    "    return 0.5 * (g + d)"
   ]
  },
  {
   "cell_type": "code",
   "execution_count": 6,
   "id": "629c7f6e",
   "metadata": {
    "execution": {
     "iopub.execute_input": "2023-02-05T23:50:52.539421Z",
     "iopub.status.busy": "2023-02-05T23:50:52.539075Z",
     "iopub.status.idle": "2023-02-05T23:50:52.558484Z",
     "shell.execute_reply": "2023-02-05T23:50:52.557163Z"
    },
    "papermill": {
     "duration": 0.025429,
     "end_time": "2023-02-05T23:50:52.560706",
     "exception": false,
     "start_time": "2023-02-05T23:50:52.535277",
     "status": "completed"
    },
    "tags": []
   },
   "outputs": [
    {
     "name": "stdout",
     "output_type": "stream",
     "text": [
      "1.0\n"
     ]
    }
   ],
   "source": [
    "preds = dtc.predict(X)\n",
    "print(amex_metric(y, pd.DataFrame(preds, index=y.index, columns=['prediction'])))"
   ]
  },
  {
   "cell_type": "code",
   "execution_count": 7,
   "id": "f627f3bd",
   "metadata": {
    "execution": {
     "iopub.execute_input": "2023-02-05T23:50:52.567468Z",
     "iopub.status.busy": "2023-02-05T23:50:52.567068Z",
     "iopub.status.idle": "2023-02-05T23:50:52.572355Z",
     "shell.execute_reply": "2023-02-05T23:50:52.571346Z"
    },
    "papermill": {
     "duration": 0.011406,
     "end_time": "2023-02-05T23:50:52.574739",
     "exception": false,
     "start_time": "2023-02-05T23:50:52.563333",
     "status": "completed"
    },
    "tags": []
   },
   "outputs": [],
   "source": [
    "pickle.dump(dtc, open('decision_tree_classifier_model.sav', 'wb'))"
   ]
  }
 ],
 "metadata": {
  "kernelspec": {
   "display_name": "Python 3",
   "language": "python",
   "name": "python3"
  },
  "language_info": {
   "codemirror_mode": {
    "name": "ipython",
    "version": 3
   },
   "file_extension": ".py",
   "mimetype": "text/x-python",
   "name": "python",
   "nbconvert_exporter": "python",
   "pygments_lexer": "ipython3",
   "version": "3.7.12"
  },
  "papermill": {
   "default_parameters": {},
   "duration": 27.331441,
   "end_time": "2023-02-05T23:50:53.398014",
   "environment_variables": {},
   "exception": null,
   "input_path": "__notebook__.ipynb",
   "output_path": "__notebook__.ipynb",
   "parameters": {},
   "start_time": "2023-02-05T23:50:26.066573",
   "version": "2.3.4"
  }
 },
 "nbformat": 4,
 "nbformat_minor": 5
}
