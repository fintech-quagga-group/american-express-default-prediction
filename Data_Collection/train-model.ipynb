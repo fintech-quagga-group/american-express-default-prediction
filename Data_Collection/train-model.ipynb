{
 "cells": [
  {
   "cell_type": "code",
   "execution_count": 1,
   "id": "f8eea4d3",
   "metadata": {
    "_cell_guid": "b1076dfc-b9ad-4769-8c92-a6c4dae69d19",
    "_uuid": "8f2839f25d086af736a60e9eeb907d3b93b6e0e5",
    "execution": {
     "iopub.execute_input": "2023-02-05T23:22:22.486366Z",
     "iopub.status.busy": "2023-02-05T23:22:22.485905Z",
     "iopub.status.idle": "2023-02-05T23:22:23.744342Z",
     "shell.execute_reply": "2023-02-05T23:22:23.743249Z"
    },
    "papermill": {
     "duration": 1.266434,
     "end_time": "2023-02-05T23:22:23.747150",
     "exception": false,
     "start_time": "2023-02-05T23:22:22.480716",
     "status": "completed"
    },
    "tags": []
   },
   "outputs": [],
   "source": [
    "import pickle\n",
    "import pandas as pd\n",
    "from sklearn.tree import DecisionTreeClassifier"
   ]
  },
  {
   "cell_type": "code",
   "execution_count": 2,
   "id": "4a2dd73f",
   "metadata": {
    "execution": {
     "iopub.execute_input": "2023-02-05T23:22:23.755213Z",
     "iopub.status.busy": "2023-02-05T23:22:23.753985Z",
     "iopub.status.idle": "2023-02-05T23:22:47.656301Z",
     "shell.execute_reply": "2023-02-05T23:22:47.655258Z"
    },
    "papermill": {
     "duration": 23.908771,
     "end_time": "2023-02-05T23:22:47.659037",
     "exception": false,
     "start_time": "2023-02-05T23:22:23.750266",
     "status": "completed"
    },
    "tags": []
   },
   "outputs": [],
   "source": [
    "X = pd.read_feather('../input/amex-imputed-and-1hot-encoded/X_train.parquet')\n",
    "y = pd.read_feather('../input/amex-imputed-and-1hot-encoded/y_train.parquet')\n",
    "\n",
    "X = X.set_index('customer_ID')\n",
    "y = y.set_index('customer_ID')"
   ]
  },
  {
   "cell_type": "code",
   "execution_count": 3,
   "id": "3d8208fc",
   "metadata": {
    "execution": {
     "iopub.execute_input": "2023-02-05T23:22:47.665170Z",
     "iopub.status.busy": "2023-02-05T23:22:47.664772Z",
     "iopub.status.idle": "2023-02-05T23:22:47.670027Z",
     "shell.execute_reply": "2023-02-05T23:22:47.668837Z"
    },
    "papermill": {
     "duration": 0.010976,
     "end_time": "2023-02-05T23:22:47.672454",
     "exception": false,
     "start_time": "2023-02-05T23:22:47.661478",
     "status": "completed"
    },
    "tags": []
   },
   "outputs": [],
   "source": [
    "X = X.iloc[0:200]\n",
    "y = y.iloc[0:200]"
   ]
  },
  {
   "cell_type": "code",
   "execution_count": 4,
   "id": "2ccbd7b1",
   "metadata": {
    "execution": {
     "iopub.execute_input": "2023-02-05T23:22:47.678275Z",
     "iopub.status.busy": "2023-02-05T23:22:47.677912Z",
     "iopub.status.idle": "2023-02-05T23:22:47.986022Z",
     "shell.execute_reply": "2023-02-05T23:22:47.984722Z"
    },
    "papermill": {
     "duration": 0.314352,
     "end_time": "2023-02-05T23:22:47.989036",
     "exception": false,
     "start_time": "2023-02-05T23:22:47.674684",
     "status": "completed"
    },
    "tags": []
   },
   "outputs": [],
   "source": [
    "dtc = DecisionTreeClassifier()\n",
    "dtc = dtc.fit(X, y)"
   ]
  },
  {
   "cell_type": "code",
   "execution_count": 5,
   "id": "4b36924b",
   "metadata": {
    "execution": {
     "iopub.execute_input": "2023-02-05T23:22:47.995398Z",
     "iopub.status.busy": "2023-02-05T23:22:47.994988Z",
     "iopub.status.idle": "2023-02-05T23:22:48.001453Z",
     "shell.execute_reply": "2023-02-05T23:22:48.000507Z"
    },
    "papermill": {
     "duration": 0.01218,
     "end_time": "2023-02-05T23:22:48.003606",
     "exception": false,
     "start_time": "2023-02-05T23:22:47.991426",
     "status": "completed"
    },
    "tags": []
   },
   "outputs": [],
   "source": [
    "pickle.dump(dtc, open('decision_tree_classifier_model.sav', 'wb'))"
   ]
  }
 ],
 "metadata": {
  "kernelspec": {
   "display_name": "Python 3",
   "language": "python",
   "name": "python3"
  },
  "language_info": {
   "codemirror_mode": {
    "name": "ipython",
    "version": 3
   },
   "file_extension": ".py",
   "mimetype": "text/x-python",
   "name": "python",
   "nbconvert_exporter": "python",
   "pygments_lexer": "ipython3",
   "version": "3.7.12"
  },
  "papermill": {
   "default_parameters": {},
   "duration": 34.817242,
   "end_time": "2023-02-05T23:22:48.829731",
   "environment_variables": {},
   "exception": null,
   "input_path": "__notebook__.ipynb",
   "output_path": "__notebook__.ipynb",
   "parameters": {},
   "start_time": "2023-02-05T23:22:14.012489",
   "version": "2.3.4"
  }
 },
 "nbformat": 4,
 "nbformat_minor": 5
}
