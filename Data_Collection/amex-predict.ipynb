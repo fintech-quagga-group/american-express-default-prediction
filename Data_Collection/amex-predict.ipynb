{
 "cells": [
  {
   "cell_type": "code",
   "execution_count": 1,
   "id": "a392f078",
   "metadata": {
    "_cell_guid": "b1076dfc-b9ad-4769-8c92-a6c4dae69d19",
    "_uuid": "8f2839f25d086af736a60e9eeb907d3b93b6e0e5",
    "execution": {
     "iopub.execute_input": "2023-02-06T02:32:10.105099Z",
     "iopub.status.busy": "2023-02-06T02:32:10.104428Z",
     "iopub.status.idle": "2023-02-06T02:32:11.376350Z",
     "shell.execute_reply": "2023-02-06T02:32:11.375342Z"
    },
    "papermill": {
     "duration": 1.280304,
     "end_time": "2023-02-06T02:32:11.379186",
     "exception": false,
     "start_time": "2023-02-06T02:32:10.098882",
     "status": "completed"
    },
    "tags": []
   },
   "outputs": [],
   "source": [
    "import pickle\n",
    "import pandas as pd\n",
    "from sklearn.tree import DecisionTreeClassifier"
   ]
  },
  {
   "cell_type": "code",
   "execution_count": 2,
   "id": "8936f828",
   "metadata": {
    "execution": {
     "iopub.execute_input": "2023-02-06T02:32:11.386420Z",
     "iopub.status.busy": "2023-02-06T02:32:11.385817Z",
     "iopub.status.idle": "2023-02-06T02:32:36.214495Z",
     "shell.execute_reply": "2023-02-06T02:32:36.213311Z"
    },
    "papermill": {
     "duration": 24.834927,
     "end_time": "2023-02-06T02:32:36.217075",
     "exception": false,
     "start_time": "2023-02-06T02:32:11.382148",
     "status": "completed"
    },
    "tags": []
   },
   "outputs": [],
   "source": [
    "X_test_1 = pd.read_feather('../input/amex-imputed-and-1hot-encoded/X_test_1.parquet')\n",
    "X_test_1 = X_test_1.set_index('customer_ID')"
   ]
  },
  {
   "cell_type": "code",
   "execution_count": 3,
   "id": "77a71781",
   "metadata": {
    "execution": {
     "iopub.execute_input": "2023-02-06T02:32:36.224449Z",
     "iopub.status.busy": "2023-02-06T02:32:36.223791Z",
     "iopub.status.idle": "2023-02-06T02:33:07.297929Z",
     "shell.execute_reply": "2023-02-06T02:33:07.294886Z"
    },
    "papermill": {
     "duration": 31.084541,
     "end_time": "2023-02-06T02:33:07.304386",
     "exception": false,
     "start_time": "2023-02-06T02:32:36.219845",
     "status": "completed"
    },
    "tags": []
   },
   "outputs": [],
   "source": [
    "X_test_2 = pd.read_feather('../input/amex-imputed-and-1hot-encoded/X_test_2.parquet')\n",
    "X_test_2 = X_test_2.set_index('customer_ID')"
   ]
  },
  {
   "cell_type": "code",
   "execution_count": 4,
   "id": "5f34060b",
   "metadata": {
    "execution": {
     "iopub.execute_input": "2023-02-06T02:33:07.315862Z",
     "iopub.status.busy": "2023-02-06T02:33:07.315037Z",
     "iopub.status.idle": "2023-02-06T02:33:47.649070Z",
     "shell.execute_reply": "2023-02-06T02:33:47.647572Z"
    },
    "papermill": {
     "duration": 40.342771,
     "end_time": "2023-02-06T02:33:47.652263",
     "exception": false,
     "start_time": "2023-02-06T02:33:07.309492",
     "status": "completed"
    },
    "tags": []
   },
   "outputs": [],
   "source": [
    "model = pickle.load(open('../input/test-dtc-model/decision_tree_classifier_model.sav', 'rb'))\n",
    "preds_1 = pd.DataFrame(model.predict(X_test_1), index=X_test_1.index, columns=['prediction'])\n",
    "preds_2 = pd.DataFrame(model.predict(X_test_2), index=X_test_2.index, columns=['prediction'])"
   ]
  },
  {
   "cell_type": "code",
   "execution_count": 5,
   "id": "d061c7a2",
   "metadata": {
    "execution": {
     "iopub.execute_input": "2023-02-06T02:33:47.659967Z",
     "iopub.status.busy": "2023-02-06T02:33:47.659532Z",
     "iopub.status.idle": "2023-02-06T02:33:53.194359Z",
     "shell.execute_reply": "2023-02-06T02:33:53.193501Z"
    },
    "papermill": {
     "duration": 5.541267,
     "end_time": "2023-02-06T02:33:53.196831",
     "exception": false,
     "start_time": "2023-02-06T02:33:47.655564",
     "status": "completed"
    },
    "tags": []
   },
   "outputs": [],
   "source": [
    "submission = pd.concat([preds_1, preds_2])\n",
    "\n",
    "# predictions only need to be for each customer\n",
    "submission = submission.groupby('customer_ID').agg(['last'])\n",
    "submission.columns = submission.columns.droplevel(1)\n",
    "\n",
    "# predictions need to be doubles \n",
    "submission['prediction'] = submission['prediction'].astype('double')\n",
    "\n",
    "# index needs to be removed from submission csv\n",
    "submission = submission.reset_index()\n",
    "submission.to_csv('submission.csv', index=False)"
   ]
  },
  {
   "cell_type": "code",
   "execution_count": null,
   "id": "9b15320e",
   "metadata": {
    "papermill": {
     "duration": 0.002345,
     "end_time": "2023-02-06T02:33:53.201922",
     "exception": false,
     "start_time": "2023-02-06T02:33:53.199577",
     "status": "completed"
    },
    "tags": []
   },
   "outputs": [],
   "source": []
  },
  {
   "cell_type": "code",
   "execution_count": null,
   "id": "e3b27bc6",
   "metadata": {
    "papermill": {
     "duration": 0.002288,
     "end_time": "2023-02-06T02:33:53.206845",
     "exception": false,
     "start_time": "2023-02-06T02:33:53.204557",
     "status": "completed"
    },
    "tags": []
   },
   "outputs": [],
   "source": []
  }
 ],
 "metadata": {
  "kernelspec": {
   "display_name": "Python 3",
   "language": "python",
   "name": "python3"
  },
  "language_info": {
   "codemirror_mode": {
    "name": "ipython",
    "version": 3
   },
   "file_extension": ".py",
   "mimetype": "text/x-python",
   "name": "python",
   "nbconvert_exporter": "python",
   "pygments_lexer": "ipython3",
   "version": "3.7.12"
  },
  "papermill": {
   "default_parameters": {},
   "duration": 112.732754,
   "end_time": "2023-02-06T02:33:54.234839",
   "environment_variables": {},
   "exception": null,
   "input_path": "__notebook__.ipynb",
   "output_path": "__notebook__.ipynb",
   "parameters": {},
   "start_time": "2023-02-06T02:32:01.502085",
   "version": "2.3.4"
  }
 },
 "nbformat": 4,
 "nbformat_minor": 5
}
