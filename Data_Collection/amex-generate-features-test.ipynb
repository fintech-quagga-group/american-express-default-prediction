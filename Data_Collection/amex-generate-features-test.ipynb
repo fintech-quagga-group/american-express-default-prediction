{
 "cells": [
  {
   "cell_type": "code",
   "execution_count": 1,
   "id": "6952a649",
   "metadata": {
    "_cell_guid": "b1076dfc-b9ad-4769-8c92-a6c4dae69d19",
    "_uuid": "8f2839f25d086af736a60e9eeb907d3b93b6e0e5",
    "execution": {
     "iopub.execute_input": "2023-02-05T22:42:26.180647Z",
     "iopub.status.busy": "2023-02-05T22:42:26.180173Z",
     "iopub.status.idle": "2023-02-05T22:42:27.435940Z",
     "shell.execute_reply": "2023-02-05T22:42:27.434764Z"
    },
    "papermill": {
     "duration": 1.264007,
     "end_time": "2023-02-05T22:42:27.438886",
     "exception": false,
     "start_time": "2023-02-05T22:42:26.174879",
     "status": "completed"
    },
    "tags": []
   },
   "outputs": [],
   "source": [
    "import gc\n",
    "import pandas as pd \n",
    "import numpy as np\n",
    "from sklearn.preprocessing import OneHotEncoder\n",
    "from sklearn.impute import SimpleImputer"
   ]
  },
  {
   "cell_type": "code",
   "execution_count": 2,
   "id": "2a5d2b4c",
   "metadata": {
    "execution": {
     "iopub.execute_input": "2023-02-05T22:42:27.446062Z",
     "iopub.status.busy": "2023-02-05T22:42:27.445615Z",
     "iopub.status.idle": "2023-02-05T22:42:27.451724Z",
     "shell.execute_reply": "2023-02-05T22:42:27.450756Z"
    },
    "papermill": {
     "duration": 0.012781,
     "end_time": "2023-02-05T22:42:27.454634",
     "exception": false,
     "start_time": "2023-02-05T22:42:27.441853",
     "status": "completed"
    },
    "tags": []
   },
   "outputs": [],
   "source": [
    "def one_hot_encode_categorical(cat_features, cat_names):\n",
    "    enc = OneHotEncoder(sparse=False)\n",
    "    encoded_df = pd.DataFrame(enc.fit_transform(cat_features), columns=enc.get_feature_names(cat_names), index=cat_features.index)\n",
    "    return encoded_df"
   ]
  },
  {
   "cell_type": "code",
   "execution_count": 3,
   "id": "119b6cde",
   "metadata": {
    "execution": {
     "iopub.execute_input": "2023-02-05T22:42:27.461508Z",
     "iopub.status.busy": "2023-02-05T22:42:27.461111Z",
     "iopub.status.idle": "2023-02-05T22:42:27.467935Z",
     "shell.execute_reply": "2023-02-05T22:42:27.466977Z"
    },
    "papermill": {
     "duration": 0.012936,
     "end_time": "2023-02-05T22:42:27.470223",
     "exception": false,
     "start_time": "2023-02-05T22:42:27.457287",
     "status": "completed"
    },
    "tags": []
   },
   "outputs": [],
   "source": [
    "def simple_impute_numerical(numeric_features, numeric_names):\n",
    "    # current numeric columns are float16, and they will not work when computing mean()\n",
    "    # need to convert to float32\n",
    "    for column in numeric_features.columns:\n",
    "        numeric_features[column] = numeric_features[column].astype(np.float32)\n",
    "\n",
    "    imp_mean = SimpleImputer(missing_values=np.nan, strategy='mean')\n",
    "    numeric_df = pd.DataFrame(imp_mean.fit_transform(numeric_features), columns=numeric_names, index=numeric_features.index)\n",
    "    \n",
    "    # convert back to float16 for lighter load\n",
    "    for column in numeric_df.columns:\n",
    "        numeric_df[column] = numeric_df[column].astype(np.float16)\n",
    "    \n",
    "    return numeric_df"
   ]
  },
  {
   "cell_type": "code",
   "execution_count": 4,
   "id": "cf7359bb",
   "metadata": {
    "execution": {
     "iopub.execute_input": "2023-02-05T22:42:27.477390Z",
     "iopub.status.busy": "2023-02-05T22:42:27.476912Z",
     "iopub.status.idle": "2023-02-05T22:42:27.484992Z",
     "shell.execute_reply": "2023-02-05T22:42:27.484120Z"
    },
    "papermill": {
     "duration": 0.014329,
     "end_time": "2023-02-05T22:42:27.487182",
     "exception": false,
     "start_time": "2023-02-05T22:42:27.472853",
     "status": "completed"
    },
    "tags": []
   },
   "outputs": [],
   "source": [
    "def generate_x_y(df, test=False):\n",
    "    # read in data and set index to customer ID\n",
    "    # df = pd.read_feather(df_file_path)\n",
    "    df = df.set_index('customer_ID')\n",
    "    \n",
    "    # get X and y; drop dates from X \n",
    "    X = df.drop('S_2', axis=1) if test else df.drop(['S_2', 'target'], axis=1)\n",
    "    y = None if test else df['target']\n",
    "    \n",
    "    # delete original dataframe from memory \n",
    "    del df\n",
    "    gc.collect()\n",
    "    \n",
    "    # encode categorical features\n",
    "    cat_features = ['B_30', 'B_38', 'D_114', 'D_116', 'D_117', 'D_120', 'D_126', 'D_63', 'D_64', 'D_66', 'D_68']\n",
    "    encoded_df = one_hot_encode_categorical(X[cat_features], cat_features)\n",
    "    \n",
    "    X = X.drop(cat_features, axis=1)\n",
    "    X = simple_impute_numerical(X, list(X.columns))\n",
    "    \n",
    "    # get final encoded and imputed features\n",
    "    X = pd.concat([X, encoded_df], axis=1)\n",
    "\n",
    "    if test: \n",
    "        return X\n",
    "    else: \n",
    "        return (X, y)\n",
    "    "
   ]
  },
  {
   "cell_type": "code",
   "execution_count": 5,
   "id": "7a4d742a",
   "metadata": {
    "execution": {
     "iopub.execute_input": "2023-02-05T22:42:27.494280Z",
     "iopub.status.busy": "2023-02-05T22:42:27.493577Z",
     "iopub.status.idle": "2023-02-05T22:43:07.363190Z",
     "shell.execute_reply": "2023-02-05T22:43:07.362275Z"
    },
    "papermill": {
     "duration": 39.876594,
     "end_time": "2023-02-05T22:43:07.366415",
     "exception": false,
     "start_time": "2023-02-05T22:42:27.489821",
     "status": "completed"
    },
    "tags": []
   },
   "outputs": [
    {
     "data": {
      "text/plain": [
       "0"
      ]
     },
     "execution_count": 5,
     "metadata": {},
     "output_type": "execute_result"
    }
   ],
   "source": [
    "df = pd.read_feather('../input/amexfeather/test_data.ftr')\n",
    "\n",
    "# split test set in half for lighter memory load\n",
    "df1 = df.iloc[0:5681881]\n",
    "df2 = df.iloc[5681881:]\n",
    "\n",
    "del df\n",
    "gc.collect()"
   ]
  },
  {
   "cell_type": "code",
   "execution_count": 6,
   "id": "36bce780",
   "metadata": {
    "execution": {
     "iopub.execute_input": "2023-02-05T22:43:07.374998Z",
     "iopub.status.busy": "2023-02-05T22:43:07.374259Z",
     "iopub.status.idle": "2023-02-05T22:48:03.512321Z",
     "shell.execute_reply": "2023-02-05T22:48:03.510948Z"
    },
    "papermill": {
     "duration": 296.146508,
     "end_time": "2023-02-05T22:48:03.515636",
     "exception": false,
     "start_time": "2023-02-05T22:43:07.369128",
     "status": "completed"
    },
    "tags": []
   },
   "outputs": [
    {
     "name": "stderr",
     "output_type": "stream",
     "text": [
      "/opt/conda/lib/python3.7/site-packages/sklearn/utils/deprecation.py:87: FutureWarning: Function get_feature_names is deprecated; get_feature_names is deprecated in 1.0 and will be removed in 1.2. Please use get_feature_names_out instead.\n",
      "  warnings.warn(msg, category=FutureWarning)\n",
      "/opt/conda/lib/python3.7/site-packages/ipykernel_launcher.py:5: PerformanceWarning: DataFrame is highly fragmented.  This is usually the result of calling `frame.insert` many times, which has poor performance.  Consider joining all columns at once using pd.concat(axis=1) instead.  To get a de-fragmented frame, use `newframe = frame.copy()`\n",
      "  \"\"\"\n",
      "/opt/conda/lib/python3.7/site-packages/ipykernel_launcher.py:6: PerformanceWarning: DataFrame is highly fragmented.  This is usually the result of calling `frame.insert` many times, which has poor performance.  Consider joining all columns at once using pd.concat(axis=1) instead.  To get a de-fragmented frame, use `newframe = frame.copy()`\n",
      "  \n",
      "/opt/conda/lib/python3.7/site-packages/ipykernel_launcher.py:7: PerformanceWarning: DataFrame is highly fragmented.  This is usually the result of calling `frame.insert` many times, which has poor performance.  Consider joining all columns at once using pd.concat(axis=1) instead.  To get a de-fragmented frame, use `newframe = frame.copy()`\n",
      "  import sys\n"
     ]
    },
    {
     "data": {
      "text/plain": [
       "0"
      ]
     },
     "execution_count": 6,
     "metadata": {},
     "output_type": "execute_result"
    }
   ],
   "source": [
    "X_test_1 = generate_x_y(df1, test=True)\n",
    "\n",
    "# these values are not present in test set but are in training\n",
    "# set all to 0 to work in .predict()\n",
    "X_test_1['D_64_-1'] = 0.0\n",
    "X_test_1['D_66_0.0'] = 0.0\n",
    "X_test_1['D_68_0.0'] = 0.0\n",
    "X_test_1 = X_test_1.reindex(sorted(X_test_1.columns), axis=1)\n",
    "\n",
    "X_test_1 = X_test_1.reset_index()\n",
    "X_test_1.to_feather('X_test_1.parquet')\n",
    "\n",
    "del X_test_1, df1\n",
    "gc.collect()\n"
   ]
  },
  {
   "cell_type": "code",
   "execution_count": 7,
   "id": "2c578db1",
   "metadata": {
    "execution": {
     "iopub.execute_input": "2023-02-05T22:48:03.524744Z",
     "iopub.status.busy": "2023-02-05T22:48:03.524305Z",
     "iopub.status.idle": "2023-02-05T22:52:51.861833Z",
     "shell.execute_reply": "2023-02-05T22:52:51.860689Z"
    },
    "papermill": {
     "duration": 288.346744,
     "end_time": "2023-02-05T22:52:51.865905",
     "exception": false,
     "start_time": "2023-02-05T22:48:03.519161",
     "status": "completed"
    },
    "tags": []
   },
   "outputs": [
    {
     "name": "stderr",
     "output_type": "stream",
     "text": [
      "/opt/conda/lib/python3.7/site-packages/sklearn/utils/deprecation.py:87: FutureWarning: Function get_feature_names is deprecated; get_feature_names is deprecated in 1.0 and will be removed in 1.2. Please use get_feature_names_out instead.\n",
      "  warnings.warn(msg, category=FutureWarning)\n",
      "/opt/conda/lib/python3.7/site-packages/ipykernel_launcher.py:3: PerformanceWarning: DataFrame is highly fragmented.  This is usually the result of calling `frame.insert` many times, which has poor performance.  Consider joining all columns at once using pd.concat(axis=1) instead.  To get a de-fragmented frame, use `newframe = frame.copy()`\n",
      "  This is separate from the ipykernel package so we can avoid doing imports until\n",
      "/opt/conda/lib/python3.7/site-packages/ipykernel_launcher.py:4: PerformanceWarning: DataFrame is highly fragmented.  This is usually the result of calling `frame.insert` many times, which has poor performance.  Consider joining all columns at once using pd.concat(axis=1) instead.  To get a de-fragmented frame, use `newframe = frame.copy()`\n",
      "  after removing the cwd from sys.path.\n",
      "/opt/conda/lib/python3.7/site-packages/ipykernel_launcher.py:5: PerformanceWarning: DataFrame is highly fragmented.  This is usually the result of calling `frame.insert` many times, which has poor performance.  Consider joining all columns at once using pd.concat(axis=1) instead.  To get a de-fragmented frame, use `newframe = frame.copy()`\n",
      "  \"\"\"\n"
     ]
    },
    {
     "data": {
      "text/plain": [
       "0"
      ]
     },
     "execution_count": 7,
     "metadata": {},
     "output_type": "execute_result"
    }
   ],
   "source": [
    "X_test_2 = generate_x_y(df2, test=True)\n",
    "\n",
    "X_test_2['D_64_-1'] = 0.0\n",
    "X_test_2['D_66_0.0'] = 0.0\n",
    "X_test_2['D_68_0.0'] = 0.0\n",
    "X_test_2 = X_test_2.reindex(sorted(X_test_2.columns), axis=1)\n",
    "\n",
    "X_test_2 = X_test_2.reset_index()\n",
    "X_test_2.to_feather('X_test_2.parquet')\n",
    "\n",
    "del X_test_2, df2\n",
    "gc.collect()\n"
   ]
  }
 ],
 "metadata": {
  "kernelspec": {
   "display_name": "Python 3",
   "language": "python",
   "name": "python3"
  },
  "language_info": {
   "codemirror_mode": {
    "name": "ipython",
    "version": 3
   },
   "file_extension": ".py",
   "mimetype": "text/x-python",
   "name": "python",
   "nbconvert_exporter": "python",
   "pygments_lexer": "ipython3",
   "version": "3.7.12"
  },
  "papermill": {
   "default_parameters": {},
   "duration": 635.426335,
   "end_time": "2023-02-05T22:52:52.995475",
   "environment_variables": {},
   "exception": null,
   "input_path": "__notebook__.ipynb",
   "output_path": "__notebook__.ipynb",
   "parameters": {},
   "start_time": "2023-02-05T22:42:17.569140",
   "version": "2.3.4"
  }
 },
 "nbformat": 4,
 "nbformat_minor": 5
}
