{
 "cells": [
  {
   "cell_type": "code",
   "execution_count": 1,
   "id": "77f8dfd5",
   "metadata": {
    "_cell_guid": "b1076dfc-b9ad-4769-8c92-a6c4dae69d19",
    "_uuid": "8f2839f25d086af736a60e9eeb907d3b93b6e0e5",
    "execution": {
     "iopub.execute_input": "2023-02-05T07:03:19.401722Z",
     "iopub.status.busy": "2023-02-05T07:03:19.400901Z",
     "iopub.status.idle": "2023-02-05T07:03:20.733415Z",
     "shell.execute_reply": "2023-02-05T07:03:20.732152Z"
    },
    "papermill": {
     "duration": 1.341414,
     "end_time": "2023-02-05T07:03:20.736624",
     "exception": false,
     "start_time": "2023-02-05T07:03:19.395210",
     "status": "completed"
    },
    "tags": []
   },
   "outputs": [],
   "source": [
    "import gc\n",
    "import pandas as pd \n",
    "import numpy as np\n",
    "from sklearn.preprocessing import OneHotEncoder\n",
    "from sklearn.impute import SimpleImputer"
   ]
  },
  {
   "cell_type": "code",
   "execution_count": 2,
   "id": "bb395807",
   "metadata": {
    "execution": {
     "iopub.execute_input": "2023-02-05T07:03:20.744515Z",
     "iopub.status.busy": "2023-02-05T07:03:20.743785Z",
     "iopub.status.idle": "2023-02-05T07:03:20.750321Z",
     "shell.execute_reply": "2023-02-05T07:03:20.748888Z"
    },
    "papermill": {
     "duration": 0.013297,
     "end_time": "2023-02-05T07:03:20.753027",
     "exception": false,
     "start_time": "2023-02-05T07:03:20.739730",
     "status": "completed"
    },
    "tags": []
   },
   "outputs": [],
   "source": [
    "def one_hot_encode_categorical(cat_features, cat_names):\n",
    "    enc = OneHotEncoder(sparse=False)\n",
    "    encoded_df = pd.DataFrame(enc.fit_transform(cat_features), columns=enc.get_feature_names(cat_names), index=cat_features.index)\n",
    "    return encoded_df"
   ]
  },
  {
   "cell_type": "code",
   "execution_count": 3,
   "id": "26648221",
   "metadata": {
    "execution": {
     "iopub.execute_input": "2023-02-05T07:03:20.761117Z",
     "iopub.status.busy": "2023-02-05T07:03:20.760079Z",
     "iopub.status.idle": "2023-02-05T07:03:20.768487Z",
     "shell.execute_reply": "2023-02-05T07:03:20.767174Z"
    },
    "papermill": {
     "duration": 0.0154,
     "end_time": "2023-02-05T07:03:20.771225",
     "exception": false,
     "start_time": "2023-02-05T07:03:20.755825",
     "status": "completed"
    },
    "tags": []
   },
   "outputs": [],
   "source": [
    "def simple_impute_numerical(numeric_features, numeric_names):\n",
    "    # current numeric columns are float16, and they will not work when computing mean()\n",
    "    # need to convert to float32\n",
    "    for column in numeric_features.columns:\n",
    "        numeric_features[column] = numeric_features[column].astype(np.float32)\n",
    "\n",
    "    imp_mean = SimpleImputer(missing_values=np.nan, strategy='mean')\n",
    "    numeric_df = pd.DataFrame(imp_mean.fit_transform(numeric_features), columns=numeric_names, index=numeric_features.index)\n",
    "    \n",
    "    # convert back to float16 for lighter load\n",
    "    for column in numeric_df.columns:\n",
    "        numeric_df[column] = numeric_df[column].astype(np.float16)\n",
    "    \n",
    "    return numeric_df"
   ]
  },
  {
   "cell_type": "code",
   "execution_count": 4,
   "id": "3867c24f",
   "metadata": {
    "execution": {
     "iopub.execute_input": "2023-02-05T07:03:20.778831Z",
     "iopub.status.busy": "2023-02-05T07:03:20.778390Z",
     "iopub.status.idle": "2023-02-05T07:03:20.787638Z",
     "shell.execute_reply": "2023-02-05T07:03:20.786199Z"
    },
    "papermill": {
     "duration": 0.016214,
     "end_time": "2023-02-05T07:03:20.790330",
     "exception": false,
     "start_time": "2023-02-05T07:03:20.774116",
     "status": "completed"
    },
    "tags": []
   },
   "outputs": [],
   "source": [
    "def generate_x_y(df, test=False):\n",
    "    # read in data and set index to customer ID\n",
    "    # df = pd.read_feather(df_file_path)\n",
    "    df = df.set_index('customer_ID')\n",
    "    \n",
    "    # get X and y; drop dates from X \n",
    "    X = df.drop('S_2', axis=1) if test else df.drop(['S_2', 'target'], axis=1)\n",
    "    y = None if test else df['target']\n",
    "    \n",
    "    # delete original dataframe from memory \n",
    "    del df\n",
    "    gc.collect()\n",
    "    \n",
    "    # encode categorical features\n",
    "    cat_features = ['B_30', 'B_38', 'D_114', 'D_116', 'D_117', 'D_120', 'D_126', 'D_63', 'D_64', 'D_66', 'D_68']\n",
    "    encoded_df = one_hot_encode_categorical(X[cat_features], cat_features)\n",
    "    \n",
    "    X = X.drop(cat_features, axis=1)\n",
    "    X = simple_impute_numerical(X, list(X.columns))\n",
    "    \n",
    "    # get final encoded and imputed features\n",
    "    X = pd.concat([X, encoded_df], axis=1)\n",
    "\n",
    "    if test: \n",
    "        return X\n",
    "    else: \n",
    "        return (X, y)\n",
    "    "
   ]
  },
  {
   "cell_type": "code",
   "execution_count": 5,
   "id": "0c563e57",
   "metadata": {
    "execution": {
     "iopub.execute_input": "2023-02-05T07:03:20.797504Z",
     "iopub.status.busy": "2023-02-05T07:03:20.797095Z",
     "iopub.status.idle": "2023-02-05T07:04:00.637292Z",
     "shell.execute_reply": "2023-02-05T07:04:00.636106Z"
    },
    "papermill": {
     "duration": 39.849782,
     "end_time": "2023-02-05T07:04:00.642898",
     "exception": false,
     "start_time": "2023-02-05T07:03:20.793116",
     "status": "completed"
    },
    "tags": []
   },
   "outputs": [
    {
     "data": {
      "text/plain": [
       "0"
      ]
     },
     "execution_count": 5,
     "metadata": {},
     "output_type": "execute_result"
    }
   ],
   "source": [
    "df = pd.read_feather('../input/amexfeather/test_data.ftr')\n",
    "len(df.index)\n",
    "\n",
    "df1 = df.iloc[0:5681881]\n",
    "df2 = df.iloc[5681881:]\n",
    "\n",
    "del df\n",
    "gc.collect()"
   ]
  },
  {
   "cell_type": "code",
   "execution_count": 6,
   "id": "21eb07b1",
   "metadata": {
    "execution": {
     "iopub.execute_input": "2023-02-05T07:04:00.661293Z",
     "iopub.status.busy": "2023-02-05T07:04:00.660889Z",
     "iopub.status.idle": "2023-02-05T07:08:37.381049Z",
     "shell.execute_reply": "2023-02-05T07:08:37.379701Z"
    },
    "papermill": {
     "duration": 276.740957,
     "end_time": "2023-02-05T07:08:37.386553",
     "exception": false,
     "start_time": "2023-02-05T07:04:00.645596",
     "status": "completed"
    },
    "tags": []
   },
   "outputs": [
    {
     "name": "stderr",
     "output_type": "stream",
     "text": [
      "/opt/conda/lib/python3.7/site-packages/sklearn/utils/deprecation.py:87: FutureWarning: Function get_feature_names is deprecated; get_feature_names is deprecated in 1.0 and will be removed in 1.2. Please use get_feature_names_out instead.\n",
      "  warnings.warn(msg, category=FutureWarning)\n"
     ]
    },
    {
     "data": {
      "text/plain": [
       "0"
      ]
     },
     "execution_count": 6,
     "metadata": {},
     "output_type": "execute_result"
    }
   ],
   "source": [
    "X_test_1 = generate_x_y(df1, test=True)\n",
    "\n",
    "X_test_1 = X_test_1.reset_index()\n",
    "X_test_1.to_feather('X_test_1.parquet')\n",
    "\n",
    "del X_test_1, df1\n",
    "gc.collect()\n"
   ]
  },
  {
   "cell_type": "code",
   "execution_count": 7,
   "id": "08b02387",
   "metadata": {
    "execution": {
     "iopub.execute_input": "2023-02-05T07:08:37.394908Z",
     "iopub.status.busy": "2023-02-05T07:08:37.394168Z",
     "iopub.status.idle": "2023-02-05T07:13:30.322526Z",
     "shell.execute_reply": "2023-02-05T07:13:30.321236Z"
    },
    "papermill": {
     "duration": 292.946264,
     "end_time": "2023-02-05T07:13:30.335972",
     "exception": false,
     "start_time": "2023-02-05T07:08:37.389708",
     "status": "completed"
    },
    "tags": []
   },
   "outputs": [
    {
     "name": "stderr",
     "output_type": "stream",
     "text": [
      "/opt/conda/lib/python3.7/site-packages/sklearn/utils/deprecation.py:87: FutureWarning: Function get_feature_names is deprecated; get_feature_names is deprecated in 1.0 and will be removed in 1.2. Please use get_feature_names_out instead.\n",
      "  warnings.warn(msg, category=FutureWarning)\n"
     ]
    },
    {
     "data": {
      "text/plain": [
       "0"
      ]
     },
     "execution_count": 7,
     "metadata": {},
     "output_type": "execute_result"
    }
   ],
   "source": [
    "X_test_2 = generate_x_y(df2, test=True)\n",
    "\n",
    "X_test_2 = X_test_2.reset_index()\n",
    "X_test_2.to_feather('X_test_2.parquet')\n",
    "\n",
    "del X_test_2, df2\n",
    "gc.collect()\n"
   ]
  }
 ],
 "metadata": {
  "kernelspec": {
   "display_name": "Python 3",
   "language": "python",
   "name": "python3"
  },
  "language_info": {
   "codemirror_mode": {
    "name": "ipython",
    "version": 3
   },
   "file_extension": ".py",
   "mimetype": "text/x-python",
   "name": "python",
   "nbconvert_exporter": "python",
   "pygments_lexer": "ipython3",
   "version": "3.7.12"
  },
  "papermill": {
   "default_parameters": {},
   "duration": 620.92333,
   "end_time": "2023-02-05T07:13:31.466562",
   "environment_variables": {},
   "exception": null,
   "input_path": "__notebook__.ipynb",
   "output_path": "__notebook__.ipynb",
   "parameters": {},
   "start_time": "2023-02-05T07:03:10.543232",
   "version": "2.3.4"
  }
 },
 "nbformat": 4,
 "nbformat_minor": 5
}
